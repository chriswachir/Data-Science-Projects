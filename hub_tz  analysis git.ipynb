{
 "cells": [
  {
   "cell_type": "markdown",
   "id": "4a1df181",
   "metadata": {},
   "source": [
    "## Analysis of Remittances_Client_TAT_Data_2022-04-21_hub_tz"
   ]
  },
  {
   "cell_type": "markdown",
   "id": "bee13ac6",
   "metadata": {},
   "source": [
    "Below is a sample analysis of a hub_tz dataset, \n",
    "trying to answer a few analysis questions, to give an idea of the real analysis process"
   ]
  },
  {
   "cell_type": "markdown",
   "id": "f8c97016",
   "metadata": {},
   "source": [
    "Will start by fetching data from the db using mysql connector"
   ]
  },
  {
   "cell_type": "code",
   "execution_count": null,
   "id": "4578f0ce",
   "metadata": {},
   "outputs": [],
   "source": []
  },
  {
   "cell_type": "code",
   "execution_count": 116,
   "id": "71d206db",
   "metadata": {},
   "outputs": [
    {
     "name": "stdout",
     "output_type": "stream",
     "text": [
      "{'ServiceName': 'Bolt Collections', 'ClientName': 'TIGO TZ', 'BeepTransactionID': 25916854, 'CustomerMobileNumber': 891904920, 'AmountPaid': 17247, 'DateCreated': '2022-04-21 00:03:47', 'StatusSynced': 'NO', 'ManuallyReconciled': 'NO', 'FinalStatus': 'SUCCESS', 'MNOTAT': 1, 'StatusSyncTAT': None, 'TotalTAT': 2}\n",
      "{'ServiceName': 'Bolt Collections', 'ClientName': 'TIGO TZ', 'BeepTransactionID': 25916856, 'CustomerMobileNumber': 672727054, 'AmountPaid': 20697, 'DateCreated': '2022-04-21 00:14:07', 'StatusSynced': 'NO', 'ManuallyReconciled': 'NO', 'FinalStatus': 'SUCCESS', 'MNOTAT': 1, 'StatusSyncTAT': None, 'TotalTAT': 2}\n",
      "{'ServiceName': 'Bolt Collections', 'ClientName': 'Airtel Tanzania', 'BeepTransactionID': 25916874, 'CustomerMobileNumber': 1145971514, 'AmountPaid': 9630, 'DateCreated': '2022-04-21 00:41:05', 'StatusSynced': 'NO', 'ManuallyReconciled': 'NO', 'FinalStatus': 'SUCCESS', 'MNOTAT': 1, 'StatusSyncTAT': None, 'TotalTAT': 2}\n",
      "{'ServiceName': 'Bolt Collections', 'ClientName': 'TIGO TZ', 'BeepTransactionID': 25916885, 'CustomerMobileNumber': 104045416, 'AmountPaid': 20343, 'DateCreated': '2022-04-21 01:07:07', 'StatusSynced': 'NO', 'ManuallyReconciled': 'NO', 'FinalStatus': 'SUCCESS', 'MNOTAT': 1, 'StatusSyncTAT': None, 'TotalTAT': 2}\n",
      "{'ServiceName': 'HalotelAirtime', 'ClientName': 'TRANSFER TO LIMITED', 'BeepTransactionID': 25916890, 'CustomerMobileNumber': 2147483647, 'AmountPaid': 3000, 'DateCreated': '2022-04-21 01:18:00', 'StatusSynced': 'YES', 'ManuallyReconciled': 'NO', 'FinalStatus': 'SUCCESS', 'MNOTAT': None, 'StatusSyncTAT': 6, 'TotalTAT': 7}\n"
     ]
    }
   ],
   "source": [
    "# Connecting to the database\n",
    "\n",
    "import mysql.connector\n",
    "\n",
    "mydb = mysql.connector.connect(host=\"localhost\", user=\"root\", database=\"hub_tz\")\n",
    "\n",
    "mycursor = mydb.cursor(dictionary = True)\n",
    "mycursor.execute(\"select * from sample\")\n",
    "counter = 0 \n",
    "limit = 6 \n",
    "for i in mycursor:\n",
    "    counter = counter + 1\n",
    "    if counter == limit :\n",
    "        break \n",
    "    print(i)\n"
   ]
  },
  {
   "cell_type": "code",
   "execution_count": null,
   "id": "6fac5997",
   "metadata": {},
   "outputs": [],
   "source": []
  },
  {
   "cell_type": "code",
   "execution_count": 74,
   "id": "2bfc61ce",
   "metadata": {},
   "outputs": [],
   "source": [
    "# Convert to a dataframe and save \n",
    "import pandas as pd\n",
    "\n",
    "df = pd.DataFrame(result)\n",
    "df.to_csv (r'C:\\Users\\User\\Documents\\data science\\Cellulant Remittances_Client_TAT_Data\\2022-04-21.csv', index = False) # place 'r' before the path name"
   ]
  },
  {
   "cell_type": "code",
   "execution_count": 114,
   "id": "00ad37ff",
   "metadata": {},
   "outputs": [
    {
     "data": {
      "text/html": [
       "<div>\n",
       "<style scoped>\n",
       "    .dataframe tbody tr th:only-of-type {\n",
       "        vertical-align: middle;\n",
       "    }\n",
       "\n",
       "    .dataframe tbody tr th {\n",
       "        vertical-align: top;\n",
       "    }\n",
       "\n",
       "    .dataframe thead th {\n",
       "        text-align: right;\n",
       "    }\n",
       "</style>\n",
       "<table border=\"1\" class=\"dataframe\">\n",
       "  <thead>\n",
       "    <tr style=\"text-align: right;\">\n",
       "      <th></th>\n",
       "      <th>ServiceName</th>\n",
       "      <th>ClientName</th>\n",
       "      <th>AmountPaid</th>\n",
       "      <th>DateCreated</th>\n",
       "      <th>StatusSynced</th>\n",
       "      <th>ManuallyReconciled</th>\n",
       "      <th>FinalStatus</th>\n",
       "      <th>MNOTAT</th>\n",
       "      <th>StatusSyncTAT</th>\n",
       "      <th>TotalTAT</th>\n",
       "    </tr>\n",
       "  </thead>\n",
       "  <tbody>\n",
       "    <tr>\n",
       "      <th>0</th>\n",
       "      <td>Bolt Collections</td>\n",
       "      <td>TIGO TZ</td>\n",
       "      <td>17247</td>\n",
       "      <td>2022-04-21 00:03:47</td>\n",
       "      <td>NO</td>\n",
       "      <td>NO</td>\n",
       "      <td>SUCCESS</td>\n",
       "      <td>1.0</td>\n",
       "      <td>NaN</td>\n",
       "      <td>2.0</td>\n",
       "    </tr>\n",
       "    <tr>\n",
       "      <th>1</th>\n",
       "      <td>Bolt Collections</td>\n",
       "      <td>TIGO TZ</td>\n",
       "      <td>20697</td>\n",
       "      <td>2022-04-21 00:14:07</td>\n",
       "      <td>NO</td>\n",
       "      <td>NO</td>\n",
       "      <td>SUCCESS</td>\n",
       "      <td>1.0</td>\n",
       "      <td>NaN</td>\n",
       "      <td>2.0</td>\n",
       "    </tr>\n",
       "    <tr>\n",
       "      <th>2</th>\n",
       "      <td>Bolt Collections</td>\n",
       "      <td>Airtel Tanzania</td>\n",
       "      <td>9630</td>\n",
       "      <td>2022-04-21 00:41:05</td>\n",
       "      <td>NO</td>\n",
       "      <td>NO</td>\n",
       "      <td>SUCCESS</td>\n",
       "      <td>1.0</td>\n",
       "      <td>NaN</td>\n",
       "      <td>2.0</td>\n",
       "    </tr>\n",
       "    <tr>\n",
       "      <th>3</th>\n",
       "      <td>Bolt Collections</td>\n",
       "      <td>TIGO TZ</td>\n",
       "      <td>20343</td>\n",
       "      <td>2022-04-21 01:07:07</td>\n",
       "      <td>NO</td>\n",
       "      <td>NO</td>\n",
       "      <td>SUCCESS</td>\n",
       "      <td>1.0</td>\n",
       "      <td>NaN</td>\n",
       "      <td>2.0</td>\n",
       "    </tr>\n",
       "    <tr>\n",
       "      <th>4</th>\n",
       "      <td>HalotelAirtime</td>\n",
       "      <td>TRANSFER TO LIMITED</td>\n",
       "      <td>3000</td>\n",
       "      <td>2022-04-21 01:18:00</td>\n",
       "      <td>YES</td>\n",
       "      <td>NO</td>\n",
       "      <td>SUCCESS</td>\n",
       "      <td>NaN</td>\n",
       "      <td>6.0</td>\n",
       "      <td>7.0</td>\n",
       "    </tr>\n",
       "  </tbody>\n",
       "</table>\n",
       "</div>"
      ],
      "text/plain": [
       "        ServiceName           ClientName  AmountPaid          DateCreated  \\\n",
       "0  Bolt Collections              TIGO TZ       17247  2022-04-21 00:03:47   \n",
       "1  Bolt Collections              TIGO TZ       20697  2022-04-21 00:14:07   \n",
       "2  Bolt Collections      Airtel Tanzania        9630  2022-04-21 00:41:05   \n",
       "3  Bolt Collections              TIGO TZ       20343  2022-04-21 01:07:07   \n",
       "4    HalotelAirtime  TRANSFER TO LIMITED        3000  2022-04-21 01:18:00   \n",
       "\n",
       "  StatusSynced ManuallyReconciled FinalStatus  MNOTAT  StatusSyncTAT  TotalTAT  \n",
       "0           NO                 NO     SUCCESS     1.0            NaN       2.0  \n",
       "1           NO                 NO     SUCCESS     1.0            NaN       2.0  \n",
       "2           NO                 NO     SUCCESS     1.0            NaN       2.0  \n",
       "3           NO                 NO     SUCCESS     1.0            NaN       2.0  \n",
       "4          YES                 NO     SUCCESS     NaN            6.0       7.0  "
      ]
     },
     "execution_count": 114,
     "metadata": {},
     "output_type": "execute_result"
    }
   ],
   "source": [
    "df.head()"
   ]
  },
  {
   "cell_type": "code",
   "execution_count": 113,
   "id": "fc9aee3f",
   "metadata": {},
   "outputs": [
    {
     "data": {
      "text/html": [
       "<div>\n",
       "<style scoped>\n",
       "    .dataframe tbody tr th:only-of-type {\n",
       "        vertical-align: middle;\n",
       "    }\n",
       "\n",
       "    .dataframe tbody tr th {\n",
       "        vertical-align: top;\n",
       "    }\n",
       "\n",
       "    .dataframe thead th {\n",
       "        text-align: right;\n",
       "    }\n",
       "</style>\n",
       "<table border=\"1\" class=\"dataframe\">\n",
       "  <thead>\n",
       "    <tr style=\"text-align: right;\">\n",
       "      <th></th>\n",
       "      <th>ServiceName</th>\n",
       "      <th>ClientName</th>\n",
       "      <th>AmountPaid</th>\n",
       "      <th>DateCreated</th>\n",
       "      <th>StatusSynced</th>\n",
       "      <th>ManuallyReconciled</th>\n",
       "      <th>FinalStatus</th>\n",
       "      <th>MNOTAT</th>\n",
       "      <th>StatusSyncTAT</th>\n",
       "      <th>TotalTAT</th>\n",
       "    </tr>\n",
       "  </thead>\n",
       "  <tbody>\n",
       "    <tr>\n",
       "      <th>1646</th>\n",
       "      <td>Bolt Collections</td>\n",
       "      <td>Airtel Tanzania</td>\n",
       "      <td>17368</td>\n",
       "      <td>2022-04-21 23:29:54</td>\n",
       "      <td>NO</td>\n",
       "      <td>NO</td>\n",
       "      <td>SUCCESS</td>\n",
       "      <td>1.0</td>\n",
       "      <td>NaN</td>\n",
       "      <td>2.0</td>\n",
       "    </tr>\n",
       "    <tr>\n",
       "      <th>1647</th>\n",
       "      <td>Bolt Collections</td>\n",
       "      <td>TIGO TZ</td>\n",
       "      <td>19940</td>\n",
       "      <td>2022-04-21 23:32:29</td>\n",
       "      <td>NO</td>\n",
       "      <td>NO</td>\n",
       "      <td>SUCCESS</td>\n",
       "      <td>1.0</td>\n",
       "      <td>NaN</td>\n",
       "      <td>2.0</td>\n",
       "    </tr>\n",
       "    <tr>\n",
       "      <th>1648</th>\n",
       "      <td>Bolt Collections</td>\n",
       "      <td>TIGO TZ</td>\n",
       "      <td>16547</td>\n",
       "      <td>2022-04-21 23:45:52</td>\n",
       "      <td>NO</td>\n",
       "      <td>NO</td>\n",
       "      <td>SUCCESS</td>\n",
       "      <td>1.0</td>\n",
       "      <td>NaN</td>\n",
       "      <td>2.0</td>\n",
       "    </tr>\n",
       "    <tr>\n",
       "      <th>1649</th>\n",
       "      <td>Bolt Collections</td>\n",
       "      <td>Airtel Tanzania</td>\n",
       "      <td>1052</td>\n",
       "      <td>2022-04-21 23:48:25</td>\n",
       "      <td>NO</td>\n",
       "      <td>NO</td>\n",
       "      <td>SUCCESS</td>\n",
       "      <td>1.0</td>\n",
       "      <td>NaN</td>\n",
       "      <td>2.0</td>\n",
       "    </tr>\n",
       "    <tr>\n",
       "      <th>1650</th>\n",
       "      <td>Bolt Collections</td>\n",
       "      <td>Airtel Tanzania</td>\n",
       "      <td>21501</td>\n",
       "      <td>2022-04-21 23:52:30</td>\n",
       "      <td>NO</td>\n",
       "      <td>NO</td>\n",
       "      <td>SUCCESS</td>\n",
       "      <td>1.0</td>\n",
       "      <td>NaN</td>\n",
       "      <td>2.0</td>\n",
       "    </tr>\n",
       "  </tbody>\n",
       "</table>\n",
       "</div>"
      ],
      "text/plain": [
       "           ServiceName       ClientName  AmountPaid          DateCreated  \\\n",
       "1646  Bolt Collections  Airtel Tanzania       17368  2022-04-21 23:29:54   \n",
       "1647  Bolt Collections          TIGO TZ       19940  2022-04-21 23:32:29   \n",
       "1648  Bolt Collections          TIGO TZ       16547  2022-04-21 23:45:52   \n",
       "1649  Bolt Collections  Airtel Tanzania        1052  2022-04-21 23:48:25   \n",
       "1650  Bolt Collections  Airtel Tanzania       21501  2022-04-21 23:52:30   \n",
       "\n",
       "     StatusSynced ManuallyReconciled FinalStatus  MNOTAT  StatusSyncTAT  \\\n",
       "1646           NO                 NO     SUCCESS     1.0            NaN   \n",
       "1647           NO                 NO     SUCCESS     1.0            NaN   \n",
       "1648           NO                 NO     SUCCESS     1.0            NaN   \n",
       "1649           NO                 NO     SUCCESS     1.0            NaN   \n",
       "1650           NO                 NO     SUCCESS     1.0            NaN   \n",
       "\n",
       "      TotalTAT  \n",
       "1646       2.0  \n",
       "1647       2.0  \n",
       "1648       2.0  \n",
       "1649       2.0  \n",
       "1650       2.0  "
      ]
     },
     "execution_count": 113,
     "metadata": {},
     "output_type": "execute_result"
    }
   ],
   "source": [
    "df.tail()"
   ]
  },
  {
   "cell_type": "code",
   "execution_count": null,
   "id": "2402d223",
   "metadata": {},
   "outputs": [],
   "source": []
  },
  {
   "cell_type": "markdown",
   "id": "d2c68593",
   "metadata": {},
   "source": [
    "#### import libraries"
   ]
  },
  {
   "cell_type": "code",
   "execution_count": 76,
   "id": "a97e4624",
   "metadata": {},
   "outputs": [],
   "source": [
    "import pandas as pd\n",
    "import numpy as np\n",
    "import matplotlib.pyplot as plt\n",
    "# !pip install seaborn\n",
    "import seaborn as sns\n",
    "import warnings\n",
    "warnings.filterwarnings('ignore')"
   ]
  },
  {
   "cell_type": "code",
   "execution_count": 77,
   "id": "6fc6a59b",
   "metadata": {},
   "outputs": [
    {
     "data": {
      "text/plain": [
       "(1651, 12)"
      ]
     },
     "execution_count": 77,
     "metadata": {},
     "output_type": "execute_result"
    }
   ],
   "source": [
    "df.shape"
   ]
  },
  {
   "cell_type": "code",
   "execution_count": 78,
   "id": "57d9ce6b",
   "metadata": {},
   "outputs": [
    {
     "name": "stdout",
     "output_type": "stream",
     "text": [
      "<class 'pandas.core.frame.DataFrame'>\n",
      "RangeIndex: 1651 entries, 0 to 1650\n",
      "Data columns (total 12 columns):\n",
      " #   Column                Non-Null Count  Dtype  \n",
      "---  ------                --------------  -----  \n",
      " 0   ServiceName           1651 non-null   object \n",
      " 1   ClientName            1651 non-null   object \n",
      " 2   BeepTransactionID     1651 non-null   int64  \n",
      " 3   CustomerMobileNumber  1651 non-null   int64  \n",
      " 4   AmountPaid            1651 non-null   int64  \n",
      " 5   DateCreated           1651 non-null   object \n",
      " 6   StatusSynced          1651 non-null   object \n",
      " 7   ManuallyReconciled    1651 non-null   object \n",
      " 8   FinalStatus           1651 non-null   object \n",
      " 9   MNOTAT                1565 non-null   float64\n",
      " 10  StatusSyncTAT         213 non-null    float64\n",
      " 11  TotalTAT              1645 non-null   float64\n",
      "dtypes: float64(3), int64(3), object(6)\n",
      "memory usage: 154.9+ KB\n"
     ]
    }
   ],
   "source": [
    "# More info\n",
    "df.info()"
   ]
  },
  {
   "cell_type": "code",
   "execution_count": null,
   "id": "da775c1a",
   "metadata": {},
   "outputs": [],
   "source": []
  },
  {
   "cell_type": "code",
   "execution_count": null,
   "id": "367bf9c0",
   "metadata": {},
   "outputs": [],
   "source": []
  },
  {
   "cell_type": "markdown",
   "id": "91db16e5",
   "metadata": {},
   "source": [
    "### Start with analysing the whole dataset"
   ]
  },
  {
   "cell_type": "code",
   "execution_count": 79,
   "id": "8a6414e5",
   "metadata": {},
   "outputs": [
    {
     "data": {
      "text/html": [
       "<div>\n",
       "<style scoped>\n",
       "    .dataframe tbody tr th:only-of-type {\n",
       "        vertical-align: middle;\n",
       "    }\n",
       "\n",
       "    .dataframe tbody tr th {\n",
       "        vertical-align: top;\n",
       "    }\n",
       "\n",
       "    .dataframe thead th {\n",
       "        text-align: right;\n",
       "    }\n",
       "</style>\n",
       "<table border=\"1\" class=\"dataframe\">\n",
       "  <thead>\n",
       "    <tr style=\"text-align: right;\">\n",
       "      <th></th>\n",
       "      <th>BeepTransactionID</th>\n",
       "      <th>CustomerMobileNumber</th>\n",
       "      <th>AmountPaid</th>\n",
       "      <th>MNOTAT</th>\n",
       "      <th>StatusSyncTAT</th>\n",
       "      <th>TotalTAT</th>\n",
       "    </tr>\n",
       "  </thead>\n",
       "  <tbody>\n",
       "    <tr>\n",
       "      <th>count</th>\n",
       "      <td>1.651000e+03</td>\n",
       "      <td>1.651000e+03</td>\n",
       "      <td>1651.000000</td>\n",
       "      <td>1565.000000</td>\n",
       "      <td>213.000000</td>\n",
       "      <td>1645.000000</td>\n",
       "    </tr>\n",
       "    <tr>\n",
       "      <th>mean</th>\n",
       "      <td>2.592248e+07</td>\n",
       "      <td>9.224434e+08</td>\n",
       "      <td>14432.832829</td>\n",
       "      <td>3.729712</td>\n",
       "      <td>27.727700</td>\n",
       "      <td>7.705775</td>\n",
       "    </tr>\n",
       "    <tr>\n",
       "      <th>std</th>\n",
       "      <td>3.450689e+03</td>\n",
       "      <td>4.881152e+08</td>\n",
       "      <td>7429.541546</td>\n",
       "      <td>90.821044</td>\n",
       "      <td>90.436473</td>\n",
       "      <td>94.720827</td>\n",
       "    </tr>\n",
       "    <tr>\n",
       "      <th>min</th>\n",
       "      <td>2.591685e+07</td>\n",
       "      <td>6.153523e+07</td>\n",
       "      <td>256.000000</td>\n",
       "      <td>1.000000</td>\n",
       "      <td>-7.000000</td>\n",
       "      <td>1.000000</td>\n",
       "    </tr>\n",
       "    <tr>\n",
       "      <th>25%</th>\n",
       "      <td>2.591883e+07</td>\n",
       "      <td>6.303278e+08</td>\n",
       "      <td>7824.500000</td>\n",
       "      <td>1.000000</td>\n",
       "      <td>1.000000</td>\n",
       "      <td>2.000000</td>\n",
       "    </tr>\n",
       "    <tr>\n",
       "      <th>50%</th>\n",
       "      <td>2.592269e+07</td>\n",
       "      <td>8.835054e+08</td>\n",
       "      <td>17323.000000</td>\n",
       "      <td>1.000000</td>\n",
       "      <td>2.000000</td>\n",
       "      <td>2.000000</td>\n",
       "    </tr>\n",
       "    <tr>\n",
       "      <th>75%</th>\n",
       "      <td>2.592570e+07</td>\n",
       "      <td>1.103714e+09</td>\n",
       "      <td>20150.500000</td>\n",
       "      <td>2.000000</td>\n",
       "      <td>5.000000</td>\n",
       "      <td>2.000000</td>\n",
       "    </tr>\n",
       "    <tr>\n",
       "      <th>max</th>\n",
       "      <td>2.592760e+07</td>\n",
       "      <td>2.147484e+09</td>\n",
       "      <td>50000.000000</td>\n",
       "      <td>3594.000000</td>\n",
       "      <td>531.000000</td>\n",
       "      <td>3595.000000</td>\n",
       "    </tr>\n",
       "  </tbody>\n",
       "</table>\n",
       "</div>"
      ],
      "text/plain": [
       "       BeepTransactionID  CustomerMobileNumber    AmountPaid       MNOTAT  \\\n",
       "count       1.651000e+03          1.651000e+03   1651.000000  1565.000000   \n",
       "mean        2.592248e+07          9.224434e+08  14432.832829     3.729712   \n",
       "std         3.450689e+03          4.881152e+08   7429.541546    90.821044   \n",
       "min         2.591685e+07          6.153523e+07    256.000000     1.000000   \n",
       "25%         2.591883e+07          6.303278e+08   7824.500000     1.000000   \n",
       "50%         2.592269e+07          8.835054e+08  17323.000000     1.000000   \n",
       "75%         2.592570e+07          1.103714e+09  20150.500000     2.000000   \n",
       "max         2.592760e+07          2.147484e+09  50000.000000  3594.000000   \n",
       "\n",
       "       StatusSyncTAT     TotalTAT  \n",
       "count     213.000000  1645.000000  \n",
       "mean       27.727700     7.705775  \n",
       "std        90.436473    94.720827  \n",
       "min        -7.000000     1.000000  \n",
       "25%         1.000000     2.000000  \n",
       "50%         2.000000     2.000000  \n",
       "75%         5.000000     2.000000  \n",
       "max       531.000000  3595.000000  "
      ]
     },
     "execution_count": 79,
     "metadata": {},
     "output_type": "execute_result"
    }
   ],
   "source": [
    "# Descriptive statistics\n",
    "df.describe()"
   ]
  },
  {
   "cell_type": "code",
   "execution_count": null,
   "id": "61fd4d1a",
   "metadata": {},
   "outputs": [],
   "source": []
  },
  {
   "cell_type": "markdown",
   "id": "86900463",
   "metadata": {},
   "source": [
    "#### Get numerical and categorical variables"
   ]
  },
  {
   "cell_type": "code",
   "execution_count": 80,
   "id": "53263d00",
   "metadata": {},
   "outputs": [
    {
     "data": {
      "text/plain": [
       "Index(['ServiceName', 'ClientName', 'DateCreated', 'StatusSynced',\n",
       "       'ManuallyReconciled', 'FinalStatus'],\n",
       "      dtype='object')"
      ]
     },
     "execution_count": 80,
     "metadata": {},
     "output_type": "execute_result"
    }
   ],
   "source": [
    "categorical_variables_df = df.select_dtypes(include=['object'])\n",
    "categorical_variables_df.columns"
   ]
  },
  {
   "cell_type": "code",
   "execution_count": 81,
   "id": "0517f07e",
   "metadata": {},
   "outputs": [
    {
     "data": {
      "text/plain": [
       "Index(['AmountPaid', 'MNOTAT', 'StatusSyncTAT', 'TotalTAT'], dtype='object')"
      ]
     },
     "execution_count": 81,
     "metadata": {},
     "output_type": "execute_result"
    }
   ],
   "source": [
    "numerical_variables_df = df.select_dtypes(exclude=['object'])\n",
    "numerical_variables_df = numerical_variables_df.drop(columns = ['BeepTransactionID','CustomerMobileNumber'])\n",
    "numerical_variables_df.columns"
   ]
  },
  {
   "cell_type": "code",
   "execution_count": null,
   "id": "4332d8b5",
   "metadata": {},
   "outputs": [],
   "source": []
  },
  {
   "cell_type": "markdown",
   "id": "8d328127",
   "metadata": {},
   "source": [
    "#### Check for outliers and median using a boxplot"
   ]
  },
  {
   "cell_type": "code",
   "execution_count": 82,
   "id": "8ce9e93d",
   "metadata": {},
   "outputs": [
    {
     "data": {
      "image/png": "[encoded data removed]",
      "text/plain": [
       "<Figure size 1080x432 with 1 Axes>"
      ]
     },
     "metadata": {
      "needs_background": "light"
     },
     "output_type": "display_data"
    }
   ],
   "source": [
    "\n",
    "fig_dims = (15, 6)\n",
    "fig, ax = plt.subplots(figsize=fig_dims)\n",
    "df_plot = pd.DataFrame(data = numerical_variables_df, columns = numerical_variables_df.columns)\n",
    "\n",
    "sns.boxplot(x=\"variable\", y=\"value\",ax=ax, data=pd.melt(df_plot))\n",
    "\n",
    "plt.show()"
   ]
  },
  {
   "cell_type": "markdown",
   "id": "5f89fb96",
   "metadata": {},
   "source": [
    "#### Exploratory Data Analysis"
   ]
  },
  {
   "cell_type": "code",
   "execution_count": 83,
   "id": "5763f514",
   "metadata": {},
   "outputs": [
    {
     "data": {
      "text/html": [
       "<div>\n",
       "<style scoped>\n",
       "    .dataframe tbody tr th:only-of-type {\n",
       "        vertical-align: middle;\n",
       "    }\n",
       "\n",
       "    .dataframe tbody tr th {\n",
       "        vertical-align: top;\n",
       "    }\n",
       "\n",
       "    .dataframe thead th {\n",
       "        text-align: right;\n",
       "    }\n",
       "</style>\n",
       "<table border=\"1\" class=\"dataframe\">\n",
       "  <thead>\n",
       "    <tr style=\"text-align: right;\">\n",
       "      <th></th>\n",
       "      <th>ServiceName</th>\n",
       "      <th>ClientName</th>\n",
       "      <th>BeepTransactionID</th>\n",
       "      <th>CustomerMobileNumber</th>\n",
       "      <th>AmountPaid</th>\n",
       "      <th>DateCreated</th>\n",
       "      <th>StatusSynced</th>\n",
       "      <th>ManuallyReconciled</th>\n",
       "      <th>FinalStatus</th>\n",
       "      <th>MNOTAT</th>\n",
       "      <th>StatusSyncTAT</th>\n",
       "      <th>TotalTAT</th>\n",
       "    </tr>\n",
       "  </thead>\n",
       "  <tbody>\n",
       "    <tr>\n",
       "      <th>0</th>\n",
       "      <td>Bolt Collections</td>\n",
       "      <td>TIGO TZ</td>\n",
       "      <td>25916854</td>\n",
       "      <td>891904920</td>\n",
       "      <td>17247</td>\n",
       "      <td>2022-04-21 00:03:47</td>\n",
       "      <td>NO</td>\n",
       "      <td>NO</td>\n",
       "      <td>SUCCESS</td>\n",
       "      <td>1.0</td>\n",
       "      <td>NaN</td>\n",
       "      <td>2.0</td>\n",
       "    </tr>\n",
       "    <tr>\n",
       "      <th>1</th>\n",
       "      <td>Bolt Collections</td>\n",
       "      <td>TIGO TZ</td>\n",
       "      <td>25916856</td>\n",
       "      <td>672727054</td>\n",
       "      <td>20697</td>\n",
       "      <td>2022-04-21 00:14:07</td>\n",
       "      <td>NO</td>\n",
       "      <td>NO</td>\n",
       "      <td>SUCCESS</td>\n",
       "      <td>1.0</td>\n",
       "      <td>NaN</td>\n",
       "      <td>2.0</td>\n",
       "    </tr>\n",
       "  </tbody>\n",
       "</table>\n",
       "</div>"
      ],
      "text/plain": [
       "        ServiceName ClientName  BeepTransactionID  CustomerMobileNumber  \\\n",
       "0  Bolt Collections    TIGO TZ           25916854             891904920   \n",
       "1  Bolt Collections    TIGO TZ           25916856             672727054   \n",
       "\n",
       "   AmountPaid          DateCreated StatusSynced ManuallyReconciled  \\\n",
       "0       17247  2022-04-21 00:03:47           NO                 NO   \n",
       "1       20697  2022-04-21 00:14:07           NO                 NO   \n",
       "\n",
       "  FinalStatus  MNOTAT  StatusSyncTAT  TotalTAT  \n",
       "0     SUCCESS     1.0            NaN       2.0  \n",
       "1     SUCCESS     1.0            NaN       2.0  "
      ]
     },
     "execution_count": 83,
     "metadata": {},
     "output_type": "execute_result"
    }
   ],
   "source": [
    "df.head(2)"
   ]
  },
  {
   "cell_type": "code",
   "execution_count": 84,
   "id": "d77e3ddb",
   "metadata": {},
   "outputs": [
    {
     "data": {
      "text/plain": [
       "Index(['ServiceName', 'ClientName', 'BeepTransactionID',\n",
       "       'CustomerMobileNumber', 'AmountPaid', 'DateCreated', 'StatusSynced',\n",
       "       'ManuallyReconciled', 'FinalStatus', 'MNOTAT', 'StatusSyncTAT',\n",
       "       'TotalTAT'],\n",
       "      dtype='object')"
      ]
     },
     "execution_count": 84,
     "metadata": {},
     "output_type": "execute_result"
    }
   ],
   "source": [
    "df.columns"
   ]
  },
  {
   "cell_type": "code",
   "execution_count": 85,
   "id": "87eca8f1",
   "metadata": {},
   "outputs": [
    {
     "data": {
      "text/plain": [
       "NO     1498\n",
       "YES     153\n",
       "Name: StatusSynced, dtype: int64"
      ]
     },
     "execution_count": 85,
     "metadata": {},
     "output_type": "execute_result"
    }
   ],
   "source": [
    "df['StatusSynced'].value_counts(normalize = False)"
   ]
  },
  {
   "cell_type": "code",
   "execution_count": 86,
   "id": "5d926ad7",
   "metadata": {},
   "outputs": [
    {
     "data": {
      "text/plain": [
       "Text(0.5, 1.0, 'countplot of Synced Status ')"
      ]
     },
     "execution_count": 86,
     "metadata": {},
     "output_type": "execute_result"
    },
    {
     "data": {
      "image/png": "[encoded data removed]",
      "text/plain": [
       "<Figure size 432x288 with 1 Axes>"
      ]
     },
     "metadata": {
      "needs_background": "light"
     },
     "output_type": "display_data"
    }
   ],
   "source": [
    "# plotting\n",
    "sns.countplot(x = df['StatusSynced'])\n",
    "plt.title('countplot of Synced Status ')"
   ]
  },
  {
   "cell_type": "code",
   "execution_count": 87,
   "id": "58683a82",
   "metadata": {},
   "outputs": [
    {
     "data": {
      "text/plain": [
       "NO    1.0\n",
       "Name: ManuallyReconciled, dtype: float64"
      ]
     },
     "execution_count": 87,
     "metadata": {},
     "output_type": "execute_result"
    }
   ],
   "source": [
    "df['ManuallyReconciled'].value_counts(normalize = True)"
   ]
  },
  {
   "cell_type": "code",
   "execution_count": 88,
   "id": "09e52c53",
   "metadata": {},
   "outputs": [
    {
     "data": {
      "text/plain": [
       "SUCCESS    0.995154\n",
       "PENDING    0.003634\n",
       "FAILED     0.001211\n",
       "Name: FinalStatus, dtype: float64"
      ]
     },
     "execution_count": 88,
     "metadata": {},
     "output_type": "execute_result"
    }
   ],
   "source": [
    "df['FinalStatus'].value_counts(normalize = True)"
   ]
  },
  {
   "cell_type": "code",
   "execution_count": 89,
   "id": "dcb86535",
   "metadata": {},
   "outputs": [
    {
     "data": {
      "text/plain": [
       "Text(0.5, 1.0, 'countplot of Final status Status ')"
      ]
     },
     "execution_count": 89,
     "metadata": {},
     "output_type": "execute_result"
    },
    {
     "data": {
      "image/png": "[encoded data removed]",
      "text/plain": [
       "<Figure size 432x288 with 1 Axes>"
      ]
     },
     "metadata": {
      "needs_background": "light"
     },
     "output_type": "display_data"
    }
   ],
   "source": [
    "# plotting\n",
    "sns.countplot(x = df['FinalStatus'])\n",
    "plt.title('countplot of Final status Status ')"
   ]
  },
  {
   "cell_type": "code",
   "execution_count": null,
   "id": "db2d555a",
   "metadata": {},
   "outputs": [],
   "source": []
  },
  {
   "cell_type": "code",
   "execution_count": null,
   "id": "f6160a66",
   "metadata": {},
   "outputs": [],
   "source": []
  },
  {
   "cell_type": "code",
   "execution_count": null,
   "id": "6d60baf1",
   "metadata": {},
   "outputs": [],
   "source": []
  },
  {
   "cell_type": "code",
   "execution_count": 90,
   "id": "7a04af6e",
   "metadata": {},
   "outputs": [
    {
     "data": {
      "text/plain": [
       "8"
      ]
     },
     "execution_count": 90,
     "metadata": {},
     "output_type": "execute_result"
    }
   ],
   "source": [
    "# Number of services\n",
    "df['ServiceName'].nunique()"
   ]
  },
  {
   "cell_type": "code",
   "execution_count": 95,
   "id": "0cdaddb3",
   "metadata": {},
   "outputs": [
    {
     "data": {
      "text/plain": [
       "Bolt Collections          1492\n",
       "Tigo Pesa B2C               32\n",
       "Airtel Topup                31\n",
       "Mpesa B2C                   24\n",
       "ZANTELAIRTIMETZ             21\n",
       "HalotelAirtime              21\n",
       "AIRTEL B2C                  19\n",
       "Selcom Airtime Service      11\n",
       "Name: ServiceName, dtype: int64"
      ]
     },
     "execution_count": 95,
     "metadata": {},
     "output_type": "execute_result"
    }
   ],
   "source": [
    "# Services count\n",
    "df['ServiceName'].value_counts(normalize = False)"
   ]
  },
  {
   "cell_type": "code",
   "execution_count": 96,
   "id": "56eddbe9",
   "metadata": {},
   "outputs": [
    {
     "data": {
      "text/plain": [
       "Text(0.5, 1.0, 'countplot of service name')"
      ]
     },
     "execution_count": 96,
     "metadata": {},
     "output_type": "execute_result"
    },
    {
     "data": {
      "image/png": "[encoded data removed]",
      "text/plain": [
       "<Figure size 432x288 with 1 Axes>"
      ]
     },
     "metadata": {
      "needs_background": "light"
     },
     "output_type": "display_data"
    }
   ],
   "source": [
    "# plotting\n",
    "sns.countplot(x = df['ServiceName'])\n",
    "plt.xticks(rotation = 60)\n",
    "plt.title('countplot of service name')"
   ]
  },
  {
   "cell_type": "code",
   "execution_count": 97,
   "id": "ab66f7cf",
   "metadata": {},
   "outputs": [
    {
     "data": {
      "text/plain": [
       "7"
      ]
     },
     "execution_count": 97,
     "metadata": {},
     "output_type": "execute_result"
    }
   ],
   "source": [
    "# Number of clients\n",
    "df['ClientName'].nunique()"
   ]
  },
  {
   "cell_type": "code",
   "execution_count": 98,
   "id": "eafb43fd",
   "metadata": {},
   "outputs": [
    {
     "data": {
      "text/plain": [
       "TIGO TZ                703\n",
       "Airtel Tanzania        462\n",
       "VodacomMula            327\n",
       "Bolt (Taxify)           73\n",
       "TRANSFER TO LIMITED     72\n",
       "Tranglo                 12\n",
       "Dusupay                  2\n",
       "Name: ClientName, dtype: int64"
      ]
     },
     "execution_count": 98,
     "metadata": {},
     "output_type": "execute_result"
    }
   ],
   "source": [
    "# client count\n",
    "df_client_name = df['ClientName'].value_counts(normalize = False)\n",
    "df_client_name"
   ]
  },
  {
   "cell_type": "code",
   "execution_count": 99,
   "id": "9ee9e49b",
   "metadata": {},
   "outputs": [
    {
     "data": {
      "text/plain": [
       "Text(0.5, 1.0, 'countplot of client name')"
      ]
     },
     "execution_count": 99,
     "metadata": {},
     "output_type": "execute_result"
    },
    {
     "data": {
      "image/png": "[encoded data removed]",
      "text/plain": [
       "<Figure size 432x288 with 1 Axes>"
      ]
     },
     "metadata": {
      "needs_background": "light"
     },
     "output_type": "display_data"
    }
   ],
   "source": [
    "# Plotting\n",
    "sns.countplot(x = df['ClientName'])\n",
    "plt.xticks(rotation = 60)\n",
    "plt.title('countplot of client name')"
   ]
  },
  {
   "cell_type": "code",
   "execution_count": null,
   "id": "c0c25cff",
   "metadata": {},
   "outputs": [],
   "source": []
  },
  {
   "cell_type": "markdown",
   "id": "7e36ec20",
   "metadata": {},
   "source": [
    "### Analysis by service name"
   ]
  },
  {
   "cell_type": "code",
   "execution_count": 100,
   "id": "afe66a0a",
   "metadata": {},
   "outputs": [],
   "source": [
    "df = df.drop(columns = [\"BeepTransactionID\",\"CustomerMobileNumber\"])"
   ]
  },
  {
   "cell_type": "code",
   "execution_count": 101,
   "id": "e494ecd4",
   "metadata": {},
   "outputs": [],
   "source": [
    "services = df['ServiceName'].unique().tolist()"
   ]
  },
  {
   "cell_type": "code",
   "execution_count": 102,
   "id": "e65a460b",
   "metadata": {},
   "outputs": [
    {
     "data": {
      "text/plain": [
       "list"
      ]
     },
     "execution_count": 102,
     "metadata": {},
     "output_type": "execute_result"
    }
   ],
   "source": [
    "type(services)"
   ]
  },
  {
   "cell_type": "code",
   "execution_count": 107,
   "id": "666c3a79",
   "metadata": {},
   "outputs": [],
   "source": [
    "def perform_service_analysis():\n",
    "    for service in services:\n",
    "        df_service = df.loc[df['ServiceName']== service]\n",
    "        print(\"---------------------------------------------------------\")\n",
    "        print(service)\n",
    "        desc_stats = df_service.describe()\n",
    "        print(\"Descriptive Statistics\\n\", desc_stats)\n",
    "        print(\"-------------------------------------------------------\")\n",
    "        status_synced = df_service['StatusSynced'].value_counts(normalize = False)\n",
    "        print(\"Status Synced\", status_synced)\n",
    "        final_status = df_service['FinalStatus'].value_counts(normalize = False)\n",
    "        print(\"Final Status: \\n\", final_status)\n",
    "        manually_rec = df_service['ManuallyReconciled'].value_counts(normalize = False)\n",
    "        print(\"Manually Reconciled \\n\",manually_rec)\n",
    "        num_services = df_service['ServiceName'].value_counts()\n",
    "        print(\"Total Services\\n\", num_services)\n",
    "    "
   ]
  },
  {
   "cell_type": "code",
   "execution_count": 108,
   "id": "6a31347c",
   "metadata": {
    "scrolled": false
   },
   "outputs": [
    {
     "name": "stdout",
     "output_type": "stream",
     "text": [
      "---------------------------------------------------------\n",
      "Bolt Collections\n",
      "Descriptive Statistics\n",
      "          AmountPaid       MNOTAT  StatusSyncTAT     TotalTAT\n",
      "count   1492.000000  1492.000000      63.000000  1492.000000\n",
      "mean   14794.270777     3.766756      78.698413     7.643432\n",
      "std     6581.220002    93.016484     147.236329    98.934858\n",
      "min      256.000000     1.000000       1.000000     1.000000\n",
      "25%     9273.500000     1.000000       1.000000     2.000000\n",
      "50%    17846.500000     1.000000       1.000000     2.000000\n",
      "75%    20168.000000     2.000000      46.000000     2.000000\n",
      "max    26445.000000  3594.000000     531.000000  3595.000000\n",
      "-------------------------------------------------------\n",
      "Status Synced NO    1492\n",
      "Name: StatusSynced, dtype: int64\n",
      "Final Status: \n",
      " SUCCESS    1491\n",
      "FAILED        1\n",
      "Name: FinalStatus, dtype: int64\n",
      "Manually Reconciled \n",
      " NO    1492\n",
      "Name: ManuallyReconciled, dtype: int64\n",
      "Total Services\n",
      " Bolt Collections    1492\n",
      "Name: ServiceName, dtype: int64\n",
      "---------------------------------------------------------\n",
      "HalotelAirtime\n",
      "Descriptive Statistics\n",
      "          AmountPaid  MNOTAT  StatusSyncTAT   TotalTAT\n",
      "count     21.000000     0.0      21.000000  21.000000\n",
      "mean    5009.857143     NaN       5.000000   5.952381\n",
      "std     4137.573689     NaN       2.144761   2.155834\n",
      "min     2000.000000     NaN       4.000000   5.000000\n",
      "25%     3000.000000     NaN       4.000000   5.000000\n",
      "50%     3000.000000     NaN       5.000000   5.000000\n",
      "75%     5000.000000     NaN       5.000000   6.000000\n",
      "max    15559.000000     NaN      14.000000  15.000000\n",
      "-------------------------------------------------------\n",
      "Status Synced YES    21\n",
      "Name: StatusSynced, dtype: int64\n",
      "Final Status: \n",
      " SUCCESS    21\n",
      "Name: FinalStatus, dtype: int64\n",
      "Manually Reconciled \n",
      " NO    21\n",
      "Name: ManuallyReconciled, dtype: int64\n",
      "Total Services\n",
      " HalotelAirtime    21\n",
      "Name: ServiceName, dtype: int64\n",
      "---------------------------------------------------------\n",
      "ZANTELAIRTIMETZ\n",
      "Descriptive Statistics\n",
      "          AmountPaid     MNOTAT  StatusSyncTAT   TotalTAT\n",
      "count     21.000000  21.000000      20.000000  21.000000\n",
      "mean   10395.238095   2.333333       2.750000   5.428571\n",
      "std    10562.929338   1.653280       0.850696   1.660465\n",
      "min     2000.000000   1.000000       2.000000   3.000000\n",
      "25%     3000.000000   2.000000       2.000000   5.000000\n",
      "50%     5000.000000   2.000000       3.000000   5.000000\n",
      "75%    10000.000000   2.000000       3.000000   5.000000\n",
      "max    30000.000000   9.000000       5.000000  12.000000\n",
      "-------------------------------------------------------\n",
      "Status Synced YES    21\n",
      "Name: StatusSynced, dtype: int64\n",
      "Final Status: \n",
      " SUCCESS    21\n",
      "Name: FinalStatus, dtype: int64\n",
      "Manually Reconciled \n",
      " NO    21\n",
      "Name: ManuallyReconciled, dtype: int64\n",
      "Total Services\n",
      " ZANTELAIRTIMETZ    21\n",
      "Name: ServiceName, dtype: int64\n",
      "---------------------------------------------------------\n",
      "AIRTEL B2C\n",
      "Descriptive Statistics\n",
      "          AmountPaid  MNOTAT  StatusSyncTAT    TotalTAT\n",
      "count     19.000000     1.0      19.000000   19.000000\n",
      "mean   11794.894737     1.0      31.368421   32.421053\n",
      "std    10381.855812     NaN      89.052550   89.036394\n",
      "min     2678.000000     1.0       1.000000    2.000000\n",
      "25%     5443.000000     1.0       1.000000    2.000000\n",
      "50%     8068.000000     1.0       1.000000    2.000000\n",
      "75%    15071.000000     1.0       2.500000    3.500000\n",
      "max    40602.000000     1.0     289.000000  290.000000\n",
      "-------------------------------------------------------\n",
      "Status Synced YES    19\n",
      "Name: StatusSynced, dtype: int64\n",
      "Final Status: \n",
      " SUCCESS    19\n",
      "Name: FinalStatus, dtype: int64\n",
      "Manually Reconciled \n",
      " NO    19\n",
      "Name: ManuallyReconciled, dtype: int64\n",
      "Total Services\n",
      " AIRTEL B2C    19\n",
      "Name: ServiceName, dtype: int64\n",
      "---------------------------------------------------------\n",
      "Airtel Topup\n",
      "Descriptive Statistics\n",
      "          AmountPaid  MNOTAT  StatusSyncTAT   TotalTAT\n",
      "count     31.000000     0.0      31.000000  31.000000\n",
      "mean    6558.064516     NaN       4.741935   5.580645\n",
      "std     9646.822420     NaN       1.031754   0.922829\n",
      "min     1000.000000     NaN       4.000000   5.000000\n",
      "25%     3000.000000     NaN       4.000000   5.000000\n",
      "50%     3000.000000     NaN       5.000000   5.000000\n",
      "75%     5000.000000     NaN       5.000000   6.000000\n",
      "max    50000.000000     NaN       9.000000   9.000000\n",
      "-------------------------------------------------------\n",
      "Status Synced YES    31\n",
      "Name: StatusSynced, dtype: int64\n",
      "Final Status: \n",
      " SUCCESS    31\n",
      "Name: FinalStatus, dtype: int64\n",
      "Manually Reconciled \n",
      " NO    31\n",
      "Name: ManuallyReconciled, dtype: int64\n",
      "Total Services\n",
      " Airtel Topup    31\n",
      "Name: ServiceName, dtype: int64\n",
      "---------------------------------------------------------\n",
      "Mpesa B2C\n",
      "Descriptive Statistics\n",
      "          AmountPaid     MNOTAT  StatusSyncTAT   TotalTAT\n",
      "count     24.000000  24.000000      24.000000  24.000000\n",
      "mean   14336.041667   2.208333       1.541667   4.041667\n",
      "std    10901.064258   0.508977       1.444003   1.627993\n",
      "min     2251.000000   1.000000       1.000000   3.000000\n",
      "25%     5940.250000   2.000000       1.000000   3.000000\n",
      "50%     9088.000000   2.000000       1.000000   4.000000\n",
      "75%    23602.000000   2.250000       2.000000   4.000000\n",
      "max    32302.000000   3.000000       8.000000  11.000000\n",
      "-------------------------------------------------------\n",
      "Status Synced YES    24\n",
      "Name: StatusSynced, dtype: int64\n",
      "Final Status: \n",
      " SUCCESS    24\n",
      "Name: FinalStatus, dtype: int64\n",
      "Manually Reconciled \n",
      " NO    24\n",
      "Name: ManuallyReconciled, dtype: int64\n",
      "Total Services\n",
      " Mpesa B2C    24\n",
      "Name: ServiceName, dtype: int64\n",
      "---------------------------------------------------------\n",
      "Tigo Pesa B2C\n",
      "Descriptive Statistics\n",
      "          AmountPaid     MNOTAT  StatusSyncTAT   TotalTAT\n",
      "count     32.000000  16.000000       32.00000  26.000000\n",
      "mean   20299.375000   2.937500        0.06250   2.500000\n",
      "std    16959.245753   2.594064        3.25217   1.272792\n",
      "min     2152.000000   1.000000       -7.00000   2.000000\n",
      "25%     5168.750000   1.000000        1.00000   2.000000\n",
      "50%    15002.000000   1.000000        1.00000   2.000000\n",
      "75%    29726.250000   6.000000        1.00000   2.000000\n",
      "max    48800.000000   7.000000        7.00000   8.000000\n",
      "-------------------------------------------------------\n",
      "Status Synced YES    26\n",
      "NO      6\n",
      "Name: StatusSynced, dtype: int64\n",
      "Final Status: \n",
      " SUCCESS    26\n",
      "PENDING     6\n",
      "Name: FinalStatus, dtype: int64\n",
      "Manually Reconciled \n",
      " NO    32\n",
      "Name: ManuallyReconciled, dtype: int64\n",
      "Total Services\n",
      " Tigo Pesa B2C    32\n",
      "Name: ServiceName, dtype: int64\n",
      "---------------------------------------------------------\n",
      "Selcom Airtime Service\n",
      "Descriptive Statistics\n",
      "        AmountPaid     MNOTAT  StatusSyncTAT   TotalTAT\n",
      "count        11.0  11.000000            3.0  11.000000\n",
      "mean       1000.0   6.090909            2.0   7.454545\n",
      "std           0.0   1.578261            1.0   1.916436\n",
      "min        1000.0   3.000000            1.0   4.000000\n",
      "25%        1000.0   5.000000            1.5   6.000000\n",
      "50%        1000.0   7.000000            2.0   8.000000\n",
      "75%        1000.0   7.000000            2.5   8.500000\n",
      "max        1000.0   8.000000            3.0  11.000000\n",
      "-------------------------------------------------------\n",
      "Status Synced YES    11\n",
      "Name: StatusSynced, dtype: int64\n",
      "Final Status: \n",
      " SUCCESS    10\n",
      "FAILED      1\n",
      "Name: FinalStatus, dtype: int64\n",
      "Manually Reconciled \n",
      " NO    11\n",
      "Name: ManuallyReconciled, dtype: int64\n",
      "Total Services\n",
      " Selcom Airtime Service    11\n",
      "Name: ServiceName, dtype: int64\n"
     ]
    }
   ],
   "source": [
    "perform_service_analysis()"
   ]
  },
  {
   "cell_type": "code",
   "execution_count": null,
   "id": "7e9638ec",
   "metadata": {},
   "outputs": [],
   "source": []
  },
  {
   "cell_type": "markdown",
   "id": "ec3bfd2e",
   "metadata": {},
   "source": [
    "#### Analysis by client name"
   ]
  },
  {
   "cell_type": "code",
   "execution_count": 109,
   "id": "548b13b3",
   "metadata": {},
   "outputs": [
    {
     "data": {
      "text/plain": [
       "['TIGO TZ',\n",
       " 'Airtel Tanzania',\n",
       " 'TRANSFER TO LIMITED',\n",
       " 'VodacomMula',\n",
       " 'Bolt (Taxify)',\n",
       " 'Dusupay',\n",
       " 'Tranglo']"
      ]
     },
     "execution_count": 109,
     "metadata": {},
     "output_type": "execute_result"
    }
   ],
   "source": [
    "clients = df['ClientName'].unique().tolist()\n",
    "clients\n"
   ]
  },
  {
   "cell_type": "code",
   "execution_count": 110,
   "id": "1181df2c",
   "metadata": {},
   "outputs": [
    {
     "data": {
      "text/plain": [
       "list"
      ]
     },
     "execution_count": 110,
     "metadata": {},
     "output_type": "execute_result"
    }
   ],
   "source": [
    "type(clients)"
   ]
  },
  {
   "cell_type": "code",
   "execution_count": 111,
   "id": "9cce4a0c",
   "metadata": {},
   "outputs": [],
   "source": [
    "def perfrom_client_analysis():\n",
    "    for client in clients:\n",
    "        df_client = df.loc[df['ClientName']== client]\n",
    "        print(\"---------------------------------------------------------\")\n",
    "        print(client)\n",
    "        desc_stats = df_client.describe()\n",
    "        print(\"Descriptive Statistics\\n\", desc_stats)\n",
    "        print(\"-------------------------------------------------------\")\n",
    "        status_synced = df_client['StatusSynced'].value_counts(normalize = False)\n",
    "        print(\"Status Synced\", status_synced)\n",
    "        final_status = df_client['FinalStatus'].value_counts(normalize = False)\n",
    "        print(\"Final Status: \\n\", final_status)\n",
    "        manually_rec = df_client['ManuallyReconciled'].value_counts(normalize = False)\n",
    "        print(\"Manually Reconciled \\n\",manually_rec)\n",
    "        num_clients = df_client['ClientName'].value_counts()\n",
    "        print(\"Total Clients\\n\", num_clients)\n",
    "    "
   ]
  },
  {
   "cell_type": "code",
   "execution_count": 112,
   "id": "5a5b4f65",
   "metadata": {
    "scrolled": false
   },
   "outputs": [
    {
     "name": "stdout",
     "output_type": "stream",
     "text": [
      "---------------------------------------------------------\n",
      "TIGO TZ\n",
      "Descriptive Statistics\n",
      "          AmountPaid       MNOTAT  StatusSyncTAT     TotalTAT\n",
      "count    703.000000   703.000000      39.000000   703.000000\n",
      "mean   15383.140825     6.469417      68.820513    10.998578\n",
      "std     6395.042157   135.504256     129.544114   139.573307\n",
      "min     1050.000000     1.000000       1.000000     1.000000\n",
      "25%    10384.000000     1.000000       1.000000     2.000000\n",
      "50%    18429.000000     1.000000       1.000000     2.000000\n",
      "75%    20253.000000     2.000000      72.500000     2.000000\n",
      "max    26445.000000  3594.000000     531.000000  3595.000000\n",
      "-------------------------------------------------------\n",
      "Status Synced NO    703\n",
      "Name: StatusSynced, dtype: int64\n",
      "Final Status: \n",
      " SUCCESS    702\n",
      "FAILED       1\n",
      "Name: FinalStatus, dtype: int64\n",
      "Manually Reconciled \n",
      " NO    703\n",
      "Name: ManuallyReconciled, dtype: int64\n",
      "Total Clients\n",
      " TIGO TZ    703\n",
      "Name: ClientName, dtype: int64\n",
      "---------------------------------------------------------\n",
      "Airtel Tanzania\n",
      "Descriptive Statistics\n",
      "          AmountPaid      MNOTAT  StatusSyncTAT    TotalTAT\n",
      "count    462.000000  462.000000      24.000000  462.000000\n",
      "mean   14029.129870    1.354978      94.750000    6.978355\n",
      "std     6753.688787    1.148217     174.003561   44.121057\n",
      "min      256.000000    1.000000       1.000000    1.000000\n",
      "25%     8151.500000    1.000000       1.000000    2.000000\n",
      "50%    17107.000000    1.000000       1.000000    2.000000\n",
      "75%    19892.500000    2.000000      41.000000    2.000000\n",
      "max    26164.000000   22.000000     515.000000  516.000000\n",
      "-------------------------------------------------------\n",
      "Status Synced NO    462\n",
      "Name: StatusSynced, dtype: int64\n",
      "Final Status: \n",
      " SUCCESS    462\n",
      "Name: FinalStatus, dtype: int64\n",
      "Manually Reconciled \n",
      " NO    462\n",
      "Name: ManuallyReconciled, dtype: int64\n",
      "Total Clients\n",
      " Airtel Tanzania    462\n",
      "Name: ClientName, dtype: int64\n",
      "---------------------------------------------------------\n",
      "TRANSFER TO LIMITED\n",
      "Descriptive Statistics\n",
      "          AmountPaid     MNOTAT  StatusSyncTAT   TotalTAT\n",
      "count     72.000000  20.000000      72.000000  72.000000\n",
      "mean    7284.819444   2.350000       4.263889   5.680556\n",
      "std     8935.696390   1.694418       1.686676   1.545793\n",
      "min     1000.000000   1.000000       2.000000   5.000000\n",
      "25%     3000.000000   2.000000       4.000000   5.000000\n",
      "50%     3000.000000   2.000000       4.000000   5.000000\n",
      "75%     6250.000000   2.250000       5.000000   6.000000\n",
      "max    50000.000000   9.000000      14.000000  15.000000\n",
      "-------------------------------------------------------\n",
      "Status Synced YES    72\n",
      "Name: StatusSynced, dtype: int64\n",
      "Final Status: \n",
      " SUCCESS    72\n",
      "Name: FinalStatus, dtype: int64\n",
      "Manually Reconciled \n",
      " NO    72\n",
      "Name: ManuallyReconciled, dtype: int64\n",
      "Total Clients\n",
      " TRANSFER TO LIMITED    72\n",
      "Name: ClientName, dtype: int64\n",
      "---------------------------------------------------------\n",
      "VodacomMula\n",
      "Descriptive Statistics\n",
      "          AmountPaid      MNOTAT  StatusSyncTAT    TotalTAT\n",
      "count    327.000000  327.000000            0.0  327.000000\n",
      "mean   14609.314985    1.363914            NaN    1.370031\n",
      "std     6626.950762    0.798185            NaN    0.799206\n",
      "min      414.000000    1.000000            NaN    1.000000\n",
      "25%     9507.000000    1.000000            NaN    1.000000\n",
      "50%    17769.000000    1.000000            NaN    1.000000\n",
      "75%    20130.500000    2.000000            NaN    2.000000\n",
      "max    22797.000000   11.000000            NaN   11.000000\n",
      "-------------------------------------------------------\n",
      "Status Synced NO    327\n",
      "Name: StatusSynced, dtype: int64\n",
      "Final Status: \n",
      " SUCCESS    327\n",
      "Name: FinalStatus, dtype: int64\n",
      "Manually Reconciled \n",
      " NO    327\n",
      "Name: ManuallyReconciled, dtype: int64\n",
      "Total Clients\n",
      " VodacomMula    327\n",
      "Name: ClientName, dtype: int64\n",
      "---------------------------------------------------------\n",
      "Bolt (Taxify)\n",
      "Descriptive Statistics\n",
      "          AmountPaid     MNOTAT  StatusSyncTAT   TotalTAT\n",
      "count     73.000000  41.000000      73.000000  67.000000\n",
      "mean   16113.726027   2.463415       0.917808   3.104478\n",
      "std    14023.402401   1.689638       2.504182   1.634239\n",
      "min     2152.000000   1.000000      -7.000000   2.000000\n",
      "25%     5258.000000   1.000000       1.000000   2.000000\n",
      "50%    10671.000000   2.000000       1.000000   2.000000\n",
      "75%    23755.000000   3.000000       1.000000   4.000000\n",
      "max    48800.000000   7.000000       8.000000  11.000000\n",
      "-------------------------------------------------------\n",
      "Status Synced YES    67\n",
      "NO      6\n",
      "Name: StatusSynced, dtype: int64\n",
      "Final Status: \n",
      " SUCCESS    67\n",
      "PENDING     6\n",
      "Name: FinalStatus, dtype: int64\n",
      "Manually Reconciled \n",
      " NO    73\n",
      "Name: ManuallyReconciled, dtype: int64\n",
      "Total Clients\n",
      " Bolt (Taxify)    73\n",
      "Name: ClientName, dtype: int64\n",
      "---------------------------------------------------------\n",
      "Dusupay\n",
      "Descriptive Statistics\n",
      "          AmountPaid  MNOTAT  StatusSyncTAT    TotalTAT\n",
      "count      2.000000     0.0       2.000000    2.000000\n",
      "mean   20723.000000     NaN     284.000000  285.000000\n",
      "std    19455.335978     NaN       7.071068    7.071068\n",
      "min     6966.000000     NaN     279.000000  280.000000\n",
      "25%    13844.500000     NaN     281.500000  282.500000\n",
      "50%    20723.000000     NaN     284.000000  285.000000\n",
      "75%    27601.500000     NaN     286.500000  287.500000\n",
      "max    34480.000000     NaN     289.000000  290.000000\n",
      "-------------------------------------------------------\n",
      "Status Synced YES    2\n",
      "Name: StatusSynced, dtype: int64\n",
      "Final Status: \n",
      " SUCCESS    2\n",
      "Name: FinalStatus, dtype: int64\n",
      "Manually Reconciled \n",
      " NO    2\n",
      "Name: ManuallyReconciled, dtype: int64\n",
      "Total Clients\n",
      " Dusupay    2\n",
      "Name: ClientName, dtype: int64\n",
      "---------------------------------------------------------\n",
      "Tranglo\n",
      "Descriptive Statistics\n",
      "         AmountPaid     MNOTAT  StatusSyncTAT   TotalTAT\n",
      "count    12.000000  12.000000            3.0  12.000000\n",
      "mean   1108.333333   5.750000            2.0   7.083333\n",
      "std     375.277675   1.912875            1.0   2.234373\n",
      "min    1000.000000   2.000000            1.0   3.000000\n",
      "25%    1000.000000   4.750000            1.5   6.000000\n",
      "50%    1000.000000   7.000000            2.0   7.500000\n",
      "75%    1000.000000   7.000000            2.5   8.250000\n",
      "max    2300.000000   8.000000            3.0  11.000000\n",
      "-------------------------------------------------------\n",
      "Status Synced YES    12\n",
      "Name: StatusSynced, dtype: int64\n",
      "Final Status: \n",
      " SUCCESS    11\n",
      "FAILED      1\n",
      "Name: FinalStatus, dtype: int64\n",
      "Manually Reconciled \n",
      " NO    12\n",
      "Name: ManuallyReconciled, dtype: int64\n",
      "Total Clients\n",
      " Tranglo    12\n",
      "Name: ClientName, dtype: int64\n"
     ]
    }
   ],
   "source": [
    "perfrom_client_analysis()"
   ]
  },
  {
   "cell_type": "code",
   "execution_count": null,
   "id": "69e4dc24",
   "metadata": {},
   "outputs": [],
   "source": []
  },
  {
   "cell_type": "code",
   "execution_count": null,
   "id": "09ae1203",
   "metadata": {},
   "outputs": [],
   "source": []
  }
 ],
 "metadata": {
  "kernelspec": {
   "display_name": "Python 3 (ipykernel)",
   "language": "python",
   "name": "python3"
  },
  "language_info": {
   "codemirror_mode": {
    "name": "ipython",
    "version": 3
   },
   "file_extension": ".py",
   "mimetype": "text/x-python",
   "name": "python",
   "nbconvert_exporter": "python",
   "pygments_lexer": "ipython3",
   "version": "3.9.7"
  }
 },
 "nbformat": 4,
 "nbformat_minor": 5
}
