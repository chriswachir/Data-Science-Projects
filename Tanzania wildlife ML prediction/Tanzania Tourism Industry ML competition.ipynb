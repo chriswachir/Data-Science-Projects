{
 "cells": [
  {
   "cell_type": "code",
   "execution_count": 1,
   "metadata": {
    "_cell_guid": "b1076dfc-b9ad-4769-8c92-a6c4dae69d19",
    "_uuid": "8f2839f25d086af736a60e9eeb907d3b93b6e0e5"
   },
   "outputs": [],
   "source": [
    "\n",
    "import numpy as np \n",
    "import pandas as pd \n",
    "import matplotlib.pyplot as plt\n",
    "%matplotlib inline\n",
    "import seaborn as sns\n",
    "import warnings\n",
    "warnings.filterwarnings(\"ignore\")\n",
    "pd.options.display.max_columns = None"
   ]
  },
  {
   "cell_type": "code",
   "execution_count": 2,
   "metadata": {
    "_cell_guid": "79c7e3d0-c299-4dcb-8224-4455121ee9b0",
    "_uuid": "d629ff2d2480ee46fbb7e2d37f6b5fab8052498a"
   },
   "outputs": [],
   "source": [
    "train_df=pd.read_csv(\"Train.csv\")\n",
    "test_df=pd.read_csv(\"Test.csv\")\n",
    "sub_df=pd.read_csv(\"SampleSubmission.csv\")\n",
    "descp=pd.read_csv(\"VariableDefinitions.csv\")"
   ]
  },
  {
   "cell_type": "code",
   "execution_count": 3,
   "metadata": {},
   "outputs": [
    {
     "data": {
      "text/html": [
       "<div>\n",
       "<style scoped>\n",
       "    .dataframe tbody tr th:only-of-type {\n",
       "        vertical-align: middle;\n",
       "    }\n",
       "\n",
       "    .dataframe tbody tr th {\n",
       "        vertical-align: top;\n",
       "    }\n",
       "\n",
       "    .dataframe thead th {\n",
       "        text-align: right;\n",
       "    }\n",
       "</style>\n",
       "<table border=\"1\" class=\"dataframe\">\n",
       "  <thead>\n",
       "    <tr style=\"text-align: right;\">\n",
       "      <th></th>\n",
       "      <th>Column Name</th>\n",
       "      <th>Definition</th>\n",
       "    </tr>\n",
       "  </thead>\n",
       "  <tbody>\n",
       "    <tr>\n",
       "      <th>0</th>\n",
       "      <td>id</td>\n",
       "      <td>Unique identifier for each tourist</td>\n",
       "    </tr>\n",
       "    <tr>\n",
       "      <th>1</th>\n",
       "      <td>country</td>\n",
       "      <td>The country a tourist coming  from.</td>\n",
       "    </tr>\n",
       "    <tr>\n",
       "      <th>2</th>\n",
       "      <td>age_group</td>\n",
       "      <td>The age group of a tourist.</td>\n",
       "    </tr>\n",
       "    <tr>\n",
       "      <th>3</th>\n",
       "      <td>travel_with</td>\n",
       "      <td>The relation of people a tourist travel with t...</td>\n",
       "    </tr>\n",
       "    <tr>\n",
       "      <th>4</th>\n",
       "      <td>total_female</td>\n",
       "      <td>Total number of females</td>\n",
       "    </tr>\n",
       "    <tr>\n",
       "      <th>5</th>\n",
       "      <td>total_male</td>\n",
       "      <td>Total number of males</td>\n",
       "    </tr>\n",
       "    <tr>\n",
       "      <th>6</th>\n",
       "      <td>purpose</td>\n",
       "      <td>The purpose of visiting  Tanzania</td>\n",
       "    </tr>\n",
       "    <tr>\n",
       "      <th>7</th>\n",
       "      <td>main_activity</td>\n",
       "      <td>The main activity of tourism in Tanzania</td>\n",
       "    </tr>\n",
       "    <tr>\n",
       "      <th>8</th>\n",
       "      <td>infor_source</td>\n",
       "      <td>The source of information about tourism in Tan...</td>\n",
       "    </tr>\n",
       "    <tr>\n",
       "      <th>9</th>\n",
       "      <td>tour_arrangment</td>\n",
       "      <td>The arrangment of visiting Tanzania</td>\n",
       "    </tr>\n",
       "    <tr>\n",
       "      <th>10</th>\n",
       "      <td>package_transport_int</td>\n",
       "      <td>If the tour package include international tran...</td>\n",
       "    </tr>\n",
       "    <tr>\n",
       "      <th>11</th>\n",
       "      <td>package_accomodation</td>\n",
       "      <td>If the tour package include accommodation service</td>\n",
       "    </tr>\n",
       "    <tr>\n",
       "      <th>12</th>\n",
       "      <td>package_food</td>\n",
       "      <td>If the tour package include food service</td>\n",
       "    </tr>\n",
       "    <tr>\n",
       "      <th>13</th>\n",
       "      <td>package_transport_tz</td>\n",
       "      <td>If the tour package include transport service ...</td>\n",
       "    </tr>\n",
       "    <tr>\n",
       "      <th>14</th>\n",
       "      <td>package_sightseeing</td>\n",
       "      <td>If the tour package include sightseeing service</td>\n",
       "    </tr>\n",
       "    <tr>\n",
       "      <th>15</th>\n",
       "      <td>package_guided_tour</td>\n",
       "      <td>If the tour package include tour guide</td>\n",
       "    </tr>\n",
       "    <tr>\n",
       "      <th>16</th>\n",
       "      <td>package_insurance</td>\n",
       "      <td>if the tour package include insurance service</td>\n",
       "    </tr>\n",
       "    <tr>\n",
       "      <th>17</th>\n",
       "      <td>night_mainland</td>\n",
       "      <td>Number of nights a tourist spent in Tanzania m...</td>\n",
       "    </tr>\n",
       "    <tr>\n",
       "      <th>18</th>\n",
       "      <td>night_zanzibar</td>\n",
       "      <td>Number of nights a tourist spent in Zanzibar</td>\n",
       "    </tr>\n",
       "    <tr>\n",
       "      <th>19</th>\n",
       "      <td>payment_mode</td>\n",
       "      <td>The mode of payment for tourism service</td>\n",
       "    </tr>\n",
       "    <tr>\n",
       "      <th>20</th>\n",
       "      <td>first_trip_tz</td>\n",
       "      <td>If it was a first  trip to Tanzania</td>\n",
       "    </tr>\n",
       "    <tr>\n",
       "      <th>21</th>\n",
       "      <td>most_impressing</td>\n",
       "      <td>what impressed a toursit in Tanzania</td>\n",
       "    </tr>\n",
       "    <tr>\n",
       "      <th>22</th>\n",
       "      <td>total_cost</td>\n",
       "      <td>The total tourist expenditure  in TZS(currency)</td>\n",
       "    </tr>\n",
       "  </tbody>\n",
       "</table>\n",
       "</div>"
      ],
      "text/plain": [
       "              Column Name                                         Definition\n",
       "0                      id                 Unique identifier for each tourist\n",
       "1                 country                The country a tourist coming  from.\n",
       "2               age_group                        The age group of a tourist.\n",
       "3             travel_with  The relation of people a tourist travel with t...\n",
       "4            total_female                            Total number of females\n",
       "5              total_male                              Total number of males\n",
       "6                 purpose                  The purpose of visiting  Tanzania\n",
       "7           main_activity           The main activity of tourism in Tanzania\n",
       "8            infor_source  The source of information about tourism in Tan...\n",
       "9         tour_arrangment                The arrangment of visiting Tanzania\n",
       "10  package_transport_int  If the tour package include international tran...\n",
       "11   package_accomodation  If the tour package include accommodation service\n",
       "12           package_food           If the tour package include food service\n",
       "13   package_transport_tz  If the tour package include transport service ...\n",
       "14    package_sightseeing    If the tour package include sightseeing service\n",
       "15    package_guided_tour             If the tour package include tour guide\n",
       "16      package_insurance      if the tour package include insurance service\n",
       "17         night_mainland  Number of nights a tourist spent in Tanzania m...\n",
       "18         night_zanzibar       Number of nights a tourist spent in Zanzibar\n",
       "19           payment_mode            The mode of payment for tourism service\n",
       "20          first_trip_tz                If it was a first  trip to Tanzania\n",
       "21        most_impressing               what impressed a toursit in Tanzania\n",
       "22             total_cost    The total tourist expenditure  in TZS(currency)"
      ]
     },
     "execution_count": 3,
     "metadata": {},
     "output_type": "execute_result"
    }
   ],
   "source": [
    "descp"
   ]
  },
  {
   "cell_type": "code",
   "execution_count": 4,
   "metadata": {},
   "outputs": [
    {
     "name": "stdout",
     "output_type": "stream",
     "text": [
      "Size of train (4809, 23)\n",
      "Size of test (1601, 22)\n"
     ]
    }
   ],
   "source": [
    "print(\"Size of train\",train_df.shape)\n",
    "print(\"Size of test\",test_df.shape)"
   ]
  },
  {
   "cell_type": "code",
   "execution_count": 5,
   "metadata": {
    "scrolled": false
   },
   "outputs": [
    {
     "data": {
      "text/html": [
       "<div>\n",
       "<style scoped>\n",
       "    .dataframe tbody tr th:only-of-type {\n",
       "        vertical-align: middle;\n",
       "    }\n",
       "\n",
       "    .dataframe tbody tr th {\n",
       "        vertical-align: top;\n",
       "    }\n",
       "\n",
       "    .dataframe thead th {\n",
       "        text-align: right;\n",
       "    }\n",
       "</style>\n",
       "<table border=\"1\" class=\"dataframe\">\n",
       "  <thead>\n",
       "    <tr style=\"text-align: right;\">\n",
       "      <th></th>\n",
       "      <th>ID</th>\n",
       "      <th>country</th>\n",
       "      <th>age_group</th>\n",
       "      <th>travel_with</th>\n",
       "      <th>total_female</th>\n",
       "      <th>total_male</th>\n",
       "      <th>purpose</th>\n",
       "      <th>main_activity</th>\n",
       "      <th>info_source</th>\n",
       "      <th>tour_arrangement</th>\n",
       "      <th>package_transport_int</th>\n",
       "      <th>package_accomodation</th>\n",
       "      <th>package_food</th>\n",
       "      <th>package_transport_tz</th>\n",
       "      <th>package_sightseeing</th>\n",
       "      <th>package_guided_tour</th>\n",
       "      <th>package_insurance</th>\n",
       "      <th>night_mainland</th>\n",
       "      <th>night_zanzibar</th>\n",
       "      <th>payment_mode</th>\n",
       "      <th>first_trip_tz</th>\n",
       "      <th>most_impressing</th>\n",
       "      <th>total_cost</th>\n",
       "    </tr>\n",
       "  </thead>\n",
       "  <tbody>\n",
       "    <tr>\n",
       "      <th>0</th>\n",
       "      <td>tour_0</td>\n",
       "      <td>SWIZERLAND</td>\n",
       "      <td>45-64</td>\n",
       "      <td>Friends/Relatives</td>\n",
       "      <td>1.0</td>\n",
       "      <td>1.0</td>\n",
       "      <td>Leisure and Holidays</td>\n",
       "      <td>Wildlife tourism</td>\n",
       "      <td>Friends, relatives</td>\n",
       "      <td>Independent</td>\n",
       "      <td>No</td>\n",
       "      <td>No</td>\n",
       "      <td>No</td>\n",
       "      <td>No</td>\n",
       "      <td>No</td>\n",
       "      <td>No</td>\n",
       "      <td>No</td>\n",
       "      <td>13.0</td>\n",
       "      <td>0.0</td>\n",
       "      <td>Cash</td>\n",
       "      <td>No</td>\n",
       "      <td>Friendly People</td>\n",
       "      <td>674602.5</td>\n",
       "    </tr>\n",
       "    <tr>\n",
       "      <th>1</th>\n",
       "      <td>tour_10</td>\n",
       "      <td>UNITED KINGDOM</td>\n",
       "      <td>25-44</td>\n",
       "      <td>NaN</td>\n",
       "      <td>1.0</td>\n",
       "      <td>0.0</td>\n",
       "      <td>Leisure and Holidays</td>\n",
       "      <td>Cultural tourism</td>\n",
       "      <td>others</td>\n",
       "      <td>Independent</td>\n",
       "      <td>No</td>\n",
       "      <td>No</td>\n",
       "      <td>No</td>\n",
       "      <td>No</td>\n",
       "      <td>No</td>\n",
       "      <td>No</td>\n",
       "      <td>No</td>\n",
       "      <td>14.0</td>\n",
       "      <td>7.0</td>\n",
       "      <td>Cash</td>\n",
       "      <td>Yes</td>\n",
       "      <td>Wonderful Country, Landscape, Nature</td>\n",
       "      <td>3214906.5</td>\n",
       "    </tr>\n",
       "    <tr>\n",
       "      <th>2</th>\n",
       "      <td>tour_1000</td>\n",
       "      <td>UNITED KINGDOM</td>\n",
       "      <td>25-44</td>\n",
       "      <td>Alone</td>\n",
       "      <td>0.0</td>\n",
       "      <td>1.0</td>\n",
       "      <td>Visiting Friends and Relatives</td>\n",
       "      <td>Cultural tourism</td>\n",
       "      <td>Friends, relatives</td>\n",
       "      <td>Independent</td>\n",
       "      <td>No</td>\n",
       "      <td>No</td>\n",
       "      <td>No</td>\n",
       "      <td>No</td>\n",
       "      <td>No</td>\n",
       "      <td>No</td>\n",
       "      <td>No</td>\n",
       "      <td>1.0</td>\n",
       "      <td>31.0</td>\n",
       "      <td>Cash</td>\n",
       "      <td>No</td>\n",
       "      <td>Excellent Experience</td>\n",
       "      <td>3315000.0</td>\n",
       "    </tr>\n",
       "    <tr>\n",
       "      <th>3</th>\n",
       "      <td>tour_1002</td>\n",
       "      <td>UNITED KINGDOM</td>\n",
       "      <td>25-44</td>\n",
       "      <td>Spouse</td>\n",
       "      <td>1.0</td>\n",
       "      <td>1.0</td>\n",
       "      <td>Leisure and Holidays</td>\n",
       "      <td>Wildlife tourism</td>\n",
       "      <td>Travel, agent, tour operator</td>\n",
       "      <td>Package Tour</td>\n",
       "      <td>No</td>\n",
       "      <td>Yes</td>\n",
       "      <td>Yes</td>\n",
       "      <td>Yes</td>\n",
       "      <td>Yes</td>\n",
       "      <td>Yes</td>\n",
       "      <td>No</td>\n",
       "      <td>11.0</td>\n",
       "      <td>0.0</td>\n",
       "      <td>Cash</td>\n",
       "      <td>Yes</td>\n",
       "      <td>Friendly People</td>\n",
       "      <td>7790250.0</td>\n",
       "    </tr>\n",
       "    <tr>\n",
       "      <th>4</th>\n",
       "      <td>tour_1004</td>\n",
       "      <td>CHINA</td>\n",
       "      <td>1-24</td>\n",
       "      <td>NaN</td>\n",
       "      <td>1.0</td>\n",
       "      <td>0.0</td>\n",
       "      <td>Leisure and Holidays</td>\n",
       "      <td>Wildlife tourism</td>\n",
       "      <td>Travel, agent, tour operator</td>\n",
       "      <td>Independent</td>\n",
       "      <td>No</td>\n",
       "      <td>No</td>\n",
       "      <td>No</td>\n",
       "      <td>No</td>\n",
       "      <td>No</td>\n",
       "      <td>No</td>\n",
       "      <td>No</td>\n",
       "      <td>7.0</td>\n",
       "      <td>4.0</td>\n",
       "      <td>Cash</td>\n",
       "      <td>Yes</td>\n",
       "      <td>No comments</td>\n",
       "      <td>1657500.0</td>\n",
       "    </tr>\n",
       "  </tbody>\n",
       "</table>\n",
       "</div>"
      ],
      "text/plain": [
       "          ID         country age_group        travel_with  total_female  \\\n",
       "0     tour_0      SWIZERLAND     45-64  Friends/Relatives           1.0   \n",
       "1    tour_10  UNITED KINGDOM     25-44                NaN           1.0   \n",
       "2  tour_1000  UNITED KINGDOM     25-44              Alone           0.0   \n",
       "3  tour_1002  UNITED KINGDOM     25-44             Spouse           1.0   \n",
       "4  tour_1004           CHINA      1-24                NaN           1.0   \n",
       "\n",
       "   total_male                         purpose     main_activity  \\\n",
       "0         1.0            Leisure and Holidays  Wildlife tourism   \n",
       "1         0.0            Leisure and Holidays  Cultural tourism   \n",
       "2         1.0  Visiting Friends and Relatives  Cultural tourism   \n",
       "3         1.0            Leisure and Holidays  Wildlife tourism   \n",
       "4         0.0            Leisure and Holidays  Wildlife tourism   \n",
       "\n",
       "                    info_source tour_arrangement package_transport_int  \\\n",
       "0            Friends, relatives      Independent                    No   \n",
       "1                        others      Independent                    No   \n",
       "2            Friends, relatives      Independent                    No   \n",
       "3  Travel, agent, tour operator     Package Tour                    No   \n",
       "4  Travel, agent, tour operator      Independent                    No   \n",
       "\n",
       "  package_accomodation package_food package_transport_tz package_sightseeing  \\\n",
       "0                   No           No                   No                  No   \n",
       "1                   No           No                   No                  No   \n",
       "2                   No           No                   No                  No   \n",
       "3                  Yes          Yes                  Yes                 Yes   \n",
       "4                   No           No                   No                  No   \n",
       "\n",
       "  package_guided_tour package_insurance  night_mainland  night_zanzibar  \\\n",
       "0                  No                No            13.0             0.0   \n",
       "1                  No                No            14.0             7.0   \n",
       "2                  No                No             1.0            31.0   \n",
       "3                 Yes                No            11.0             0.0   \n",
       "4                  No                No             7.0             4.0   \n",
       "\n",
       "  payment_mode first_trip_tz                       most_impressing  total_cost  \n",
       "0         Cash            No                       Friendly People    674602.5  \n",
       "1         Cash           Yes  Wonderful Country, Landscape, Nature   3214906.5  \n",
       "2         Cash            No                  Excellent Experience   3315000.0  \n",
       "3         Cash           Yes                       Friendly People   7790250.0  \n",
       "4         Cash           Yes                           No comments   1657500.0  "
      ]
     },
     "execution_count": 5,
     "metadata": {},
     "output_type": "execute_result"
    }
   ],
   "source": [
    "train_df.head()"
   ]
  },
  {
   "cell_type": "markdown",
   "metadata": {},
   "source": [
    "## Univeriate Exploratory Data Analysis on categorical variables"
   ]
  },
  {
   "cell_type": "code",
   "execution_count": 6,
   "metadata": {
    "scrolled": false
   },
   "outputs": [
    {
     "data": {
      "text/plain": [
       "Index(['ID', 'country', 'age_group', 'travel_with', 'purpose', 'main_activity',\n",
       "       'info_source', 'tour_arrangement', 'package_transport_int',\n",
       "       'package_accomodation', 'package_food', 'package_transport_tz',\n",
       "       'package_sightseeing', 'package_guided_tour', 'package_insurance',\n",
       "       'payment_mode', 'first_trip_tz', 'most_impressing'],\n",
       "      dtype='object')"
      ]
     },
     "execution_count": 6,
     "metadata": {},
     "output_type": "execute_result"
    }
   ],
   "source": [
    "categorical_variable_df = train_df.select_dtypes(include=['object'])\n",
    "categorical_variable_df.columns"
   ]
  },
  {
   "cell_type": "code",
   "execution_count": 7,
   "metadata": {
    "scrolled": true
   },
   "outputs": [
    {
     "data": {
      "text/plain": [
       "Text(0.5, 1.0, 'distribution of age group')"
      ]
     },
     "execution_count": 7,
     "metadata": {},
     "output_type": "execute_result"
    },
    {
     "data": {
      "image/png": "[encoded data removed]",
      "text/plain": [
       "<Figure size 432x288 with 1 Axes>"
      ]
     },
     "metadata": {
      "needs_background": "light"
     },
     "output_type": "display_data"
    }
   ],
   "source": [
    "train_df['age_group'].value_counts(normalize=False).plot.bar()\n",
    "plt.title('distribution of age group')\n"
   ]
  },
  {
   "cell_type": "code",
   "execution_count": 8,
   "metadata": {
    "scrolled": false
   },
   "outputs": [
    {
     "data": {
      "text/plain": [
       "Text(0.5, 1.0, 'distribution of travel with')"
      ]
     },
     "execution_count": 8,
     "metadata": {},
     "output_type": "execute_result"
    },
    {
     "data": {
      "image/png": "[encoded data removed]",
      "text/plain": [
       "<Figure size 432x288 with 1 Axes>"
      ]
     },
     "metadata": {
      "needs_background": "light"
     },
     "output_type": "display_data"
    }
   ],
   "source": [
    "train_df['travel_with'].value_counts(normalize=False).plot.bar()\n",
    "plt.title('distribution of travel with')"
   ]
  },
  {
   "cell_type": "code",
   "execution_count": 9,
   "metadata": {
    "scrolled": false
   },
   "outputs": [
    {
     "data": {
      "text/plain": [
       "Text(0.5, 1.0, 'distribution of purpose')"
      ]
     },
     "execution_count": 9,
     "metadata": {},
     "output_type": "execute_result"
    },
    {
     "data": {
      "image/png": "[encoded data removed]",
      "text/plain": [
       "<Figure size 432x288 with 1 Axes>"
      ]
     },
     "metadata": {
      "needs_background": "light"
     },
     "output_type": "display_data"
    }
   ],
   "source": [
    "train_df['purpose'].value_counts(normalize=False).plot.bar()\n",
    "plt.title('distribution of purpose')"
   ]
  },
  {
   "cell_type": "code",
   "execution_count": 10,
   "metadata": {
    "scrolled": false
   },
   "outputs": [
    {
     "data": {
      "text/plain": [
       "Text(0.5, 1.0, 'distribution of main_activity')"
      ]
     },
     "execution_count": 10,
     "metadata": {},
     "output_type": "execute_result"
    },
    {
     "data": {
      "image/png": "[encoded data removed]",
      "text/plain": [
       "<Figure size 432x288 with 1 Axes>"
      ]
     },
     "metadata": {
      "needs_background": "light"
     },
     "output_type": "display_data"
    }
   ],
   "source": [
    "train_df['main_activity'].value_counts(normalize=False).plot.bar()\n",
    "plt.title('distribution of main_activity')"
   ]
  },
  {
   "cell_type": "code",
   "execution_count": 11,
   "metadata": {
    "scrolled": false
   },
   "outputs": [
    {
     "data": {
      "text/plain": [
       "Text(0.5, 1.0, 'distribution of info_source')"
      ]
     },
     "execution_count": 11,
     "metadata": {},
     "output_type": "execute_result"
    },
    {
     "data": {
      "image/png": "[encoded data removed]",
      "text/plain": [
       "<Figure size 432x288 with 1 Axes>"
      ]
     },
     "metadata": {
      "needs_background": "light"
     },
     "output_type": "display_data"
    }
   ],
   "source": [
    "train_df['info_source'].value_counts(normalize=False).plot.bar()\n",
    "plt.title('distribution of info_source')"
   ]
  },
  {
   "cell_type": "code",
   "execution_count": 12,
   "metadata": {
    "scrolled": true
   },
   "outputs": [
    {
     "data": {
      "text/plain": [
       "Text(0.5, 1.0, 'distribution of tour_arrangement')"
      ]
     },
     "execution_count": 12,
     "metadata": {},
     "output_type": "execute_result"
    },
    {
     "data": {
      "image/png": "[encoded data removed]",
      "text/plain": [
       "<Figure size 432x288 with 1 Axes>"
      ]
     },
     "metadata": {
      "needs_background": "light"
     },
     "output_type": "display_data"
    }
   ],
   "source": [
    "train_df['tour_arrangement'].value_counts(normalize=False).plot.bar()\n",
    "plt.title('distribution of tour_arrangement')"
   ]
  },
  {
   "cell_type": "code",
   "execution_count": 13,
   "metadata": {
    "scrolled": true
   },
   "outputs": [
    {
     "data": {
      "text/plain": [
       "Text(0.5, 1.0, 'distribution of package_transport_int')"
      ]
     },
     "execution_count": 13,
     "metadata": {},
     "output_type": "execute_result"
    },
    {
     "data": {
      "image/png": "[encoded data removed]",
      "text/plain": [
       "<Figure size 432x288 with 1 Axes>"
      ]
     },
     "metadata": {
      "needs_background": "light"
     },
     "output_type": "display_data"
    }
   ],
   "source": [
    "train_df['package_transport_int'].value_counts(normalize=False).plot.bar()\n",
    "plt.title('distribution of package_transport_int')"
   ]
  },
  {
   "cell_type": "code",
   "execution_count": 14,
   "metadata": {
    "scrolled": true
   },
   "outputs": [
    {
     "data": {
      "text/plain": [
       "Text(0.5, 1.0, 'distribution of package_accomodation')"
      ]
     },
     "execution_count": 14,
     "metadata": {},
     "output_type": "execute_result"
    },
    {
     "data": {
      "image/png": "[encoded data removed]",
      "text/plain": [
       "<Figure size 432x288 with 1 Axes>"
      ]
     },
     "metadata": {
      "needs_background": "light"
     },
     "output_type": "display_data"
    }
   ],
   "source": [
    "train_df['package_accomodation'].value_counts(normalize=False).plot.bar()\n",
    "plt.title('distribution of package_accomodation')"
   ]
  },
  {
   "cell_type": "code",
   "execution_count": 15,
   "metadata": {
    "scrolled": true
   },
   "outputs": [
    {
     "data": {
      "text/plain": [
       "Text(0.5, 1.0, 'distribution of package_food')"
      ]
     },
     "execution_count": 15,
     "metadata": {},
     "output_type": "execute_result"
    },
    {
     "data": {
      "image/png": "[encoded data removed]",
      "text/plain": [
       "<Figure size 432x288 with 1 Axes>"
      ]
     },
     "metadata": {
      "needs_background": "light"
     },
     "output_type": "display_data"
    }
   ],
   "source": [
    "train_df['package_food'].value_counts(normalize=False).plot.bar()\n",
    "plt.title('distribution of package_food')"
   ]
  },
  {
   "cell_type": "code",
   "execution_count": 16,
   "metadata": {
    "scrolled": true
   },
   "outputs": [
    {
     "data": {
      "text/plain": [
       "Text(0.5, 1.0, 'distribution of package_transport_tz')"
      ]
     },
     "execution_count": 16,
     "metadata": {},
     "output_type": "execute_result"
    },
    {
     "data": {
      "image/png": "[encoded data removed]",
      "text/plain": [
       "<Figure size 432x288 with 1 Axes>"
      ]
     },
     "metadata": {
      "needs_background": "light"
     },
     "output_type": "display_data"
    }
   ],
   "source": [
    "train_df['package_transport_tz'].value_counts(normalize=False).plot.bar()\n",
    "plt.title('distribution of package_transport_tz')"
   ]
  },
  {
   "cell_type": "code",
   "execution_count": 17,
   "metadata": {
    "scrolled": true
   },
   "outputs": [
    {
     "data": {
      "text/plain": [
       "Text(0.5, 1.0, 'distribution of package_sightseeing')"
      ]
     },
     "execution_count": 17,
     "metadata": {},
     "output_type": "execute_result"
    },
    {
     "data": {
      "image/png": "[encoded data removed]",
      "text/plain": [
       "<Figure size 432x288 with 1 Axes>"
      ]
     },
     "metadata": {
      "needs_background": "light"
     },
     "output_type": "display_data"
    }
   ],
   "source": [
    "train_df['package_sightseeing'].value_counts(normalize=False).plot.bar()\n",
    "plt.title('distribution of package_sightseeing')"
   ]
  },
  {
   "cell_type": "code",
   "execution_count": 18,
   "metadata": {
    "scrolled": true
   },
   "outputs": [
    {
     "data": {
      "text/plain": [
       "Text(0.5, 1.0, 'distribution of package_guided_tour')"
      ]
     },
     "execution_count": 18,
     "metadata": {},
     "output_type": "execute_result"
    },
    {
     "data": {
      "image/png": "[encoded data removed]",
      "text/plain": [
       "<Figure size 432x288 with 1 Axes>"
      ]
     },
     "metadata": {
      "needs_background": "light"
     },
     "output_type": "display_data"
    }
   ],
   "source": [
    "train_df['package_guided_tour'].value_counts(normalize=False).plot.bar()\n",
    "plt.title('distribution of package_guided_tour')"
   ]
  },
  {
   "cell_type": "code",
   "execution_count": 19,
   "metadata": {
    "scrolled": true
   },
   "outputs": [
    {
     "data": {
      "text/plain": [
       "Text(0.5, 1.0, 'distribution of package_insurance')"
      ]
     },
     "execution_count": 19,
     "metadata": {},
     "output_type": "execute_result"
    },
    {
     "data": {
      "image/png": "[encoded data removed]",
      "text/plain": [
       "<Figure size 432x288 with 1 Axes>"
      ]
     },
     "metadata": {
      "needs_background": "light"
     },
     "output_type": "display_data"
    }
   ],
   "source": [
    "train_df['package_insurance'].value_counts(normalize=False).plot.bar()\n",
    "plt.title('distribution of package_insurance')"
   ]
  },
  {
   "cell_type": "code",
   "execution_count": 20,
   "metadata": {
    "scrolled": false
   },
   "outputs": [
    {
     "data": {
      "text/plain": [
       "Text(0.5, 1.0, 'distribution of payment_mode')"
      ]
     },
     "execution_count": 20,
     "metadata": {},
     "output_type": "execute_result"
    },
    {
     "data": {
      "image/png": "[encoded data removed]",
      "text/plain": [
       "<Figure size 432x288 with 1 Axes>"
      ]
     },
     "metadata": {
      "needs_background": "light"
     },
     "output_type": "display_data"
    }
   ],
   "source": [
    "train_df['payment_mode'].value_counts(normalize=False).plot.bar()\n",
    "plt.title('distribution of payment_mode')"
   ]
  },
  {
   "cell_type": "code",
   "execution_count": 21,
   "metadata": {
    "scrolled": true
   },
   "outputs": [
    {
     "data": {
      "text/plain": [
       "Text(0.5, 1.0, 'distribution of first_trip_tz')"
      ]
     },
     "execution_count": 21,
     "metadata": {},
     "output_type": "execute_result"
    },
    {
     "data": {
      "image/png": "[encoded data removed]",
      "text/plain": [
       "<Figure size 432x288 with 1 Axes>"
      ]
     },
     "metadata": {
      "needs_background": "light"
     },
     "output_type": "display_data"
    }
   ],
   "source": [
    "train_df['first_trip_tz'].value_counts(normalize=False).plot.bar()\n",
    "plt.title('distribution of first_trip_tz')"
   ]
  },
  {
   "cell_type": "code",
   "execution_count": 22,
   "metadata": {
    "scrolled": false
   },
   "outputs": [
    {
     "data": {
      "text/plain": [
       "Text(0.5, 1.0, 'distribution of most_impressing')"
      ]
     },
     "execution_count": 22,
     "metadata": {},
     "output_type": "execute_result"
    },
    {
     "data": {
      "image/png": "[encoded data removed]",
      "text/plain": [
       "<Figure size 432x288 with 1 Axes>"
      ]
     },
     "metadata": {
      "needs_background": "light"
     },
     "output_type": "display_data"
    }
   ],
   "source": [
    "train_df['most_impressing'].value_counts(normalize=False).plot.bar()\n",
    "plt.title('distribution of most_impressing')"
   ]
  },
  {
   "cell_type": "markdown",
   "metadata": {},
   "source": [
    "## Univeriate Data Analysis on numerical variables"
   ]
  },
  {
   "cell_type": "code",
   "execution_count": 23,
   "metadata": {
    "scrolled": true
   },
   "outputs": [
    {
     "data": {
      "text/plain": [
       "Index(['total_female', 'total_male', 'night_mainland', 'night_zanzibar',\n",
       "       'total_cost'],\n",
       "      dtype='object')"
      ]
     },
     "execution_count": 23,
     "metadata": {},
     "output_type": "execute_result"
    }
   ],
   "source": [
    "numerical_variable_df = train_df.select_dtypes(exclude=['object'])\n",
    "numerical_variable_df.columns"
   ]
  },
  {
   "cell_type": "code",
   "execution_count": 24,
   "metadata": {
    "scrolled": true
   },
   "outputs": [
    {
     "data": {
      "text/plain": [
       "Text(0.5, 1.0, 'distribution of female tourists')"
      ]
     },
     "execution_count": 24,
     "metadata": {},
     "output_type": "execute_result"
    },
    {
     "data": {
      "image/png": "[encoded data removed]",
      "text/plain": [
       "<Figure size 432x288 with 1 Axes>"
      ]
     },
     "metadata": {
      "needs_background": "light"
     },
     "output_type": "display_data"
    }
   ],
   "source": [
    "sns.distplot(train_df.total_female)\n",
    "plt.title('distribution of female tourists')"
   ]
  },
  {
   "cell_type": "code",
   "execution_count": 25,
   "metadata": {},
   "outputs": [
    {
     "data": {
      "text/plain": [
       "<AxesSubplot:>"
      ]
     },
     "execution_count": 25,
     "metadata": {},
     "output_type": "execute_result"
    },
    {
     "data": {
      "image/png": "[encoded data removed]",
      "text/plain": [
       "<Figure size 288x216 with 1 Axes>"
      ]
     },
     "metadata": {
      "needs_background": "light"
     },
     "output_type": "display_data"
    }
   ],
   "source": [
    "train_df.total_female.plot.box(figsize=(4,3))"
   ]
  },
  {
   "cell_type": "code",
   "execution_count": 26,
   "metadata": {
    "scrolled": false
   },
   "outputs": [
    {
     "data": {
      "text/plain": [
       "Text(0.5, 1.0, 'distribution of male tourists')"
      ]
     },
     "execution_count": 26,
     "metadata": {},
     "output_type": "execute_result"
    },
    {
     "data": {
      "image/png": "[encoded data removed]",
      "text/plain": [
       "<Figure size 432x288 with 1 Axes>"
      ]
     },
     "metadata": {
      "needs_background": "light"
     },
     "output_type": "display_data"
    }
   ],
   "source": [
    "sns.distplot(train_df.total_male)\n",
    "plt.title('distribution of male tourists')"
   ]
  },
  {
   "cell_type": "code",
   "execution_count": 27,
   "metadata": {
    "scrolled": true
   },
   "outputs": [
    {
     "data": {
      "text/plain": [
       "<AxesSubplot:>"
      ]
     },
     "execution_count": 27,
     "metadata": {},
     "output_type": "execute_result"
    },
    {
     "data": {
      "image/png": "[encoded data removed]",
      "text/plain": [
       "<Figure size 288x216 with 1 Axes>"
      ]
     },
     "metadata": {
      "needs_background": "light"
     },
     "output_type": "display_data"
    }
   ],
   "source": [
    "train_df.total_male.plot.box(figsize=(4,3))"
   ]
  },
  {
   "cell_type": "code",
   "execution_count": 28,
   "metadata": {
    "scrolled": true
   },
   "outputs": [
    {
     "data": {
      "text/plain": [
       "Text(0.5, 1.0, 'distribution of night_mainland')"
      ]
     },
     "execution_count": 28,
     "metadata": {},
     "output_type": "execute_result"
    },
    {
     "data": {
      "image/png": "[encoded data removed]",
      "text/plain": [
       "<Figure size 432x288 with 1 Axes>"
      ]
     },
     "metadata": {
      "needs_background": "light"
     },
     "output_type": "display_data"
    }
   ],
   "source": [
    "sns.distplot(train_df.night_mainland)\n",
    "plt.title('distribution of night_mainland')"
   ]
  },
  {
   "cell_type": "code",
   "execution_count": 29,
   "metadata": {},
   "outputs": [
    {
     "data": {
      "text/plain": [
       "<AxesSubplot:>"
      ]
     },
     "execution_count": 29,
     "metadata": {},
     "output_type": "execute_result"
    },
    {
     "data": {
      "image/png": "[encoded data removed]",
      "text/plain": [
       "<Figure size 288x216 with 1 Axes>"
      ]
     },
     "metadata": {
      "needs_background": "light"
     },
     "output_type": "display_data"
    }
   ],
   "source": [
    "train_df.night_mainland.plot.box(figsize=(4,3))"
   ]
  },
  {
   "cell_type": "code",
   "execution_count": 30,
   "metadata": {
    "scrolled": true
   },
   "outputs": [
    {
     "data": {
      "text/plain": [
       "Text(0.5, 1.0, 'distribution of night_zanzibar')"
      ]
     },
     "execution_count": 30,
     "metadata": {},
     "output_type": "execute_result"
    },
    {
     "data": {
      "image/png": "[encoded data removed]",
      "text/plain": [
       "<Figure size 432x288 with 1 Axes>"
      ]
     },
     "metadata": {
      "needs_background": "light"
     },
     "output_type": "display_data"
    }
   ],
   "source": [
    "sns.distplot(train_df.night_zanzibar)\n",
    "plt.title('distribution of night_zanzibar')"
   ]
  },
  {
   "cell_type": "code",
   "execution_count": 31,
   "metadata": {},
   "outputs": [
    {
     "data": {
      "text/plain": [
       "<AxesSubplot:>"
      ]
     },
     "execution_count": 31,
     "metadata": {},
     "output_type": "execute_result"
    },
    {
     "data": {
      "image/png": "[encoded data removed]",
      "text/plain": [
       "<Figure size 288x216 with 1 Axes>"
      ]
     },
     "metadata": {
      "needs_background": "light"
     },
     "output_type": "display_data"
    }
   ],
   "source": [
    "train_df.night_zanzibar.plot.box(figsize=(4,3))"
   ]
  },
  {
   "cell_type": "code",
   "execution_count": 32,
   "metadata": {
    "scrolled": true
   },
   "outputs": [
    {
     "data": {
      "text/plain": [
       "Text(0.5, 1.0, 'distribution of total_cost')"
      ]
     },
     "execution_count": 32,
     "metadata": {},
     "output_type": "execute_result"
    },
    {
     "data": {
      "image/png": "[encoded data removed]",
      "text/plain": [
       "<Figure size 432x288 with 1 Axes>"
      ]
     },
     "metadata": {
      "needs_background": "light"
     },
     "output_type": "display_data"
    }
   ],
   "source": [
    "sns.distplot(train_df.total_cost)\n",
    "plt.title('distribution of total_cost')"
   ]
  },
  {
   "cell_type": "code",
   "execution_count": 33,
   "metadata": {},
   "outputs": [
    {
     "data": {
      "text/plain": [
       "<AxesSubplot:>"
      ]
     },
     "execution_count": 33,
     "metadata": {},
     "output_type": "execute_result"
    },
    {
     "data": {
      "image/png": "[encoded data removed]",
      "text/plain": [
       "<Figure size 288x216 with 1 Axes>"
      ]
     },
     "metadata": {
      "needs_background": "light"
     },
     "output_type": "display_data"
    }
   ],
   "source": [
    "train_df.total_cost.plot.box(figsize=(4,3))"
   ]
  },
  {
   "cell_type": "code",
   "execution_count": 34,
   "metadata": {
    "scrolled": true
   },
   "outputs": [
    {
     "data": {
      "text/plain": [
       "Text(0.5, 1.0, 'distribution of total_cost')"
      ]
     },
     "execution_count": 34,
     "metadata": {},
     "output_type": "execute_result"
    },
    {
     "data": {
      "image/png": "[encoded data removed]",
      "text/plain": [
       "<Figure size 432x288 with 1 Axes>"
      ]
     },
     "metadata": {
      "needs_background": "light"
     },
     "output_type": "display_data"
    }
   ],
   "source": [
    "sns.distplot(np.log(train_df.total_cost))\n",
    "plt.title('distribution of total_cost')"
   ]
  },
  {
   "cell_type": "code",
   "execution_count": 35,
   "metadata": {},
   "outputs": [
    {
     "data": {
      "text/plain": [
       "<AxesSubplot:>"
      ]
     },
     "execution_count": 35,
     "metadata": {},
     "output_type": "execute_result"
    },
    {
     "data": {
      "image/png": "[encoded data removed]",
      "text/plain": [
       "<Figure size 288x216 with 1 Axes>"
      ]
     },
     "metadata": {
      "needs_background": "light"
     },
     "output_type": "display_data"
    }
   ],
   "source": [
    "np.log(train_df.total_female).plot.box(figsize=(4,3))"
   ]
  },
  {
   "cell_type": "markdown",
   "metadata": {},
   "source": [
    "## Multivariate exploratory data analysis "
   ]
  },
  {
   "cell_type": "code",
   "execution_count": 36,
   "metadata": {},
   "outputs": [
    {
     "data": {
      "text/plain": [
       "<AxesSubplot:>"
      ]
     },
     "execution_count": 36,
     "metadata": {},
     "output_type": "execute_result"
    },
    {
     "data": {
      "image/png": "[encoded data removed]",
      "text/plain": [
       "<Figure size 720x576 with 2 Axes>"
      ]
     },
     "metadata": {
      "needs_background": "light"
     },
     "output_type": "display_data"
    }
   ],
   "source": [
    "matrix = train_df.corr()\n",
    "fig = plt.figure(figsize=(10, 8)) \n",
    "sns.heatmap(matrix, vmax=.8, square=True, cmap=\"BuPu\", annot=True)"
   ]
  },
  {
   "cell_type": "code",
   "execution_count": 37,
   "metadata": {
    "scrolled": true
   },
   "outputs": [
    {
     "data": {
      "text/plain": [
       "count    4.809000e+03\n",
       "mean     8.114389e+06\n",
       "std      1.222490e+07\n",
       "min      4.900000e+04\n",
       "25%      8.121750e+05\n",
       "50%      3.397875e+06\n",
       "75%      9.945000e+06\n",
       "max      9.953288e+07\n",
       "Name: total_cost, dtype: float64"
      ]
     },
     "execution_count": 37,
     "metadata": {},
     "output_type": "execute_result"
    }
   ],
   "source": [
    "train_df.total_cost.describe()"
   ]
  },
  {
   "cell_type": "code",
   "execution_count": 38,
   "metadata": {},
   "outputs": [
    {
     "data": {
      "text/plain": [
       "Index(['ID', 'country', 'age_group', 'travel_with', 'purpose', 'main_activity',\n",
       "       'info_source', 'tour_arrangement', 'package_transport_int',\n",
       "       'package_accomodation', 'package_food', 'package_transport_tz',\n",
       "       'package_sightseeing', 'package_guided_tour', 'package_insurance',\n",
       "       'payment_mode', 'first_trip_tz', 'most_impressing'],\n",
       "      dtype='object')"
      ]
     },
     "execution_count": 38,
     "metadata": {},
     "output_type": "execute_result"
    }
   ],
   "source": [
    "categorical_variable_df.columns"
   ]
  },
  {
   "cell_type": "code",
   "execution_count": 39,
   "metadata": {
    "scrolled": false
   },
   "outputs": [
    {
     "data": {
      "image/png": "[encoded data removed]",
      "text/plain": [
       "<Figure size 432x288 with 1 Axes>"
      ]
     },
     "metadata": {
      "needs_background": "light"
     },
     "output_type": "display_data"
    },
    {
     "data": {
      "image/png": "[encoded data removed]",
      "text/plain": [
       "<Figure size 432x288 with 1 Axes>"
      ]
     },
     "metadata": {
      "needs_background": "light"
     },
     "output_type": "display_data"
    },
    {
     "data": {
      "image/png": "[encoded data removed]",
      "text/plain": [
       "<Figure size 432x288 with 1 Axes>"
      ]
     },
     "metadata": {
      "needs_background": "light"
     },
     "output_type": "display_data"
    },
    {
     "data": {
      "image/png": "[encoded data removed]",
      "text/plain": [
       "<Figure size 432x288 with 1 Axes>"
      ]
     },
     "metadata": {
      "needs_background": "light"
     },
     "output_type": "display_data"
    },
    {
     "data": {
      "image/png": "[encoded data removed]",
      "text/plain": [
       "<Figure size 432x288 with 1 Axes>"
      ]
     },
     "metadata": {
      "needs_background": "light"
     },
     "output_type": "display_data"
    },
    {
     "data": {
      "image/png": "[encoded data removed]",
      "text/plain": [
       "<Figure size 432x288 with 1 Axes>"
      ]
     },
     "metadata": {
      "needs_background": "light"
     },
     "output_type": "display_data"
    },
    {
     "data": {
      "image/png": "[encoded data removed]",
      "text/plain": [
       "<Figure size 432x288 with 1 Axes>"
      ]
     },
     "metadata": {
      "needs_background": "light"
     },
     "output_type": "display_data"
    },
    {
     "data": {
      "image/png": "[encoded data removed]",
      "text/plain": [
       "<Figure size 432x288 with 1 Axes>"
      ]
     },
     "metadata": {
      "needs_background": "light"
     },
     "output_type": "display_data"
    },
    {
     "data": {
      "image/png": "[encoded data removed]",
      "text/plain": [
       "<Figure size 432x288 with 1 Axes>"
      ]
     },
     "metadata": {
      "needs_background": "light"
     },
     "output_type": "display_data"
    },
    {
     "data": {
      "image/png": "[encoded data removed]",
      "text/plain": [
       "<Figure size 432x288 with 1 Axes>"
      ]
     },
     "metadata": {
      "needs_background": "light"
     },
     "output_type": "display_data"
    },
    {
     "data": {
      "image/png": "[encoded data removed]",
      "text/plain": [
       "<Figure size 432x288 with 1 Axes>"
      ]
     },
     "metadata": {
      "needs_background": "light"
     },
     "output_type": "display_data"
    },
    {
     "data": {
      "image/png": "[encoded data removed]",
      "text/plain": [
       "<Figure size 432x288 with 1 Axes>"
      ]
     },
     "metadata": {
      "needs_background": "light"
     },
     "output_type": "display_data"
    },
    {
     "data": {
      "image/png": "[encoded data removed]",
      "text/plain": [
       "<Figure size 432x288 with 1 Axes>"
      ]
     },
     "metadata": {
      "needs_background": "light"
     },
     "output_type": "display_data"
    },
    {
     "data": {
      "image/png": "[encoded data removed]",
      "text/plain": [
       "<Figure size 432x288 with 1 Axes>"
      ]
     },
     "metadata": {
      "needs_background": "light"
     },
     "output_type": "display_data"
    },
    {
     "data": {
      "image/png": "[encoded data removed]",
      "text/plain": [
       "<Figure size 432x288 with 1 Axes>"
      ]
     },
     "metadata": {
      "needs_background": "light"
     },
     "output_type": "display_data"
    },
    {
     "data": {
      "image/png": "[encoded data removed]",
      "text/plain": [
       "<Figure size 432x288 with 1 Axes>"
      ]
     },
     "metadata": {
      "needs_background": "light"
     },
     "output_type": "display_data"
    }
   ],
   "source": [
    "bins=[0,812175,3397875,9945000,9953288] \n",
    "group=['Low','Average','High', 'Very high'] \n",
    "train_df['cost_cat']=pd.cut(train_df['total_cost'],bins,labels=group)\n",
    "\n",
    "Age_bin=pd.crosstab(train_df.cost_cat,train_df.age_group) \n",
    "Age_bin.div(Age_bin.sum(1).astype(float), axis=0).plot(kind=\"bar\", stacked=False) \n",
    "plt.xlabel('cost based on age category') \n",
    "P = plt.ylabel('Percentage')\n",
    "\n",
    "Travel=pd.crosstab(train_df['cost_cat'],train_df['travel_with']) \n",
    "Travel.div(Travel.sum(1).astype(float), axis=0).plot(kind=\"bar\", stacked=False) \n",
    "plt.xlabel('cost based on  travel with') \n",
    "P = plt.ylabel('Percentage')\n",
    "\n",
    "Purpose=pd.crosstab(train_df.cost_cat,train_df.purpose) \n",
    "Purpose.div(Purpose.sum(1).astype(float), axis=0).plot(kind=\"bar\", stacked=False) \n",
    "plt.xlabel('cost based on Purpose') \n",
    "P = plt.ylabel('Percentage')\n",
    "\n",
    "Activity=pd.crosstab(train_df.cost_cat,train_df.main_activity) \n",
    "Activity.div(Activity.sum(1).astype(float), axis=0).plot(kind=\"bar\", stacked=False) \n",
    "plt.xlabel('cost based on main activity') \n",
    "P = plt.ylabel('Percentage')\n",
    "\n",
    "Info=pd.crosstab(train_df.cost_cat,train_df.info_source) \n",
    "Info.div(Info.sum(1).astype(float), axis=0).plot(kind=\"bar\", stacked=False) \n",
    "plt.xlabel('cost based on infor source ') \n",
    "P = plt.ylabel('Percentage')\n",
    "\n",
    "tour_arr=pd.crosstab(train_df.cost_cat,train_df.tour_arrangement) \n",
    "tour_arr.div(tour_arr.sum(1).astype(float), axis=0).plot(kind=\"bar\", stacked=False) \n",
    "plt.xlabel('cost based on tour_arrangement') \n",
    "P = plt.ylabel('Percentage')\n",
    "\n",
    "package_transport=pd.crosstab(train_df.cost_cat,train_df.package_transport_int) \n",
    "package_transport.div(package_transport.sum(1).astype(float), axis=0).plot(kind=\"bar\", stacked=False) \n",
    "plt.xlabel('cost based on package_transport_int') \n",
    "P = plt.ylabel('Percentage')\n",
    "\n",
    "package_accomodation=pd.crosstab(train_df.cost_cat,train_df.package_accomodation) \n",
    "package_accomodation.div(package_accomodation.sum(1).astype(float), axis=0).plot(kind=\"bar\", stacked=False) \n",
    "plt.xlabel('cost based on package_accomodation') \n",
    "P = plt.ylabel('Percentage')\n",
    "\n",
    "package_food=pd.crosstab(train_df.cost_cat,train_df.package_food) \n",
    "package_food.div(package_food.sum(1).astype(float), axis=0).plot(kind=\"bar\", stacked=False) \n",
    "plt.xlabel('cost based on package_food') \n",
    "P = plt.ylabel('Percentage')\n",
    "\n",
    "package_transport=pd.crosstab(train_df.cost_cat,train_df.package_transport_tz) \n",
    "package_transport.div(package_transport.sum(1).astype(float), axis=0).plot(kind=\"bar\", stacked=False) \n",
    "plt.xlabel('cost based on package_transport_tz') \n",
    "P = plt.ylabel('Percentage')\n",
    "\n",
    "package_sightseeing=pd.crosstab(train_df.cost_cat,train_df.package_sightseeing) \n",
    "package_sightseeing.div(package_sightseeing.sum(1).astype(float), axis=0).plot(kind=\"bar\", stacked=False) \n",
    "plt.xlabel('cost based on package_sightseeing') \n",
    "P = plt.ylabel('Percentage')\n",
    "\n",
    "package_guided_tour=pd.crosstab(train_df.cost_cat,train_df.package_guided_tour) \n",
    "package_guided_tour.div(package_guided_tour.sum(1).astype(float), axis=0).plot(kind=\"bar\", stacked=False) \n",
    "plt.xlabel('cost based on package_guided_tour') \n",
    "P = plt.ylabel('Percentage')\n",
    "\n",
    "package_insurance=pd.crosstab(train_df.cost_cat,train_df.package_insurance) \n",
    "package_insurance.div(package_insurance.sum(1).astype(float), axis=0).plot(kind=\"bar\", stacked=False) \n",
    "plt.xlabel('cost based on package_insurance') \n",
    "P = plt.ylabel('Percentage')\n",
    "\n",
    "payment_mode=pd.crosstab(train_df.cost_cat,train_df.payment_mode) \n",
    "payment_mode.div(payment_mode.sum(1).astype(float), axis=0).plot(kind=\"bar\", stacked=False) \n",
    "plt.xlabel('cost based on payment_mode') \n",
    "P = plt.ylabel('Percentage')\n",
    "\n",
    "first_trip_tz=pd.crosstab(train_df.cost_cat,train_df.first_trip_tz) \n",
    "first_trip_tz.div(first_trip_tz.sum(1).astype(float), axis=0).plot(kind=\"bar\", stacked=False) \n",
    "plt.xlabel('cost based on first_trip_tz') \n",
    "P = plt.ylabel('Percentage')\n",
    "\n",
    "most_impressing=pd.crosstab(train_df.cost_cat,train_df.most_impressing) \n",
    "most_impressing.div(most_impressing.sum(1).astype(float), axis=0).plot(kind=\"bar\", stacked=False) \n",
    "plt.xlabel('cost based on most_impressing') \n",
    "P = plt.ylabel('Percentage')"
   ]
  },
  {
   "cell_type": "code",
   "execution_count": 40,
   "metadata": {
    "scrolled": false
   },
   "outputs": [
    {
     "data": {
      "text/html": [
       "<div>\n",
       "<style scoped>\n",
       "    .dataframe tbody tr th:only-of-type {\n",
       "        vertical-align: middle;\n",
       "    }\n",
       "\n",
       "    .dataframe tbody tr th {\n",
       "        vertical-align: top;\n",
       "    }\n",
       "\n",
       "    .dataframe thead th {\n",
       "        text-align: right;\n",
       "    }\n",
       "</style>\n",
       "<table border=\"1\" class=\"dataframe\">\n",
       "  <thead>\n",
       "    <tr style=\"text-align: right;\">\n",
       "      <th>country</th>\n",
       "      <th>ALGERIA</th>\n",
       "      <th>ANGOLA</th>\n",
       "      <th>ARGENTINA</th>\n",
       "      <th>AUSTRALIA</th>\n",
       "      <th>AUSTRIA</th>\n",
       "      <th>BELGIUM</th>\n",
       "      <th>BERMUDA</th>\n",
       "      <th>BRAZIL</th>\n",
       "      <th>BURGARIA</th>\n",
       "      <th>BURUNDI</th>\n",
       "      <th>CANADA</th>\n",
       "      <th>CAPE VERDE</th>\n",
       "      <th>CHILE</th>\n",
       "      <th>CHINA</th>\n",
       "      <th>COLOMBIA</th>\n",
       "      <th>COMORO</th>\n",
       "      <th>CONGO</th>\n",
       "      <th>COSTARICA</th>\n",
       "      <th>CROATIA</th>\n",
       "      <th>CYPRUS</th>\n",
       "      <th>CZECH REPUBLIC</th>\n",
       "      <th>DENMARK</th>\n",
       "      <th>DJIBOUT</th>\n",
       "      <th>DOMINICA</th>\n",
       "      <th>DRC</th>\n",
       "      <th>EGYPT</th>\n",
       "      <th>ESTONIA</th>\n",
       "      <th>ETHIOPIA</th>\n",
       "      <th>FINLAND</th>\n",
       "      <th>FRANCE</th>\n",
       "      <th>GEORGIA</th>\n",
       "      <th>GERMANY</th>\n",
       "      <th>GHANA</th>\n",
       "      <th>GREECE</th>\n",
       "      <th>HUNGARY</th>\n",
       "      <th>INDIA</th>\n",
       "      <th>INDONESIA</th>\n",
       "      <th>IRAN</th>\n",
       "      <th>IRAQ</th>\n",
       "      <th>IRELAND</th>\n",
       "      <th>ISRAEL</th>\n",
       "      <th>ITALY</th>\n",
       "      <th>IVORY COAST</th>\n",
       "      <th>JAPAN</th>\n",
       "      <th>KENYA</th>\n",
       "      <th>KOREA</th>\n",
       "      <th>KUWAIT</th>\n",
       "      <th>LATVIA</th>\n",
       "      <th>LEBANON</th>\n",
       "      <th>LESOTHO</th>\n",
       "      <th>LITHUANIA</th>\n",
       "      <th>LUXEMBOURG</th>\n",
       "      <th>MADAGASCAR</th>\n",
       "      <th>MALAWI</th>\n",
       "      <th>MALAYSIA</th>\n",
       "      <th>MALT</th>\n",
       "      <th>MAURITIUS</th>\n",
       "      <th>MEXICO</th>\n",
       "      <th>MONTENEGRO</th>\n",
       "      <th>MORROCO</th>\n",
       "      <th>MOZAMBIQUE</th>\n",
       "      <th>MYANMAR</th>\n",
       "      <th>NAMIBIA</th>\n",
       "      <th>NEPAL</th>\n",
       "      <th>NETHERLANDS</th>\n",
       "      <th>NEW ZEALAND</th>\n",
       "      <th>NIGER</th>\n",
       "      <th>NIGERIA</th>\n",
       "      <th>NORWAY</th>\n",
       "      <th>OMAN</th>\n",
       "      <th>PAKISTAN</th>\n",
       "      <th>PHILIPINES</th>\n",
       "      <th>POLAND</th>\n",
       "      <th>PORTUGAL</th>\n",
       "      <th>QATAR</th>\n",
       "      <th>ROMANIA</th>\n",
       "      <th>RUSSIA</th>\n",
       "      <th>RWANDA</th>\n",
       "      <th>SCOTLAND</th>\n",
       "      <th>SERBIA</th>\n",
       "      <th>SINGAPORE</th>\n",
       "      <th>SLOVAKIA</th>\n",
       "      <th>SLOVENIA</th>\n",
       "      <th>SOUTH AFRICA</th>\n",
       "      <th>SPAIN</th>\n",
       "      <th>SRI LANKA</th>\n",
       "      <th>SUDAN</th>\n",
       "      <th>SWAZILAND</th>\n",
       "      <th>SWEDEN</th>\n",
       "      <th>SWIZERLAND</th>\n",
       "      <th>TAIWAN</th>\n",
       "      <th>THAILAND</th>\n",
       "      <th>TRINIDAD TOBACCO</th>\n",
       "      <th>TUNISIA</th>\n",
       "      <th>TURKEY</th>\n",
       "      <th>UAE</th>\n",
       "      <th>UGANDA</th>\n",
       "      <th>UKRAIN</th>\n",
       "      <th>UNITED ARAB EMIRATES</th>\n",
       "      <th>UNITED KINGDOM</th>\n",
       "      <th>UNITED STATES OF AMERICA</th>\n",
       "      <th>URUGUAY</th>\n",
       "      <th>YEMEN</th>\n",
       "      <th>ZAMBIA</th>\n",
       "      <th>ZIMBABWE</th>\n",
       "      <th>All</th>\n",
       "    </tr>\n",
       "    <tr>\n",
       "      <th>main_activity</th>\n",
       "      <th></th>\n",
       "      <th></th>\n",
       "      <th></th>\n",
       "      <th></th>\n",
       "      <th></th>\n",
       "      <th></th>\n",
       "      <th></th>\n",
       "      <th></th>\n",
       "      <th></th>\n",
       "      <th></th>\n",
       "      <th></th>\n",
       "      <th></th>\n",
       "      <th></th>\n",
       "      <th></th>\n",
       "      <th></th>\n",
       "      <th></th>\n",
       "      <th></th>\n",
       "      <th></th>\n",
       "      <th></th>\n",
       "      <th></th>\n",
       "      <th></th>\n",
       "      <th></th>\n",
       "      <th></th>\n",
       "      <th></th>\n",
       "      <th></th>\n",
       "      <th></th>\n",
       "      <th></th>\n",
       "      <th></th>\n",
       "      <th></th>\n",
       "      <th></th>\n",
       "      <th></th>\n",
       "      <th></th>\n",
       "      <th></th>\n",
       "      <th></th>\n",
       "      <th></th>\n",
       "      <th></th>\n",
       "      <th></th>\n",
       "      <th></th>\n",
       "      <th></th>\n",
       "      <th></th>\n",
       "      <th></th>\n",
       "      <th></th>\n",
       "      <th></th>\n",
       "      <th></th>\n",
       "      <th></th>\n",
       "      <th></th>\n",
       "      <th></th>\n",
       "      <th></th>\n",
       "      <th></th>\n",
       "      <th></th>\n",
       "      <th></th>\n",
       "      <th></th>\n",
       "      <th></th>\n",
       "      <th></th>\n",
       "      <th></th>\n",
       "      <th></th>\n",
       "      <th></th>\n",
       "      <th></th>\n",
       "      <th></th>\n",
       "      <th></th>\n",
       "      <th></th>\n",
       "      <th></th>\n",
       "      <th></th>\n",
       "      <th></th>\n",
       "      <th></th>\n",
       "      <th></th>\n",
       "      <th></th>\n",
       "      <th></th>\n",
       "      <th></th>\n",
       "      <th></th>\n",
       "      <th></th>\n",
       "      <th></th>\n",
       "      <th></th>\n",
       "      <th></th>\n",
       "      <th></th>\n",
       "      <th></th>\n",
       "      <th></th>\n",
       "      <th></th>\n",
       "      <th></th>\n",
       "      <th></th>\n",
       "      <th></th>\n",
       "      <th></th>\n",
       "      <th></th>\n",
       "      <th></th>\n",
       "      <th></th>\n",
       "      <th></th>\n",
       "      <th></th>\n",
       "      <th></th>\n",
       "      <th></th>\n",
       "      <th></th>\n",
       "      <th></th>\n",
       "      <th></th>\n",
       "      <th></th>\n",
       "      <th></th>\n",
       "      <th></th>\n",
       "      <th></th>\n",
       "      <th></th>\n",
       "      <th></th>\n",
       "      <th></th>\n",
       "      <th></th>\n",
       "      <th></th>\n",
       "      <th></th>\n",
       "      <th></th>\n",
       "      <th></th>\n",
       "      <th></th>\n",
       "      <th></th>\n",
       "    </tr>\n",
       "  </thead>\n",
       "  <tbody>\n",
       "    <tr>\n",
       "      <th>Beach tourism</th>\n",
       "      <td>1</td>\n",
       "      <td>0</td>\n",
       "      <td>0</td>\n",
       "      <td>15</td>\n",
       "      <td>3</td>\n",
       "      <td>7</td>\n",
       "      <td>0</td>\n",
       "      <td>1</td>\n",
       "      <td>1</td>\n",
       "      <td>9</td>\n",
       "      <td>24</td>\n",
       "      <td>0</td>\n",
       "      <td>0</td>\n",
       "      <td>19</td>\n",
       "      <td>1</td>\n",
       "      <td>1</td>\n",
       "      <td>0</td>\n",
       "      <td>0</td>\n",
       "      <td>1</td>\n",
       "      <td>0</td>\n",
       "      <td>0</td>\n",
       "      <td>10</td>\n",
       "      <td>0</td>\n",
       "      <td>0</td>\n",
       "      <td>5</td>\n",
       "      <td>2</td>\n",
       "      <td>0</td>\n",
       "      <td>1</td>\n",
       "      <td>2</td>\n",
       "      <td>55</td>\n",
       "      <td>1</td>\n",
       "      <td>59</td>\n",
       "      <td>0</td>\n",
       "      <td>2</td>\n",
       "      <td>0</td>\n",
       "      <td>16</td>\n",
       "      <td>1</td>\n",
       "      <td>1</td>\n",
       "      <td>0</td>\n",
       "      <td>5</td>\n",
       "      <td>3</td>\n",
       "      <td>210</td>\n",
       "      <td>0</td>\n",
       "      <td>2</td>\n",
       "      <td>42</td>\n",
       "      <td>2</td>\n",
       "      <td>1</td>\n",
       "      <td>0</td>\n",
       "      <td>1</td>\n",
       "      <td>0</td>\n",
       "      <td>0</td>\n",
       "      <td>1</td>\n",
       "      <td>0</td>\n",
       "      <td>6</td>\n",
       "      <td>1</td>\n",
       "      <td>1</td>\n",
       "      <td>0</td>\n",
       "      <td>0</td>\n",
       "      <td>1</td>\n",
       "      <td>0</td>\n",
       "      <td>2</td>\n",
       "      <td>0</td>\n",
       "      <td>1</td>\n",
       "      <td>1</td>\n",
       "      <td>8</td>\n",
       "      <td>1</td>\n",
       "      <td>1</td>\n",
       "      <td>0</td>\n",
       "      <td>4</td>\n",
       "      <td>9</td>\n",
       "      <td>2</td>\n",
       "      <td>0</td>\n",
       "      <td>7</td>\n",
       "      <td>1</td>\n",
       "      <td>1</td>\n",
       "      <td>2</td>\n",
       "      <td>5</td>\n",
       "      <td>14</td>\n",
       "      <td>0</td>\n",
       "      <td>6</td>\n",
       "      <td>1</td>\n",
       "      <td>0</td>\n",
       "      <td>1</td>\n",
       "      <td>78</td>\n",
       "      <td>38</td>\n",
       "      <td>0</td>\n",
       "      <td>2</td>\n",
       "      <td>1</td>\n",
       "      <td>12</td>\n",
       "      <td>9</td>\n",
       "      <td>0</td>\n",
       "      <td>0</td>\n",
       "      <td>0</td>\n",
       "      <td>1</td>\n",
       "      <td>1</td>\n",
       "      <td>11</td>\n",
       "      <td>34</td>\n",
       "      <td>1</td>\n",
       "      <td>1</td>\n",
       "      <td>94</td>\n",
       "      <td>64</td>\n",
       "      <td>1</td>\n",
       "      <td>1</td>\n",
       "      <td>19</td>\n",
       "      <td>76</td>\n",
       "      <td>1025</td>\n",
       "    </tr>\n",
       "    <tr>\n",
       "      <th>Bird watching</th>\n",
       "      <td>0</td>\n",
       "      <td>0</td>\n",
       "      <td>0</td>\n",
       "      <td>1</td>\n",
       "      <td>0</td>\n",
       "      <td>1</td>\n",
       "      <td>0</td>\n",
       "      <td>0</td>\n",
       "      <td>0</td>\n",
       "      <td>0</td>\n",
       "      <td>0</td>\n",
       "      <td>0</td>\n",
       "      <td>0</td>\n",
       "      <td>0</td>\n",
       "      <td>0</td>\n",
       "      <td>0</td>\n",
       "      <td>0</td>\n",
       "      <td>0</td>\n",
       "      <td>0</td>\n",
       "      <td>0</td>\n",
       "      <td>0</td>\n",
       "      <td>0</td>\n",
       "      <td>0</td>\n",
       "      <td>0</td>\n",
       "      <td>0</td>\n",
       "      <td>1</td>\n",
       "      <td>0</td>\n",
       "      <td>0</td>\n",
       "      <td>0</td>\n",
       "      <td>1</td>\n",
       "      <td>0</td>\n",
       "      <td>2</td>\n",
       "      <td>0</td>\n",
       "      <td>0</td>\n",
       "      <td>0</td>\n",
       "      <td>3</td>\n",
       "      <td>0</td>\n",
       "      <td>0</td>\n",
       "      <td>0</td>\n",
       "      <td>0</td>\n",
       "      <td>0</td>\n",
       "      <td>2</td>\n",
       "      <td>0</td>\n",
       "      <td>0</td>\n",
       "      <td>3</td>\n",
       "      <td>0</td>\n",
       "      <td>0</td>\n",
       "      <td>0</td>\n",
       "      <td>0</td>\n",
       "      <td>0</td>\n",
       "      <td>0</td>\n",
       "      <td>0</td>\n",
       "      <td>0</td>\n",
       "      <td>0</td>\n",
       "      <td>0</td>\n",
       "      <td>0</td>\n",
       "      <td>0</td>\n",
       "      <td>0</td>\n",
       "      <td>0</td>\n",
       "      <td>0</td>\n",
       "      <td>0</td>\n",
       "      <td>0</td>\n",
       "      <td>0</td>\n",
       "      <td>0</td>\n",
       "      <td>1</td>\n",
       "      <td>0</td>\n",
       "      <td>0</td>\n",
       "      <td>0</td>\n",
       "      <td>0</td>\n",
       "      <td>1</td>\n",
       "      <td>0</td>\n",
       "      <td>0</td>\n",
       "      <td>0</td>\n",
       "      <td>0</td>\n",
       "      <td>1</td>\n",
       "      <td>0</td>\n",
       "      <td>0</td>\n",
       "      <td>1</td>\n",
       "      <td>0</td>\n",
       "      <td>0</td>\n",
       "      <td>0</td>\n",
       "      <td>0</td>\n",
       "      <td>0</td>\n",
       "      <td>1</td>\n",
       "      <td>0</td>\n",
       "      <td>0</td>\n",
       "      <td>0</td>\n",
       "      <td>1</td>\n",
       "      <td>0</td>\n",
       "      <td>0</td>\n",
       "      <td>0</td>\n",
       "      <td>0</td>\n",
       "      <td>0</td>\n",
       "      <td>0</td>\n",
       "      <td>0</td>\n",
       "      <td>0</td>\n",
       "      <td>2</td>\n",
       "      <td>0</td>\n",
       "      <td>1</td>\n",
       "      <td>1</td>\n",
       "      <td>3</td>\n",
       "      <td>0</td>\n",
       "      <td>0</td>\n",
       "      <td>6</td>\n",
       "      <td>4</td>\n",
       "      <td>37</td>\n",
       "    </tr>\n",
       "    <tr>\n",
       "      <th>Conference tourism</th>\n",
       "      <td>0</td>\n",
       "      <td>0</td>\n",
       "      <td>0</td>\n",
       "      <td>23</td>\n",
       "      <td>4</td>\n",
       "      <td>1</td>\n",
       "      <td>0</td>\n",
       "      <td>1</td>\n",
       "      <td>0</td>\n",
       "      <td>0</td>\n",
       "      <td>15</td>\n",
       "      <td>0</td>\n",
       "      <td>0</td>\n",
       "      <td>1</td>\n",
       "      <td>0</td>\n",
       "      <td>0</td>\n",
       "      <td>0</td>\n",
       "      <td>0</td>\n",
       "      <td>1</td>\n",
       "      <td>0</td>\n",
       "      <td>5</td>\n",
       "      <td>6</td>\n",
       "      <td>0</td>\n",
       "      <td>0</td>\n",
       "      <td>0</td>\n",
       "      <td>3</td>\n",
       "      <td>0</td>\n",
       "      <td>0</td>\n",
       "      <td>0</td>\n",
       "      <td>25</td>\n",
       "      <td>0</td>\n",
       "      <td>18</td>\n",
       "      <td>0</td>\n",
       "      <td>0</td>\n",
       "      <td>0</td>\n",
       "      <td>1</td>\n",
       "      <td>0</td>\n",
       "      <td>0</td>\n",
       "      <td>0</td>\n",
       "      <td>2</td>\n",
       "      <td>1</td>\n",
       "      <td>5</td>\n",
       "      <td>0</td>\n",
       "      <td>6</td>\n",
       "      <td>3</td>\n",
       "      <td>3</td>\n",
       "      <td>0</td>\n",
       "      <td>1</td>\n",
       "      <td>0</td>\n",
       "      <td>0</td>\n",
       "      <td>1</td>\n",
       "      <td>0</td>\n",
       "      <td>0</td>\n",
       "      <td>1</td>\n",
       "      <td>16</td>\n",
       "      <td>0</td>\n",
       "      <td>0</td>\n",
       "      <td>0</td>\n",
       "      <td>0</td>\n",
       "      <td>0</td>\n",
       "      <td>0</td>\n",
       "      <td>0</td>\n",
       "      <td>0</td>\n",
       "      <td>0</td>\n",
       "      <td>3</td>\n",
       "      <td>5</td>\n",
       "      <td>0</td>\n",
       "      <td>0</td>\n",
       "      <td>3</td>\n",
       "      <td>0</td>\n",
       "      <td>0</td>\n",
       "      <td>0</td>\n",
       "      <td>3</td>\n",
       "      <td>0</td>\n",
       "      <td>0</td>\n",
       "      <td>0</td>\n",
       "      <td>1</td>\n",
       "      <td>1</td>\n",
       "      <td>0</td>\n",
       "      <td>0</td>\n",
       "      <td>3</td>\n",
       "      <td>0</td>\n",
       "      <td>0</td>\n",
       "      <td>2</td>\n",
       "      <td>7</td>\n",
       "      <td>0</td>\n",
       "      <td>0</td>\n",
       "      <td>0</td>\n",
       "      <td>4</td>\n",
       "      <td>4</td>\n",
       "      <td>0</td>\n",
       "      <td>0</td>\n",
       "      <td>0</td>\n",
       "      <td>0</td>\n",
       "      <td>1</td>\n",
       "      <td>1</td>\n",
       "      <td>0</td>\n",
       "      <td>0</td>\n",
       "      <td>3</td>\n",
       "      <td>99</td>\n",
       "      <td>83</td>\n",
       "      <td>0</td>\n",
       "      <td>0</td>\n",
       "      <td>1</td>\n",
       "      <td>0</td>\n",
       "      <td>367</td>\n",
       "    </tr>\n",
       "    <tr>\n",
       "      <th>Cultural tourism</th>\n",
       "      <td>0</td>\n",
       "      <td>1</td>\n",
       "      <td>0</td>\n",
       "      <td>9</td>\n",
       "      <td>2</td>\n",
       "      <td>7</td>\n",
       "      <td>1</td>\n",
       "      <td>1</td>\n",
       "      <td>0</td>\n",
       "      <td>22</td>\n",
       "      <td>8</td>\n",
       "      <td>0</td>\n",
       "      <td>0</td>\n",
       "      <td>1</td>\n",
       "      <td>0</td>\n",
       "      <td>0</td>\n",
       "      <td>2</td>\n",
       "      <td>0</td>\n",
       "      <td>0</td>\n",
       "      <td>0</td>\n",
       "      <td>3</td>\n",
       "      <td>5</td>\n",
       "      <td>1</td>\n",
       "      <td>0</td>\n",
       "      <td>10</td>\n",
       "      <td>0</td>\n",
       "      <td>1</td>\n",
       "      <td>0</td>\n",
       "      <td>2</td>\n",
       "      <td>19</td>\n",
       "      <td>0</td>\n",
       "      <td>25</td>\n",
       "      <td>0</td>\n",
       "      <td>2</td>\n",
       "      <td>0</td>\n",
       "      <td>3</td>\n",
       "      <td>0</td>\n",
       "      <td>0</td>\n",
       "      <td>0</td>\n",
       "      <td>2</td>\n",
       "      <td>2</td>\n",
       "      <td>32</td>\n",
       "      <td>0</td>\n",
       "      <td>7</td>\n",
       "      <td>11</td>\n",
       "      <td>0</td>\n",
       "      <td>0</td>\n",
       "      <td>0</td>\n",
       "      <td>0</td>\n",
       "      <td>0</td>\n",
       "      <td>0</td>\n",
       "      <td>0</td>\n",
       "      <td>0</td>\n",
       "      <td>0</td>\n",
       "      <td>0</td>\n",
       "      <td>1</td>\n",
       "      <td>0</td>\n",
       "      <td>0</td>\n",
       "      <td>0</td>\n",
       "      <td>0</td>\n",
       "      <td>0</td>\n",
       "      <td>0</td>\n",
       "      <td>0</td>\n",
       "      <td>0</td>\n",
       "      <td>6</td>\n",
       "      <td>0</td>\n",
       "      <td>0</td>\n",
       "      <td>1</td>\n",
       "      <td>5</td>\n",
       "      <td>6</td>\n",
       "      <td>0</td>\n",
       "      <td>0</td>\n",
       "      <td>1</td>\n",
       "      <td>1</td>\n",
       "      <td>0</td>\n",
       "      <td>0</td>\n",
       "      <td>0</td>\n",
       "      <td>8</td>\n",
       "      <td>1</td>\n",
       "      <td>0</td>\n",
       "      <td>0</td>\n",
       "      <td>0</td>\n",
       "      <td>0</td>\n",
       "      <td>11</td>\n",
       "      <td>10</td>\n",
       "      <td>0</td>\n",
       "      <td>1</td>\n",
       "      <td>0</td>\n",
       "      <td>3</td>\n",
       "      <td>3</td>\n",
       "      <td>0</td>\n",
       "      <td>0</td>\n",
       "      <td>0</td>\n",
       "      <td>0</td>\n",
       "      <td>1</td>\n",
       "      <td>4</td>\n",
       "      <td>18</td>\n",
       "      <td>0</td>\n",
       "      <td>1</td>\n",
       "      <td>46</td>\n",
       "      <td>42</td>\n",
       "      <td>0</td>\n",
       "      <td>0</td>\n",
       "      <td>4</td>\n",
       "      <td>6</td>\n",
       "      <td>359</td>\n",
       "    </tr>\n",
       "    <tr>\n",
       "      <th>Diving and Sport Fishing</th>\n",
       "      <td>0</td>\n",
       "      <td>0</td>\n",
       "      <td>0</td>\n",
       "      <td>1</td>\n",
       "      <td>0</td>\n",
       "      <td>0</td>\n",
       "      <td>0</td>\n",
       "      <td>0</td>\n",
       "      <td>0</td>\n",
       "      <td>0</td>\n",
       "      <td>0</td>\n",
       "      <td>0</td>\n",
       "      <td>0</td>\n",
       "      <td>0</td>\n",
       "      <td>0</td>\n",
       "      <td>0</td>\n",
       "      <td>0</td>\n",
       "      <td>0</td>\n",
       "      <td>0</td>\n",
       "      <td>0</td>\n",
       "      <td>0</td>\n",
       "      <td>0</td>\n",
       "      <td>0</td>\n",
       "      <td>0</td>\n",
       "      <td>0</td>\n",
       "      <td>0</td>\n",
       "      <td>0</td>\n",
       "      <td>0</td>\n",
       "      <td>0</td>\n",
       "      <td>1</td>\n",
       "      <td>0</td>\n",
       "      <td>1</td>\n",
       "      <td>0</td>\n",
       "      <td>0</td>\n",
       "      <td>0</td>\n",
       "      <td>0</td>\n",
       "      <td>0</td>\n",
       "      <td>0</td>\n",
       "      <td>0</td>\n",
       "      <td>0</td>\n",
       "      <td>0</td>\n",
       "      <td>0</td>\n",
       "      <td>0</td>\n",
       "      <td>0</td>\n",
       "      <td>0</td>\n",
       "      <td>0</td>\n",
       "      <td>0</td>\n",
       "      <td>0</td>\n",
       "      <td>0</td>\n",
       "      <td>0</td>\n",
       "      <td>0</td>\n",
       "      <td>0</td>\n",
       "      <td>0</td>\n",
       "      <td>0</td>\n",
       "      <td>1</td>\n",
       "      <td>0</td>\n",
       "      <td>0</td>\n",
       "      <td>0</td>\n",
       "      <td>0</td>\n",
       "      <td>0</td>\n",
       "      <td>0</td>\n",
       "      <td>0</td>\n",
       "      <td>0</td>\n",
       "      <td>0</td>\n",
       "      <td>0</td>\n",
       "      <td>0</td>\n",
       "      <td>0</td>\n",
       "      <td>0</td>\n",
       "      <td>0</td>\n",
       "      <td>0</td>\n",
       "      <td>0</td>\n",
       "      <td>0</td>\n",
       "      <td>0</td>\n",
       "      <td>1</td>\n",
       "      <td>0</td>\n",
       "      <td>0</td>\n",
       "      <td>0</td>\n",
       "      <td>0</td>\n",
       "      <td>0</td>\n",
       "      <td>0</td>\n",
       "      <td>0</td>\n",
       "      <td>0</td>\n",
       "      <td>0</td>\n",
       "      <td>1</td>\n",
       "      <td>1</td>\n",
       "      <td>0</td>\n",
       "      <td>0</td>\n",
       "      <td>0</td>\n",
       "      <td>0</td>\n",
       "      <td>1</td>\n",
       "      <td>0</td>\n",
       "      <td>0</td>\n",
       "      <td>0</td>\n",
       "      <td>0</td>\n",
       "      <td>0</td>\n",
       "      <td>0</td>\n",
       "      <td>0</td>\n",
       "      <td>0</td>\n",
       "      <td>0</td>\n",
       "      <td>1</td>\n",
       "      <td>3</td>\n",
       "      <td>0</td>\n",
       "      <td>0</td>\n",
       "      <td>1</td>\n",
       "      <td>0</td>\n",
       "      <td>13</td>\n",
       "    </tr>\n",
       "    <tr>\n",
       "      <th>Hunting tourism</th>\n",
       "      <td>0</td>\n",
       "      <td>0</td>\n",
       "      <td>0</td>\n",
       "      <td>4</td>\n",
       "      <td>0</td>\n",
       "      <td>4</td>\n",
       "      <td>0</td>\n",
       "      <td>0</td>\n",
       "      <td>1</td>\n",
       "      <td>16</td>\n",
       "      <td>3</td>\n",
       "      <td>0</td>\n",
       "      <td>0</td>\n",
       "      <td>2</td>\n",
       "      <td>0</td>\n",
       "      <td>0</td>\n",
       "      <td>5</td>\n",
       "      <td>0</td>\n",
       "      <td>0</td>\n",
       "      <td>0</td>\n",
       "      <td>0</td>\n",
       "      <td>3</td>\n",
       "      <td>0</td>\n",
       "      <td>0</td>\n",
       "      <td>4</td>\n",
       "      <td>0</td>\n",
       "      <td>0</td>\n",
       "      <td>0</td>\n",
       "      <td>0</td>\n",
       "      <td>7</td>\n",
       "      <td>0</td>\n",
       "      <td>8</td>\n",
       "      <td>0</td>\n",
       "      <td>2</td>\n",
       "      <td>0</td>\n",
       "      <td>7</td>\n",
       "      <td>0</td>\n",
       "      <td>0</td>\n",
       "      <td>0</td>\n",
       "      <td>1</td>\n",
       "      <td>0</td>\n",
       "      <td>9</td>\n",
       "      <td>1</td>\n",
       "      <td>17</td>\n",
       "      <td>62</td>\n",
       "      <td>1</td>\n",
       "      <td>0</td>\n",
       "      <td>0</td>\n",
       "      <td>0</td>\n",
       "      <td>1</td>\n",
       "      <td>0</td>\n",
       "      <td>0</td>\n",
       "      <td>1</td>\n",
       "      <td>9</td>\n",
       "      <td>2</td>\n",
       "      <td>0</td>\n",
       "      <td>0</td>\n",
       "      <td>0</td>\n",
       "      <td>0</td>\n",
       "      <td>0</td>\n",
       "      <td>1</td>\n",
       "      <td>0</td>\n",
       "      <td>1</td>\n",
       "      <td>0</td>\n",
       "      <td>1</td>\n",
       "      <td>0</td>\n",
       "      <td>0</td>\n",
       "      <td>0</td>\n",
       "      <td>3</td>\n",
       "      <td>12</td>\n",
       "      <td>1</td>\n",
       "      <td>0</td>\n",
       "      <td>0</td>\n",
       "      <td>0</td>\n",
       "      <td>2</td>\n",
       "      <td>0</td>\n",
       "      <td>0</td>\n",
       "      <td>6</td>\n",
       "      <td>1</td>\n",
       "      <td>0</td>\n",
       "      <td>0</td>\n",
       "      <td>0</td>\n",
       "      <td>0</td>\n",
       "      <td>20</td>\n",
       "      <td>5</td>\n",
       "      <td>0</td>\n",
       "      <td>1</td>\n",
       "      <td>0</td>\n",
       "      <td>3</td>\n",
       "      <td>3</td>\n",
       "      <td>0</td>\n",
       "      <td>1</td>\n",
       "      <td>0</td>\n",
       "      <td>0</td>\n",
       "      <td>0</td>\n",
       "      <td>5</td>\n",
       "      <td>43</td>\n",
       "      <td>1</td>\n",
       "      <td>1</td>\n",
       "      <td>43</td>\n",
       "      <td>23</td>\n",
       "      <td>0</td>\n",
       "      <td>1</td>\n",
       "      <td>45</td>\n",
       "      <td>64</td>\n",
       "      <td>457</td>\n",
       "    </tr>\n",
       "    <tr>\n",
       "      <th>Mountain climbing</th>\n",
       "      <td>0</td>\n",
       "      <td>0</td>\n",
       "      <td>0</td>\n",
       "      <td>0</td>\n",
       "      <td>1</td>\n",
       "      <td>2</td>\n",
       "      <td>0</td>\n",
       "      <td>1</td>\n",
       "      <td>0</td>\n",
       "      <td>4</td>\n",
       "      <td>3</td>\n",
       "      <td>1</td>\n",
       "      <td>0</td>\n",
       "      <td>3</td>\n",
       "      <td>0</td>\n",
       "      <td>0</td>\n",
       "      <td>1</td>\n",
       "      <td>0</td>\n",
       "      <td>0</td>\n",
       "      <td>1</td>\n",
       "      <td>0</td>\n",
       "      <td>0</td>\n",
       "      <td>1</td>\n",
       "      <td>0</td>\n",
       "      <td>0</td>\n",
       "      <td>0</td>\n",
       "      <td>0</td>\n",
       "      <td>5</td>\n",
       "      <td>0</td>\n",
       "      <td>2</td>\n",
       "      <td>0</td>\n",
       "      <td>3</td>\n",
       "      <td>1</td>\n",
       "      <td>0</td>\n",
       "      <td>0</td>\n",
       "      <td>19</td>\n",
       "      <td>1</td>\n",
       "      <td>0</td>\n",
       "      <td>1</td>\n",
       "      <td>0</td>\n",
       "      <td>0</td>\n",
       "      <td>2</td>\n",
       "      <td>0</td>\n",
       "      <td>3</td>\n",
       "      <td>39</td>\n",
       "      <td>0</td>\n",
       "      <td>0</td>\n",
       "      <td>0</td>\n",
       "      <td>2</td>\n",
       "      <td>0</td>\n",
       "      <td>0</td>\n",
       "      <td>0</td>\n",
       "      <td>0</td>\n",
       "      <td>3</td>\n",
       "      <td>0</td>\n",
       "      <td>0</td>\n",
       "      <td>1</td>\n",
       "      <td>0</td>\n",
       "      <td>0</td>\n",
       "      <td>0</td>\n",
       "      <td>4</td>\n",
       "      <td>0</td>\n",
       "      <td>0</td>\n",
       "      <td>1</td>\n",
       "      <td>1</td>\n",
       "      <td>0</td>\n",
       "      <td>0</td>\n",
       "      <td>0</td>\n",
       "      <td>1</td>\n",
       "      <td>2</td>\n",
       "      <td>1</td>\n",
       "      <td>0</td>\n",
       "      <td>0</td>\n",
       "      <td>1</td>\n",
       "      <td>0</td>\n",
       "      <td>0</td>\n",
       "      <td>0</td>\n",
       "      <td>7</td>\n",
       "      <td>0</td>\n",
       "      <td>0</td>\n",
       "      <td>0</td>\n",
       "      <td>0</td>\n",
       "      <td>0</td>\n",
       "      <td>29</td>\n",
       "      <td>1</td>\n",
       "      <td>0</td>\n",
       "      <td>0</td>\n",
       "      <td>0</td>\n",
       "      <td>2</td>\n",
       "      <td>2</td>\n",
       "      <td>0</td>\n",
       "      <td>1</td>\n",
       "      <td>0</td>\n",
       "      <td>0</td>\n",
       "      <td>0</td>\n",
       "      <td>3</td>\n",
       "      <td>14</td>\n",
       "      <td>0</td>\n",
       "      <td>0</td>\n",
       "      <td>11</td>\n",
       "      <td>21</td>\n",
       "      <td>0</td>\n",
       "      <td>0</td>\n",
       "      <td>14</td>\n",
       "      <td>18</td>\n",
       "      <td>234</td>\n",
       "    </tr>\n",
       "    <tr>\n",
       "      <th>Wildlife tourism</th>\n",
       "      <td>1</td>\n",
       "      <td>0</td>\n",
       "      <td>1</td>\n",
       "      <td>131</td>\n",
       "      <td>7</td>\n",
       "      <td>27</td>\n",
       "      <td>0</td>\n",
       "      <td>6</td>\n",
       "      <td>0</td>\n",
       "      <td>13</td>\n",
       "      <td>61</td>\n",
       "      <td>0</td>\n",
       "      <td>2</td>\n",
       "      <td>39</td>\n",
       "      <td>2</td>\n",
       "      <td>0</td>\n",
       "      <td>3</td>\n",
       "      <td>1</td>\n",
       "      <td>0</td>\n",
       "      <td>0</td>\n",
       "      <td>3</td>\n",
       "      <td>17</td>\n",
       "      <td>1</td>\n",
       "      <td>1</td>\n",
       "      <td>11</td>\n",
       "      <td>4</td>\n",
       "      <td>0</td>\n",
       "      <td>0</td>\n",
       "      <td>4</td>\n",
       "      <td>165</td>\n",
       "      <td>0</td>\n",
       "      <td>103</td>\n",
       "      <td>1</td>\n",
       "      <td>1</td>\n",
       "      <td>2</td>\n",
       "      <td>36</td>\n",
       "      <td>1</td>\n",
       "      <td>1</td>\n",
       "      <td>0</td>\n",
       "      <td>19</td>\n",
       "      <td>9</td>\n",
       "      <td>122</td>\n",
       "      <td>0</td>\n",
       "      <td>18</td>\n",
       "      <td>72</td>\n",
       "      <td>6</td>\n",
       "      <td>1</td>\n",
       "      <td>1</td>\n",
       "      <td>0</td>\n",
       "      <td>0</td>\n",
       "      <td>3</td>\n",
       "      <td>1</td>\n",
       "      <td>0</td>\n",
       "      <td>1</td>\n",
       "      <td>3</td>\n",
       "      <td>1</td>\n",
       "      <td>1</td>\n",
       "      <td>2</td>\n",
       "      <td>0</td>\n",
       "      <td>1</td>\n",
       "      <td>1</td>\n",
       "      <td>1</td>\n",
       "      <td>0</td>\n",
       "      <td>0</td>\n",
       "      <td>91</td>\n",
       "      <td>12</td>\n",
       "      <td>0</td>\n",
       "      <td>3</td>\n",
       "      <td>5</td>\n",
       "      <td>4</td>\n",
       "      <td>2</td>\n",
       "      <td>2</td>\n",
       "      <td>4</td>\n",
       "      <td>6</td>\n",
       "      <td>4</td>\n",
       "      <td>0</td>\n",
       "      <td>2</td>\n",
       "      <td>3</td>\n",
       "      <td>2</td>\n",
       "      <td>0</td>\n",
       "      <td>3</td>\n",
       "      <td>2</td>\n",
       "      <td>0</td>\n",
       "      <td>81</td>\n",
       "      <td>103</td>\n",
       "      <td>3</td>\n",
       "      <td>0</td>\n",
       "      <td>2</td>\n",
       "      <td>13</td>\n",
       "      <td>41</td>\n",
       "      <td>9</td>\n",
       "      <td>0</td>\n",
       "      <td>1</td>\n",
       "      <td>0</td>\n",
       "      <td>0</td>\n",
       "      <td>8</td>\n",
       "      <td>48</td>\n",
       "      <td>0</td>\n",
       "      <td>6</td>\n",
       "      <td>230</td>\n",
       "      <td>456</td>\n",
       "      <td>0</td>\n",
       "      <td>0</td>\n",
       "      <td>100</td>\n",
       "      <td>105</td>\n",
       "      <td>2259</td>\n",
       "    </tr>\n",
       "    <tr>\n",
       "      <th>business</th>\n",
       "      <td>0</td>\n",
       "      <td>0</td>\n",
       "      <td>0</td>\n",
       "      <td>2</td>\n",
       "      <td>1</td>\n",
       "      <td>0</td>\n",
       "      <td>0</td>\n",
       "      <td>0</td>\n",
       "      <td>0</td>\n",
       "      <td>0</td>\n",
       "      <td>0</td>\n",
       "      <td>0</td>\n",
       "      <td>0</td>\n",
       "      <td>0</td>\n",
       "      <td>0</td>\n",
       "      <td>0</td>\n",
       "      <td>0</td>\n",
       "      <td>0</td>\n",
       "      <td>0</td>\n",
       "      <td>0</td>\n",
       "      <td>0</td>\n",
       "      <td>0</td>\n",
       "      <td>0</td>\n",
       "      <td>0</td>\n",
       "      <td>0</td>\n",
       "      <td>0</td>\n",
       "      <td>0</td>\n",
       "      <td>0</td>\n",
       "      <td>0</td>\n",
       "      <td>5</td>\n",
       "      <td>0</td>\n",
       "      <td>4</td>\n",
       "      <td>0</td>\n",
       "      <td>0</td>\n",
       "      <td>0</td>\n",
       "      <td>2</td>\n",
       "      <td>0</td>\n",
       "      <td>0</td>\n",
       "      <td>0</td>\n",
       "      <td>0</td>\n",
       "      <td>1</td>\n",
       "      <td>11</td>\n",
       "      <td>0</td>\n",
       "      <td>0</td>\n",
       "      <td>3</td>\n",
       "      <td>0</td>\n",
       "      <td>0</td>\n",
       "      <td>0</td>\n",
       "      <td>0</td>\n",
       "      <td>0</td>\n",
       "      <td>0</td>\n",
       "      <td>0</td>\n",
       "      <td>0</td>\n",
       "      <td>0</td>\n",
       "      <td>0</td>\n",
       "      <td>0</td>\n",
       "      <td>0</td>\n",
       "      <td>0</td>\n",
       "      <td>0</td>\n",
       "      <td>0</td>\n",
       "      <td>0</td>\n",
       "      <td>0</td>\n",
       "      <td>0</td>\n",
       "      <td>0</td>\n",
       "      <td>1</td>\n",
       "      <td>0</td>\n",
       "      <td>0</td>\n",
       "      <td>0</td>\n",
       "      <td>0</td>\n",
       "      <td>1</td>\n",
       "      <td>0</td>\n",
       "      <td>0</td>\n",
       "      <td>1</td>\n",
       "      <td>0</td>\n",
       "      <td>0</td>\n",
       "      <td>0</td>\n",
       "      <td>0</td>\n",
       "      <td>0</td>\n",
       "      <td>0</td>\n",
       "      <td>0</td>\n",
       "      <td>0</td>\n",
       "      <td>0</td>\n",
       "      <td>0</td>\n",
       "      <td>12</td>\n",
       "      <td>0</td>\n",
       "      <td>0</td>\n",
       "      <td>0</td>\n",
       "      <td>0</td>\n",
       "      <td>0</td>\n",
       "      <td>1</td>\n",
       "      <td>0</td>\n",
       "      <td>0</td>\n",
       "      <td>0</td>\n",
       "      <td>0</td>\n",
       "      <td>2</td>\n",
       "      <td>1</td>\n",
       "      <td>0</td>\n",
       "      <td>0</td>\n",
       "      <td>0</td>\n",
       "      <td>8</td>\n",
       "      <td>0</td>\n",
       "      <td>0</td>\n",
       "      <td>0</td>\n",
       "      <td>1</td>\n",
       "      <td>1</td>\n",
       "      <td>58</td>\n",
       "    </tr>\n",
       "    <tr>\n",
       "      <th>All</th>\n",
       "      <td>2</td>\n",
       "      <td>1</td>\n",
       "      <td>1</td>\n",
       "      <td>186</td>\n",
       "      <td>18</td>\n",
       "      <td>49</td>\n",
       "      <td>1</td>\n",
       "      <td>10</td>\n",
       "      <td>2</td>\n",
       "      <td>64</td>\n",
       "      <td>114</td>\n",
       "      <td>1</td>\n",
       "      <td>2</td>\n",
       "      <td>65</td>\n",
       "      <td>3</td>\n",
       "      <td>1</td>\n",
       "      <td>11</td>\n",
       "      <td>1</td>\n",
       "      <td>2</td>\n",
       "      <td>1</td>\n",
       "      <td>11</td>\n",
       "      <td>41</td>\n",
       "      <td>3</td>\n",
       "      <td>1</td>\n",
       "      <td>30</td>\n",
       "      <td>10</td>\n",
       "      <td>1</td>\n",
       "      <td>6</td>\n",
       "      <td>8</td>\n",
       "      <td>280</td>\n",
       "      <td>1</td>\n",
       "      <td>223</td>\n",
       "      <td>2</td>\n",
       "      <td>7</td>\n",
       "      <td>2</td>\n",
       "      <td>87</td>\n",
       "      <td>3</td>\n",
       "      <td>2</td>\n",
       "      <td>1</td>\n",
       "      <td>29</td>\n",
       "      <td>16</td>\n",
       "      <td>393</td>\n",
       "      <td>1</td>\n",
       "      <td>53</td>\n",
       "      <td>235</td>\n",
       "      <td>12</td>\n",
       "      <td>2</td>\n",
       "      <td>2</td>\n",
       "      <td>3</td>\n",
       "      <td>1</td>\n",
       "      <td>4</td>\n",
       "      <td>2</td>\n",
       "      <td>1</td>\n",
       "      <td>20</td>\n",
       "      <td>23</td>\n",
       "      <td>3</td>\n",
       "      <td>2</td>\n",
       "      <td>2</td>\n",
       "      <td>1</td>\n",
       "      <td>1</td>\n",
       "      <td>8</td>\n",
       "      <td>1</td>\n",
       "      <td>2</td>\n",
       "      <td>2</td>\n",
       "      <td>112</td>\n",
       "      <td>18</td>\n",
       "      <td>1</td>\n",
       "      <td>4</td>\n",
       "      <td>21</td>\n",
       "      <td>35</td>\n",
       "      <td>6</td>\n",
       "      <td>2</td>\n",
       "      <td>16</td>\n",
       "      <td>10</td>\n",
       "      <td>8</td>\n",
       "      <td>2</td>\n",
       "      <td>8</td>\n",
       "      <td>40</td>\n",
       "      <td>4</td>\n",
       "      <td>6</td>\n",
       "      <td>7</td>\n",
       "      <td>2</td>\n",
       "      <td>1</td>\n",
       "      <td>235</td>\n",
       "      <td>165</td>\n",
       "      <td>3</td>\n",
       "      <td>4</td>\n",
       "      <td>4</td>\n",
       "      <td>37</td>\n",
       "      <td>64</td>\n",
       "      <td>9</td>\n",
       "      <td>2</td>\n",
       "      <td>1</td>\n",
       "      <td>1</td>\n",
       "      <td>5</td>\n",
       "      <td>33</td>\n",
       "      <td>159</td>\n",
       "      <td>2</td>\n",
       "      <td>13</td>\n",
       "      <td>533</td>\n",
       "      <td>695</td>\n",
       "      <td>1</td>\n",
       "      <td>2</td>\n",
       "      <td>191</td>\n",
       "      <td>274</td>\n",
       "      <td>4809</td>\n",
       "    </tr>\n",
       "  </tbody>\n",
       "</table>\n",
       "</div>"
      ],
      "text/plain": [
       "country                   ALGERIA  ANGOLA  ARGENTINA  AUSTRALIA  AUSTRIA  \\\n",
       "main_activity                                                              \n",
       "Beach tourism                   1       0          0         15        3   \n",
       "Bird watching                   0       0          0          1        0   \n",
       "Conference tourism              0       0          0         23        4   \n",
       "Cultural tourism                0       1          0          9        2   \n",
       "Diving and Sport Fishing        0       0          0          1        0   \n",
       "Hunting tourism                 0       0          0          4        0   \n",
       "Mountain climbing               0       0          0          0        1   \n",
       "Wildlife tourism                1       0          1        131        7   \n",
       "business                        0       0          0          2        1   \n",
       "All                             2       1          1        186       18   \n",
       "\n",
       "country                   BELGIUM  BERMUDA  BRAZIL  BURGARIA  BURUNDI  CANADA  \\\n",
       "main_activity                                                                   \n",
       "Beach tourism                   7        0       1         1        9      24   \n",
       "Bird watching                   1        0       0         0        0       0   \n",
       "Conference tourism              1        0       1         0        0      15   \n",
       "Cultural tourism                7        1       1         0       22       8   \n",
       "Diving and Sport Fishing        0        0       0         0        0       0   \n",
       "Hunting tourism                 4        0       0         1       16       3   \n",
       "Mountain climbing               2        0       1         0        4       3   \n",
       "Wildlife tourism               27        0       6         0       13      61   \n",
       "business                        0        0       0         0        0       0   \n",
       "All                            49        1      10         2       64     114   \n",
       "\n",
       "country                   CAPE VERDE  CHILE  CHINA  COLOMBIA  COMORO  CONGO  \\\n",
       "main_activity                                                                 \n",
       "Beach tourism                      0      0     19         1       1      0   \n",
       "Bird watching                      0      0      0         0       0      0   \n",
       "Conference tourism                 0      0      1         0       0      0   \n",
       "Cultural tourism                   0      0      1         0       0      2   \n",
       "Diving and Sport Fishing           0      0      0         0       0      0   \n",
       "Hunting tourism                    0      0      2         0       0      5   \n",
       "Mountain climbing                  1      0      3         0       0      1   \n",
       "Wildlife tourism                   0      2     39         2       0      3   \n",
       "business                           0      0      0         0       0      0   \n",
       "All                                1      2     65         3       1     11   \n",
       "\n",
       "country                   COSTARICA  CROATIA  CYPRUS  CZECH REPUBLIC  DENMARK  \\\n",
       "main_activity                                                                   \n",
       "Beach tourism                     0        1       0               0       10   \n",
       "Bird watching                     0        0       0               0        0   \n",
       "Conference tourism                0        1       0               5        6   \n",
       "Cultural tourism                  0        0       0               3        5   \n",
       "Diving and Sport Fishing          0        0       0               0        0   \n",
       "Hunting tourism                   0        0       0               0        3   \n",
       "Mountain climbing                 0        0       1               0        0   \n",
       "Wildlife tourism                  1        0       0               3       17   \n",
       "business                          0        0       0               0        0   \n",
       "All                               1        2       1              11       41   \n",
       "\n",
       "country                   DJIBOUT  DOMINICA  DRC  EGYPT  ESTONIA  ETHIOPIA  \\\n",
       "main_activity                                                                \n",
       "Beach tourism                   0         0    5      2        0         1   \n",
       "Bird watching                   0         0    0      1        0         0   \n",
       "Conference tourism              0         0    0      3        0         0   \n",
       "Cultural tourism                1         0   10      0        1         0   \n",
       "Diving and Sport Fishing        0         0    0      0        0         0   \n",
       "Hunting tourism                 0         0    4      0        0         0   \n",
       "Mountain climbing               1         0    0      0        0         5   \n",
       "Wildlife tourism                1         1   11      4        0         0   \n",
       "business                        0         0    0      0        0         0   \n",
       "All                             3         1   30     10        1         6   \n",
       "\n",
       "country                   FINLAND  FRANCE  GEORGIA  GERMANY  GHANA  GREECE  \\\n",
       "main_activity                                                                \n",
       "Beach tourism                   2      55        1       59      0       2   \n",
       "Bird watching                   0       1        0        2      0       0   \n",
       "Conference tourism              0      25        0       18      0       0   \n",
       "Cultural tourism                2      19        0       25      0       2   \n",
       "Diving and Sport Fishing        0       1        0        1      0       0   \n",
       "Hunting tourism                 0       7        0        8      0       2   \n",
       "Mountain climbing               0       2        0        3      1       0   \n",
       "Wildlife tourism                4     165        0      103      1       1   \n",
       "business                        0       5        0        4      0       0   \n",
       "All                             8     280        1      223      2       7   \n",
       "\n",
       "country                   HUNGARY  INDIA  INDONESIA  IRAN  IRAQ  IRELAND  \\\n",
       "main_activity                                                              \n",
       "Beach tourism                   0     16          1     1     0        5   \n",
       "Bird watching                   0      3          0     0     0        0   \n",
       "Conference tourism              0      1          0     0     0        2   \n",
       "Cultural tourism                0      3          0     0     0        2   \n",
       "Diving and Sport Fishing        0      0          0     0     0        0   \n",
       "Hunting tourism                 0      7          0     0     0        1   \n",
       "Mountain climbing               0     19          1     0     1        0   \n",
       "Wildlife tourism                2     36          1     1     0       19   \n",
       "business                        0      2          0     0     0        0   \n",
       "All                             2     87          3     2     1       29   \n",
       "\n",
       "country                   ISRAEL  ITALY  IVORY COAST  JAPAN  KENYA  KOREA  \\\n",
       "main_activity                                                               \n",
       "Beach tourism                  3    210            0      2     42      2   \n",
       "Bird watching                  0      2            0      0      3      0   \n",
       "Conference tourism             1      5            0      6      3      3   \n",
       "Cultural tourism               2     32            0      7     11      0   \n",
       "Diving and Sport Fishing       0      0            0      0      0      0   \n",
       "Hunting tourism                0      9            1     17     62      1   \n",
       "Mountain climbing              0      2            0      3     39      0   \n",
       "Wildlife tourism               9    122            0     18     72      6   \n",
       "business                       1     11            0      0      3      0   \n",
       "All                           16    393            1     53    235     12   \n",
       "\n",
       "country                   KUWAIT  LATVIA  LEBANON  LESOTHO  LITHUANIA  \\\n",
       "main_activity                                                           \n",
       "Beach tourism                  1       0        1        0          0   \n",
       "Bird watching                  0       0        0        0          0   \n",
       "Conference tourism             0       1        0        0          1   \n",
       "Cultural tourism               0       0        0        0          0   \n",
       "Diving and Sport Fishing       0       0        0        0          0   \n",
       "Hunting tourism                0       0        0        1          0   \n",
       "Mountain climbing              0       0        2        0          0   \n",
       "Wildlife tourism               1       1        0        0          3   \n",
       "business                       0       0        0        0          0   \n",
       "All                            2       2        3        1          4   \n",
       "\n",
       "country                   LUXEMBOURG  MADAGASCAR  MALAWI  MALAYSIA  MALT  \\\n",
       "main_activity                                                              \n",
       "Beach tourism                      1           0       6         1     1   \n",
       "Bird watching                      0           0       0         0     0   \n",
       "Conference tourism                 0           0       1        16     0   \n",
       "Cultural tourism                   0           0       0         0     1   \n",
       "Diving and Sport Fishing           0           0       0         1     0   \n",
       "Hunting tourism                    0           1       9         2     0   \n",
       "Mountain climbing                  0           0       3         0     0   \n",
       "Wildlife tourism                   1           0       1         3     1   \n",
       "business                           0           0       0         0     0   \n",
       "All                                2           1      20        23     3   \n",
       "\n",
       "country                   MAURITIUS  MEXICO  MONTENEGRO  MORROCO  MOZAMBIQUE  \\\n",
       "main_activity                                                                  \n",
       "Beach tourism                     0       0           1        0           2   \n",
       "Bird watching                     0       0           0        0           0   \n",
       "Conference tourism                0       0           0        0           0   \n",
       "Cultural tourism                  0       0           0        0           0   \n",
       "Diving and Sport Fishing          0       0           0        0           0   \n",
       "Hunting tourism                   0       0           0        0           1   \n",
       "Mountain climbing                 1       0           0        0           4   \n",
       "Wildlife tourism                  1       2           0        1           1   \n",
       "business                          0       0           0        0           0   \n",
       "All                               2       2           1        1           8   \n",
       "\n",
       "country                   MYANMAR  NAMIBIA  NEPAL  NETHERLANDS  NEW ZEALAND  \\\n",
       "main_activity                                                                 \n",
       "Beach tourism                   0        1      1            8            1   \n",
       "Bird watching                   0        0      0            1            0   \n",
       "Conference tourism              0        0      0            3            5   \n",
       "Cultural tourism                0        0      0            6            0   \n",
       "Diving and Sport Fishing        0        0      0            0            0   \n",
       "Hunting tourism                 0        1      0            1            0   \n",
       "Mountain climbing               0        0      1            1            0   \n",
       "Wildlife tourism                1        0      0           91           12   \n",
       "business                        0        0      0            1            0   \n",
       "All                             1        2      2          112           18   \n",
       "\n",
       "country                   NIGER  NIGERIA  NORWAY  OMAN  PAKISTAN  PHILIPINES  \\\n",
       "main_activity                                                                  \n",
       "Beach tourism                 1        0       4     9         2           0   \n",
       "Bird watching                 0        0       0     1         0           0   \n",
       "Conference tourism            0        0       3     0         0           0   \n",
       "Cultural tourism              0        1       5     6         0           0   \n",
       "Diving and Sport Fishing      0        0       0     0         0           0   \n",
       "Hunting tourism               0        0       3    12         1           0   \n",
       "Mountain climbing             0        0       1     2         1           0   \n",
       "Wildlife tourism              0        3       5     4         2           2   \n",
       "business                      0        0       0     1         0           0   \n",
       "All                           1        4      21    35         6           2   \n",
       "\n",
       "country                   POLAND  PORTUGAL  QATAR  ROMANIA  RUSSIA  RWANDA  \\\n",
       "main_activity                                                                \n",
       "Beach tourism                  7         1      1        2       5      14   \n",
       "Bird watching                  0         0      1        0       0       1   \n",
       "Conference tourism             3         0      0        0       1       1   \n",
       "Cultural tourism               1         1      0        0       0       8   \n",
       "Diving and Sport Fishing       0         1      0        0       0       0   \n",
       "Hunting tourism                0         0      2        0       0       6   \n",
       "Mountain climbing              0         1      0        0       0       7   \n",
       "Wildlife tourism               4         6      4        0       2       3   \n",
       "business                       1         0      0        0       0       0   \n",
       "All                           16        10      8        2       8      40   \n",
       "\n",
       "country                   SCOTLAND  SERBIA  SINGAPORE  SLOVAKIA  SLOVENIA  \\\n",
       "main_activity                                                               \n",
       "Beach tourism                    0       6          1         0         1   \n",
       "Bird watching                    0       0          0         0         0   \n",
       "Conference tourism               0       0          3         0         0   \n",
       "Cultural tourism                 1       0          0         0         0   \n",
       "Diving and Sport Fishing         0       0          0         0         0   \n",
       "Hunting tourism                  1       0          0         0         0   \n",
       "Mountain climbing                0       0          0         0         0   \n",
       "Wildlife tourism                 2       0          3         2         0   \n",
       "business                         0       0          0         0         0   \n",
       "All                              4       6          7         2         1   \n",
       "\n",
       "country                   SOUTH AFRICA  SPAIN  SRI LANKA  SUDAN  SWAZILAND  \\\n",
       "main_activity                                                                \n",
       "Beach tourism                       78     38          0      2          1   \n",
       "Bird watching                        1      0          0      0          1   \n",
       "Conference tourism                   2      7          0      0          0   \n",
       "Cultural tourism                    11     10          0      1          0   \n",
       "Diving and Sport Fishing             1      1          0      0          0   \n",
       "Hunting tourism                     20      5          0      1          0   \n",
       "Mountain climbing                   29      1          0      0          0   \n",
       "Wildlife tourism                    81    103          3      0          2   \n",
       "business                            12      0          0      0          0   \n",
       "All                                235    165          3      4          4   \n",
       "\n",
       "country                   SWEDEN  SWIZERLAND  TAIWAN  THAILAND  \\\n",
       "main_activity                                                    \n",
       "Beach tourism                 12           9       0         0   \n",
       "Bird watching                  0           0       0         0   \n",
       "Conference tourism             4           4       0         0   \n",
       "Cultural tourism               3           3       0         0   \n",
       "Diving and Sport Fishing       0           1       0         0   \n",
       "Hunting tourism                3           3       0         1   \n",
       "Mountain climbing              2           2       0         1   \n",
       "Wildlife tourism              13          41       9         0   \n",
       "business                       0           1       0         0   \n",
       "All                           37          64       9         2   \n",
       "\n",
       "country                   TRINIDAD TOBACCO  TUNISIA  TURKEY  UAE  UGANDA  \\\n",
       "main_activity                                                              \n",
       "Beach tourism                            0        1       1   11      34   \n",
       "Bird watching                            0        0       0    0       2   \n",
       "Conference tourism                       0        0       1    1       0   \n",
       "Cultural tourism                         0        0       1    4      18   \n",
       "Diving and Sport Fishing                 0        0       0    0       0   \n",
       "Hunting tourism                          0        0       0    5      43   \n",
       "Mountain climbing                        0        0       0    3      14   \n",
       "Wildlife tourism                         1        0       0    8      48   \n",
       "business                                 0        0       2    1       0   \n",
       "All                                      1        1       5   33     159   \n",
       "\n",
       "country                   UKRAIN  UNITED ARAB EMIRATES  UNITED KINGDOM  \\\n",
       "main_activity                                                            \n",
       "Beach tourism                  1                     1              94   \n",
       "Bird watching                  0                     1               1   \n",
       "Conference tourism             0                     3              99   \n",
       "Cultural tourism               0                     1              46   \n",
       "Diving and Sport Fishing       0                     0               1   \n",
       "Hunting tourism                1                     1              43   \n",
       "Mountain climbing              0                     0              11   \n",
       "Wildlife tourism               0                     6             230   \n",
       "business                       0                     0               8   \n",
       "All                            2                    13             533   \n",
       "\n",
       "country                   UNITED STATES OF AMERICA  URUGUAY  YEMEN  ZAMBIA  \\\n",
       "main_activity                                                                \n",
       "Beach tourism                                   64        1      1      19   \n",
       "Bird watching                                    3        0      0       6   \n",
       "Conference tourism                              83        0      0       1   \n",
       "Cultural tourism                                42        0      0       4   \n",
       "Diving and Sport Fishing                         3        0      0       1   \n",
       "Hunting tourism                                 23        0      1      45   \n",
       "Mountain climbing                               21        0      0      14   \n",
       "Wildlife tourism                               456        0      0     100   \n",
       "business                                         0        0      0       1   \n",
       "All                                            695        1      2     191   \n",
       "\n",
       "country                   ZIMBABWE   All  \n",
       "main_activity                             \n",
       "Beach tourism                   76  1025  \n",
       "Bird watching                    4    37  \n",
       "Conference tourism               0   367  \n",
       "Cultural tourism                 6   359  \n",
       "Diving and Sport Fishing         0    13  \n",
       "Hunting tourism                 64   457  \n",
       "Mountain climbing               18   234  \n",
       "Wildlife tourism               105  2259  \n",
       "business                         1    58  \n",
       "All                            274  4809  "
      ]
     },
     "execution_count": 40,
     "metadata": {},
     "output_type": "execute_result"
    }
   ],
   "source": [
    "#relationship between two categorical variables using a Two-way table\n",
    "pd.crosstab(train_df['main_activity'], train_df['country'], margins=True)"
   ]
  },
  {
   "cell_type": "code",
   "execution_count": 41,
   "metadata": {},
   "outputs": [],
   "source": [
    "train_df=train_df.drop('cost_cat', 1)"
   ]
  },
  {
   "cell_type": "code",
   "execution_count": 42,
   "metadata": {},
   "outputs": [
    {
     "data": {
      "text/plain": [
       "['ID',\n",
       " 'country',\n",
       " 'age_group',\n",
       " 'travel_with',\n",
       " 'total_female',\n",
       " 'total_male',\n",
       " 'purpose',\n",
       " 'main_activity',\n",
       " 'info_source',\n",
       " 'tour_arrangement',\n",
       " 'package_transport_int',\n",
       " 'package_accomodation',\n",
       " 'package_food',\n",
       " 'package_transport_tz',\n",
       " 'package_sightseeing',\n",
       " 'package_guided_tour',\n",
       " 'package_insurance',\n",
       " 'night_mainland',\n",
       " 'night_zanzibar',\n",
       " 'payment_mode',\n",
       " 'first_trip_tz',\n",
       " 'most_impressing',\n",
       " 'total_cost']"
      ]
     },
     "execution_count": 42,
     "metadata": {},
     "output_type": "execute_result"
    }
   ],
   "source": [
    "data=pd.concat([train_df,test_df],sort=False).reset_index(drop=True)\n",
    "data.columns.tolist()"
   ]
  },
  {
   "cell_type": "code",
   "execution_count": 43,
   "metadata": {},
   "outputs": [
    {
     "data": {
      "text/plain": [
       "ID                          0\n",
       "country                     0\n",
       "age_group                   0\n",
       "travel_with              1441\n",
       "total_female                4\n",
       "total_male                  7\n",
       "purpose                     0\n",
       "main_activity               0\n",
       "info_source                 0\n",
       "tour_arrangement            0\n",
       "package_transport_int       0\n",
       "package_accomodation        0\n",
       "package_food                0\n",
       "package_transport_tz        0\n",
       "package_sightseeing         0\n",
       "package_guided_tour         0\n",
       "package_insurance           0\n",
       "night_mainland              0\n",
       "night_zanzibar              0\n",
       "payment_mode                0\n",
       "first_trip_tz               0\n",
       "most_impressing           424\n",
       "total_cost               1601\n",
       "dtype: int64"
      ]
     },
     "execution_count": 43,
     "metadata": {},
     "output_type": "execute_result"
    }
   ],
   "source": [
    "data.isnull().sum()"
   ]
  },
  {
   "cell_type": "code",
   "execution_count": 44,
   "metadata": {},
   "outputs": [],
   "source": [
    "data.travel_with.fillna('None',inplace=True)\n",
    "data.most_impressing.fillna('None',inplace=True)\n",
    "data.total_female.fillna(data.total_female.mean(),inplace = True)\n",
    "data.total_male.fillna(data.total_male.mean(),inplace = True)"
   ]
  },
  {
   "cell_type": "code",
   "execution_count": 45,
   "metadata": {},
   "outputs": [
    {
     "data": {
      "text/plain": [
       "ID                          0\n",
       "country                     0\n",
       "age_group                   0\n",
       "travel_with                 0\n",
       "total_female                0\n",
       "total_male                  0\n",
       "purpose                     0\n",
       "main_activity               0\n",
       "info_source                 0\n",
       "tour_arrangement            0\n",
       "package_transport_int       0\n",
       "package_accomodation        0\n",
       "package_food                0\n",
       "package_transport_tz        0\n",
       "package_sightseeing         0\n",
       "package_guided_tour         0\n",
       "package_insurance           0\n",
       "night_mainland              0\n",
       "night_zanzibar              0\n",
       "payment_mode                0\n",
       "first_trip_tz               0\n",
       "most_impressing             0\n",
       "total_cost               1601\n",
       "dtype: int64"
      ]
     },
     "execution_count": 45,
     "metadata": {},
     "output_type": "execute_result"
    }
   ],
   "source": [
    "data.isnull().sum()"
   ]
  },
  {
   "cell_type": "code",
   "execution_count": 46,
   "metadata": {},
   "outputs": [],
   "source": [
    "## convert float dtypes to int\n",
    "data[\"total_female\"] = data['total_female'].astype('int')\n",
    "data[\"total_male\"] = data['total_male'].astype('int')\n",
    "data[\"night_mainland\"] = data['night_mainland'].astype('int')\n",
    "data[\"night_zanzibar\"] = data['night_zanzibar'].astype('int')"
   ]
  },
  {
   "cell_type": "code",
   "execution_count": 47,
   "metadata": {},
   "outputs": [],
   "source": [
    "#feature engineering\n",
    "data[\"total_persons\"] = data[\"total_female\"] + data[\"total_male\"]\n",
    "data[\"total_nights_spent\"] = data[\"night_mainland\"] + data[\"night_zanzibar\"]\n",
    "\n",
    "data.payment_mode.replace('Credit Card', 'Other',inplace=True)\n",
    "data.payment_mode.replace('Travellers Cheque', 'Other',inplace=True)\n",
    "\n",
    "data.purpose.replace('Meetings and Conference', 'Other',inplace=True)\n",
    "data.purpose.replace('Volunteering', 'Other',inplace=True)\n",
    "data.purpose.replace('Scientific and Academic', 'Other',inplace=True)\n",
    "\n",
    "data.info_source.replace('Newspaper, magazines,brochures', 'Others',inplace=True)\n",
    "data.info_source.replace('Radio, TV, Web', 'Others',inplace=True)\n",
    "data.info_source.replace('Trade fair', 'Others',inplace=True)\n",
    "data.info_source.replace('Tanzania Mission Abroad', 'Others',inplace=True)\n",
    "data.info_source.replace('inflight magazines', 'Others',inplace=True)\n",
    "data.info_source.replace('others', 'Others',inplace=True)\n",
    "\n",
    "data.travel_with.replace('Spouse and Children', 'Family',inplace=True)\n",
    "data.travel_with.replace('Children', 'Family',inplace=True)\n",
    "\n",
    "data.main_activity.replace('business', 'Other activities',inplace=True)\n",
    "data.main_activity.replace('Bird watching', 'Other activities',inplace=True)\n",
    "data.main_activity.replace('Diving and Sport Fishing', 'Other activities',inplace=True)\n"
   ]
  },
  {
   "cell_type": "code",
   "execution_count": 48,
   "metadata": {},
   "outputs": [],
   "source": [
    " \n",
    "from sklearn.preprocessing import LabelEncoder\n",
    "le = LabelEncoder()\n",
    "data['age_group'] = le.fit_transform(data['age_group'])\n",
    "data['package_transport_int'] = le.fit_transform(data['package_transport_int'])\n",
    "data['package_accomodation'] = le.fit_transform(data['package_accomodation'])\n",
    "data['package_food'] = le.fit_transform(data['package_food'])\n",
    "data['package_transport_tz'] = le.fit_transform(data['package_transport_tz'])\n",
    "data['package_sightseeing'] = le.fit_transform(data['package_sightseeing'])\n",
    "data['package_guided_tour'] = le.fit_transform(data['package_guided_tour'])\n",
    "data['package_insurance'] = le.fit_transform(data['package_insurance'])\n",
    "data['first_trip_tz'] = le.fit_transform(data['first_trip_tz'])\n",
    "data['country'] = le.fit_transform(data['country'])"
   ]
  },
  {
   "cell_type": "code",
   "execution_count": 49,
   "metadata": {},
   "outputs": [],
   "source": [
    "columns_to_transform = ['tour_arrangement','travel_with','purpose','main_activity','info_source','most_impressing','payment_mode']\n",
    "data = pd.get_dummies( data,columns = columns_to_transform,drop_first=True)"
   ]
  },
  {
   "cell_type": "code",
   "execution_count": 50,
   "metadata": {
    "scrolled": true
   },
   "outputs": [
    {
     "data": {
      "text/html": [
       "<div>\n",
       "<style scoped>\n",
       "    .dataframe tbody tr th:only-of-type {\n",
       "        vertical-align: middle;\n",
       "    }\n",
       "\n",
       "    .dataframe tbody tr th {\n",
       "        vertical-align: top;\n",
       "    }\n",
       "\n",
       "    .dataframe thead th {\n",
       "        text-align: right;\n",
       "    }\n",
       "</style>\n",
       "<table border=\"1\" class=\"dataframe\">\n",
       "  <thead>\n",
       "    <tr style=\"text-align: right;\">\n",
       "      <th></th>\n",
       "      <th>ID</th>\n",
       "      <th>country</th>\n",
       "      <th>age_group</th>\n",
       "      <th>total_female</th>\n",
       "      <th>total_male</th>\n",
       "      <th>package_transport_int</th>\n",
       "      <th>package_accomodation</th>\n",
       "      <th>package_food</th>\n",
       "      <th>package_transport_tz</th>\n",
       "      <th>package_sightseeing</th>\n",
       "      <th>package_guided_tour</th>\n",
       "      <th>package_insurance</th>\n",
       "      <th>night_mainland</th>\n",
       "      <th>night_zanzibar</th>\n",
       "      <th>first_trip_tz</th>\n",
       "      <th>total_cost</th>\n",
       "      <th>total_persons</th>\n",
       "      <th>total_nights_spent</th>\n",
       "      <th>tour_arrangement_Package Tour</th>\n",
       "      <th>travel_with_Family</th>\n",
       "      <th>travel_with_Friends/Relatives</th>\n",
       "      <th>travel_with_None</th>\n",
       "      <th>travel_with_Spouse</th>\n",
       "      <th>purpose_Leisure and Holidays</th>\n",
       "      <th>purpose_Other</th>\n",
       "      <th>purpose_Visiting Friends and Relatives</th>\n",
       "      <th>main_activity_Conference tourism</th>\n",
       "      <th>main_activity_Cultural tourism</th>\n",
       "      <th>main_activity_Hunting tourism</th>\n",
       "      <th>main_activity_Mountain climbing</th>\n",
       "      <th>main_activity_Other activities</th>\n",
       "      <th>main_activity_Wildlife tourism</th>\n",
       "      <th>info_source_Others</th>\n",
       "      <th>info_source_Travel, agent, tour operator</th>\n",
       "      <th>most_impressing_Excellent Experience</th>\n",
       "      <th>most_impressing_Friendly People</th>\n",
       "      <th>most_impressing_Good service</th>\n",
       "      <th>most_impressing_No comments</th>\n",
       "      <th>most_impressing_None</th>\n",
       "      <th>most_impressing_Satisfies and Hope Come Back</th>\n",
       "      <th>most_impressing_Wonderful Country, Landscape, Nature</th>\n",
       "      <th>payment_mode_Other</th>\n",
       "    </tr>\n",
       "  </thead>\n",
       "  <tbody>\n",
       "    <tr>\n",
       "      <th>0</th>\n",
       "      <td>tour_0</td>\n",
       "      <td>101</td>\n",
       "      <td>3</td>\n",
       "      <td>1</td>\n",
       "      <td>1</td>\n",
       "      <td>0</td>\n",
       "      <td>0</td>\n",
       "      <td>0</td>\n",
       "      <td>0</td>\n",
       "      <td>0</td>\n",
       "      <td>0</td>\n",
       "      <td>0</td>\n",
       "      <td>13</td>\n",
       "      <td>0</td>\n",
       "      <td>0</td>\n",
       "      <td>674602.5</td>\n",
       "      <td>2</td>\n",
       "      <td>13</td>\n",
       "      <td>0</td>\n",
       "      <td>0</td>\n",
       "      <td>1</td>\n",
       "      <td>0</td>\n",
       "      <td>0</td>\n",
       "      <td>1</td>\n",
       "      <td>0</td>\n",
       "      <td>0</td>\n",
       "      <td>0</td>\n",
       "      <td>0</td>\n",
       "      <td>0</td>\n",
       "      <td>0</td>\n",
       "      <td>0</td>\n",
       "      <td>1</td>\n",
       "      <td>0</td>\n",
       "      <td>0</td>\n",
       "      <td>0</td>\n",
       "      <td>1</td>\n",
       "      <td>0</td>\n",
       "      <td>0</td>\n",
       "      <td>0</td>\n",
       "      <td>0</td>\n",
       "      <td>0</td>\n",
       "      <td>0</td>\n",
       "    </tr>\n",
       "    <tr>\n",
       "      <th>1</th>\n",
       "      <td>tour_10</td>\n",
       "      <td>111</td>\n",
       "      <td>2</td>\n",
       "      <td>1</td>\n",
       "      <td>0</td>\n",
       "      <td>0</td>\n",
       "      <td>0</td>\n",
       "      <td>0</td>\n",
       "      <td>0</td>\n",
       "      <td>0</td>\n",
       "      <td>0</td>\n",
       "      <td>0</td>\n",
       "      <td>14</td>\n",
       "      <td>7</td>\n",
       "      <td>1</td>\n",
       "      <td>3214906.5</td>\n",
       "      <td>1</td>\n",
       "      <td>21</td>\n",
       "      <td>0</td>\n",
       "      <td>0</td>\n",
       "      <td>0</td>\n",
       "      <td>1</td>\n",
       "      <td>0</td>\n",
       "      <td>1</td>\n",
       "      <td>0</td>\n",
       "      <td>0</td>\n",
       "      <td>0</td>\n",
       "      <td>1</td>\n",
       "      <td>0</td>\n",
       "      <td>0</td>\n",
       "      <td>0</td>\n",
       "      <td>0</td>\n",
       "      <td>1</td>\n",
       "      <td>0</td>\n",
       "      <td>0</td>\n",
       "      <td>0</td>\n",
       "      <td>0</td>\n",
       "      <td>0</td>\n",
       "      <td>0</td>\n",
       "      <td>0</td>\n",
       "      <td>1</td>\n",
       "      <td>0</td>\n",
       "    </tr>\n",
       "  </tbody>\n",
       "</table>\n",
       "</div>"
      ],
      "text/plain": [
       "        ID  country  age_group  total_female  total_male  \\\n",
       "0   tour_0      101          3             1           1   \n",
       "1  tour_10      111          2             1           0   \n",
       "\n",
       "   package_transport_int  package_accomodation  package_food  \\\n",
       "0                      0                     0             0   \n",
       "1                      0                     0             0   \n",
       "\n",
       "   package_transport_tz  package_sightseeing  package_guided_tour  \\\n",
       "0                     0                    0                    0   \n",
       "1                     0                    0                    0   \n",
       "\n",
       "   package_insurance  night_mainland  night_zanzibar  first_trip_tz  \\\n",
       "0                  0              13               0              0   \n",
       "1                  0              14               7              1   \n",
       "\n",
       "   total_cost  total_persons  total_nights_spent  \\\n",
       "0    674602.5              2                  13   \n",
       "1   3214906.5              1                  21   \n",
       "\n",
       "   tour_arrangement_Package Tour  travel_with_Family  \\\n",
       "0                              0                   0   \n",
       "1                              0                   0   \n",
       "\n",
       "   travel_with_Friends/Relatives  travel_with_None  travel_with_Spouse  \\\n",
       "0                              1                 0                   0   \n",
       "1                              0                 1                   0   \n",
       "\n",
       "   purpose_Leisure and Holidays  purpose_Other  \\\n",
       "0                             1              0   \n",
       "1                             1              0   \n",
       "\n",
       "   purpose_Visiting Friends and Relatives  main_activity_Conference tourism  \\\n",
       "0                                       0                                 0   \n",
       "1                                       0                                 0   \n",
       "\n",
       "   main_activity_Cultural tourism  main_activity_Hunting tourism  \\\n",
       "0                               0                              0   \n",
       "1                               1                              0   \n",
       "\n",
       "   main_activity_Mountain climbing  main_activity_Other activities  \\\n",
       "0                                0                               0   \n",
       "1                                0                               0   \n",
       "\n",
       "   main_activity_Wildlife tourism  info_source_Others  \\\n",
       "0                               1                   0   \n",
       "1                               0                   1   \n",
       "\n",
       "   info_source_Travel, agent, tour operator  \\\n",
       "0                                         0   \n",
       "1                                         0   \n",
       "\n",
       "   most_impressing_Excellent Experience  most_impressing_Friendly People  \\\n",
       "0                                     0                                1   \n",
       "1                                     0                                0   \n",
       "\n",
       "   most_impressing_Good service  most_impressing_No comments  \\\n",
       "0                             0                            0   \n",
       "1                             0                            0   \n",
       "\n",
       "   most_impressing_None  most_impressing_Satisfies and Hope Come Back  \\\n",
       "0                     0                                             0   \n",
       "1                     0                                             0   \n",
       "\n",
       "   most_impressing_Wonderful Country, Landscape, Nature  payment_mode_Other  \n",
       "0                                                  0                      0  \n",
       "1                                                  1                      0  "
      ]
     },
     "execution_count": 50,
     "metadata": {},
     "output_type": "execute_result"
    }
   ],
   "source": [
    "data.head(2)"
   ]
  },
  {
   "cell_type": "code",
   "execution_count": 51,
   "metadata": {},
   "outputs": [],
   "source": [
    "## separate data into train and test\n",
    "train_df=data[data.total_cost.notnull()].reset_index(drop=True)\n",
    "test_df=data[data.total_cost.isna()].reset_index(drop=True)"
   ]
  },
  {
   "cell_type": "code",
   "execution_count": 52,
   "metadata": {},
   "outputs": [
    {
     "name": "stdout",
     "output_type": "stream",
     "text": [
      "(4809, 42)\n",
      "(1601, 42)\n"
     ]
    }
   ],
   "source": [
    "print(train_df.shape)\n",
    "print(test_df.shape)"
   ]
  },
  {
   "cell_type": "code",
   "execution_count": 53,
   "metadata": {},
   "outputs": [],
   "source": [
    "#Modelling\n",
    "\n",
    "train = train_df\n",
    "feat_cols = train.drop([\"ID\",\"total_cost\"],1)\n",
    "cols = feat_cols.columns\n",
    "target=train[\"total_cost\"]\n"
   ]
  },
  {
   "cell_type": "code",
   "execution_count": 54,
   "metadata": {},
   "outputs": [],
   "source": [
    "from sklearn.model_selection import train_test_split\n",
    "from sklearn.model_selection import KFold, cross_val_score"
   ]
  },
  {
   "cell_type": "code",
   "execution_count": 55,
   "metadata": {},
   "outputs": [
    {
     "name": "stdout",
     "output_type": "stream",
     "text": [
      "(3606, 40) (3606,)\n",
      "(1203, 40) (1203,)\n"
     ]
    }
   ],
   "source": [
    "# create training and testing vars\n",
    "X_train, X_test, y_train, y_test = train_test_split(train[cols],target, test_size=0.25, random_state = 42)\n",
    "print (X_train.shape, y_train.shape)\n",
    "print (X_test.shape, y_test.shape)"
   ]
  },
  {
   "cell_type": "code",
   "execution_count": 56,
   "metadata": {},
   "outputs": [],
   "source": [
    "from sklearn.ensemble import RandomForestRegressor\n",
    "RF=RandomForestRegressor()\n",
    "RF.fit(X_train, y_train)\n",
    "y_pred = RF.predict(X_test)\n"
   ]
  },
  {
   "cell_type": "code",
   "execution_count": 57,
   "metadata": {},
   "outputs": [
    {
     "name": "stdout",
     "output_type": "stream",
     "text": [
      "Error 5377088.034839818\n",
      "mape 417.36354951423664\n"
     ]
    }
   ],
   "source": [
    "from sklearn.metrics import mean_absolute_error \n",
    "mae = mean_absolute_error(y_test, y_pred)\n",
    "mape = np.mean(np.abs(y_test-y_pred)/y_test)*100\n",
    "print('Error {}'.format(mae))\n",
    "print('mape {}'.format(mape))"
   ]
  },
  {
   "cell_type": "code",
   "execution_count": 58,
   "metadata": {},
   "outputs": [
    {
     "name": "stdout",
     "output_type": "stream",
     "text": [
      "RF r2 on training set: 0.910\n",
      "RF r2 on testing set: 0.320\n"
     ]
    }
   ],
   "source": [
    "print('RF r2 on training set: {:.3f}'.format(RF.score(X_train, y_train)))\n",
    "print('RF r2 on testing set: {:.3f}'.format(RF.score(X_test, y_test)))"
   ]
  },
  {
   "cell_type": "code",
   "execution_count": 59,
   "metadata": {},
   "outputs": [],
   "source": [
    "#predict and prepare submission file\n",
    "sub = test_df[cols]\n",
    "predictions  = RF.predict(sub)\n",
    "submission_df = pd.DataFrame({'ID': test_df.ID, 'total_cost': predictions})\n",
    "submission_df.to_csv('submit1.csv',index=False)"
   ]
  },
  {
   "cell_type": "code",
   "execution_count": 61,
   "metadata": {},
   "outputs": [],
   "source": [
    "train['log_total_cost'] = np.log(train.total_cost)\n",
    "X = train.drop([\"ID\",\"total_cost\",\"log_total_cost\"],1)\n",
    "y=train[\"total_cost\"]"
   ]
  },
  {
   "cell_type": "code",
   "execution_count": 62,
   "metadata": {},
   "outputs": [
    {
     "name": "stdout",
     "output_type": "stream",
     "text": [
      "(3606, 40) (3606,)\n",
      "(1203, 40) (1203,)\n"
     ]
    }
   ],
   "source": [
    "# create training and testing vars\n",
    "X_train, X_test, y_train, y_test = train_test_split(X,y, test_size=0.25, random_state = 42)\n",
    "print (X_train.shape, y_train.shape)\n",
    "print (X_test.shape, y_test.shape)"
   ]
  },
  {
   "cell_type": "code",
   "execution_count": 63,
   "metadata": {},
   "outputs": [],
   "source": [
    "RF=RandomForestRegressor(n_estimators=100, max_depth=4, max_features='sqrt', min_impurity_split=10,\n",
    "                                min_samples_split=100, min_samples_leaf=10, random_state=10)\n",
    "RF.fit(X_train, y_train)\n",
    "y_pred = RF.predict(X_test)\n"
   ]
  },
  {
   "cell_type": "code",
   "execution_count": 64,
   "metadata": {},
   "outputs": [
    {
     "name": "stdout",
     "output_type": "stream",
     "text": [
      "Error 5470019.303571927\n",
      "mape 457.0223224727537\n"
     ]
    }
   ],
   "source": [
    "mae = mean_absolute_error(y_test, y_pred)\n",
    "mape = np.mean(np.abs(y_test-y_pred)/y_test)*100\n",
    "print('Error {}'.format(mae))\n",
    "print('mape {}'.format(mape))"
   ]
  },
  {
   "cell_type": "code",
   "execution_count": 65,
   "metadata": {},
   "outputs": [
    {
     "name": "stdout",
     "output_type": "stream",
     "text": [
      "RF r2 on training set: 0.350\n",
      "RF r2 on testing set: 0.347\n"
     ]
    }
   ],
   "source": [
    "print('RF r2 on training set: {:.3f}'.format(RF.score(X_train, y_train)))\n",
    "print('RF r2 on testing set: {:.3f}'.format(RF.score(X_test, y_test)))"
   ]
  },
  {
   "cell_type": "code",
   "execution_count": null,
   "metadata": {},
   "outputs": [],
   "source": []
  },
  {
   "cell_type": "code",
   "execution_count": 66,
   "metadata": {},
   "outputs": [],
   "source": [
    "from sklearn.ensemble import GradientBoostingRegressor, AdaBoostRegressor\n",
    "GBR = GradientBoostingRegressor(n_estimators=105, max_depth=4, max_features='sqrt', subsample=1, \n",
    "                                min_samples_split=100, min_samples_leaf=17, learning_rate=0.1, random_state=10) \n",
    "GBR.fit(X_train, y_train)\n",
    "y_pred = GBR.predict(X_test)"
   ]
  },
  {
   "cell_type": "code",
   "execution_count": 67,
   "metadata": {},
   "outputs": [
    {
     "name": "stdout",
     "output_type": "stream",
     "text": [
      "Error 4974072.603641486\n",
      "mape 356.9102466001811\n"
     ]
    }
   ],
   "source": [
    "mae = mean_absolute_error(y_test, y_pred)\n",
    "mape = np.mean(np.abs(y_test-y_pred)/y_test)*100\n",
    "print('Error {}'.format(mae))\n",
    "print('mape {}'.format(mape))"
   ]
  },
  {
   "cell_type": "code",
   "execution_count": 68,
   "metadata": {
    "scrolled": true
   },
   "outputs": [
    {
     "name": "stdout",
     "output_type": "stream",
     "text": [
      "RF r2 on training set: 0.502\n",
      "RF r2 on testing set: 0.423\n"
     ]
    }
   ],
   "source": [
    "print('RF r2 on training set: {:.3f}'.format(GBR.score(X_train, y_train)))\n",
    "print('RF r2 on testing set: {:.3f}'.format(GBR.score(X_test, y_test)))"
   ]
  },
  {
   "cell_type": "code",
   "execution_count": 69,
   "metadata": {},
   "outputs": [
    {
     "data": {
      "text/plain": [
       "GradientBoostingRegressor(max_depth=4, max_features='sqrt',\n",
       "                          min_impurity_split=10, min_samples_leaf=10,\n",
       "                          min_samples_split=100, random_state=10, subsample=1)"
      ]
     },
     "execution_count": 69,
     "metadata": {},
     "output_type": "execute_result"
    }
   ],
   "source": [
    "from sklearn.ensemble import GradientBoostingRegressor, AdaBoostRegressor\n",
    "GBR = GradientBoostingRegressor(n_estimators=100, max_depth=4, max_features='sqrt', subsample=1, min_impurity_split=10,\n",
    "                                min_samples_split=100, min_samples_leaf=10, learning_rate=0.1, random_state=10) \n",
    "GBR.fit(X, y)"
   ]
  },
  {
   "cell_type": "code",
   "execution_count": 70,
   "metadata": {},
   "outputs": [
    {
     "name": "stdout",
     "output_type": "stream",
     "text": [
      "RF r2 on training set: 0.497\n"
     ]
    }
   ],
   "source": [
    "print('RF r2 on training set: {:.3f}'.format(GBR.score(X, y)))"
   ]
  },
  {
   "cell_type": "code",
   "execution_count": 71,
   "metadata": {},
   "outputs": [],
   "source": [
    "#predict and prepare submission file\n",
    "sub = test_df[cols]\n",
    "GBR_pred  = GBR.predict(sub)\n",
    "submissiondataset = pd.DataFrame({'ID': test_df.ID, 'total_cost': GBR_pred})\n",
    "submissiondataset.to_csv('submit3.csv',index=False)"
   ]
  },
  {
   "cell_type": "code",
   "execution_count": 73,
   "metadata": {},
   "outputs": [
    {
     "name": "stdout",
     "output_type": "stream",
     "text": [
      "Accuracy of the DecisionTreeClassifier on training set 0.5389: \n",
      "Accuracy of the DecisionTreeClassifier on testing set 0.3773: \n"
     ]
    }
   ],
   "source": [
    "from sklearn.pipeline import Pipeline\n",
    "from sklearn.preprocessing import MinMaxScaler\n",
    "estimators = []\n",
    "estimators.append(('normalizer', MinMaxScaler()))\n",
    "estimators.append(('DTC', GradientBoostingRegressor()))\n",
    "DT_model = Pipeline(estimators).fit(X_train, y_train)\n",
    "print('Accuracy of the DecisionTreeClassifier on training set {:.4f}: '.format(DT_model.score(X_train, y_train)))\n",
    "print('Accuracy of the DecisionTreeClassifier on testing set {:.4f}: '.format(DT_model.score(X_test, y_test)))"
   ]
  },
  {
   "cell_type": "code",
   "execution_count": 74,
   "metadata": {},
   "outputs": [],
   "source": [
    "from sklearn.linear_model import Lasso\n",
    "lasso = Lasso().fit(X_train, y_train)\n",
    "y_pred = lasso.predict(X_test)"
   ]
  },
  {
   "cell_type": "code",
   "execution_count": 75,
   "metadata": {},
   "outputs": [
    {
     "name": "stdout",
     "output_type": "stream",
     "text": [
      "Error 5636802.611709301\n",
      "mape 471.6860921445835\n"
     ]
    }
   ],
   "source": [
    "mae = mean_absolute_error(y_test, y_pred)\n",
    "mape = np.mean(np.abs(y_test-y_pred)/y_test)*100\n",
    "print('Error {}'.format(mae))\n",
    "print('mape {}'.format(mape))"
   ]
  },
  {
   "cell_type": "code",
   "execution_count": 76,
   "metadata": {},
   "outputs": [],
   "source": [
    "alphas = [0.0000000000000001, 0.0001, 0.001, 0.01, 0.1, 0.3, 0.5, 0.7, 1]"
   ]
  },
  {
   "cell_type": "code",
   "execution_count": 77,
   "metadata": {},
   "outputs": [
    {
     "name": "stdout",
     "output_type": "stream",
     "text": [
      "Alpha:0.0000, R2:0.34, MAE:5636803.87\n",
      "Alpha:0.0001, R2:0.34, MAE:5636650.00\n",
      "Alpha:0.0010, R2:0.34, MAE:5635296.03\n",
      "Alpha:0.0100, R2:0.34, MAE:5623381.19\n",
      "Alpha:0.1000, R2:0.34, MAE:5591871.79\n",
      "Alpha:0.3000, R2:0.33, MAE:5590971.61\n",
      "Alpha:0.5000, R2:0.32, MAE:5608284.47\n",
      "Alpha:0.7000, R2:0.32, MAE:5634216.13\n",
      "Alpha:1.0000, R2:0.31, MAE:5685382.76\n"
     ]
    }
   ],
   "source": [
    "from sklearn.linear_model import ElasticNet\n",
    "for a in alphas:\n",
    "    model = ElasticNet(alpha=a).fit(X_train, y_train)   \n",
    "    score = model.score(X_train, y_train)\n",
    "    pred_y = model.predict(X_test)\n",
    "    mae = mean_absolute_error(y_test, pred_y)   \n",
    "    mape = np.mean(np.abs(y_test-y_pred)/y_test)*100\n",
    "    print(\"Alpha:{0:.4f}, R2:{1:.2f}, MAE:{2:.2f}\".format(a, score, mae))"
   ]
  },
  {
   "cell_type": "code",
   "execution_count": 78,
   "metadata": {},
   "outputs": [],
   "source": [
    "from sklearn.preprocessing import StandardScaler\n",
    "from sklearn.model_selection import train_test_split, StratifiedKFold\n",
    "from sklearn.model_selection import KFold\n",
    "from sklearn.model_selection import cross_val_score\n",
    "from sklearn.model_selection import GridSearchCV\n",
    "from sklearn.linear_model import LinearRegression\n",
    "from sklearn.linear_model import Lasso\n",
    "from sklearn.linear_model import ElasticNet\n",
    "from sklearn.tree import DecisionTreeRegressor\n",
    "from sklearn.neighbors import KNeighborsRegressor\n",
    "from sklearn.svm import SVR\n",
    "from sklearn.pipeline import Pipeline\n",
    "from sklearn.ensemble import RandomForestRegressor\n",
    "from sklearn.ensemble import GradientBoostingRegressor\n",
    "from sklearn.ensemble import ExtraTreesRegressor\n",
    "from sklearn.ensemble import AdaBoostRegressor\n",
    "from sklearn.metrics import mean_squared_error"
   ]
  },
  {
   "cell_type": "code",
   "execution_count": 79,
   "metadata": {},
   "outputs": [],
   "source": [
    "num_folds = 10\n",
    "seed = 7\n",
    "scoring = 'neg_mean_absolute_error'"
   ]
  },
  {
   "cell_type": "code",
   "execution_count": 80,
   "metadata": {},
   "outputs": [],
   "source": [
    "# Spot-Check Algorithms\n",
    "models = []\n",
    "models.append(('LR', LinearRegression()))\n",
    "models.append(('LASSO', Lasso()))\n",
    "models.append(('EN', ElasticNet()))\n",
    "models.append(('KNN', KNeighborsRegressor()))\n",
    "models.append(('CART', DecisionTreeRegressor()))\n",
    "models.append(('SVR', SVR()))"
   ]
  },
  {
   "cell_type": "code",
   "execution_count": 81,
   "metadata": {},
   "outputs": [
    {
     "name": "stdout",
     "output_type": "stream",
     "text": [
      "LR: -5838268.583583 (436708.841347)\n",
      "LASSO: -5839548.746717 (438879.164061)\n",
      "EN: -5783218.566973 (446132.156605)\n",
      "KNN: -5806490.125026 (251988.438056)\n",
      "CART: -6716876.310927 (420695.698512)\n",
      "SVR: -7064234.758170 (605626.076860)\n"
     ]
    }
   ],
   "source": [
    "results = []\n",
    "names = []\n",
    "for name, model in models:\n",
    "    kfold = KFold(n_splits=num_folds, random_state=seed)\n",
    "    cv_results = cross_val_score(model, X_train, y_train, cv=kfold, scoring=scoring)\n",
    "    results.append(cv_results)\n",
    "    names.append(name)\n",
    "    msg = \"%s: %f (%f)\" % (name, cv_results.mean(), cv_results.std())\n",
    "    print(msg)"
   ]
  },
  {
   "cell_type": "code",
   "execution_count": 82,
   "metadata": {},
   "outputs": [
    {
     "data": {
      "text/plain": [
       "[Text(1, 0, 'LR'),\n",
       " Text(2, 0, 'LASSO'),\n",
       " Text(3, 0, 'EN'),\n",
       " Text(4, 0, 'KNN'),\n",
       " Text(5, 0, 'CART'),\n",
       " Text(6, 0, 'SVR')]"
      ]
     },
     "execution_count": 82,
     "metadata": {},
     "output_type": "execute_result"
    },
    {
     "data": {
      "image/png": "[encoded data removed]",
      "text/plain": [
       "<Figure size 432x288 with 1 Axes>"
      ]
     },
     "metadata": {
      "needs_background": "light"
     },
     "output_type": "display_data"
    }
   ],
   "source": [
    "# Compare Algorithms\n",
    "fig = plt.figure()\n",
    "fig.suptitle('Algorithm Comparison')\n",
    "ax = fig.add_subplot(111)\n",
    "plt.boxplot(results)\n",
    "ax.set_xticklabels(names)"
   ]
  },
  {
   "cell_type": "code",
   "execution_count": 83,
   "metadata": {},
   "outputs": [
    {
     "name": "stdout",
     "output_type": "stream",
     "text": [
      "ScaledLR: -5839369.965422 (437170.383741)\n",
      "ScaledLASSO: -5839551.020546 (438879.391312)\n",
      "ScaledEN: -5700328.468438 (442974.136379)\n",
      "ScaledKNN: -5656125.524446 (318223.989725)\n",
      "ScaledCART: -6792436.142615 (390101.977195)\n",
      "ScaledSVR: -7064148.116572 (605624.313331)\n"
     ]
    }
   ],
   "source": [
    "# Standardize the dataset\n",
    "pipelines = []\n",
    "pipelines.append(('ScaledLR', Pipeline([('Scaler', StandardScaler()),('LR',\n",
    "LinearRegression())])))\n",
    "pipelines.append(('ScaledLASSO', Pipeline([('Scaler', StandardScaler()),('LASSO',\n",
    "Lasso())])))\n",
    "pipelines.append(('ScaledEN', Pipeline([('Scaler', StandardScaler()),('EN',\n",
    "ElasticNet())])))\n",
    "pipelines.append(('ScaledKNN', Pipeline([('Scaler', StandardScaler()),('KNN',\n",
    "KNeighborsRegressor())])))\n",
    "pipelines.append(('ScaledCART', Pipeline([('Scaler', StandardScaler()),('CART',\n",
    "DecisionTreeRegressor())])))\n",
    "pipelines.append(('ScaledSVR', Pipeline([('Scaler', StandardScaler()),('SVR', SVR())])))\n",
    "results = []\n",
    "names = []\n",
    "for name, model in pipelines:\n",
    "    kfold = KFold(n_splits=num_folds, random_state=seed)\n",
    "    cv_results = cross_val_score(model, X_train, y_train, cv=kfold, scoring=scoring)\n",
    "    results.append(cv_results)\n",
    "    names.append(name)\n",
    "    msg = \"%s: %f (%f)\" % (name, cv_results.mean(), cv_results.std())\n",
    "    print(msg)"
   ]
  },
  {
   "cell_type": "code",
   "execution_count": 84,
   "metadata": {},
   "outputs": [],
   "source": [
    "#ensembles\n",
    "ensembles = []\n",
    "ensembles.append(('ScaledAB', Pipeline([('Scaler', StandardScaler()),('AB',\n",
    "AdaBoostRegressor())])))\n",
    "ensembles.append(('ScaledGBM', Pipeline([('Scaler', StandardScaler()),('GBM',\n",
    "GradientBoostingRegressor())])))\n",
    "ensembles.append(('ScaledRF', Pipeline([('Scaler', StandardScaler()),('RF',\n",
    "RandomForestRegressor())])))\n",
    "ensembles.append(('ScaledET', Pipeline([('Scaler', StandardScaler()),('ET',\n",
    "ExtraTreesRegressor())])))"
   ]
  },
  {
   "cell_type": "code",
   "execution_count": 85,
   "metadata": {},
   "outputs": [
    {
     "name": "stdout",
     "output_type": "stream",
     "text": [
      "ScaledAB: -11215241.736630 (1801060.137971)\n",
      "ScaledGBM: -5196708.543905 (476460.836702)\n",
      "ScaledRF: -5243667.640895 (496090.677152)\n",
      "ScaledET: -5533696.563145 (477484.362711)\n"
     ]
    }
   ],
   "source": [
    "results = []\n",
    "names = []\n",
    "for name, model in ensembles:\n",
    "    kfold = KFold(n_splits=num_folds, random_state=seed)\n",
    "    cv_results = cross_val_score(model, X_train, y_train, cv=kfold, scoring=scoring)\n",
    "    results.append(cv_results)\n",
    "    names.append(name)\n",
    "    msg = \"%s: %f (%f)\" % (name, cv_results.mean(), cv_results.std())\n",
    "    print(msg)"
   ]
  },
  {
   "cell_type": "code",
   "execution_count": 87,
   "metadata": {},
   "outputs": [
    {
     "data": {
      "text/plain": [
       "[Text(1, 0, 'ScaledAB'),\n",
       " Text(2, 0, 'ScaledGBM'),\n",
       " Text(3, 0, 'ScaledRF'),\n",
       " Text(4, 0, 'ScaledET')]"
      ]
     },
     "execution_count": 87,
     "metadata": {},
     "output_type": "execute_result"
    },
    {
     "data": {
      "image/png": "[encoded data removed]",
      "text/plain": [
       "<Figure size 432x288 with 1 Axes>"
      ]
     },
     "metadata": {
      "needs_background": "light"
     },
     "output_type": "display_data"
    }
   ],
   "source": [
    "# Compare Algorithms\n",
    "fig = plt.figure()\n",
    "fig.suptitle('Scaled Ensemble Algorithm Comparison')\n",
    "ax = fig.add_subplot(111)\n",
    "plt.boxplot(results)\n",
    "ax.set_xticklabels(names)"
   ]
  },
  {
   "cell_type": "code",
   "execution_count": 88,
   "metadata": {},
   "outputs": [],
   "source": [
    "# Tune scaled GBM\n",
    "scaler = StandardScaler().fit(X_train)\n",
    "rescaledX = scaler.transform(X_train)\n",
    "param_grid = dict(n_estimators=np.array([50,100,150,200,250,300,350,400]))\n",
    "model = GradientBoostingRegressor(random_state=seed)\n",
    "kfold = KFold(n_splits=num_folds, random_state=seed)\n",
    "grid = GridSearchCV(estimator=model, param_grid=param_grid, scoring=scoring, cv=kfold)\n",
    "grid_result = grid.fit(rescaledX, y_train)"
   ]
  },
  {
   "cell_type": "code",
   "execution_count": 89,
   "metadata": {},
   "outputs": [
    {
     "name": "stdout",
     "output_type": "stream",
     "text": [
      "Best: -5192759.599212 using {'n_estimators': 100}\n",
      "-5202428.417498 (478688.524771) with: {'n_estimators': 50}\n",
      "-5192759.599212 (473833.235863) with: {'n_estimators': 100}\n",
      "-5209746.485576 (456889.963643) with: {'n_estimators': 150}\n",
      "-5231876.472191 (458873.332548) with: {'n_estimators': 200}\n",
      "-5260123.310598 (448890.022244) with: {'n_estimators': 250}\n",
      "-5296215.560769 (441103.192423) with: {'n_estimators': 300}\n",
      "-5319308.176927 (439743.123826) with: {'n_estimators': 350}\n",
      "-5345924.998528 (431406.079091) with: {'n_estimators': 400}\n"
     ]
    }
   ],
   "source": [
    "print(\"Best: %f using %s\" % (grid_result.best_score_, grid_result.best_params_))\n",
    "means = grid_result.cv_results_['mean_test_score']\n",
    "stds = grid_result.cv_results_['std_test_score']\n",
    "params = grid_result.cv_results_['params']\n",
    "for mean, stdev, param in zip(means, stds, params):\n",
    "    print(\"%f (%f) with: %r\" % (mean, stdev, param))"
   ]
  },
  {
   "cell_type": "code",
   "execution_count": 90,
   "metadata": {},
   "outputs": [],
   "source": [
    "sub = test_df[cols]\n",
    "GBR_pred  = grid_result.predict(sub)\n",
    "submissiondataset = pd.DataFrame({'ID': test_df.ID, 'total_cost': GBR_pred})\n",
    "submissiondataset.to_csv('submit5.csv',index=False)"
   ]
  },
  {
   "cell_type": "code",
   "execution_count": 91,
   "metadata": {},
   "outputs": [
    {
     "name": "stdout",
     "output_type": "stream",
     "text": [
      "[14:45:42] WARNING: ..\\src\\learner.cc:573: \n",
      "Parameters: { \"gama\" } might not be used.\n",
      "\n",
      "  This may not be accurate due to some parameters are only used in language bindings but\n",
      "  passed down to XGBoost core.  Or some parameters are not used but slip through this\n",
      "  verification. Please open an issue if you find above cases.\n",
      "\n",
      "\n",
      "Error 4706961.688367414\n",
      "mape 297.69526281297385\n",
      "Accuracy of the xgb on training set 0.4177: \n",
      "Accuracy of the xgb on testing set 0.3850: \n"
     ]
    }
   ],
   "source": [
    "from xgboost import XGBRegressor\n",
    "xgb=XGBRegressor( n_estimators= 170,learning_rate = 0.01,max_depth = 7, subsample=0.1,min_child_weight=4,\n",
    "                 colsample_bytree=1, random_state=10, gama=10, reg_alpha=100, scale_pos_weight =10 )\n",
    "xgb.fit(X_train, y_train)\n",
    "y_pred = xgb.predict(X_test)\n",
    "\n",
    "\n",
    "mae = mean_absolute_error(y_test, y_pred)\n",
    "mape = np.mean(np.abs(y_test-y_pred)/y_test)*100\n",
    "print('Error {}'.format(mae))\n",
    "print('mape {}'.format(mape))\n",
    "print('Accuracy of the xgb on training set {:.4f}: '.format(xgb.score(X_train, y_train)))\n",
    "print('Accuracy of the xgb on testing set {:.4f}: '.format(xgb.score(X_test, y_test)))"
   ]
  },
  {
   "cell_type": "code",
   "execution_count": 92,
   "metadata": {},
   "outputs": [
    {
     "name": "stdout",
     "output_type": "stream",
     "text": [
      "[14:45:53] WARNING: ..\\src\\learner.cc:573: \n",
      "Parameters: { \"gama\" } might not be used.\n",
      "\n",
      "  This may not be accurate due to some parameters are only used in language bindings but\n",
      "  passed down to XGBoost core.  Or some parameters are not used but slip through this\n",
      "  verification. Please open an issue if you find above cases.\n",
      "\n",
      "\n",
      "Error 4706961.688367414\n",
      "mape 297.69526281297385\n",
      "Accuracy of the xgb on training set 0.5810: \n",
      "Accuracy of the xgb on testing set 0.4287: \n"
     ]
    }
   ],
   "source": [
    "estimators = []\n",
    "estimators.append(('normalizer', StandardScaler()))\n",
    "estimators.append(('DTC', XGBRegressor(n_estimators= 200,learning_rate = 0.05,max_depth = 4, subsample=0.9,min_child_weight=15,\n",
    "                 colsample_bytree=1, random_state=10, gama=100, scale_pos_weight = 1)))\n",
    "DT_model = Pipeline(estimators).fit(X_train, y_train)\n",
    "\n",
    "mae = mean_absolute_error(y_test, y_pred)\n",
    "mape = np.mean(np.abs(y_test-y_pred)/y_test)*100\n",
    "print('Error {}'.format(mae))\n",
    "print('mape {}'.format(mape))\n",
    "print('Accuracy of the xgb on training set {:.4f}: '.format(DT_model.score(X_train, y_train)))\n",
    "print('Accuracy of the xgb on testing set {:.4f}: '.format(DT_model.score(X_test, y_test)))"
   ]
  },
  {
   "cell_type": "code",
   "execution_count": 93,
   "metadata": {},
   "outputs": [
    {
     "name": "stdout",
     "output_type": "stream",
     "text": [
      "[14:46:05] WARNING: ..\\src\\learner.cc:573: \n",
      "Parameters: { \"gama\" } might not be used.\n",
      "\n",
      "  This may not be accurate due to some parameters are only used in language bindings but\n",
      "  passed down to XGBoost core.  Or some parameters are not used but slip through this\n",
      "  verification. Please open an issue if you find above cases.\n",
      "\n",
      "\n",
      "Accuracy of the xgb on training set 0.4198: \n"
     ]
    }
   ],
   "source": [
    "xgb.fit(X, y)\n",
    "print('Accuracy of the xgb on training set {:.4f}: '.format(xgb.score(X, y)))"
   ]
  },
  {
   "cell_type": "code",
   "execution_count": 94,
   "metadata": {},
   "outputs": [],
   "source": [
    "#predict and prepare submission file\n",
    "sub = test_df[cols]\n",
    "predictions_xgb  = xgb.predict(sub)\n",
    "submission_df = pd.DataFrame({'ID': test_df.ID, 'total_cost': predictions_xgb})\n",
    "submission_df.to_csv('submit13.csv',index=False)"
   ]
  },
  {
   "cell_type": "code",
   "execution_count": 95,
   "metadata": {},
   "outputs": [
    {
     "name": "stdout",
     "output_type": "stream",
     "text": [
      "[14:46:30] WARNING: ..\\src\\learner.cc:573: \n",
      "Parameters: { \"gama\", \"ubsample\" } might not be used.\n",
      "\n",
      "  This may not be accurate due to some parameters are only used in language bindings but\n",
      "  passed down to XGBoost core.  Or some parameters are not used but slip through this\n",
      "  verification. Please open an issue if you find above cases.\n",
      "\n",
      "\n",
      "Error 4706961.688367414\n",
      "mape 297.69526281297385\n",
      "Accuracy of the xgb on training set 0.5810: \n",
      "Accuracy of the xgb on testing set 0.4287: \n"
     ]
    }
   ],
   "source": [
    "from sklearn.decomposition import PCA\n",
    "from sklearn.feature_selection import SelectKBest\n",
    "from sklearn.pipeline import Pipeline\n",
    "from sklearn.pipeline import FeatureUnion\n",
    "# create feature union\n",
    "features = []\n",
    "features.append(('pca', PCA(n_components=5)))\n",
    "features.append(('select_best', SelectKBest(k=7)))\n",
    "feature_union = FeatureUnion(features)\n",
    "# create pipeline\n",
    "estimators = []\n",
    "estimators.append(('feature_union', feature_union))\n",
    "estimators.append(('logistic', XGBRegressor(n_estimators= 200,learning_rate = 0.001,\n",
    "                                            max_depth = 8,\n",
    "                                            ubsample=1,\n",
    "                                            min_child_weight=5,\n",
    "                                            colsample_bytree=1, \n",
    "                                            random_state=10, \n",
    "                                            gama=10, \n",
    "                                            scale_pos_weight = 1)))\n",
    "model = Pipeline(estimators).fit(X_train, y_train)\n",
    "\n",
    "mae = mean_absolute_error(y_test, y_pred)\n",
    "mape = np.mean(np.abs(y_test-y_pred)/y_test)*100\n",
    "print('Error {}'.format(mae))\n",
    "print('mape {}'.format(mape))\n",
    "print('Accuracy of the xgb on training set {:.4f}: '.format(DT_model.score(X_train, y_train)))\n",
    "print('Accuracy of the xgb on testing set {:.4f}: '.format(DT_model.score(X_test, y_test)))"
   ]
  },
  {
   "cell_type": "code",
   "execution_count": 96,
   "metadata": {},
   "outputs": [
    {
     "name": "stdout",
     "output_type": "stream",
     "text": [
      "[14:46:39] WARNING: ..\\src\\learner.cc:573: \n",
      "Parameters: { \"gama\", \"ubsample\" } might not be used.\n",
      "\n",
      "  This may not be accurate due to some parameters are only used in language bindings but\n",
      "  passed down to XGBoost core.  Or some parameters are not used but slip through this\n",
      "  verification. Please open an issue if you find above cases.\n",
      "\n",
      "\n",
      "Accuracy of the xgb on training set 0.4198: \n"
     ]
    }
   ],
   "source": [
    "model.fit(X,y)\n",
    "print('Accuracy of the xgb on training set {:.4f}: '.format(xgb.score(X, y)))"
   ]
  },
  {
   "cell_type": "code",
   "execution_count": 97,
   "metadata": {},
   "outputs": [],
   "source": [
    "#predict and prepare submission file\n",
    "sub = test_df[cols]\n",
    "predictions_xgb  = xgb.predict(sub)\n",
    "submission_df = pd.DataFrame({'ID': test_df.ID, 'total_cost': predictions_xgb})\n",
    "submission_df.to_csv('submit10.csv',index=False)"
   ]
  },
  {
   "cell_type": "code",
   "execution_count": 98,
   "metadata": {},
   "outputs": [
    {
     "name": "stdout",
     "output_type": "stream",
     "text": [
      "[0.01618617 0.02212216 0.0216496  0.01827973 0.06341191 0.10896763\n",
      " 0.05670292 0.06972425 0.03900405 0.02401366 0.01666787 0.0133676\n",
      " 0.01611151 0.01135876 0.04114847 0.01618422 0.1990009  0.02542067\n",
      " 0.01468208 0.00753263 0.01352935 0.01312025 0.00485974 0.00800828\n",
      " 0.01377437 0.00359506 0.00139442 0.00062441 0.02234596 0.01275438\n",
      " 0.00941816 0.01529915 0.01116434 0.01470944 0.01370037 0.01264639\n",
      " 0.00140368 0.         0.0095435  0.0165719 ]\n"
     ]
    }
   ],
   "source": [
    "print(xgb.feature_importances_)"
   ]
  },
  {
   "cell_type": "code",
   "execution_count": 99,
   "metadata": {},
   "outputs": [
    {
     "data": {
      "image/png": "[encoded data removed]",
      "text/plain": [
       "<Figure size 432x288 with 1 Axes>"
      ]
     },
     "metadata": {
      "needs_background": "light"
     },
     "output_type": "display_data"
    }
   ],
   "source": [
    "# plot\n",
    "plt.bar(range(len(xgb.feature_importances_)), xgb.feature_importances_)\n",
    "plt.show()\n"
   ]
  },
  {
   "cell_type": "code",
   "execution_count": 103,
   "metadata": {
    "scrolled": false
   },
   "outputs": [
    {
     "data": {
      "text/plain": [
       "<AxesSubplot:title={'center':'Feature importance'}, xlabel='F score', ylabel='Features'>"
      ]
     },
     "execution_count": 103,
     "metadata": {},
     "output_type": "execute_result"
    },
    {
     "data": {
      "image/png": "[encoded data removed]",
      "text/plain": [
       "<Figure size 1080x576 with 1 Axes>"
      ]
     },
     "metadata": {
      "needs_background": "light"
     },
     "output_type": "display_data"
    }
   ],
   "source": [
    "\n",
    "from xgboost import plot_importance\n",
    "fig, ax = plt.subplots(figsize=(15, 8))\n",
    "plot_importance(xgb, ax=ax)"
   ]
  },
  {
   "cell_type": "code",
   "execution_count": null,
   "metadata": {},
   "outputs": [],
   "source": [
    "from sklearn.feature_selection import SelectFromModel"
   ]
  },
  {
   "cell_type": "code",
   "execution_count": null,
   "metadata": {},
   "outputs": [],
   "source": [
    "# Fit model using each importance as a threshold\n",
    "thresholds = np.sort(xgb.feature_importances_)\n",
    "for thresh in thresholds:\n",
    "# select features using threshold\n",
    "\tselection = SelectFromModel(xgb, threshold=thresh, prefit=True)\n",
    "\tselect_X_train = selection.transform(X_train)\n",
    "\t# train model\n",
    "\tselection_model = XGBRegressor()\n",
    "\tselection_model.fit(select_X_train, y_train)\n",
    "\t# eval model\n",
    "\tselect_X_test = selection.transform(X_test)\n",
    "\tpredictions = selection_model.predict(select_X_test)\n",
    "\taccuracy = mean_absolute_error(y_test, predictions)\n",
    "\tprint(\"Thresh=%.3f, n=%d, Accuracy: %.2f%%\" % (thresh, select_X_train.shape[1], accuracy*100.0))"
   ]
  }
 ],
 "metadata": {
  "kernelspec": {
   "display_name": "Python 3",
   "language": "python",
   "name": "python3"
  },
  "language_info": {
   "codemirror_mode": {
    "name": "ipython",
    "version": 3
   },
   "file_extension": ".py",
   "mimetype": "text/x-python",
   "name": "python",
   "nbconvert_exporter": "python",
   "pygments_lexer": "ipython3",
   "version": "3.8.8"
  }
 },
 "nbformat": 4,
 "nbformat_minor": 4
}
