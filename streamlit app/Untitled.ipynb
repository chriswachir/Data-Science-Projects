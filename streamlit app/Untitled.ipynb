{
 "cells": [
  {
   "cell_type": "code",
   "execution_count": 2,
   "metadata": {},
   "outputs": [],
   "source": [
    "import pandas as pd \n",
    "import numpy as np \n",
    "import matplotlib.pyplot as plt \n",
    "import seaborn as sns"
   ]
  },
  {
   "cell_type": "code",
   "execution_count": 4,
   "metadata": {},
   "outputs": [
    {
     "data": {
      "text/html": [
       "<div>\n",
       "<style scoped>\n",
       "    .dataframe tbody tr th:only-of-type {\n",
       "        vertical-align: middle;\n",
       "    }\n",
       "\n",
       "    .dataframe tbody tr th {\n",
       "        vertical-align: top;\n",
       "    }\n",
       "\n",
       "    .dataframe thead th {\n",
       "        text-align: right;\n",
       "    }\n",
       "</style>\n",
       "<table border=\"1\" class=\"dataframe\">\n",
       "  <thead>\n",
       "    <tr style=\"text-align: right;\">\n",
       "      <th></th>\n",
       "      <th>op_type</th>\n",
       "      <th>district</th>\n",
       "      <th>street</th>\n",
       "      <th>rooms</th>\n",
       "      <th>area</th>\n",
       "      <th>floor</th>\n",
       "      <th>total_floors</th>\n",
       "      <th>house_seria</th>\n",
       "      <th>house_type</th>\n",
       "      <th>condition</th>\n",
       "      <th>price</th>\n",
       "      <th>lat</th>\n",
       "      <th>lon</th>\n",
       "    </tr>\n",
       "  </thead>\n",
       "  <tbody>\n",
       "    <tr>\n",
       "      <th>0</th>\n",
       "      <td>For rent</td>\n",
       "      <td>Purvciems</td>\n",
       "      <td>Dzelzavas 93</td>\n",
       "      <td>1</td>\n",
       "      <td>27.0</td>\n",
       "      <td>3.0</td>\n",
       "      <td>5.0</td>\n",
       "      <td>LT proj.</td>\n",
       "      <td>Brick-Panel</td>\n",
       "      <td>All amenities</td>\n",
       "      <td>250.0</td>\n",
       "      <td>56.955484</td>\n",
       "      <td>24.202139</td>\n",
       "    </tr>\n",
       "    <tr>\n",
       "      <th>1</th>\n",
       "      <td>For rent</td>\n",
       "      <td>Ziepniekkalns</td>\n",
       "      <td>Ozolciema 32</td>\n",
       "      <td>2</td>\n",
       "      <td>50.0</td>\n",
       "      <td>7.0</td>\n",
       "      <td>9.0</td>\n",
       "      <td>602.</td>\n",
       "      <td>Panel</td>\n",
       "      <td>All amenities</td>\n",
       "      <td>300.0</td>\n",
       "      <td>56.899798</td>\n",
       "      <td>24.098350</td>\n",
       "    </tr>\n",
       "    <tr>\n",
       "      <th>2</th>\n",
       "      <td>For sale</td>\n",
       "      <td>centrs</td>\n",
       "      <td>Ieroču 6</td>\n",
       "      <td>2</td>\n",
       "      <td>33.0</td>\n",
       "      <td>1.0</td>\n",
       "      <td>2.0</td>\n",
       "      <td>P. kara</td>\n",
       "      <td>Wood</td>\n",
       "      <td>Partial amenities</td>\n",
       "      <td>13500.0</td>\n",
       "      <td>56.975092</td>\n",
       "      <td>24.139884</td>\n",
       "    </tr>\n",
       "    <tr>\n",
       "      <th>3</th>\n",
       "      <td>For sale</td>\n",
       "      <td>Ķengarags</td>\n",
       "      <td>Maskavas 305</td>\n",
       "      <td>2</td>\n",
       "      <td>50.0</td>\n",
       "      <td>5.0</td>\n",
       "      <td>5.0</td>\n",
       "      <td>LT proj.</td>\n",
       "      <td>Panel</td>\n",
       "      <td>All amenities</td>\n",
       "      <td>34000.0</td>\n",
       "      <td>56.859788</td>\n",
       "      <td>24.308342</td>\n",
       "    </tr>\n",
       "    <tr>\n",
       "      <th>4</th>\n",
       "      <td>For rent</td>\n",
       "      <td>Teika</td>\n",
       "      <td>Zemgala gatve 80</td>\n",
       "      <td>3</td>\n",
       "      <td>76.0</td>\n",
       "      <td>3.0</td>\n",
       "      <td>12.0</td>\n",
       "      <td>Jaun.</td>\n",
       "      <td>Masonry</td>\n",
       "      <td>All amenities</td>\n",
       "      <td>490.0</td>\n",
       "      <td>56.977745</td>\n",
       "      <td>24.166042</td>\n",
       "    </tr>\n",
       "  </tbody>\n",
       "</table>\n",
       "</div>"
      ],
      "text/plain": [
       "    op_type       district            street rooms  area  floor  total_floors  \\\n",
       "0  For rent      Purvciems      Dzelzavas 93     1  27.0    3.0           5.0   \n",
       "1  For rent  Ziepniekkalns      Ozolciema 32     2  50.0    7.0           9.0   \n",
       "2  For sale         centrs          Ieroču 6     2  33.0    1.0           2.0   \n",
       "3  For sale      Ķengarags      Maskavas 305     2  50.0    5.0           5.0   \n",
       "4  For rent          Teika  Zemgala gatve 80     3  76.0    3.0          12.0   \n",
       "\n",
       "  house_seria   house_type          condition    price        lat        lon  \n",
       "0    LT proj.  Brick-Panel      All amenities    250.0  56.955484  24.202139  \n",
       "1        602.        Panel      All amenities    300.0  56.899798  24.098350  \n",
       "2     P. kara         Wood  Partial amenities  13500.0  56.975092  24.139884  \n",
       "3    LT proj.        Panel      All amenities  34000.0  56.859788  24.308342  \n",
       "4       Jaun.      Masonry      All amenities    490.0  56.977745  24.166042  "
      ]
     },
     "execution_count": 4,
     "metadata": {},
     "output_type": "execute_result"
    }
   ],
   "source": [
    "real_estate = pd.read_csv('riga_re.csv')\n",
    "real_estate.head()"
   ]
  },
  {
   "cell_type": "code",
   "execution_count": 6,
   "metadata": {},
   "outputs": [
    {
     "data": {
      "text/plain": [
       "(4689, 13)"
      ]
     },
     "execution_count": 6,
     "metadata": {},
     "output_type": "execute_result"
    }
   ],
   "source": [
    "real_estate.shape"
   ]
  },
  {
   "cell_type": "code",
   "execution_count": 7,
   "metadata": {},
   "outputs": [
    {
     "data": {
      "text/plain": [
       "211"
      ]
     },
     "execution_count": 7,
     "metadata": {},
     "output_type": "execute_result"
    }
   ],
   "source": [
    "real_estate.duplicated().sum()"
   ]
  },
  {
   "cell_type": "code",
   "execution_count": 8,
   "metadata": {},
   "outputs": [],
   "source": [
    "real_estate = real_estate.drop_duplicates()"
   ]
  },
  {
   "cell_type": "code",
   "execution_count": 9,
   "metadata": {},
   "outputs": [
    {
     "data": {
      "text/plain": [
       "op_type           0\n",
       "district         12\n",
       "street          303\n",
       "rooms           117\n",
       "area            215\n",
       "floor           184\n",
       "total_floors    195\n",
       "house_seria     293\n",
       "house_type      301\n",
       "condition       259\n",
       "price           321\n",
       "lat             204\n",
       "lon             204\n",
       "dtype: int64"
      ]
     },
     "execution_count": 9,
     "metadata": {},
     "output_type": "execute_result"
    }
   ],
   "source": [
    "real_estate.isna().sum()"
   ]
  },
  {
   "cell_type": "code",
   "execution_count": 10,
   "metadata": {},
   "outputs": [],
   "source": [
    "real_estate = real_estate.dropna()"
   ]
  },
  {
   "cell_type": "code",
   "execution_count": 11,
   "metadata": {},
   "outputs": [],
   "source": [
    "real_estate.to_csv('real_estate_clean.csv', index=False)"
   ]
  },
  {
   "cell_type": "code",
   "execution_count": null,
   "metadata": {},
   "outputs": [],
   "source": []
  }
 ],
 "metadata": {
  "kernelspec": {
   "display_name": "Python 3",
   "language": "python",
   "name": "python3"
  }
 },
 "nbformat": 4,
 "nbformat_minor": 4
}
