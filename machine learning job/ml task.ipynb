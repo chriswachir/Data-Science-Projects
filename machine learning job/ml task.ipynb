{
 "cells": [
  {
   "cell_type": "code",
   "execution_count": 2,
   "metadata": {},
   "outputs": [],
   "source": [
    "import pandas as pd\n",
    "import numpy as np\n",
    "import matplotlib.pyplot as plt\n",
    "import sklearn\n",
    "import seaborn as sn\n",
    "\n",
    "import warnings\n",
    "warnings = warnings.filterwarnings('ignore')"
   ]
  },
  {
   "cell_type": "code",
   "execution_count": 3,
   "metadata": {},
   "outputs": [
    {
     "data": {
      "text/html": [
       "<div>\n",
       "<style scoped>\n",
       "    .dataframe tbody tr th:only-of-type {\n",
       "        vertical-align: middle;\n",
       "    }\n",
       "\n",
       "    .dataframe tbody tr th {\n",
       "        vertical-align: top;\n",
       "    }\n",
       "\n",
       "    .dataframe thead th {\n",
       "        text-align: right;\n",
       "    }\n",
       "</style>\n",
       "<table border=\"1\" class=\"dataframe\">\n",
       "  <thead>\n",
       "    <tr style=\"text-align: right;\">\n",
       "      <th></th>\n",
       "      <th>TUCASEID</th>\n",
       "      <th>TULINENO</th>\n",
       "      <th>EEINCOME1</th>\n",
       "      <th>ERBMI</th>\n",
       "      <th>ERHHCH</th>\n",
       "      <th>ERINCOME</th>\n",
       "      <th>ERSPEMCH</th>\n",
       "      <th>ERTPREAT</th>\n",
       "      <th>ERTSEAT</th>\n",
       "      <th>ETHGT</th>\n",
       "      <th>...</th>\n",
       "      <th>EUMEAT</th>\n",
       "      <th>EUMILK</th>\n",
       "      <th>EUPRPMEL</th>\n",
       "      <th>EUSODA</th>\n",
       "      <th>EUSTORES</th>\n",
       "      <th>EUSTREASON</th>\n",
       "      <th>EUTHERM</th>\n",
       "      <th>EUWGT</th>\n",
       "      <th>EUWIC</th>\n",
       "      <th>EXINCOME1</th>\n",
       "    </tr>\n",
       "  </thead>\n",
       "  <tbody>\n",
       "    <tr>\n",
       "      <th>0</th>\n",
       "      <td>20150101150018</td>\n",
       "      <td>1</td>\n",
       "      <td>1</td>\n",
       "      <td>31.4</td>\n",
       "      <td>3</td>\n",
       "      <td>1</td>\n",
       "      <td>-1</td>\n",
       "      <td>50</td>\n",
       "      <td>0</td>\n",
       "      <td>0</td>\n",
       "      <td>...</td>\n",
       "      <td>1</td>\n",
       "      <td>2</td>\n",
       "      <td>1</td>\n",
       "      <td>2</td>\n",
       "      <td>-1</td>\n",
       "      <td>-1</td>\n",
       "      <td>2</td>\n",
       "      <td>161</td>\n",
       "      <td>2</td>\n",
       "      <td>0</td>\n",
       "    </tr>\n",
       "    <tr>\n",
       "      <th>1</th>\n",
       "      <td>20150101150053</td>\n",
       "      <td>1</td>\n",
       "      <td>2</td>\n",
       "      <td>25.7</td>\n",
       "      <td>3</td>\n",
       "      <td>3</td>\n",
       "      <td>-1</td>\n",
       "      <td>120</td>\n",
       "      <td>0</td>\n",
       "      <td>0</td>\n",
       "      <td>...</td>\n",
       "      <td>1</td>\n",
       "      <td>2</td>\n",
       "      <td>1</td>\n",
       "      <td>-1</td>\n",
       "      <td>1</td>\n",
       "      <td>2</td>\n",
       "      <td>2</td>\n",
       "      <td>195</td>\n",
       "      <td>-1</td>\n",
       "      <td>0</td>\n",
       "    </tr>\n",
       "    <tr>\n",
       "      <th>2</th>\n",
       "      <td>20150101150071</td>\n",
       "      <td>1</td>\n",
       "      <td>1</td>\n",
       "      <td>29.6</td>\n",
       "      <td>3</td>\n",
       "      <td>1</td>\n",
       "      <td>-1</td>\n",
       "      <td>50</td>\n",
       "      <td>-2</td>\n",
       "      <td>0</td>\n",
       "      <td>...</td>\n",
       "      <td>1</td>\n",
       "      <td>2</td>\n",
       "      <td>1</td>\n",
       "      <td>2</td>\n",
       "      <td>-1</td>\n",
       "      <td>-1</td>\n",
       "      <td>2</td>\n",
       "      <td>178</td>\n",
       "      <td>-1</td>\n",
       "      <td>0</td>\n",
       "    </tr>\n",
       "    <tr>\n",
       "      <th>3</th>\n",
       "      <td>20150101150146</td>\n",
       "      <td>1</td>\n",
       "      <td>3</td>\n",
       "      <td>23.4</td>\n",
       "      <td>3</td>\n",
       "      <td>2</td>\n",
       "      <td>5</td>\n",
       "      <td>95</td>\n",
       "      <td>30</td>\n",
       "      <td>0</td>\n",
       "      <td>...</td>\n",
       "      <td>1</td>\n",
       "      <td>2</td>\n",
       "      <td>1</td>\n",
       "      <td>1</td>\n",
       "      <td>1</td>\n",
       "      <td>4</td>\n",
       "      <td>2</td>\n",
       "      <td>132</td>\n",
       "      <td>-1</td>\n",
       "      <td>0</td>\n",
       "    </tr>\n",
       "    <tr>\n",
       "      <th>4</th>\n",
       "      <td>20150101150147</td>\n",
       "      <td>1</td>\n",
       "      <td>1</td>\n",
       "      <td>35.9</td>\n",
       "      <td>1</td>\n",
       "      <td>1</td>\n",
       "      <td>5</td>\n",
       "      <td>140</td>\n",
       "      <td>5</td>\n",
       "      <td>0</td>\n",
       "      <td>...</td>\n",
       "      <td>1</td>\n",
       "      <td>2</td>\n",
       "      <td>1</td>\n",
       "      <td>1</td>\n",
       "      <td>1</td>\n",
       "      <td>1</td>\n",
       "      <td>2</td>\n",
       "      <td>250</td>\n",
       "      <td>-1</td>\n",
       "      <td>0</td>\n",
       "    </tr>\n",
       "  </tbody>\n",
       "</table>\n",
       "<p>5 rows × 37 columns</p>\n",
       "</div>"
      ],
      "text/plain": [
       "         TUCASEID  TULINENO  EEINCOME1  ERBMI  ERHHCH  ERINCOME  ERSPEMCH  \\\n",
       "0  20150101150018         1          1   31.4       3         1        -1   \n",
       "1  20150101150053         1          2   25.7       3         3        -1   \n",
       "2  20150101150071         1          1   29.6       3         1        -1   \n",
       "3  20150101150146         1          3   23.4       3         2         5   \n",
       "4  20150101150147         1          1   35.9       1         1         5   \n",
       "\n",
       "   ERTPREAT  ERTSEAT  ETHGT    ...      EUMEAT  EUMILK  EUPRPMEL  EUSODA  \\\n",
       "0        50        0      0    ...           1       2         1       2   \n",
       "1       120        0      0    ...           1       2         1      -1   \n",
       "2        50       -2      0    ...           1       2         1       2   \n",
       "3        95       30      0    ...           1       2         1       1   \n",
       "4       140        5      0    ...           1       2         1       1   \n",
       "\n",
       "   EUSTORES  EUSTREASON  EUTHERM  EUWGT  EUWIC  EXINCOME1  \n",
       "0        -1          -1        2    161      2          0  \n",
       "1         1           2        2    195     -1          0  \n",
       "2        -1          -1        2    178     -1          0  \n",
       "3         1           4        2    132     -1          0  \n",
       "4         1           1        2    250     -1          0  \n",
       "\n",
       "[5 rows x 37 columns]"
      ]
     },
     "execution_count": 3,
     "metadata": {},
     "output_type": "execute_result"
    }
   ],
   "source": [
    "# importing the dataset\n",
    "mldata = pd.read_csv('ehresp_2015.csv')\n",
    "mldata.head(5)"
   ]
  },
  {
   "cell_type": "code",
   "execution_count": 4,
   "metadata": {},
   "outputs": [
    {
     "data": {
      "text/plain": [
       "Index(['TUCASEID', 'TULINENO', 'EEINCOME1', 'ERBMI', 'ERHHCH', 'ERINCOME',\n",
       "       'ERSPEMCH', 'ERTPREAT', 'ERTSEAT', 'ETHGT', 'ETWGT', 'EUDIETSODA',\n",
       "       'EUDRINK', 'EUEAT', 'EUEXERCISE', 'EUEXFREQ', 'EUFASTFD', 'EUFASTFDFRQ',\n",
       "       'EUFFYDAY', 'EUFDSIT', 'EUFINLWGT', 'EUSNAP', 'EUGENHTH', 'EUGROSHP',\n",
       "       'EUHGT', 'EUINCLVL', 'EUINCOME2', 'EUMEAT', 'EUMILK', 'EUPRPMEL',\n",
       "       'EUSODA', 'EUSTORES', 'EUSTREASON', 'EUTHERM', 'EUWGT', 'EUWIC',\n",
       "       'EXINCOME1'],\n",
       "      dtype='object')"
      ]
     },
     "execution_count": 4,
     "metadata": {},
     "output_type": "execute_result"
    }
   ],
   "source": [
    "mldata.columns"
   ]
  },
  {
   "cell_type": "code",
   "execution_count": 5,
   "metadata": {},
   "outputs": [],
   "source": [
    "mldata_subset = mldata[['ERBMI','ERINCOME','EUEXFREQ','EUFASTFDFRQ',]]"
   ]
  },
  {
   "cell_type": "code",
   "execution_count": null,
   "metadata": {},
   "outputs": [],
   "source": []
  },
  {
   "cell_type": "code",
   "execution_count": 6,
   "metadata": {},
   "outputs": [
    {
     "data": {
      "text/html": [
       "<div>\n",
       "<style scoped>\n",
       "    .dataframe tbody tr th:only-of-type {\n",
       "        vertical-align: middle;\n",
       "    }\n",
       "\n",
       "    .dataframe tbody tr th {\n",
       "        vertical-align: top;\n",
       "    }\n",
       "\n",
       "    .dataframe thead th {\n",
       "        text-align: right;\n",
       "    }\n",
       "</style>\n",
       "<table border=\"1\" class=\"dataframe\">\n",
       "  <thead>\n",
       "    <tr style=\"text-align: right;\">\n",
       "      <th></th>\n",
       "      <th>ERBMI</th>\n",
       "      <th>ERINCOME</th>\n",
       "      <th>EUEXFREQ</th>\n",
       "      <th>EUFASTFDFRQ</th>\n",
       "    </tr>\n",
       "  </thead>\n",
       "  <tbody>\n",
       "    <tr>\n",
       "      <th>0</th>\n",
       "      <td>31.4</td>\n",
       "      <td>1</td>\n",
       "      <td>5</td>\n",
       "      <td>-1</td>\n",
       "    </tr>\n",
       "    <tr>\n",
       "      <th>1</th>\n",
       "      <td>25.7</td>\n",
       "      <td>3</td>\n",
       "      <td>4</td>\n",
       "      <td>2</td>\n",
       "    </tr>\n",
       "    <tr>\n",
       "      <th>2</th>\n",
       "      <td>29.6</td>\n",
       "      <td>1</td>\n",
       "      <td>-1</td>\n",
       "      <td>2</td>\n",
       "    </tr>\n",
       "    <tr>\n",
       "      <th>3</th>\n",
       "      <td>23.4</td>\n",
       "      <td>2</td>\n",
       "      <td>6</td>\n",
       "      <td>1</td>\n",
       "    </tr>\n",
       "    <tr>\n",
       "      <th>4</th>\n",
       "      <td>35.9</td>\n",
       "      <td>1</td>\n",
       "      <td>-1</td>\n",
       "      <td>5</td>\n",
       "    </tr>\n",
       "  </tbody>\n",
       "</table>\n",
       "</div>"
      ],
      "text/plain": [
       "   ERBMI  ERINCOME  EUEXFREQ  EUFASTFDFRQ\n",
       "0   31.4         1         5           -1\n",
       "1   25.7         3         4            2\n",
       "2   29.6         1        -1            2\n",
       "3   23.4         2         6            1\n",
       "4   35.9         1        -1            5"
      ]
     },
     "execution_count": 6,
     "metadata": {},
     "output_type": "execute_result"
    }
   ],
   "source": [
    "mldata_subset.head(5)"
   ]
  },
  {
   "cell_type": "code",
   "execution_count": 7,
   "metadata": {},
   "outputs": [
    {
     "data": {
      "text/plain": [
       "(10626, 4)"
      ]
     },
     "execution_count": 7,
     "metadata": {},
     "output_type": "execute_result"
    }
   ],
   "source": [
    "mldata_subset.shape"
   ]
  },
  {
   "cell_type": "code",
   "execution_count": 8,
   "metadata": {
    "scrolled": true
   },
   "outputs": [
    {
     "data": {
      "text/plain": [
       "ERBMI          0\n",
       "ERINCOME       0\n",
       "EUEXFREQ       0\n",
       "EUFASTFDFRQ    0\n",
       "dtype: int64"
      ]
     },
     "execution_count": 8,
     "metadata": {},
     "output_type": "execute_result"
    }
   ],
   "source": [
    "mldata_subset.isnull().sum()"
   ]
  },
  {
   "cell_type": "code",
   "execution_count": 9,
   "metadata": {},
   "outputs": [
    {
     "data": {
      "text/plain": [
       "ERBMI             AxesSubplot(0.125,0.536818;0.352273x0.343182)\n",
       "ERINCOME       AxesSubplot(0.547727,0.536818;0.352273x0.343182)\n",
       "EUEXFREQ             AxesSubplot(0.125,0.125;0.352273x0.343182)\n",
       "EUFASTFDFRQ       AxesSubplot(0.547727,0.125;0.352273x0.343182)\n",
       "dtype: object"
      ]
     },
     "execution_count": 9,
     "metadata": {},
     "output_type": "execute_result"
    },
    {
     "data": {
      "image/png": "[encoded data removed]",
      "text/plain": [
       "<Figure size 432x288 with 4 Axes>"
      ]
     },
     "metadata": {
      "needs_background": "light"
     },
     "output_type": "display_data"
    }
   ],
   "source": [
    "mldata_subset.plot(kind='box', subplots=True, layout=(2,2), sharex=False, sharey=False, figsize=(6, 4))"
   ]
  },
  {
   "cell_type": "markdown",
   "metadata": {},
   "source": [
    "### outlier detection"
   ]
  },
  {
   "cell_type": "code",
   "execution_count": 10,
   "metadata": {},
   "outputs": [],
   "source": [
    "from scipy import stats"
   ]
  },
  {
   "cell_type": "code",
   "execution_count": 11,
   "metadata": {},
   "outputs": [
    {
     "name": "stdout",
     "output_type": "stream",
     "text": [
      "[[0.57219317 0.60204768 0.79956535 0.82537295]\n",
      " [0.07283845 0.60477342 0.50311799 0.35657031]\n",
      " [0.36849897 0.60204768 0.97911883 0.35657031]\n",
      " ...\n",
      " [0.18743747 0.60204768 0.79956535 1.53851357]\n",
      " [1.70382758 0.60204768 0.08977674 0.82537295]\n",
      " [0.94563252 0.60477342 0.20667063 0.35657031]]\n"
     ]
    }
   ],
   "source": [
    "z = np.abs(stats.zscore(mldata_subset))\n",
    "print(z)"
   ]
  },
  {
   "cell_type": "code",
   "execution_count": 12,
   "metadata": {},
   "outputs": [
    {
     "name": "stdout",
     "output_type": "stream",
     "text": [
      "(array([    5,    12,    21, ..., 10596, 10601, 10604], dtype=int64), array([2, 0, 0, ..., 2, 0, 0], dtype=int64))\n"
     ]
    }
   ],
   "source": [
    "threshold = 2\n",
    "print(np.where(z>2))"
   ]
  },
  {
   "cell_type": "markdown",
   "metadata": {},
   "source": [
    "### filtering out outliers using z score method\n"
   ]
  },
  {
   "cell_type": "code",
   "execution_count": 13,
   "metadata": {},
   "outputs": [],
   "source": [
    "mldata_subset_no_outliers = mldata_subset[(z<2).all(axis=1)]"
   ]
  },
  {
   "cell_type": "code",
   "execution_count": 14,
   "metadata": {},
   "outputs": [
    {
     "data": {
      "text/plain": [
       "(9309, 4)"
      ]
     },
     "execution_count": 14,
     "metadata": {},
     "output_type": "execute_result"
    }
   ],
   "source": [
    "mldata_subset_no_outliers.shape"
   ]
  },
  {
   "cell_type": "code",
   "execution_count": 15,
   "metadata": {},
   "outputs": [
    {
     "data": {
      "text/plain": [
       "array([[<matplotlib.axes._subplots.AxesSubplot object at 0x000001E59F055EF0>,\n",
       "        <matplotlib.axes._subplots.AxesSubplot object at 0x000001E59F159780>],\n",
       "       [<matplotlib.axes._subplots.AxesSubplot object at 0x000001E59F1D2CF8>,\n",
       "        <matplotlib.axes._subplots.AxesSubplot object at 0x000001E59F2032B0>]],\n",
       "      dtype=object)"
      ]
     },
     "execution_count": 15,
     "metadata": {},
     "output_type": "execute_result"
    },
    {
     "data": {
      "image/png": "[encoded data removed]",
      "text/plain": [
       "<Figure size 720x720 with 4 Axes>"
      ]
     },
     "metadata": {
      "needs_background": "light"
     },
     "output_type": "display_data"
    }
   ],
   "source": [
    "mldata_subset_no_outliers.hist(figsize = (10, 10))"
   ]
  },
  {
   "cell_type": "code",
   "execution_count": 16,
   "metadata": {},
   "outputs": [
    {
     "data": {
      "text/plain": [
       "array([[<matplotlib.axes._subplots.AxesSubplot object at 0x000001E59F9DFA58>,\n",
       "        <matplotlib.axes._subplots.AxesSubplot object at 0x000001E59FA82A58>],\n",
       "       [<matplotlib.axes._subplots.AxesSubplot object at 0x000001E59F7A8FD0>,\n",
       "        <matplotlib.axes._subplots.AxesSubplot object at 0x000001E59F7D7588>],\n",
       "       [<matplotlib.axes._subplots.AxesSubplot object at 0x000001E59F7FFB00>,\n",
       "        <matplotlib.axes._subplots.AxesSubplot object at 0x000001E59F8320B8>]],\n",
       "      dtype=object)"
      ]
     },
     "execution_count": 16,
     "metadata": {},
     "output_type": "execute_result"
    },
    {
     "data": {
      "image/png": "[encoded data removed]",
      "text/plain": [
       "<Figure size 432x360 with 6 Axes>"
      ]
     },
     "metadata": {
      "needs_background": "light"
     },
     "output_type": "display_data"
    }
   ],
   "source": [
    "mldata_subset_no_outliers.plot(kind='density', subplots=True, layout=(3,2), sharex=False, figsize=(6, 5))"
   ]
  },
  {
   "cell_type": "code",
   "execution_count": 17,
   "metadata": {},
   "outputs": [
    {
     "data": {
      "text/plain": [
       "ERBMI             AxesSubplot(0.125,0.657941;0.352273x0.222059)\n",
       "ERINCOME       AxesSubplot(0.547727,0.657941;0.352273x0.222059)\n",
       "EUEXFREQ          AxesSubplot(0.125,0.391471;0.352273x0.222059)\n",
       "EUFASTFDFRQ    AxesSubplot(0.547727,0.391471;0.352273x0.222059)\n",
       "dtype: object"
      ]
     },
     "execution_count": 17,
     "metadata": {},
     "output_type": "execute_result"
    },
    {
     "data": {
      "image/png": "[encoded data removed]",
      "text/plain": [
       "<Figure size 432x288 with 6 Axes>"
      ]
     },
     "metadata": {
      "needs_background": "light"
     },
     "output_type": "display_data"
    }
   ],
   "source": [
    "mldata_subset_no_outliers.plot(kind='box', subplots=True, layout=(3,2), sharex=False, sharey=False, figsize=(6, 4))"
   ]
  },
  {
   "cell_type": "markdown",
   "metadata": {},
   "source": [
    "### add an OVERWEIGHT indicator column\n"
   ]
  },
  {
   "cell_type": "code",
   "execution_count": 18,
   "metadata": {},
   "outputs": [],
   "source": [
    "mldata_subset_no_outliers['OVERWEIGHT'] = np.where(mldata_subset_no_outliers.ERBMI > 25.0, 1, 0)"
   ]
  },
  {
   "cell_type": "code",
   "execution_count": 19,
   "metadata": {},
   "outputs": [
    {
     "data": {
      "text/html": [
       "<div>\n",
       "<style scoped>\n",
       "    .dataframe tbody tr th:only-of-type {\n",
       "        vertical-align: middle;\n",
       "    }\n",
       "\n",
       "    .dataframe tbody tr th {\n",
       "        vertical-align: top;\n",
       "    }\n",
       "\n",
       "    .dataframe thead th {\n",
       "        text-align: right;\n",
       "    }\n",
       "</style>\n",
       "<table border=\"1\" class=\"dataframe\">\n",
       "  <thead>\n",
       "    <tr style=\"text-align: right;\">\n",
       "      <th></th>\n",
       "      <th>ERBMI</th>\n",
       "      <th>ERINCOME</th>\n",
       "      <th>EUEXFREQ</th>\n",
       "      <th>EUFASTFDFRQ</th>\n",
       "      <th>OVERWEIGHT</th>\n",
       "    </tr>\n",
       "  </thead>\n",
       "  <tbody>\n",
       "    <tr>\n",
       "      <th>0</th>\n",
       "      <td>31.4</td>\n",
       "      <td>1</td>\n",
       "      <td>5</td>\n",
       "      <td>-1</td>\n",
       "      <td>1</td>\n",
       "    </tr>\n",
       "    <tr>\n",
       "      <th>1</th>\n",
       "      <td>25.7</td>\n",
       "      <td>3</td>\n",
       "      <td>4</td>\n",
       "      <td>2</td>\n",
       "      <td>1</td>\n",
       "    </tr>\n",
       "    <tr>\n",
       "      <th>2</th>\n",
       "      <td>29.6</td>\n",
       "      <td>1</td>\n",
       "      <td>-1</td>\n",
       "      <td>2</td>\n",
       "      <td>1</td>\n",
       "    </tr>\n",
       "    <tr>\n",
       "      <th>3</th>\n",
       "      <td>23.4</td>\n",
       "      <td>2</td>\n",
       "      <td>6</td>\n",
       "      <td>1</td>\n",
       "      <td>0</td>\n",
       "    </tr>\n",
       "    <tr>\n",
       "      <th>4</th>\n",
       "      <td>35.9</td>\n",
       "      <td>1</td>\n",
       "      <td>-1</td>\n",
       "      <td>5</td>\n",
       "      <td>1</td>\n",
       "    </tr>\n",
       "  </tbody>\n",
       "</table>\n",
       "</div>"
      ],
      "text/plain": [
       "   ERBMI  ERINCOME  EUEXFREQ  EUFASTFDFRQ  OVERWEIGHT\n",
       "0   31.4         1         5           -1           1\n",
       "1   25.7         3         4            2           1\n",
       "2   29.6         1        -1            2           1\n",
       "3   23.4         2         6            1           0\n",
       "4   35.9         1        -1            5           1"
      ]
     },
     "execution_count": 19,
     "metadata": {},
     "output_type": "execute_result"
    }
   ],
   "source": [
    "mldata_subset_no_outliers.head(5)"
   ]
  },
  {
   "cell_type": "code",
   "execution_count": 20,
   "metadata": {},
   "outputs": [
    {
     "data": {
      "text/plain": [
       "['EUFASTFDFRQ', 'ERINCOME', 'EUEXFREQ', 'ERBMI', 'OVERWEIGHT']"
      ]
     },
     "execution_count": 20,
     "metadata": {},
     "output_type": "execute_result"
    }
   ],
   "source": [
    "cols = list(mldata_subset_no_outliers)\n",
    "cols[0], cols[3] = cols[3], cols[0]\n",
    "cols\n"
   ]
  },
  {
   "cell_type": "code",
   "execution_count": 21,
   "metadata": {},
   "outputs": [
    {
     "data": {
      "text/html": [
       "<div>\n",
       "<style scoped>\n",
       "    .dataframe tbody tr th:only-of-type {\n",
       "        vertical-align: middle;\n",
       "    }\n",
       "\n",
       "    .dataframe tbody tr th {\n",
       "        vertical-align: top;\n",
       "    }\n",
       "\n",
       "    .dataframe thead th {\n",
       "        text-align: right;\n",
       "    }\n",
       "</style>\n",
       "<table border=\"1\" class=\"dataframe\">\n",
       "  <thead>\n",
       "    <tr style=\"text-align: right;\">\n",
       "      <th></th>\n",
       "      <th>EUFASTFDFRQ</th>\n",
       "      <th>ERINCOME</th>\n",
       "      <th>EUEXFREQ</th>\n",
       "      <th>ERBMI</th>\n",
       "      <th>OVERWEIGHT</th>\n",
       "    </tr>\n",
       "  </thead>\n",
       "  <tbody>\n",
       "    <tr>\n",
       "      <th>0</th>\n",
       "      <td>-1</td>\n",
       "      <td>1</td>\n",
       "      <td>5</td>\n",
       "      <td>31.4</td>\n",
       "      <td>1</td>\n",
       "    </tr>\n",
       "    <tr>\n",
       "      <th>1</th>\n",
       "      <td>2</td>\n",
       "      <td>3</td>\n",
       "      <td>4</td>\n",
       "      <td>25.7</td>\n",
       "      <td>1</td>\n",
       "    </tr>\n",
       "    <tr>\n",
       "      <th>2</th>\n",
       "      <td>2</td>\n",
       "      <td>1</td>\n",
       "      <td>-1</td>\n",
       "      <td>29.6</td>\n",
       "      <td>1</td>\n",
       "    </tr>\n",
       "    <tr>\n",
       "      <th>3</th>\n",
       "      <td>1</td>\n",
       "      <td>2</td>\n",
       "      <td>6</td>\n",
       "      <td>23.4</td>\n",
       "      <td>0</td>\n",
       "    </tr>\n",
       "    <tr>\n",
       "      <th>4</th>\n",
       "      <td>5</td>\n",
       "      <td>1</td>\n",
       "      <td>-1</td>\n",
       "      <td>35.9</td>\n",
       "      <td>1</td>\n",
       "    </tr>\n",
       "    <tr>\n",
       "      <th>6</th>\n",
       "      <td>-1</td>\n",
       "      <td>1</td>\n",
       "      <td>-1</td>\n",
       "      <td>30.1</td>\n",
       "      <td>1</td>\n",
       "    </tr>\n",
       "    <tr>\n",
       "      <th>7</th>\n",
       "      <td>1</td>\n",
       "      <td>1</td>\n",
       "      <td>4</td>\n",
       "      <td>33.9</td>\n",
       "      <td>1</td>\n",
       "    </tr>\n",
       "    <tr>\n",
       "      <th>8</th>\n",
       "      <td>3</td>\n",
       "      <td>5</td>\n",
       "      <td>1</td>\n",
       "      <td>26.3</td>\n",
       "      <td>1</td>\n",
       "    </tr>\n",
       "    <tr>\n",
       "      <th>9</th>\n",
       "      <td>3</td>\n",
       "      <td>1</td>\n",
       "      <td>7</td>\n",
       "      <td>22.6</td>\n",
       "      <td>0</td>\n",
       "    </tr>\n",
       "    <tr>\n",
       "      <th>10</th>\n",
       "      <td>-1</td>\n",
       "      <td>2</td>\n",
       "      <td>-1</td>\n",
       "      <td>28.3</td>\n",
       "      <td>1</td>\n",
       "    </tr>\n",
       "    <tr>\n",
       "      <th>11</th>\n",
       "      <td>2</td>\n",
       "      <td>5</td>\n",
       "      <td>8</td>\n",
       "      <td>22.9</td>\n",
       "      <td>0</td>\n",
       "    </tr>\n",
       "    <tr>\n",
       "      <th>13</th>\n",
       "      <td>-1</td>\n",
       "      <td>3</td>\n",
       "      <td>-1</td>\n",
       "      <td>31.4</td>\n",
       "      <td>1</td>\n",
       "    </tr>\n",
       "    <tr>\n",
       "      <th>14</th>\n",
       "      <td>-1</td>\n",
       "      <td>5</td>\n",
       "      <td>6</td>\n",
       "      <td>26.6</td>\n",
       "      <td>1</td>\n",
       "    </tr>\n",
       "    <tr>\n",
       "      <th>15</th>\n",
       "      <td>-1</td>\n",
       "      <td>1</td>\n",
       "      <td>-1</td>\n",
       "      <td>21.8</td>\n",
       "      <td>0</td>\n",
       "    </tr>\n",
       "    <tr>\n",
       "      <th>16</th>\n",
       "      <td>-1</td>\n",
       "      <td>5</td>\n",
       "      <td>3</td>\n",
       "      <td>29.5</td>\n",
       "      <td>1</td>\n",
       "    </tr>\n",
       "    <tr>\n",
       "      <th>17</th>\n",
       "      <td>-1</td>\n",
       "      <td>1</td>\n",
       "      <td>7</td>\n",
       "      <td>25.1</td>\n",
       "      <td>1</td>\n",
       "    </tr>\n",
       "    <tr>\n",
       "      <th>18</th>\n",
       "      <td>2</td>\n",
       "      <td>1</td>\n",
       "      <td>2</td>\n",
       "      <td>29.3</td>\n",
       "      <td>1</td>\n",
       "    </tr>\n",
       "    <tr>\n",
       "      <th>19</th>\n",
       "      <td>-1</td>\n",
       "      <td>1</td>\n",
       "      <td>4</td>\n",
       "      <td>27.9</td>\n",
       "      <td>1</td>\n",
       "    </tr>\n",
       "    <tr>\n",
       "      <th>20</th>\n",
       "      <td>-1</td>\n",
       "      <td>1</td>\n",
       "      <td>-1</td>\n",
       "      <td>25.3</td>\n",
       "      <td>1</td>\n",
       "    </tr>\n",
       "    <tr>\n",
       "      <th>22</th>\n",
       "      <td>2</td>\n",
       "      <td>1</td>\n",
       "      <td>5</td>\n",
       "      <td>22.1</td>\n",
       "      <td>0</td>\n",
       "    </tr>\n",
       "    <tr>\n",
       "      <th>23</th>\n",
       "      <td>2</td>\n",
       "      <td>1</td>\n",
       "      <td>6</td>\n",
       "      <td>22.1</td>\n",
       "      <td>0</td>\n",
       "    </tr>\n",
       "    <tr>\n",
       "      <th>24</th>\n",
       "      <td>-1</td>\n",
       "      <td>-1</td>\n",
       "      <td>7</td>\n",
       "      <td>28.1</td>\n",
       "      <td>1</td>\n",
       "    </tr>\n",
       "    <tr>\n",
       "      <th>25</th>\n",
       "      <td>-1</td>\n",
       "      <td>3</td>\n",
       "      <td>2</td>\n",
       "      <td>28.0</td>\n",
       "      <td>1</td>\n",
       "    </tr>\n",
       "    <tr>\n",
       "      <th>26</th>\n",
       "      <td>3</td>\n",
       "      <td>1</td>\n",
       "      <td>5</td>\n",
       "      <td>19.7</td>\n",
       "      <td>0</td>\n",
       "    </tr>\n",
       "    <tr>\n",
       "      <th>27</th>\n",
       "      <td>-1</td>\n",
       "      <td>1</td>\n",
       "      <td>5</td>\n",
       "      <td>40.5</td>\n",
       "      <td>1</td>\n",
       "    </tr>\n",
       "    <tr>\n",
       "      <th>28</th>\n",
       "      <td>-1</td>\n",
       "      <td>3</td>\n",
       "      <td>7</td>\n",
       "      <td>31.2</td>\n",
       "      <td>1</td>\n",
       "    </tr>\n",
       "    <tr>\n",
       "      <th>29</th>\n",
       "      <td>5</td>\n",
       "      <td>1</td>\n",
       "      <td>7</td>\n",
       "      <td>30.3</td>\n",
       "      <td>1</td>\n",
       "    </tr>\n",
       "    <tr>\n",
       "      <th>30</th>\n",
       "      <td>1</td>\n",
       "      <td>1</td>\n",
       "      <td>6</td>\n",
       "      <td>27.5</td>\n",
       "      <td>1</td>\n",
       "    </tr>\n",
       "    <tr>\n",
       "      <th>31</th>\n",
       "      <td>-1</td>\n",
       "      <td>1</td>\n",
       "      <td>-1</td>\n",
       "      <td>29.2</td>\n",
       "      <td>1</td>\n",
       "    </tr>\n",
       "    <tr>\n",
       "      <th>32</th>\n",
       "      <td>-1</td>\n",
       "      <td>1</td>\n",
       "      <td>1</td>\n",
       "      <td>31.3</td>\n",
       "      <td>1</td>\n",
       "    </tr>\n",
       "    <tr>\n",
       "      <th>...</th>\n",
       "      <td>...</td>\n",
       "      <td>...</td>\n",
       "      <td>...</td>\n",
       "      <td>...</td>\n",
       "      <td>...</td>\n",
       "    </tr>\n",
       "    <tr>\n",
       "      <th>10592</th>\n",
       "      <td>3</td>\n",
       "      <td>1</td>\n",
       "      <td>-1</td>\n",
       "      <td>15.8</td>\n",
       "      <td>0</td>\n",
       "    </tr>\n",
       "    <tr>\n",
       "      <th>10593</th>\n",
       "      <td>2</td>\n",
       "      <td>1</td>\n",
       "      <td>3</td>\n",
       "      <td>31.0</td>\n",
       "      <td>1</td>\n",
       "    </tr>\n",
       "    <tr>\n",
       "      <th>10594</th>\n",
       "      <td>-1</td>\n",
       "      <td>1</td>\n",
       "      <td>7</td>\n",
       "      <td>30.7</td>\n",
       "      <td>1</td>\n",
       "    </tr>\n",
       "    <tr>\n",
       "      <th>10597</th>\n",
       "      <td>4</td>\n",
       "      <td>1</td>\n",
       "      <td>5</td>\n",
       "      <td>22.9</td>\n",
       "      <td>0</td>\n",
       "    </tr>\n",
       "    <tr>\n",
       "      <th>10598</th>\n",
       "      <td>-1</td>\n",
       "      <td>5</td>\n",
       "      <td>2</td>\n",
       "      <td>19.5</td>\n",
       "      <td>0</td>\n",
       "    </tr>\n",
       "    <tr>\n",
       "      <th>10599</th>\n",
       "      <td>-1</td>\n",
       "      <td>1</td>\n",
       "      <td>7</td>\n",
       "      <td>25.8</td>\n",
       "      <td>1</td>\n",
       "    </tr>\n",
       "    <tr>\n",
       "      <th>10600</th>\n",
       "      <td>2</td>\n",
       "      <td>1</td>\n",
       "      <td>-1</td>\n",
       "      <td>28.3</td>\n",
       "      <td>1</td>\n",
       "    </tr>\n",
       "    <tr>\n",
       "      <th>10602</th>\n",
       "      <td>-1</td>\n",
       "      <td>1</td>\n",
       "      <td>-1</td>\n",
       "      <td>21.3</td>\n",
       "      <td>0</td>\n",
       "    </tr>\n",
       "    <tr>\n",
       "      <th>10603</th>\n",
       "      <td>1</td>\n",
       "      <td>5</td>\n",
       "      <td>5</td>\n",
       "      <td>24.5</td>\n",
       "      <td>0</td>\n",
       "    </tr>\n",
       "    <tr>\n",
       "      <th>10605</th>\n",
       "      <td>-1</td>\n",
       "      <td>1</td>\n",
       "      <td>-1</td>\n",
       "      <td>37.1</td>\n",
       "      <td>1</td>\n",
       "    </tr>\n",
       "    <tr>\n",
       "      <th>10606</th>\n",
       "      <td>1</td>\n",
       "      <td>1</td>\n",
       "      <td>2</td>\n",
       "      <td>27.1</td>\n",
       "      <td>1</td>\n",
       "    </tr>\n",
       "    <tr>\n",
       "      <th>10607</th>\n",
       "      <td>1</td>\n",
       "      <td>1</td>\n",
       "      <td>7</td>\n",
       "      <td>22.1</td>\n",
       "      <td>0</td>\n",
       "    </tr>\n",
       "    <tr>\n",
       "      <th>10608</th>\n",
       "      <td>1</td>\n",
       "      <td>5</td>\n",
       "      <td>5</td>\n",
       "      <td>29.6</td>\n",
       "      <td>1</td>\n",
       "    </tr>\n",
       "    <tr>\n",
       "      <th>10609</th>\n",
       "      <td>2</td>\n",
       "      <td>1</td>\n",
       "      <td>3</td>\n",
       "      <td>28.1</td>\n",
       "      <td>1</td>\n",
       "    </tr>\n",
       "    <tr>\n",
       "      <th>10610</th>\n",
       "      <td>1</td>\n",
       "      <td>1</td>\n",
       "      <td>-1</td>\n",
       "      <td>33.5</td>\n",
       "      <td>1</td>\n",
       "    </tr>\n",
       "    <tr>\n",
       "      <th>10611</th>\n",
       "      <td>2</td>\n",
       "      <td>5</td>\n",
       "      <td>3</td>\n",
       "      <td>28.3</td>\n",
       "      <td>1</td>\n",
       "    </tr>\n",
       "    <tr>\n",
       "      <th>10612</th>\n",
       "      <td>1</td>\n",
       "      <td>1</td>\n",
       "      <td>2</td>\n",
       "      <td>31.5</td>\n",
       "      <td>1</td>\n",
       "    </tr>\n",
       "    <tr>\n",
       "      <th>10613</th>\n",
       "      <td>4</td>\n",
       "      <td>1</td>\n",
       "      <td>5</td>\n",
       "      <td>23.6</td>\n",
       "      <td>0</td>\n",
       "    </tr>\n",
       "    <tr>\n",
       "      <th>10614</th>\n",
       "      <td>1</td>\n",
       "      <td>1</td>\n",
       "      <td>-1</td>\n",
       "      <td>21.1</td>\n",
       "      <td>0</td>\n",
       "    </tr>\n",
       "    <tr>\n",
       "      <th>10615</th>\n",
       "      <td>3</td>\n",
       "      <td>1</td>\n",
       "      <td>4</td>\n",
       "      <td>25.1</td>\n",
       "      <td>1</td>\n",
       "    </tr>\n",
       "    <tr>\n",
       "      <th>10616</th>\n",
       "      <td>-1</td>\n",
       "      <td>3</td>\n",
       "      <td>-1</td>\n",
       "      <td>22.9</td>\n",
       "      <td>0</td>\n",
       "    </tr>\n",
       "    <tr>\n",
       "      <th>10617</th>\n",
       "      <td>4</td>\n",
       "      <td>5</td>\n",
       "      <td>4</td>\n",
       "      <td>30.0</td>\n",
       "      <td>1</td>\n",
       "    </tr>\n",
       "    <tr>\n",
       "      <th>10618</th>\n",
       "      <td>5</td>\n",
       "      <td>1</td>\n",
       "      <td>-1</td>\n",
       "      <td>27.4</td>\n",
       "      <td>1</td>\n",
       "    </tr>\n",
       "    <tr>\n",
       "      <th>10619</th>\n",
       "      <td>3</td>\n",
       "      <td>2</td>\n",
       "      <td>-1</td>\n",
       "      <td>34.0</td>\n",
       "      <td>1</td>\n",
       "    </tr>\n",
       "    <tr>\n",
       "      <th>10620</th>\n",
       "      <td>-1</td>\n",
       "      <td>1</td>\n",
       "      <td>-1</td>\n",
       "      <td>25.7</td>\n",
       "      <td>1</td>\n",
       "    </tr>\n",
       "    <tr>\n",
       "      <th>10621</th>\n",
       "      <td>-1</td>\n",
       "      <td>1</td>\n",
       "      <td>1</td>\n",
       "      <td>26.6</td>\n",
       "      <td>1</td>\n",
       "    </tr>\n",
       "    <tr>\n",
       "      <th>10622</th>\n",
       "      <td>-1</td>\n",
       "      <td>1</td>\n",
       "      <td>3</td>\n",
       "      <td>24.2</td>\n",
       "      <td>0</td>\n",
       "    </tr>\n",
       "    <tr>\n",
       "      <th>10623</th>\n",
       "      <td>5</td>\n",
       "      <td>1</td>\n",
       "      <td>5</td>\n",
       "      <td>28.0</td>\n",
       "      <td>1</td>\n",
       "    </tr>\n",
       "    <tr>\n",
       "      <th>10624</th>\n",
       "      <td>-1</td>\n",
       "      <td>1</td>\n",
       "      <td>2</td>\n",
       "      <td>41.4</td>\n",
       "      <td>1</td>\n",
       "    </tr>\n",
       "    <tr>\n",
       "      <th>10625</th>\n",
       "      <td>2</td>\n",
       "      <td>3</td>\n",
       "      <td>3</td>\n",
       "      <td>34.7</td>\n",
       "      <td>1</td>\n",
       "    </tr>\n",
       "  </tbody>\n",
       "</table>\n",
       "<p>9309 rows × 5 columns</p>\n",
       "</div>"
      ],
      "text/plain": [
       "       EUFASTFDFRQ  ERINCOME  EUEXFREQ  ERBMI  OVERWEIGHT\n",
       "0               -1         1         5   31.4           1\n",
       "1                2         3         4   25.7           1\n",
       "2                2         1        -1   29.6           1\n",
       "3                1         2         6   23.4           0\n",
       "4                5         1        -1   35.9           1\n",
       "6               -1         1        -1   30.1           1\n",
       "7                1         1         4   33.9           1\n",
       "8                3         5         1   26.3           1\n",
       "9                3         1         7   22.6           0\n",
       "10              -1         2        -1   28.3           1\n",
       "11               2         5         8   22.9           0\n",
       "13              -1         3        -1   31.4           1\n",
       "14              -1         5         6   26.6           1\n",
       "15              -1         1        -1   21.8           0\n",
       "16              -1         5         3   29.5           1\n",
       "17              -1         1         7   25.1           1\n",
       "18               2         1         2   29.3           1\n",
       "19              -1         1         4   27.9           1\n",
       "20              -1         1        -1   25.3           1\n",
       "22               2         1         5   22.1           0\n",
       "23               2         1         6   22.1           0\n",
       "24              -1        -1         7   28.1           1\n",
       "25              -1         3         2   28.0           1\n",
       "26               3         1         5   19.7           0\n",
       "27              -1         1         5   40.5           1\n",
       "28              -1         3         7   31.2           1\n",
       "29               5         1         7   30.3           1\n",
       "30               1         1         6   27.5           1\n",
       "31              -1         1        -1   29.2           1\n",
       "32              -1         1         1   31.3           1\n",
       "...            ...       ...       ...    ...         ...\n",
       "10592            3         1        -1   15.8           0\n",
       "10593            2         1         3   31.0           1\n",
       "10594           -1         1         7   30.7           1\n",
       "10597            4         1         5   22.9           0\n",
       "10598           -1         5         2   19.5           0\n",
       "10599           -1         1         7   25.8           1\n",
       "10600            2         1        -1   28.3           1\n",
       "10602           -1         1        -1   21.3           0\n",
       "10603            1         5         5   24.5           0\n",
       "10605           -1         1        -1   37.1           1\n",
       "10606            1         1         2   27.1           1\n",
       "10607            1         1         7   22.1           0\n",
       "10608            1         5         5   29.6           1\n",
       "10609            2         1         3   28.1           1\n",
       "10610            1         1        -1   33.5           1\n",
       "10611            2         5         3   28.3           1\n",
       "10612            1         1         2   31.5           1\n",
       "10613            4         1         5   23.6           0\n",
       "10614            1         1        -1   21.1           0\n",
       "10615            3         1         4   25.1           1\n",
       "10616           -1         3        -1   22.9           0\n",
       "10617            4         5         4   30.0           1\n",
       "10618            5         1        -1   27.4           1\n",
       "10619            3         2        -1   34.0           1\n",
       "10620           -1         1        -1   25.7           1\n",
       "10621           -1         1         1   26.6           1\n",
       "10622           -1         1         3   24.2           0\n",
       "10623            5         1         5   28.0           1\n",
       "10624           -1         1         2   41.4           1\n",
       "10625            2         3         3   34.7           1\n",
       "\n",
       "[9309 rows x 5 columns]"
      ]
     },
     "execution_count": 21,
     "metadata": {},
     "output_type": "execute_result"
    }
   ],
   "source": [
    "mldata_subset_no_outliers.ix[:, cols]"
   ]
  },
  {
   "cell_type": "markdown",
   "metadata": {},
   "source": [
    "### distribution of the overweight"
   ]
  },
  {
   "cell_type": "code",
   "execution_count": 22,
   "metadata": {},
   "outputs": [
    {
     "data": {
      "text/plain": [
       "1    0.628854\n",
       "0    0.371146\n",
       "Name: OVERWEIGHT, dtype: float64"
      ]
     },
     "execution_count": 22,
     "metadata": {},
     "output_type": "execute_result"
    }
   ],
   "source": [
    "mldata_subset_no_outliers['OVERWEIGHT'].value_counts(normalize=True)"
   ]
  },
  {
   "cell_type": "code",
   "execution_count": 23,
   "metadata": {},
   "outputs": [
    {
     "data": {
      "text/plain": [
       "<matplotlib.axes._subplots.AxesSubplot at 0x1e59fd505c0>"
      ]
     },
     "execution_count": 23,
     "metadata": {},
     "output_type": "execute_result"
    },
    {
     "data": {
      "image/png": "[encoded data removed]",
      "text/plain": [
       "<Figure size 576x432 with 1 Axes>"
      ]
     },
     "metadata": {
      "needs_background": "light"
     },
     "output_type": "display_data"
    }
   ],
   "source": [
    "mldata_subset_no_outliers['OVERWEIGHT'].value_counts(normalize=True).plot.bar(figsize=(8, 6))"
   ]
  },
  {
   "cell_type": "code",
   "execution_count": 24,
   "metadata": {},
   "outputs": [],
   "source": [
    "from sklearn.linear_model import LinearRegression\n",
    "from sklearn.linear_model import LogisticRegression\n",
    "from sklearn.model_selection import KFold\n",
    "from sklearn.model_selection import cross_val_score\n",
    "from sklearn.neighbors import KNeighborsClassifier\n",
    "from sklearn.neighbors import KNeighborsRegressor\n",
    "from sklearn.naive_bayes import GaussianNB\n",
    "from sklearn.svm import SVC, SVR\n",
    "from sklearn.tree import DecisionTreeClassifier, DecisionTreeRegressor\n",
    "from sklearn.ensemble import RandomForestClassifier, RandomForestRegressor"
   ]
  },
  {
   "cell_type": "markdown",
   "metadata": {},
   "source": [
    "### Regression Models"
   ]
  },
  {
   "cell_type": "code",
   "execution_count": 25,
   "metadata": {},
   "outputs": [],
   "source": [
    "X = mldata_subset_no_outliers.drop(mldata_subset_no_outliers[['ERBMI', 'OVERWEIGHT']], 1)\n",
    "y1 = mldata_subset_no_outliers.ERBMI\n",
    "y2 = mldata_subset_no_outliers.OVERWEIGHT"
   ]
  },
  {
   "cell_type": "code",
   "execution_count": 26,
   "metadata": {},
   "outputs": [
    {
     "name": "stdout",
     "output_type": "stream",
     "text": [
      "R-squared mean of the model is: 0.031 and its mean standard deviation is: 0.013\n"
     ]
    }
   ],
   "source": [
    "kfold = KFold(n_splits=10, random_state=8)\n",
    "Multiple_linReg_model = LinearRegression()\n",
    "results = cross_val_score(Multiple_linReg_model, X, y1, cv=kfold, scoring='r2')\n",
    "print('R-squared mean of the model is: {:.3f} and its mean standard deviation is: {:.3f}'. format(results.mean(), results.std()))"
   ]
  },
  {
   "cell_type": "code",
   "execution_count": 27,
   "metadata": {},
   "outputs": [
    {
     "name": "stdout",
     "output_type": "stream",
     "text": [
      "R-squared mean of the model is: -0.167 and its mean standard deviation is: 0.076\n"
     ]
    }
   ],
   "source": [
    "KNN_regressor = KNeighborsRegressor()\n",
    "results1 = cross_val_score(KNN_regressor, X, y1, cv=kfold, scoring='r2')\n",
    "print('R-squared mean of the model is: {:.3f} and its mean standard deviation is: {:.3f}'. format(results1.mean(), results1.std()))"
   ]
  },
  {
   "cell_type": "code",
   "execution_count": 28,
   "metadata": {},
   "outputs": [
    {
     "name": "stdout",
     "output_type": "stream",
     "text": [
      "R-squared mean of the model is: 0.011 and its mean standard deviation is: 0.017\n"
     ]
    }
   ],
   "source": [
    "decision_tree_model = DecisionTreeRegressor()\n",
    "results1a = cross_val_score(decision_tree_model, X, y1, cv=kfold, scoring='r2')\n",
    "print('R-squared mean of the model is: {:.3f} and its mean standard deviation is: {:.3f}'. format(results1a.mean(), results1a.std()))"
   ]
  },
  {
   "cell_type": "code",
   "execution_count": 29,
   "metadata": {},
   "outputs": [
    {
     "name": "stdout",
     "output_type": "stream",
     "text": [
      "R-squared mean of the model is: 0.010 and its mean standard deviation is: 0.016\n"
     ]
    }
   ],
   "source": [
    "svr_model = SVR()\n",
    "results1b = cross_val_score(svr_model, X, y1, cv=kfold, scoring='r2')\n",
    "print('R-squared mean of the model is: {:.3f} and its mean standard deviation is: {:.3f}'. format(results1b.mean(), results1b.std()))"
   ]
  },
  {
   "cell_type": "code",
   "execution_count": 30,
   "metadata": {},
   "outputs": [
    {
     "name": "stdout",
     "output_type": "stream",
     "text": [
      "R-squared mean of the model is: 0.012 and its mean standard deviation is: 0.016\n"
     ]
    }
   ],
   "source": [
    "RF_regressor = RandomForestRegressor()\n",
    "results1c = cross_val_score(RF_regressor, X, y1, cv=kfold, scoring='r2')\n",
    "print('R-squared mean of the model is: {:.3f} and its mean standard deviation is: {:.3f}'. format(results1c.mean(), results1c.std()))"
   ]
  },
  {
   "cell_type": "markdown",
   "metadata": {},
   "source": [
    "### classification model\n"
   ]
  },
  {
   "cell_type": "code",
   "execution_count": 31,
   "metadata": {},
   "outputs": [
    {
     "name": "stdout",
     "output_type": "stream",
     "text": [
      "accuracy of the logistic model is: 0.629 and its mean standard deviation is: 0.016\n"
     ]
    }
   ],
   "source": [
    "Logit_model = LogisticRegression()\n",
    "results2 = cross_val_score(Logit_model, X, y2, cv=kfold, scoring='accuracy')\n",
    "print('accuracy of the logistic model is: {:.3f} and its mean standard deviation is: {:.3f}'. format(results2.mean(), results2.std()))"
   ]
  },
  {
   "cell_type": "code",
   "execution_count": 32,
   "metadata": {},
   "outputs": [
    {
     "name": "stdout",
     "output_type": "stream",
     "text": [
      "accuracy of the KNN model is: 0.582 and its mean standard deviation is: 0.020\n"
     ]
    }
   ],
   "source": [
    "KNN_classifier = KNeighborsClassifier(n_neighbors=5)\n",
    "results3 = cross_val_score(KNN_classifier, X, y2, cv=kfold, scoring='accuracy')\n",
    "print('accuracy of the KNN model is: {:.3f} and its mean standard deviation is: {:.3f}'. format(results3.mean(), results3.std()))"
   ]
  },
  {
   "cell_type": "code",
   "execution_count": 33,
   "metadata": {},
   "outputs": [
    {
     "name": "stdout",
     "output_type": "stream",
     "text": [
      "accuracy of the naive bayes model is: 0.626 and its mean standard deviation is: 0.015\n"
     ]
    }
   ],
   "source": [
    "naive_model = GaussianNB()\n",
    "results4 = cross_val_score(naive_model, X, y2, cv=kfold, scoring='accuracy')\n",
    "print('accuracy of the naive bayes model is: {:.3f} and its mean standard deviation is: {:.3f}'. format(results4.mean(), results4.std()))"
   ]
  },
  {
   "cell_type": "code",
   "execution_count": 34,
   "metadata": {},
   "outputs": [
    {
     "name": "stdout",
     "output_type": "stream",
     "text": [
      "accuracy of the naive bayes model is: 0.620 and its mean standard deviation is: 0.019\n"
     ]
    }
   ],
   "source": [
    "decision_tree_cls = DecisionTreeClassifier()\n",
    "results4a = cross_val_score(decision_tree_cls, X, y2, cv=kfold, scoring='accuracy')\n",
    "print('accuracy of the naive bayes model is: {:.3f} and its mean standard deviation is: {:.3f}'. format(results4a.mean(), results4a.std()))"
   ]
  },
  {
   "cell_type": "code",
   "execution_count": 35,
   "metadata": {},
   "outputs": [
    {
     "name": "stdout",
     "output_type": "stream",
     "text": [
      "accuracy of the naive bayes model is: 0.627 and its mean standard deviation is: 0.018\n"
     ]
    }
   ],
   "source": [
    "svc_model = SVC()\n",
    "results4c = cross_val_score(svc_model, X, y2, cv=kfold, scoring='accuracy')\n",
    "print('accuracy of the naive bayes model is: {:.3f} and its mean standard deviation is: {:.3f}'. format(results4c.mean(), results4c.std()))"
   ]
  },
  {
   "cell_type": "code",
   "execution_count": 36,
   "metadata": {
    "scrolled": true
   },
   "outputs": [
    {
     "name": "stdout",
     "output_type": "stream",
     "text": [
      "accuracy of the naive bayes model is: 0.621 and its mean standard deviation is: 0.018\n"
     ]
    }
   ],
   "source": [
    "RF_classifier = RandomForestClassifier()\n",
    "results4c = cross_val_score(RF_classifier, X, y2, cv=kfold, scoring='accuracy')\n",
    "print('accuracy of the naive bayes model is: {:.3f} and its mean standard deviation is: {:.3f}'. format(results4c.mean(), results4c.std()))"
   ]
  },
  {
   "cell_type": "code",
   "execution_count": 37,
   "metadata": {},
   "outputs": [
    {
     "name": "stdout",
     "output_type": "stream",
     "text": [
      "[0.63480129 0.63372718 0.61117078 0.59613319 0.59935553 0.59828142\n",
      " 0.64017186 0.650913   0.62191192 0.61935484]\n"
     ]
    }
   ],
   "source": [
    "print(results4c)"
   ]
  },
  {
   "cell_type": "code",
   "execution_count": 38,
   "metadata": {},
   "outputs": [],
   "source": [
    "from sklearn.ensemble import AdaBoostClassifier\n"
   ]
  },
  {
   "cell_type": "code",
   "execution_count": 39,
   "metadata": {},
   "outputs": [
    {
     "name": "stdout",
     "output_type": "stream",
     "text": [
      "accuracy of the Adda boost model is: 0.631 and its mean standard deviation is: 0.018\n"
     ]
    }
   ],
   "source": [
    "adaboost_model = AdaBoostClassifier(n_estimators=100, random_state=8)\n",
    "results4d = cross_val_score(adaboost_model, X, y2, cv=kfold, scoring='accuracy')\n",
    "print('accuracy of the Adda boost model is: {:.3f} and its mean standard deviation is: {:.3f}'. format(results4d.mean(), results4d.std()))"
   ]
  },
  {
   "cell_type": "code",
   "execution_count": 40,
   "metadata": {},
   "outputs": [],
   "source": [
    "from sklearn.ensemble import GradientBoostingClassifier"
   ]
  },
  {
   "cell_type": "code",
   "execution_count": 41,
   "metadata": {},
   "outputs": [
    {
     "name": "stdout",
     "output_type": "stream",
     "text": [
      "accuracy of the stochastic gradient boost model is: 0.631 and its mean standard deviation is: 0.017\n"
     ]
    }
   ],
   "source": [
    "GradientBoosting_model = GradientBoostingClassifier(n_estimators=50, random_state=8)\n",
    "results4e = cross_val_score(GradientBoosting_model, X, y2, cv=kfold, scoring='accuracy')\n",
    "print('accuracy of the stochastic gradient boost model is: {:.3f} and its mean standard deviation is: {:.3f}'. format(results4e.mean(), results4e.std()))"
   ]
  },
  {
   "cell_type": "code",
   "execution_count": 42,
   "metadata": {},
   "outputs": [],
   "source": [
    "from sklearn.model_selection import train_test_split\n",
    "from sklearn.metrics import confusion_matrix"
   ]
  },
  {
   "cell_type": "code",
   "execution_count": 43,
   "metadata": {},
   "outputs": [],
   "source": [
    "X_train, X_test, y_train, y_test = train_test_split(X, y2, test_size = 0.25, random_state = 10)"
   ]
  },
  {
   "cell_type": "code",
   "execution_count": 44,
   "metadata": {},
   "outputs": [
    {
     "data": {
      "text/html": [
       "<div>\n",
       "<style scoped>\n",
       "    .dataframe tbody tr th:only-of-type {\n",
       "        vertical-align: middle;\n",
       "    }\n",
       "\n",
       "    .dataframe tbody tr th {\n",
       "        vertical-align: top;\n",
       "    }\n",
       "\n",
       "    .dataframe thead th {\n",
       "        text-align: right;\n",
       "    }\n",
       "</style>\n",
       "<table border=\"1\" class=\"dataframe\">\n",
       "  <thead>\n",
       "    <tr style=\"text-align: right;\">\n",
       "      <th></th>\n",
       "      <th>ERINCOME</th>\n",
       "      <th>EUEXFREQ</th>\n",
       "      <th>EUFASTFDFRQ</th>\n",
       "    </tr>\n",
       "  </thead>\n",
       "  <tbody>\n",
       "    <tr>\n",
       "      <th>2126</th>\n",
       "      <td>1</td>\n",
       "      <td>7</td>\n",
       "      <td>-1</td>\n",
       "    </tr>\n",
       "    <tr>\n",
       "      <th>1247</th>\n",
       "      <td>1</td>\n",
       "      <td>7</td>\n",
       "      <td>1</td>\n",
       "    </tr>\n",
       "    <tr>\n",
       "      <th>8747</th>\n",
       "      <td>3</td>\n",
       "      <td>-1</td>\n",
       "      <td>6</td>\n",
       "    </tr>\n",
       "    <tr>\n",
       "      <th>284</th>\n",
       "      <td>1</td>\n",
       "      <td>3</td>\n",
       "      <td>3</td>\n",
       "    </tr>\n",
       "    <tr>\n",
       "      <th>4718</th>\n",
       "      <td>1</td>\n",
       "      <td>-1</td>\n",
       "      <td>-1</td>\n",
       "    </tr>\n",
       "  </tbody>\n",
       "</table>\n",
       "</div>"
      ],
      "text/plain": [
       "      ERINCOME  EUEXFREQ  EUFASTFDFRQ\n",
       "2126         1         7           -1\n",
       "1247         1         7            1\n",
       "8747         3        -1            6\n",
       "284          1         3            3\n",
       "4718         1        -1           -1"
      ]
     },
     "execution_count": 44,
     "metadata": {},
     "output_type": "execute_result"
    }
   ],
   "source": [
    "X_train.head()"
   ]
  },
  {
   "cell_type": "code",
   "execution_count": 45,
   "metadata": {},
   "outputs": [
    {
     "data": {
      "text/plain": [
       "2126    0\n",
       "1247    0\n",
       "8747    1\n",
       "284     1\n",
       "4718    1\n",
       "Name: OVERWEIGHT, dtype: int32"
      ]
     },
     "execution_count": 45,
     "metadata": {},
     "output_type": "execute_result"
    }
   ],
   "source": [
    "y_train.head()"
   ]
  },
  {
   "cell_type": "code",
   "execution_count": 46,
   "metadata": {},
   "outputs": [
    {
     "name": "stdout",
     "output_type": "stream",
     "text": [
      "accuracy of logit2 training: 0.632\n",
      "accuracy of logit2 test data: 0.621\n"
     ]
    }
   ],
   "source": [
    "logit2 = LogisticRegression()\n",
    "logit2.fit(X_train, y_train)\n",
    "print('accuracy of logit2 training: {:.3f}'.format(logit2.score(X_train, y_train)))\n",
    "print('accuracy of logit2 test data: {:.3f}'.format(logit2.score(X_test, y_test)))"
   ]
  },
  {
   "cell_type": "code",
   "execution_count": 47,
   "metadata": {},
   "outputs": [],
   "source": [
    "THRESHOLD = 0.50"
   ]
  },
  {
   "cell_type": "code",
   "execution_count": 48,
   "metadata": {
    "scrolled": false
   },
   "outputs": [
    {
     "data": {
      "text/plain": [
       "array([[  11,  873],\n",
       "       [  10, 1434]], dtype=int64)"
      ]
     },
     "execution_count": 48,
     "metadata": {},
     "output_type": "execute_result"
    }
   ],
   "source": [
    "logit2_pred = np.where(logit2.predict_proba(X_test)[:,1]>THRESHOLD, 1, 0)\n",
    "confusion_matrix(y_test, logit2_pred)"
   ]
  },
  {
   "cell_type": "code",
   "execution_count": 49,
   "metadata": {},
   "outputs": [
    {
     "data": {
      "text/plain": [
       "0.6207044673539519"
      ]
     },
     "execution_count": 49,
     "metadata": {},
     "output_type": "execute_result"
    }
   ],
   "source": [
    "from sklearn.metrics import accuracy_score\n",
    "accuracy_score(y_test, logit2_pred)\n"
   ]
  },
  {
   "cell_type": "code",
   "execution_count": 50,
   "metadata": {},
   "outputs": [],
   "source": [
    "from sklearn.metrics import roc_auc_score,roc_curve"
   ]
  },
  {
   "cell_type": "code",
   "execution_count": 51,
   "metadata": {},
   "outputs": [],
   "source": [
    "fpr, tpr, thresholds = roc_curve(y_test, logit2_pred)"
   ]
  },
  {
   "cell_type": "code",
   "execution_count": 52,
   "metadata": {},
   "outputs": [
    {
     "data": {
      "image/png": "[encoded data removed]",
      "text/plain": [
       "<Figure size 432x288 with 1 Axes>"
      ]
     },
     "metadata": {
      "needs_background": "light"
     },
     "output_type": "display_data"
    }
   ],
   "source": [
    "def plot_roc_curve(fpr, tpr, label=None):\n",
    "    plt.plot(fpr, tpr, linewidth=2, label=label)\n",
    "    plt.plot([0, 1], [0, 1], 'k--')\n",
    "    plt.axis([0, 1, 0, 1])\n",
    "    plt.xlabel('False Positive Rate')\n",
    "    plt.ylabel('True Positive Rate')\n",
    "    \n",
    "plot_roc_curve(fpr, tpr)\n",
    "plt.show()"
   ]
  },
  {
   "cell_type": "code",
   "execution_count": null,
   "metadata": {},
   "outputs": [],
   "source": []
  }
 ],
 "metadata": {
  "kernelspec": {
   "display_name": "Python 3",
   "language": "python",
   "name": "python3"
  },
  "language_info": {
   "codemirror_mode": {
    "name": "ipython",
    "version": 3
   },
   "file_extension": ".py",
   "mimetype": "text/x-python",
   "name": "python",
   "nbconvert_exporter": "python",
   "pygments_lexer": "ipython3",
   "version": "3.7.1"
  }
 },
 "nbformat": 4,
 "nbformat_minor": 2
}
