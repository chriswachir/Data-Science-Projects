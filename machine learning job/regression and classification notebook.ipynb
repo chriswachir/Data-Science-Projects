{
 "cells": [
  {
   "cell_type": "code",
   "execution_count": 96,
   "metadata": {},
   "outputs": [],
   "source": [
    "import pandas as pd\n",
    "import numpy as np\n",
    "import matplotlib.pyplot as plt\n",
    "import sklearn\n",
    "import seaborn as sn\n",
    "\n",
    "import warnings\n",
    "warnings = warnings.filterwarnings('ignore')"
   ]
  },
  {
   "cell_type": "code",
   "execution_count": 97,
   "metadata": {},
   "outputs": [
    {
     "data": {
      "text/html": [
       "<div>\n",
       "<style scoped>\n",
       "    .dataframe tbody tr th:only-of-type {\n",
       "        vertical-align: middle;\n",
       "    }\n",
       "\n",
       "    .dataframe tbody tr th {\n",
       "        vertical-align: top;\n",
       "    }\n",
       "\n",
       "    .dataframe thead th {\n",
       "        text-align: right;\n",
       "    }\n",
       "</style>\n",
       "<table border=\"1\" class=\"dataframe\">\n",
       "  <thead>\n",
       "    <tr style=\"text-align: right;\">\n",
       "      <th></th>\n",
       "      <th>TUCASEID</th>\n",
       "      <th>TULINENO</th>\n",
       "      <th>EEINCOME1</th>\n",
       "      <th>ERBMI</th>\n",
       "      <th>ERHHCH</th>\n",
       "      <th>ERINCOME</th>\n",
       "      <th>ERSPEMCH</th>\n",
       "      <th>ERTPREAT</th>\n",
       "      <th>ERTSEAT</th>\n",
       "      <th>ETHGT</th>\n",
       "      <th>...</th>\n",
       "      <th>EUMEAT</th>\n",
       "      <th>EUMILK</th>\n",
       "      <th>EUPRPMEL</th>\n",
       "      <th>EUSODA</th>\n",
       "      <th>EUSTORES</th>\n",
       "      <th>EUSTREASON</th>\n",
       "      <th>EUTHERM</th>\n",
       "      <th>EUWGT</th>\n",
       "      <th>EUWIC</th>\n",
       "      <th>EXINCOME1</th>\n",
       "    </tr>\n",
       "  </thead>\n",
       "  <tbody>\n",
       "    <tr>\n",
       "      <th>0</th>\n",
       "      <td>20150101150018</td>\n",
       "      <td>1</td>\n",
       "      <td>1</td>\n",
       "      <td>31.4</td>\n",
       "      <td>3</td>\n",
       "      <td>1</td>\n",
       "      <td>-1</td>\n",
       "      <td>50</td>\n",
       "      <td>0</td>\n",
       "      <td>0</td>\n",
       "      <td>...</td>\n",
       "      <td>1</td>\n",
       "      <td>2</td>\n",
       "      <td>1</td>\n",
       "      <td>2</td>\n",
       "      <td>-1</td>\n",
       "      <td>-1</td>\n",
       "      <td>2</td>\n",
       "      <td>161</td>\n",
       "      <td>2</td>\n",
       "      <td>0</td>\n",
       "    </tr>\n",
       "    <tr>\n",
       "      <th>1</th>\n",
       "      <td>20150101150053</td>\n",
       "      <td>1</td>\n",
       "      <td>2</td>\n",
       "      <td>25.7</td>\n",
       "      <td>3</td>\n",
       "      <td>3</td>\n",
       "      <td>-1</td>\n",
       "      <td>120</td>\n",
       "      <td>0</td>\n",
       "      <td>0</td>\n",
       "      <td>...</td>\n",
       "      <td>1</td>\n",
       "      <td>2</td>\n",
       "      <td>1</td>\n",
       "      <td>-1</td>\n",
       "      <td>1</td>\n",
       "      <td>2</td>\n",
       "      <td>2</td>\n",
       "      <td>195</td>\n",
       "      <td>-1</td>\n",
       "      <td>0</td>\n",
       "    </tr>\n",
       "    <tr>\n",
       "      <th>2</th>\n",
       "      <td>20150101150071</td>\n",
       "      <td>1</td>\n",
       "      <td>1</td>\n",
       "      <td>29.6</td>\n",
       "      <td>3</td>\n",
       "      <td>1</td>\n",
       "      <td>-1</td>\n",
       "      <td>50</td>\n",
       "      <td>-2</td>\n",
       "      <td>0</td>\n",
       "      <td>...</td>\n",
       "      <td>1</td>\n",
       "      <td>2</td>\n",
       "      <td>1</td>\n",
       "      <td>2</td>\n",
       "      <td>-1</td>\n",
       "      <td>-1</td>\n",
       "      <td>2</td>\n",
       "      <td>178</td>\n",
       "      <td>-1</td>\n",
       "      <td>0</td>\n",
       "    </tr>\n",
       "    <tr>\n",
       "      <th>3</th>\n",
       "      <td>20150101150146</td>\n",
       "      <td>1</td>\n",
       "      <td>3</td>\n",
       "      <td>23.4</td>\n",
       "      <td>3</td>\n",
       "      <td>2</td>\n",
       "      <td>5</td>\n",
       "      <td>95</td>\n",
       "      <td>30</td>\n",
       "      <td>0</td>\n",
       "      <td>...</td>\n",
       "      <td>1</td>\n",
       "      <td>2</td>\n",
       "      <td>1</td>\n",
       "      <td>1</td>\n",
       "      <td>1</td>\n",
       "      <td>4</td>\n",
       "      <td>2</td>\n",
       "      <td>132</td>\n",
       "      <td>-1</td>\n",
       "      <td>0</td>\n",
       "    </tr>\n",
       "    <tr>\n",
       "      <th>4</th>\n",
       "      <td>20150101150147</td>\n",
       "      <td>1</td>\n",
       "      <td>1</td>\n",
       "      <td>35.9</td>\n",
       "      <td>1</td>\n",
       "      <td>1</td>\n",
       "      <td>5</td>\n",
       "      <td>140</td>\n",
       "      <td>5</td>\n",
       "      <td>0</td>\n",
       "      <td>...</td>\n",
       "      <td>1</td>\n",
       "      <td>2</td>\n",
       "      <td>1</td>\n",
       "      <td>1</td>\n",
       "      <td>1</td>\n",
       "      <td>1</td>\n",
       "      <td>2</td>\n",
       "      <td>250</td>\n",
       "      <td>-1</td>\n",
       "      <td>0</td>\n",
       "    </tr>\n",
       "  </tbody>\n",
       "</table>\n",
       "<p>5 rows × 37 columns</p>\n",
       "</div>"
      ],
      "text/plain": [
       "         TUCASEID  TULINENO  EEINCOME1  ERBMI  ERHHCH  ERINCOME  ERSPEMCH  \\\n",
       "0  20150101150018         1          1   31.4       3         1        -1   \n",
       "1  20150101150053         1          2   25.7       3         3        -1   \n",
       "2  20150101150071         1          1   29.6       3         1        -1   \n",
       "3  20150101150146         1          3   23.4       3         2         5   \n",
       "4  20150101150147         1          1   35.9       1         1         5   \n",
       "\n",
       "   ERTPREAT  ERTSEAT  ETHGT    ...      EUMEAT  EUMILK  EUPRPMEL  EUSODA  \\\n",
       "0        50        0      0    ...           1       2         1       2   \n",
       "1       120        0      0    ...           1       2         1      -1   \n",
       "2        50       -2      0    ...           1       2         1       2   \n",
       "3        95       30      0    ...           1       2         1       1   \n",
       "4       140        5      0    ...           1       2         1       1   \n",
       "\n",
       "   EUSTORES  EUSTREASON  EUTHERM  EUWGT  EUWIC  EXINCOME1  \n",
       "0        -1          -1        2    161      2          0  \n",
       "1         1           2        2    195     -1          0  \n",
       "2        -1          -1        2    178     -1          0  \n",
       "3         1           4        2    132     -1          0  \n",
       "4         1           1        2    250     -1          0  \n",
       "\n",
       "[5 rows x 37 columns]"
      ]
     },
     "execution_count": 97,
     "metadata": {},
     "output_type": "execute_result"
    }
   ],
   "source": [
    "# importing the dataset\n",
    "mldata = pd.read_csv('ehresp_2015.csv')\n",
    "mldata.head(5)"
   ]
  },
  {
   "cell_type": "code",
   "execution_count": 98,
   "metadata": {},
   "outputs": [
    {
     "data": {
      "text/plain": [
       "Index(['TUCASEID', 'TULINENO', 'EEINCOME1', 'ERBMI', 'ERHHCH', 'ERINCOME',\n",
       "       'ERSPEMCH', 'ERTPREAT', 'ERTSEAT', 'ETHGT', 'ETWGT', 'EUDIETSODA',\n",
       "       'EUDRINK', 'EUEAT', 'EUEXERCISE', 'EUEXFREQ', 'EUFASTFD', 'EUFASTFDFRQ',\n",
       "       'EUFFYDAY', 'EUFDSIT', 'EUFINLWGT', 'EUSNAP', 'EUGENHTH', 'EUGROSHP',\n",
       "       'EUHGT', 'EUINCLVL', 'EUINCOME2', 'EUMEAT', 'EUMILK', 'EUPRPMEL',\n",
       "       'EUSODA', 'EUSTORES', 'EUSTREASON', 'EUTHERM', 'EUWGT', 'EUWIC',\n",
       "       'EXINCOME1'],\n",
       "      dtype='object')"
      ]
     },
     "execution_count": 98,
     "metadata": {},
     "output_type": "execute_result"
    }
   ],
   "source": [
    "mldata.columns"
   ]
  },
  {
   "cell_type": "code",
   "execution_count": 99,
   "metadata": {},
   "outputs": [],
   "source": [
    "mldata_subset = mldata[['ERBMI','ERINCOME','EUEXFREQ','EUFASTFDFRQ',]]"
   ]
  },
  {
   "cell_type": "code",
   "execution_count": 100,
   "metadata": {
    "scrolled": true
   },
   "outputs": [
    {
     "data": {
      "text/html": [
       "<div>\n",
       "<style scoped>\n",
       "    .dataframe tbody tr th:only-of-type {\n",
       "        vertical-align: middle;\n",
       "    }\n",
       "\n",
       "    .dataframe tbody tr th {\n",
       "        vertical-align: top;\n",
       "    }\n",
       "\n",
       "    .dataframe thead th {\n",
       "        text-align: right;\n",
       "    }\n",
       "</style>\n",
       "<table border=\"1\" class=\"dataframe\">\n",
       "  <thead>\n",
       "    <tr style=\"text-align: right;\">\n",
       "      <th></th>\n",
       "      <th>ERBMI</th>\n",
       "      <th>ERINCOME</th>\n",
       "      <th>EUEXFREQ</th>\n",
       "      <th>EUFASTFDFRQ</th>\n",
       "    </tr>\n",
       "  </thead>\n",
       "  <tbody>\n",
       "    <tr>\n",
       "      <th>0</th>\n",
       "      <td>31.4</td>\n",
       "      <td>1</td>\n",
       "      <td>5</td>\n",
       "      <td>-1</td>\n",
       "    </tr>\n",
       "    <tr>\n",
       "      <th>1</th>\n",
       "      <td>25.7</td>\n",
       "      <td>3</td>\n",
       "      <td>4</td>\n",
       "      <td>2</td>\n",
       "    </tr>\n",
       "    <tr>\n",
       "      <th>2</th>\n",
       "      <td>29.6</td>\n",
       "      <td>1</td>\n",
       "      <td>-1</td>\n",
       "      <td>2</td>\n",
       "    </tr>\n",
       "    <tr>\n",
       "      <th>3</th>\n",
       "      <td>23.4</td>\n",
       "      <td>2</td>\n",
       "      <td>6</td>\n",
       "      <td>1</td>\n",
       "    </tr>\n",
       "    <tr>\n",
       "      <th>4</th>\n",
       "      <td>35.9</td>\n",
       "      <td>1</td>\n",
       "      <td>-1</td>\n",
       "      <td>5</td>\n",
       "    </tr>\n",
       "  </tbody>\n",
       "</table>\n",
       "</div>"
      ],
      "text/plain": [
       "   ERBMI  ERINCOME  EUEXFREQ  EUFASTFDFRQ\n",
       "0   31.4         1         5           -1\n",
       "1   25.7         3         4            2\n",
       "2   29.6         1        -1            2\n",
       "3   23.4         2         6            1\n",
       "4   35.9         1        -1            5"
      ]
     },
     "execution_count": 100,
     "metadata": {},
     "output_type": "execute_result"
    }
   ],
   "source": [
    "mldata_subset.head(5)"
   ]
  },
  {
   "cell_type": "markdown",
   "metadata": {},
   "source": [
    "### Data dimension before removing negative values"
   ]
  },
  {
   "cell_type": "code",
   "execution_count": 101,
   "metadata": {},
   "outputs": [
    {
     "data": {
      "text/plain": [
       "(10626, 4)"
      ]
     },
     "execution_count": 101,
     "metadata": {},
     "output_type": "execute_result"
    }
   ],
   "source": [
    "mldata_subset.shape"
   ]
  },
  {
   "cell_type": "markdown",
   "metadata": {},
   "source": [
    "### Cleaning negative values from the data set"
   ]
  },
  {
   "cell_type": "code",
   "execution_count": 102,
   "metadata": {},
   "outputs": [],
   "source": [
    "mldata_subset = mldata_subset[(mldata_subset > 0).all(1)]"
   ]
  },
  {
   "cell_type": "markdown",
   "metadata": {},
   "source": [
    "### Data dimension after removing the negative values"
   ]
  },
  {
   "cell_type": "code",
   "execution_count": 103,
   "metadata": {},
   "outputs": [
    {
     "data": {
      "text/plain": [
       "(3707, 4)"
      ]
     },
     "execution_count": 103,
     "metadata": {},
     "output_type": "execute_result"
    }
   ],
   "source": [
    "mldata_subset.shape"
   ]
  },
  {
   "cell_type": "code",
   "execution_count": 104,
   "metadata": {},
   "outputs": [
    {
     "data": {
      "text/plain": [
       "ERBMI          0\n",
       "ERINCOME       0\n",
       "EUEXFREQ       0\n",
       "EUFASTFDFRQ    0\n",
       "dtype: int64"
      ]
     },
     "execution_count": 104,
     "metadata": {},
     "output_type": "execute_result"
    }
   ],
   "source": [
    "mldata_subset.isnull().sum()"
   ]
  },
  {
   "cell_type": "code",
   "execution_count": 105,
   "metadata": {},
   "outputs": [
    {
     "data": {
      "text/plain": [
       "ERBMI             AxesSubplot(0.125,0.536818;0.352273x0.343182)\n",
       "ERINCOME       AxesSubplot(0.547727,0.536818;0.352273x0.343182)\n",
       "EUEXFREQ             AxesSubplot(0.125,0.125;0.352273x0.343182)\n",
       "EUFASTFDFRQ       AxesSubplot(0.547727,0.125;0.352273x0.343182)\n",
       "dtype: object"
      ]
     },
     "execution_count": 105,
     "metadata": {},
     "output_type": "execute_result"
    },
    {
     "data": {
      "image/png": "[encoded data removed]",
      "text/plain": [
       "<Figure size 432x288 with 4 Axes>"
      ]
     },
     "metadata": {
      "needs_background": "light"
     },
     "output_type": "display_data"
    }
   ],
   "source": [
    "mldata_subset.plot(kind='box', subplots=True, layout=(2,2), sharex=False, sharey=False, figsize=(6, 4))"
   ]
  },
  {
   "cell_type": "markdown",
   "metadata": {},
   "source": [
    "## outlier detection and removal"
   ]
  },
  {
   "cell_type": "code",
   "execution_count": 106,
   "metadata": {},
   "outputs": [],
   "source": [
    "from scipy import stats"
   ]
  },
  {
   "cell_type": "code",
   "execution_count": 107,
   "metadata": {},
   "outputs": [
    {
     "name": "stdout",
     "output_type": "stream",
     "text": [
      "[[0.29595332 0.91909067 0.04471828 0.30459034]\n",
      " [0.68308551 0.20437091 0.7245191  0.75951233]\n",
      " [0.78128407 0.51034886 2.26299387 0.75951233]\n",
      " ...\n",
      " [0.42781555 2.34853019 0.04471828 0.60525364]\n",
      " [0.09117887 0.51034886 0.33990041 1.06017563]\n",
      " [1.21891176 0.91909067 0.42933697 0.30459034]]\n"
     ]
    }
   ],
   "source": [
    "z = np.abs(stats.zscore(mldata_subset))\n",
    "print(z)"
   ]
  },
  {
   "cell_type": "code",
   "execution_count": 108,
   "metadata": {},
   "outputs": [
    {
     "name": "stdout",
     "output_type": "stream",
     "text": [
      "(array([   2,    4,    6,   16,   25,   31,   34,   36,   40,   49,   52,\n",
      "         54,   57,   58,   59,   60,   68,   70,   72,   74,   83,   84,\n",
      "         86,   89,  104,  105,  106,  111,  113,  116,  121,  130,  146,\n",
      "        152,  156,  156,  160,  161,  174,  184,  195,  199,  203,  205,\n",
      "        210,  212,  212,  216,  221,  221,  225,  229,  238,  240,  243,\n",
      "        250,  254,  262,  266,  274,  276,  278,  286,  288,  294,  294,\n",
      "        303,  305,  306,  307,  307,  309,  318,  323,  324,  328,  330,\n",
      "        333,  336,  343,  347,  355,  357,  364,  368,  371,  382,  389,\n",
      "        398,  399,  406,  409,  410,  418,  418,  423,  428,  431,  443,\n",
      "        444,  446,  447,  459,  460,  467,  469,  479,  484,  485,  498,\n",
      "        506,  507,  509,  509,  518,  519,  527,  527,  534,  535,  539,\n",
      "        542,  550,  555,  557,  566,  580,  583,  585,  591,  595,  598,\n",
      "        600,  603,  604,  609,  617,  622,  630,  635,  638,  640,  651,\n",
      "        652,  654,  655,  656,  664,  667,  668,  670,  670,  672,  674,\n",
      "        675,  683,  696,  704,  705,  706,  707,  707,  710,  711,  714,\n",
      "        719,  724,  730,  731,  734,  735,  746,  759,  765,  766,  768,\n",
      "        770,  775,  780,  783,  797,  798,  810,  811,  812,  818,  823,\n",
      "        825,  828,  833,  833,  836,  840,  843,  848,  849,  854,  855,\n",
      "        858,  859,  859,  865,  869,  871,  877,  879,  882,  888,  897,\n",
      "        902,  905,  906,  909,  912,  915,  920,  930,  931,  932,  938,\n",
      "        944,  945,  946,  949,  951,  956,  959,  966,  970,  977,  978,\n",
      "        979,  982,  983,  989,  997, 1002, 1004, 1008, 1010, 1011, 1012,\n",
      "       1014, 1019, 1029, 1029, 1033, 1035, 1038, 1047, 1048, 1051, 1058,\n",
      "       1066, 1073, 1088, 1099, 1099, 1108, 1110, 1114, 1117, 1117, 1130,\n",
      "       1140, 1155, 1158, 1162, 1162, 1163, 1167, 1174, 1174, 1176, 1186,\n",
      "       1188, 1189, 1203, 1204, 1212, 1218, 1222, 1228, 1228, 1236, 1243,\n",
      "       1245, 1246, 1246, 1247, 1254, 1271, 1272, 1277, 1287, 1303, 1304,\n",
      "       1308, 1311, 1316, 1318, 1320, 1322, 1329, 1330, 1334, 1336, 1339,\n",
      "       1342, 1344, 1345, 1350, 1351, 1355, 1356, 1361, 1365, 1368, 1382,\n",
      "       1386, 1388, 1393, 1394, 1400, 1405, 1405, 1429, 1436, 1438, 1450,\n",
      "       1454, 1456, 1457, 1458, 1466, 1470, 1474, 1476, 1477, 1481, 1488,\n",
      "       1495, 1499, 1500, 1501, 1502, 1508, 1510, 1519, 1525, 1527, 1527,\n",
      "       1529, 1530, 1530, 1535, 1539, 1544, 1546, 1549, 1556, 1563, 1566,\n",
      "       1571, 1576, 1584, 1586, 1588, 1595, 1604, 1604, 1607, 1613, 1622,\n",
      "       1623, 1626, 1628, 1632, 1633, 1649, 1654, 1664, 1665, 1668, 1669,\n",
      "       1673, 1674, 1679, 1685, 1699, 1700, 1702, 1705, 1714, 1720, 1726,\n",
      "       1727, 1735, 1748, 1749, 1761, 1762, 1774, 1777, 1777, 1778, 1780,\n",
      "       1785, 1802, 1813, 1814, 1819, 1820, 1823, 1823, 1828, 1830, 1839,\n",
      "       1845, 1858, 1860, 1866, 1876, 1880, 1881, 1884, 1892, 1900, 1909,\n",
      "       1910, 1912, 1928, 1938, 1939, 1939, 1943, 1960, 1963, 1968, 1980,\n",
      "       1981, 1989, 1996, 1997, 2000, 2001, 2002, 2004, 2005, 2007, 2026,\n",
      "       2031, 2038, 2040, 2046, 2049, 2052, 2052, 2054, 2061, 2073, 2081,\n",
      "       2082, 2082, 2085, 2087, 2096, 2097, 2103, 2106, 2108, 2111, 2114,\n",
      "       2123, 2127, 2130, 2132, 2138, 2141, 2146, 2147, 2148, 2149, 2149,\n",
      "       2157, 2160, 2161, 2164, 2166, 2167, 2169, 2169, 2170, 2173, 2173,\n",
      "       2174, 2174, 2182, 2190, 2191, 2208, 2209, 2214, 2220, 2223, 2224,\n",
      "       2234, 2235, 2245, 2245, 2246, 2248, 2253, 2253, 2257, 2259, 2259,\n",
      "       2261, 2265, 2267, 2269, 2270, 2276, 2277, 2282, 2283, 2294, 2295,\n",
      "       2296, 2302, 2304, 2305, 2306, 2310, 2311, 2312, 2322, 2327, 2336,\n",
      "       2336, 2338, 2340, 2340, 2342, 2350, 2360, 2362, 2380, 2382, 2386,\n",
      "       2391, 2392, 2399, 2401, 2403, 2407, 2412, 2424, 2429, 2437, 2440,\n",
      "       2441, 2450, 2466, 2468, 2471, 2477, 2479, 2480, 2481, 2483, 2485,\n",
      "       2490, 2496, 2498, 2499, 2503, 2509, 2525, 2527, 2531, 2540, 2545,\n",
      "       2554, 2559, 2567, 2568, 2569, 2572, 2573, 2583, 2585, 2588, 2591,\n",
      "       2599, 2606, 2608, 2612, 2613, 2615, 2616, 2617, 2621, 2625, 2626,\n",
      "       2630, 2636, 2639, 2643, 2647, 2659, 2663, 2666, 2671, 2676, 2683,\n",
      "       2687, 2687, 2688, 2694, 2722, 2733, 2736, 2736, 2741, 2759, 2766,\n",
      "       2769, 2785, 2786, 2793, 2794, 2802, 2806, 2810, 2810, 2815, 2817,\n",
      "       2818, 2819, 2821, 2825, 2831, 2837, 2850, 2852, 2856, 2858, 2860,\n",
      "       2863, 2863, 2888, 2892, 2893, 2900, 2901, 2912, 2914, 2916, 2919,\n",
      "       2923, 2927, 2928, 2932, 2933, 2941, 2944, 2951, 2952, 2954, 2957,\n",
      "       2960, 2967, 2967, 2970, 2974, 2977, 2977, 2981, 2984, 2984, 2991,\n",
      "       2993, 2999, 3000, 3006, 3006, 3011, 3017, 3028, 3030, 3030, 3034,\n",
      "       3036, 3037, 3038, 3042, 3045, 3046, 3049, 3063, 3065, 3067, 3084,\n",
      "       3097, 3098, 3101, 3104, 3105, 3106, 3106, 3108, 3119, 3119, 3125,\n",
      "       3127, 3137, 3139, 3160, 3163, 3168, 3173, 3175, 3177, 3182, 3182,\n",
      "       3185, 3192, 3195, 3202, 3205, 3208, 3212, 3214, 3222, 3227, 3230,\n",
      "       3237, 3243, 3245, 3252, 3255, 3259, 3259, 3260, 3265, 3271, 3272,\n",
      "       3278, 3282, 3288, 3292, 3293, 3298, 3298, 3303, 3309, 3309, 3310,\n",
      "       3311, 3321, 3329, 3329, 3331, 3339, 3339, 3349, 3355, 3363, 3369,\n",
      "       3374, 3380, 3383, 3384, 3385, 3389, 3394, 3398, 3401, 3413, 3417,\n",
      "       3418, 3425, 3428, 3446, 3450, 3451, 3453, 3455, 3458, 3459, 3462,\n",
      "       3463, 3466, 3473, 3475, 3475, 3477, 3478, 3482, 3484, 3487, 3488,\n",
      "       3490, 3492, 3494, 3495, 3499, 3504, 3506, 3507, 3508, 3510, 3511,\n",
      "       3520, 3522, 3524, 3533, 3534, 3539, 3541, 3543, 3547, 3550, 3551,\n",
      "       3552, 3556, 3558, 3569, 3571, 3573, 3578, 3579, 3589, 3590, 3591,\n",
      "       3591, 3595, 3596, 3602, 3619, 3626, 3628, 3630, 3636, 3649, 3653,\n",
      "       3655, 3659, 3663, 3670, 3672, 3681, 3695, 3698, 3700, 3704],\n",
      "      dtype=int64), array([2, 1, 1, 1, 1, 1, 1, 1, 1, 1, 3, 1, 2, 1, 1, 1, 1, 1, 1, 2, 1, 1,\n",
      "       1, 2, 1, 3, 1, 1, 0, 0, 1, 2, 2, 1, 0, 1, 1, 1, 1, 0, 1, 1, 2, 2,\n",
      "       1, 0, 1, 3, 1, 3, 1, 1, 0, 1, 1, 0, 3, 1, 0, 1, 1, 1, 0, 2, 0, 1,\n",
      "       0, 1, 0, 0, 1, 1, 0, 1, 1, 1, 1, 1, 0, 1, 0, 1, 3, 1, 0, 2, 0, 0,\n",
      "       1, 0, 1, 1, 1, 0, 2, 1, 1, 1, 1, 1, 1, 1, 1, 1, 2, 1, 1, 1, 1, 3,\n",
      "       1, 3, 1, 2, 0, 1, 0, 1, 0, 1, 0, 1, 1, 1, 1, 1, 0, 0, 0, 1, 1, 1,\n",
      "       1, 1, 2, 2, 2, 2, 2, 0, 1, 1, 1, 1, 1, 2, 1, 1, 3, 0, 0, 1, 0, 2,\n",
      "       1, 1, 3, 1, 1, 1, 0, 1, 1, 1, 1, 0, 1, 1, 0, 0, 0, 1, 3, 1, 1, 1,\n",
      "       1, 1, 0, 3, 1, 1, 0, 3, 1, 1, 1, 0, 3, 1, 3, 1, 1, 3, 1, 1, 1, 1,\n",
      "       1, 0, 1, 2, 1, 1, 2, 1, 3, 1, 1, 1, 3, 3, 1, 1, 0, 1, 1, 1, 1, 0,\n",
      "       2, 1, 0, 1, 0, 1, 1, 2, 3, 1, 2, 3, 1, 1, 1, 1, 0, 3, 2, 1, 1, 1,\n",
      "       1, 1, 1, 2, 1, 1, 1, 1, 3, 3, 1, 1, 0, 0, 0, 1, 1, 0, 0, 0, 1, 1,\n",
      "       1, 1, 1, 0, 1, 1, 1, 2, 3, 1, 1, 1, 1, 2, 0, 1, 2, 1, 0, 3, 1, 3,\n",
      "       1, 0, 1, 1, 0, 3, 0, 1, 1, 0, 3, 1, 1, 1, 1, 1, 1, 1, 2, 1, 1, 2,\n",
      "       0, 1, 0, 1, 2, 1, 2, 1, 1, 1, 0, 1, 1, 0, 0, 3, 1, 3, 1, 2, 0, 1,\n",
      "       0, 1, 1, 3, 1, 1, 0, 3, 1, 1, 1, 1, 0, 1, 0, 1, 0, 1, 2, 1, 0, 1,\n",
      "       1, 1, 3, 1, 0, 2, 1, 2, 1, 3, 0, 3, 2, 1, 3, 1, 3, 0, 1, 2, 0, 1,\n",
      "       2, 1, 2, 0, 2, 3, 2, 3, 1, 1, 1, 1, 1, 1, 1, 1, 1, 1, 1, 0, 1, 0,\n",
      "       2, 0, 1, 1, 0, 1, 1, 2, 3, 1, 1, 0, 1, 3, 0, 3, 1, 0, 1, 1, 1, 3,\n",
      "       1, 1, 1, 1, 2, 1, 1, 1, 2, 0, 1, 0, 3, 2, 0, 1, 2, 2, 1, 3, 1, 0,\n",
      "       3, 0, 1, 1, 2, 1, 3, 0, 1, 1, 1, 3, 1, 1, 1, 1, 0, 1, 3, 1, 0, 2,\n",
      "       0, 2, 3, 1, 1, 1, 1, 0, 1, 2, 1, 1, 1, 2, 1, 2, 0, 1, 1, 1, 1, 3,\n",
      "       3, 1, 2, 2, 1, 1, 0, 2, 1, 1, 2, 0, 1, 1, 1, 1, 2, 1, 1, 1, 0, 1,\n",
      "       0, 3, 0, 1, 0, 1, 0, 2, 1, 0, 1, 1, 1, 2, 3, 1, 1, 1, 1, 1, 1, 1,\n",
      "       3, 1, 1, 1, 1, 1, 2, 1, 1, 0, 2, 3, 1, 1, 2, 0, 1, 3, 3, 3, 3, 0,\n",
      "       3, 1, 2, 1, 1, 1, 1, 1, 2, 1, 1, 3, 1, 0, 2, 1, 1, 1, 1, 2, 2, 2,\n",
      "       1, 1, 1, 2, 3, 0, 2, 2, 1, 1, 1, 1, 1, 1, 2, 2, 1, 0, 1, 1, 1, 0,\n",
      "       1, 1, 0, 3, 0, 3, 0, 1, 1, 2, 1, 1, 1, 1, 1, 3, 3, 0, 1, 0, 2, 1,\n",
      "       0, 1, 1, 1, 1, 1, 0, 3, 2, 1, 1, 1, 0, 0, 3, 1, 1, 1, 1, 2, 1, 1,\n",
      "       1, 0, 1, 1, 0, 0, 1, 1, 2, 1, 1, 0, 2, 1, 1, 1, 3, 0, 3, 1, 1, 0,\n",
      "       3, 1, 1, 1, 1, 3, 1, 1, 1, 1, 1, 1, 0, 3, 3, 1, 1, 3, 1, 1, 2, 1,\n",
      "       0, 0, 1, 2, 3, 3, 2, 2, 0, 1, 1, 0, 1, 0, 1, 1, 1, 1, 0, 2, 0, 1,\n",
      "       2, 1, 1, 1, 1, 0, 1, 3, 0, 1, 3, 1, 1, 1, 2, 1, 0, 3, 1, 2, 0, 2,\n",
      "       2, 3, 0, 1, 1, 0, 1, 0, 1, 1, 1, 1, 1, 1, 1, 0, 0, 1, 1, 3, 1, 2,\n",
      "       1, 1, 1, 0, 0, 0, 3, 0, 0, 1, 1, 3, 1, 0, 1, 1, 0, 1, 0, 1, 1, 1,\n",
      "       1, 3, 1, 0, 1, 1, 1, 1, 0, 2, 1, 0, 3, 1, 1, 1, 1, 0, 1, 1, 0, 1,\n",
      "       1, 1, 0, 1, 2, 1, 1, 2, 1, 3, 0, 1, 3, 1, 1, 1, 1, 1, 1, 1, 1, 1,\n",
      "       1, 1, 1, 1, 1, 1, 0, 1, 1, 0, 3, 3, 3, 3, 2, 1, 1, 0, 2, 1, 1, 1,\n",
      "       3, 1, 1, 0, 1, 1, 2, 1, 1, 1, 1, 1, 2, 0, 2, 1, 1, 1, 1, 1, 1],\n",
      "      dtype=int64))\n"
     ]
    }
   ],
   "source": [
    "threshold = 2\n",
    "print(np.where(z>2))"
   ]
  },
  {
   "cell_type": "code",
   "execution_count": 109,
   "metadata": {},
   "outputs": [],
   "source": [
    "mldata_subset_no_outliers = mldata_subset[(z<2).all(axis=1)]"
   ]
  },
  {
   "cell_type": "markdown",
   "metadata": {},
   "source": [
    "### Data dimension after removing outliers."
   ]
  },
  {
   "cell_type": "code",
   "execution_count": 110,
   "metadata": {},
   "outputs": [
    {
     "data": {
      "text/plain": [
       "(2906, 4)"
      ]
     },
     "execution_count": 110,
     "metadata": {},
     "output_type": "execute_result"
    }
   ],
   "source": [
    "mldata_subset_no_outliers.shape"
   ]
  },
  {
   "cell_type": "code",
   "execution_count": 111,
   "metadata": {},
   "outputs": [
    {
     "data": {
      "text/plain": [
       "array([[<matplotlib.axes._subplots.AxesSubplot object at 0x000001ED90184128>,\n",
       "        <matplotlib.axes._subplots.AxesSubplot object at 0x000001ED9020D080>],\n",
       "       [<matplotlib.axes._subplots.AxesSubplot object at 0x000001ED9022A2E8>,\n",
       "        <matplotlib.axes._subplots.AxesSubplot object at 0x000001ED90A60550>]],\n",
       "      dtype=object)"
      ]
     },
     "execution_count": 111,
     "metadata": {},
     "output_type": "execute_result"
    },
    {
     "data": {
      "image/png": "[encoded data removed]",
      "text/plain": [
       "<Figure size 720x720 with 4 Axes>"
      ]
     },
     "metadata": {
      "needs_background": "light"
     },
     "output_type": "display_data"
    }
   ],
   "source": [
    "mldata_subset_no_outliers.hist(figsize = (10, 10))"
   ]
  },
  {
   "cell_type": "code",
   "execution_count": 112,
   "metadata": {},
   "outputs": [
    {
     "data": {
      "text/plain": [
       "array([[<matplotlib.axes._subplots.AxesSubplot object at 0x000001ED914EF240>,\n",
       "        <matplotlib.axes._subplots.AxesSubplot object at 0x000001ED9151ED68>],\n",
       "       [<matplotlib.axes._subplots.AxesSubplot object at 0x000001ED90B2B320>,\n",
       "        <matplotlib.axes._subplots.AxesSubplot object at 0x000001ED90B4E898>],\n",
       "       [<matplotlib.axes._subplots.AxesSubplot object at 0x000001ED90B73E10>,\n",
       "        <matplotlib.axes._subplots.AxesSubplot object at 0x000001ED90BA13C8>]],\n",
       "      dtype=object)"
      ]
     },
     "execution_count": 112,
     "metadata": {},
     "output_type": "execute_result"
    },
    {
     "data": {
      "image/png": "[encoded data removed]",
      "text/plain": [
       "<Figure size 432x360 with 6 Axes>"
      ]
     },
     "metadata": {
      "needs_background": "light"
     },
     "output_type": "display_data"
    }
   ],
   "source": [
    "mldata_subset_no_outliers.plot(kind='density', subplots=True, layout=(3,2), sharex=False, figsize=(6, 5))"
   ]
  },
  {
   "cell_type": "code",
   "execution_count": 113,
   "metadata": {},
   "outputs": [
    {
     "data": {
      "text/plain": [
       "ERBMI             AxesSubplot(0.125,0.657941;0.352273x0.222059)\n",
       "ERINCOME       AxesSubplot(0.547727,0.657941;0.352273x0.222059)\n",
       "EUEXFREQ          AxesSubplot(0.125,0.391471;0.352273x0.222059)\n",
       "EUFASTFDFRQ    AxesSubplot(0.547727,0.391471;0.352273x0.222059)\n",
       "dtype: object"
      ]
     },
     "execution_count": 113,
     "metadata": {},
     "output_type": "execute_result"
    },
    {
     "data": {
      "image/png": "[encoded data removed]",
      "text/plain": [
       "<Figure size 576x432 with 6 Axes>"
      ]
     },
     "metadata": {
      "needs_background": "light"
     },
     "output_type": "display_data"
    }
   ],
   "source": [
    "mldata_subset_no_outliers.plot(kind='box', subplots=True, layout=(3,2), sharex=False, sharey=False, figsize=(8, 6))"
   ]
  },
  {
   "cell_type": "markdown",
   "metadata": {},
   "source": [
    "## creating an overweight indicator variable"
   ]
  },
  {
   "cell_type": "code",
   "execution_count": 114,
   "metadata": {},
   "outputs": [],
   "source": [
    "mldata_subset_no_outliers['OVERWEIGHT'] = np.where(mldata_subset_no_outliers.ERBMI > 25.0, 1, 0)"
   ]
  },
  {
   "cell_type": "code",
   "execution_count": 115,
   "metadata": {},
   "outputs": [
    {
     "data": {
      "text/html": [
       "<div>\n",
       "<style scoped>\n",
       "    .dataframe tbody tr th:only-of-type {\n",
       "        vertical-align: middle;\n",
       "    }\n",
       "\n",
       "    .dataframe tbody tr th {\n",
       "        vertical-align: top;\n",
       "    }\n",
       "\n",
       "    .dataframe thead th {\n",
       "        text-align: right;\n",
       "    }\n",
       "</style>\n",
       "<table border=\"1\" class=\"dataframe\">\n",
       "  <thead>\n",
       "    <tr style=\"text-align: right;\">\n",
       "      <th></th>\n",
       "      <th>ERBMI</th>\n",
       "      <th>ERINCOME</th>\n",
       "      <th>EUEXFREQ</th>\n",
       "      <th>EUFASTFDFRQ</th>\n",
       "      <th>OVERWEIGHT</th>\n",
       "    </tr>\n",
       "  </thead>\n",
       "  <tbody>\n",
       "    <tr>\n",
       "      <th>1</th>\n",
       "      <td>25.7</td>\n",
       "      <td>3</td>\n",
       "      <td>4</td>\n",
       "      <td>2</td>\n",
       "      <td>1</td>\n",
       "    </tr>\n",
       "    <tr>\n",
       "      <th>3</th>\n",
       "      <td>23.4</td>\n",
       "      <td>2</td>\n",
       "      <td>6</td>\n",
       "      <td>1</td>\n",
       "      <td>0</td>\n",
       "    </tr>\n",
       "    <tr>\n",
       "      <th>7</th>\n",
       "      <td>33.9</td>\n",
       "      <td>1</td>\n",
       "      <td>4</td>\n",
       "      <td>1</td>\n",
       "      <td>1</td>\n",
       "    </tr>\n",
       "    <tr>\n",
       "      <th>9</th>\n",
       "      <td>22.6</td>\n",
       "      <td>1</td>\n",
       "      <td>7</td>\n",
       "      <td>3</td>\n",
       "      <td>0</td>\n",
       "    </tr>\n",
       "    <tr>\n",
       "      <th>18</th>\n",
       "      <td>29.3</td>\n",
       "      <td>1</td>\n",
       "      <td>2</td>\n",
       "      <td>2</td>\n",
       "      <td>1</td>\n",
       "    </tr>\n",
       "  </tbody>\n",
       "</table>\n",
       "</div>"
      ],
      "text/plain": [
       "    ERBMI  ERINCOME  EUEXFREQ  EUFASTFDFRQ  OVERWEIGHT\n",
       "1    25.7         3         4            2           1\n",
       "3    23.4         2         6            1           0\n",
       "7    33.9         1         4            1           1\n",
       "9    22.6         1         7            3           0\n",
       "18   29.3         1         2            2           1"
      ]
     },
     "execution_count": 115,
     "metadata": {},
     "output_type": "execute_result"
    }
   ],
   "source": [
    "mldata_subset_no_outliers.head(5)"
   ]
  },
  {
   "cell_type": "code",
   "execution_count": 116,
   "metadata": {},
   "outputs": [
    {
     "data": {
      "text/plain": [
       "['EUFASTFDFRQ', 'ERINCOME', 'EUEXFREQ', 'ERBMI', 'OVERWEIGHT']"
      ]
     },
     "execution_count": 116,
     "metadata": {},
     "output_type": "execute_result"
    }
   ],
   "source": [
    "cols = list(mldata_subset_no_outliers)\n",
    "cols[0], cols[3] = cols[3], cols[0]\n",
    "cols\n"
   ]
  },
  {
   "cell_type": "code",
   "execution_count": 117,
   "metadata": {},
   "outputs": [
    {
     "data": {
      "text/html": [
       "<div>\n",
       "<style scoped>\n",
       "    .dataframe tbody tr th:only-of-type {\n",
       "        vertical-align: middle;\n",
       "    }\n",
       "\n",
       "    .dataframe tbody tr th {\n",
       "        vertical-align: top;\n",
       "    }\n",
       "\n",
       "    .dataframe thead th {\n",
       "        text-align: right;\n",
       "    }\n",
       "</style>\n",
       "<table border=\"1\" class=\"dataframe\">\n",
       "  <thead>\n",
       "    <tr style=\"text-align: right;\">\n",
       "      <th></th>\n",
       "      <th>EUFASTFDFRQ</th>\n",
       "      <th>ERINCOME</th>\n",
       "      <th>EUEXFREQ</th>\n",
       "      <th>ERBMI</th>\n",
       "      <th>OVERWEIGHT</th>\n",
       "    </tr>\n",
       "  </thead>\n",
       "  <tbody>\n",
       "    <tr>\n",
       "      <th>1</th>\n",
       "      <td>2</td>\n",
       "      <td>3</td>\n",
       "      <td>4</td>\n",
       "      <td>25.7</td>\n",
       "      <td>1</td>\n",
       "    </tr>\n",
       "    <tr>\n",
       "      <th>3</th>\n",
       "      <td>1</td>\n",
       "      <td>2</td>\n",
       "      <td>6</td>\n",
       "      <td>23.4</td>\n",
       "      <td>0</td>\n",
       "    </tr>\n",
       "    <tr>\n",
       "      <th>7</th>\n",
       "      <td>1</td>\n",
       "      <td>1</td>\n",
       "      <td>4</td>\n",
       "      <td>33.9</td>\n",
       "      <td>1</td>\n",
       "    </tr>\n",
       "    <tr>\n",
       "      <th>9</th>\n",
       "      <td>3</td>\n",
       "      <td>1</td>\n",
       "      <td>7</td>\n",
       "      <td>22.6</td>\n",
       "      <td>0</td>\n",
       "    </tr>\n",
       "    <tr>\n",
       "      <th>18</th>\n",
       "      <td>2</td>\n",
       "      <td>1</td>\n",
       "      <td>2</td>\n",
       "      <td>29.3</td>\n",
       "      <td>1</td>\n",
       "    </tr>\n",
       "    <tr>\n",
       "      <th>22</th>\n",
       "      <td>2</td>\n",
       "      <td>1</td>\n",
       "      <td>5</td>\n",
       "      <td>22.1</td>\n",
       "      <td>0</td>\n",
       "    </tr>\n",
       "    <tr>\n",
       "      <th>23</th>\n",
       "      <td>2</td>\n",
       "      <td>1</td>\n",
       "      <td>6</td>\n",
       "      <td>22.1</td>\n",
       "      <td>0</td>\n",
       "    </tr>\n",
       "    <tr>\n",
       "      <th>26</th>\n",
       "      <td>3</td>\n",
       "      <td>1</td>\n",
       "      <td>5</td>\n",
       "      <td>19.7</td>\n",
       "      <td>0</td>\n",
       "    </tr>\n",
       "    <tr>\n",
       "      <th>29</th>\n",
       "      <td>5</td>\n",
       "      <td>1</td>\n",
       "      <td>7</td>\n",
       "      <td>30.3</td>\n",
       "      <td>1</td>\n",
       "    </tr>\n",
       "    <tr>\n",
       "      <th>30</th>\n",
       "      <td>1</td>\n",
       "      <td>1</td>\n",
       "      <td>6</td>\n",
       "      <td>27.5</td>\n",
       "      <td>1</td>\n",
       "    </tr>\n",
       "    <tr>\n",
       "      <th>39</th>\n",
       "      <td>1</td>\n",
       "      <td>1</td>\n",
       "      <td>7</td>\n",
       "      <td>28.3</td>\n",
       "      <td>1</td>\n",
       "    </tr>\n",
       "    <tr>\n",
       "      <th>45</th>\n",
       "      <td>2</td>\n",
       "      <td>1</td>\n",
       "      <td>2</td>\n",
       "      <td>24.5</td>\n",
       "      <td>0</td>\n",
       "    </tr>\n",
       "    <tr>\n",
       "      <th>46</th>\n",
       "      <td>4</td>\n",
       "      <td>1</td>\n",
       "      <td>6</td>\n",
       "      <td>23.1</td>\n",
       "      <td>0</td>\n",
       "    </tr>\n",
       "    <tr>\n",
       "      <th>54</th>\n",
       "      <td>2</td>\n",
       "      <td>1</td>\n",
       "      <td>3</td>\n",
       "      <td>20.7</td>\n",
       "      <td>0</td>\n",
       "    </tr>\n",
       "    <tr>\n",
       "      <th>56</th>\n",
       "      <td>1</td>\n",
       "      <td>1</td>\n",
       "      <td>3</td>\n",
       "      <td>26.5</td>\n",
       "      <td>1</td>\n",
       "    </tr>\n",
       "    <tr>\n",
       "      <th>62</th>\n",
       "      <td>2</td>\n",
       "      <td>1</td>\n",
       "      <td>3</td>\n",
       "      <td>24.6</td>\n",
       "      <td>0</td>\n",
       "    </tr>\n",
       "    <tr>\n",
       "      <th>69</th>\n",
       "      <td>1</td>\n",
       "      <td>2</td>\n",
       "      <td>3</td>\n",
       "      <td>37.6</td>\n",
       "      <td>1</td>\n",
       "    </tr>\n",
       "    <tr>\n",
       "      <th>71</th>\n",
       "      <td>2</td>\n",
       "      <td>1</td>\n",
       "      <td>6</td>\n",
       "      <td>28.3</td>\n",
       "      <td>1</td>\n",
       "    </tr>\n",
       "    <tr>\n",
       "      <th>75</th>\n",
       "      <td>2</td>\n",
       "      <td>1</td>\n",
       "      <td>4</td>\n",
       "      <td>21.6</td>\n",
       "      <td>0</td>\n",
       "    </tr>\n",
       "    <tr>\n",
       "      <th>76</th>\n",
       "      <td>2</td>\n",
       "      <td>1</td>\n",
       "      <td>5</td>\n",
       "      <td>23.7</td>\n",
       "      <td>0</td>\n",
       "    </tr>\n",
       "    <tr>\n",
       "      <th>77</th>\n",
       "      <td>3</td>\n",
       "      <td>1</td>\n",
       "      <td>4</td>\n",
       "      <td>24.6</td>\n",
       "      <td>0</td>\n",
       "    </tr>\n",
       "    <tr>\n",
       "      <th>80</th>\n",
       "      <td>1</td>\n",
       "      <td>1</td>\n",
       "      <td>5</td>\n",
       "      <td>18.0</td>\n",
       "      <td>0</td>\n",
       "    </tr>\n",
       "    <tr>\n",
       "      <th>81</th>\n",
       "      <td>3</td>\n",
       "      <td>1</td>\n",
       "      <td>3</td>\n",
       "      <td>28.3</td>\n",
       "      <td>1</td>\n",
       "    </tr>\n",
       "    <tr>\n",
       "      <th>86</th>\n",
       "      <td>4</td>\n",
       "      <td>1</td>\n",
       "      <td>4</td>\n",
       "      <td>29.9</td>\n",
       "      <td>1</td>\n",
       "    </tr>\n",
       "    <tr>\n",
       "      <th>89</th>\n",
       "      <td>2</td>\n",
       "      <td>1</td>\n",
       "      <td>6</td>\n",
       "      <td>22.6</td>\n",
       "      <td>0</td>\n",
       "    </tr>\n",
       "    <tr>\n",
       "      <th>93</th>\n",
       "      <td>1</td>\n",
       "      <td>1</td>\n",
       "      <td>2</td>\n",
       "      <td>39.0</td>\n",
       "      <td>1</td>\n",
       "    </tr>\n",
       "    <tr>\n",
       "      <th>99</th>\n",
       "      <td>1</td>\n",
       "      <td>1</td>\n",
       "      <td>3</td>\n",
       "      <td>27.5</td>\n",
       "      <td>1</td>\n",
       "    </tr>\n",
       "    <tr>\n",
       "      <th>100</th>\n",
       "      <td>1</td>\n",
       "      <td>1</td>\n",
       "      <td>4</td>\n",
       "      <td>23.6</td>\n",
       "      <td>0</td>\n",
       "    </tr>\n",
       "    <tr>\n",
       "      <th>103</th>\n",
       "      <td>1</td>\n",
       "      <td>3</td>\n",
       "      <td>3</td>\n",
       "      <td>26.3</td>\n",
       "      <td>1</td>\n",
       "    </tr>\n",
       "    <tr>\n",
       "      <th>107</th>\n",
       "      <td>4</td>\n",
       "      <td>1</td>\n",
       "      <td>7</td>\n",
       "      <td>31.2</td>\n",
       "      <td>1</td>\n",
       "    </tr>\n",
       "    <tr>\n",
       "      <th>...</th>\n",
       "      <td>...</td>\n",
       "      <td>...</td>\n",
       "      <td>...</td>\n",
       "      <td>...</td>\n",
       "      <td>...</td>\n",
       "    </tr>\n",
       "    <tr>\n",
       "      <th>10514</th>\n",
       "      <td>1</td>\n",
       "      <td>3</td>\n",
       "      <td>5</td>\n",
       "      <td>21.3</td>\n",
       "      <td>0</td>\n",
       "    </tr>\n",
       "    <tr>\n",
       "      <th>10531</th>\n",
       "      <td>2</td>\n",
       "      <td>1</td>\n",
       "      <td>3</td>\n",
       "      <td>29.8</td>\n",
       "      <td>1</td>\n",
       "    </tr>\n",
       "    <tr>\n",
       "      <th>10534</th>\n",
       "      <td>2</td>\n",
       "      <td>1</td>\n",
       "      <td>2</td>\n",
       "      <td>24.3</td>\n",
       "      <td>0</td>\n",
       "    </tr>\n",
       "    <tr>\n",
       "      <th>10535</th>\n",
       "      <td>2</td>\n",
       "      <td>1</td>\n",
       "      <td>4</td>\n",
       "      <td>24.4</td>\n",
       "      <td>0</td>\n",
       "    </tr>\n",
       "    <tr>\n",
       "      <th>10536</th>\n",
       "      <td>2</td>\n",
       "      <td>1</td>\n",
       "      <td>7</td>\n",
       "      <td>27.4</td>\n",
       "      <td>1</td>\n",
       "    </tr>\n",
       "    <tr>\n",
       "      <th>10546</th>\n",
       "      <td>4</td>\n",
       "      <td>1</td>\n",
       "      <td>2</td>\n",
       "      <td>23.2</td>\n",
       "      <td>0</td>\n",
       "    </tr>\n",
       "    <tr>\n",
       "      <th>10552</th>\n",
       "      <td>1</td>\n",
       "      <td>1</td>\n",
       "      <td>1</td>\n",
       "      <td>25.8</td>\n",
       "      <td>1</td>\n",
       "    </tr>\n",
       "    <tr>\n",
       "      <th>10555</th>\n",
       "      <td>2</td>\n",
       "      <td>1</td>\n",
       "      <td>3</td>\n",
       "      <td>21.5</td>\n",
       "      <td>0</td>\n",
       "    </tr>\n",
       "    <tr>\n",
       "      <th>10557</th>\n",
       "      <td>1</td>\n",
       "      <td>1</td>\n",
       "      <td>3</td>\n",
       "      <td>25.7</td>\n",
       "      <td>1</td>\n",
       "    </tr>\n",
       "    <tr>\n",
       "      <th>10562</th>\n",
       "      <td>1</td>\n",
       "      <td>3</td>\n",
       "      <td>1</td>\n",
       "      <td>22.1</td>\n",
       "      <td>0</td>\n",
       "    </tr>\n",
       "    <tr>\n",
       "      <th>10566</th>\n",
       "      <td>1</td>\n",
       "      <td>1</td>\n",
       "      <td>5</td>\n",
       "      <td>25.1</td>\n",
       "      <td>1</td>\n",
       "    </tr>\n",
       "    <tr>\n",
       "      <th>10567</th>\n",
       "      <td>1</td>\n",
       "      <td>1</td>\n",
       "      <td>5</td>\n",
       "      <td>16.0</td>\n",
       "      <td>0</td>\n",
       "    </tr>\n",
       "    <tr>\n",
       "      <th>10572</th>\n",
       "      <td>2</td>\n",
       "      <td>1</td>\n",
       "      <td>3</td>\n",
       "      <td>23.7</td>\n",
       "      <td>0</td>\n",
       "    </tr>\n",
       "    <tr>\n",
       "      <th>10576</th>\n",
       "      <td>2</td>\n",
       "      <td>1</td>\n",
       "      <td>5</td>\n",
       "      <td>28.9</td>\n",
       "      <td>1</td>\n",
       "    </tr>\n",
       "    <tr>\n",
       "      <th>10579</th>\n",
       "      <td>1</td>\n",
       "      <td>1</td>\n",
       "      <td>6</td>\n",
       "      <td>21.5</td>\n",
       "      <td>0</td>\n",
       "    </tr>\n",
       "    <tr>\n",
       "      <th>10581</th>\n",
       "      <td>2</td>\n",
       "      <td>1</td>\n",
       "      <td>3</td>\n",
       "      <td>25.7</td>\n",
       "      <td>1</td>\n",
       "    </tr>\n",
       "    <tr>\n",
       "      <th>10583</th>\n",
       "      <td>5</td>\n",
       "      <td>1</td>\n",
       "      <td>3</td>\n",
       "      <td>33.4</td>\n",
       "      <td>1</td>\n",
       "    </tr>\n",
       "    <tr>\n",
       "      <th>10585</th>\n",
       "      <td>7</td>\n",
       "      <td>1</td>\n",
       "      <td>2</td>\n",
       "      <td>21.9</td>\n",
       "      <td>0</td>\n",
       "    </tr>\n",
       "    <tr>\n",
       "      <th>10590</th>\n",
       "      <td>3</td>\n",
       "      <td>3</td>\n",
       "      <td>2</td>\n",
       "      <td>31.2</td>\n",
       "      <td>1</td>\n",
       "    </tr>\n",
       "    <tr>\n",
       "      <th>10591</th>\n",
       "      <td>2</td>\n",
       "      <td>1</td>\n",
       "      <td>3</td>\n",
       "      <td>25.3</td>\n",
       "      <td>1</td>\n",
       "    </tr>\n",
       "    <tr>\n",
       "      <th>10593</th>\n",
       "      <td>2</td>\n",
       "      <td>1</td>\n",
       "      <td>3</td>\n",
       "      <td>31.0</td>\n",
       "      <td>1</td>\n",
       "    </tr>\n",
       "    <tr>\n",
       "      <th>10597</th>\n",
       "      <td>4</td>\n",
       "      <td>1</td>\n",
       "      <td>5</td>\n",
       "      <td>22.9</td>\n",
       "      <td>0</td>\n",
       "    </tr>\n",
       "    <tr>\n",
       "      <th>10606</th>\n",
       "      <td>1</td>\n",
       "      <td>1</td>\n",
       "      <td>2</td>\n",
       "      <td>27.1</td>\n",
       "      <td>1</td>\n",
       "    </tr>\n",
       "    <tr>\n",
       "      <th>10607</th>\n",
       "      <td>1</td>\n",
       "      <td>1</td>\n",
       "      <td>7</td>\n",
       "      <td>22.1</td>\n",
       "      <td>0</td>\n",
       "    </tr>\n",
       "    <tr>\n",
       "      <th>10609</th>\n",
       "      <td>2</td>\n",
       "      <td>1</td>\n",
       "      <td>3</td>\n",
       "      <td>28.1</td>\n",
       "      <td>1</td>\n",
       "    </tr>\n",
       "    <tr>\n",
       "      <th>10612</th>\n",
       "      <td>1</td>\n",
       "      <td>1</td>\n",
       "      <td>2</td>\n",
       "      <td>31.5</td>\n",
       "      <td>1</td>\n",
       "    </tr>\n",
       "    <tr>\n",
       "      <th>10613</th>\n",
       "      <td>4</td>\n",
       "      <td>1</td>\n",
       "      <td>5</td>\n",
       "      <td>23.6</td>\n",
       "      <td>0</td>\n",
       "    </tr>\n",
       "    <tr>\n",
       "      <th>10615</th>\n",
       "      <td>3</td>\n",
       "      <td>1</td>\n",
       "      <td>4</td>\n",
       "      <td>25.1</td>\n",
       "      <td>1</td>\n",
       "    </tr>\n",
       "    <tr>\n",
       "      <th>10623</th>\n",
       "      <td>5</td>\n",
       "      <td>1</td>\n",
       "      <td>5</td>\n",
       "      <td>28.0</td>\n",
       "      <td>1</td>\n",
       "    </tr>\n",
       "    <tr>\n",
       "      <th>10625</th>\n",
       "      <td>2</td>\n",
       "      <td>3</td>\n",
       "      <td>3</td>\n",
       "      <td>34.7</td>\n",
       "      <td>1</td>\n",
       "    </tr>\n",
       "  </tbody>\n",
       "</table>\n",
       "<p>2906 rows × 5 columns</p>\n",
       "</div>"
      ],
      "text/plain": [
       "       EUFASTFDFRQ  ERINCOME  EUEXFREQ  ERBMI  OVERWEIGHT\n",
       "1                2         3         4   25.7           1\n",
       "3                1         2         6   23.4           0\n",
       "7                1         1         4   33.9           1\n",
       "9                3         1         7   22.6           0\n",
       "18               2         1         2   29.3           1\n",
       "22               2         1         5   22.1           0\n",
       "23               2         1         6   22.1           0\n",
       "26               3         1         5   19.7           0\n",
       "29               5         1         7   30.3           1\n",
       "30               1         1         6   27.5           1\n",
       "39               1         1         7   28.3           1\n",
       "45               2         1         2   24.5           0\n",
       "46               4         1         6   23.1           0\n",
       "54               2         1         3   20.7           0\n",
       "56               1         1         3   26.5           1\n",
       "62               2         1         3   24.6           0\n",
       "69               1         2         3   37.6           1\n",
       "71               2         1         6   28.3           1\n",
       "75               2         1         4   21.6           0\n",
       "76               2         1         5   23.7           0\n",
       "77               3         1         4   24.6           0\n",
       "80               1         1         5   18.0           0\n",
       "81               3         1         3   28.3           1\n",
       "86               4         1         4   29.9           1\n",
       "89               2         1         6   22.6           0\n",
       "93               1         1         2   39.0           1\n",
       "99               1         1         3   27.5           1\n",
       "100              1         1         4   23.6           0\n",
       "103              1         3         3   26.3           1\n",
       "107              4         1         7   31.2           1\n",
       "...            ...       ...       ...    ...         ...\n",
       "10514            1         3         5   21.3           0\n",
       "10531            2         1         3   29.8           1\n",
       "10534            2         1         2   24.3           0\n",
       "10535            2         1         4   24.4           0\n",
       "10536            2         1         7   27.4           1\n",
       "10546            4         1         2   23.2           0\n",
       "10552            1         1         1   25.8           1\n",
       "10555            2         1         3   21.5           0\n",
       "10557            1         1         3   25.7           1\n",
       "10562            1         3         1   22.1           0\n",
       "10566            1         1         5   25.1           1\n",
       "10567            1         1         5   16.0           0\n",
       "10572            2         1         3   23.7           0\n",
       "10576            2         1         5   28.9           1\n",
       "10579            1         1         6   21.5           0\n",
       "10581            2         1         3   25.7           1\n",
       "10583            5         1         3   33.4           1\n",
       "10585            7         1         2   21.9           0\n",
       "10590            3         3         2   31.2           1\n",
       "10591            2         1         3   25.3           1\n",
       "10593            2         1         3   31.0           1\n",
       "10597            4         1         5   22.9           0\n",
       "10606            1         1         2   27.1           1\n",
       "10607            1         1         7   22.1           0\n",
       "10609            2         1         3   28.1           1\n",
       "10612            1         1         2   31.5           1\n",
       "10613            4         1         5   23.6           0\n",
       "10615            3         1         4   25.1           1\n",
       "10623            5         1         5   28.0           1\n",
       "10625            2         3         3   34.7           1\n",
       "\n",
       "[2906 rows x 5 columns]"
      ]
     },
     "execution_count": 117,
     "metadata": {},
     "output_type": "execute_result"
    }
   ],
   "source": [
    "mldata_subset_no_outliers.ix[:, cols]"
   ]
  },
  {
   "cell_type": "code",
   "execution_count": 118,
   "metadata": {},
   "outputs": [
    {
     "data": {
      "text/plain": [
       "1    0.590158\n",
       "0    0.409842\n",
       "Name: OVERWEIGHT, dtype: float64"
      ]
     },
     "execution_count": 118,
     "metadata": {},
     "output_type": "execute_result"
    }
   ],
   "source": [
    "mldata_subset_no_outliers['OVERWEIGHT'].value_counts(normalize=True)"
   ]
  },
  {
   "cell_type": "code",
   "execution_count": 119,
   "metadata": {},
   "outputs": [
    {
     "data": {
      "text/plain": [
       "<matplotlib.axes._subplots.AxesSubplot at 0x1ed9173af60>"
      ]
     },
     "execution_count": 119,
     "metadata": {},
     "output_type": "execute_result"
    },
    {
     "data": {
      "image/png": "[encoded data removed]",
      "text/plain": [
       "<Figure size 576x432 with 1 Axes>"
      ]
     },
     "metadata": {
      "needs_background": "light"
     },
     "output_type": "display_data"
    }
   ],
   "source": [
    "mldata_subset_no_outliers['OVERWEIGHT'].value_counts(normalize=True).plot.bar(figsize=(8, 6))"
   ]
  },
  {
   "cell_type": "code",
   "execution_count": 120,
   "metadata": {},
   "outputs": [],
   "source": [
    "from sklearn.linear_model import LinearRegression\n",
    "from sklearn.linear_model import LogisticRegression\n",
    "from sklearn.model_selection import KFold\n",
    "from sklearn.model_selection import cross_val_score\n",
    "from sklearn.neighbors import KNeighborsClassifier\n",
    "from sklearn.neighbors import KNeighborsRegressor\n",
    "from sklearn.naive_bayes import GaussianNB\n",
    "from sklearn.svm import SVC, SVR\n",
    "from sklearn.tree import DecisionTreeClassifier, DecisionTreeRegressor\n",
    "from sklearn.ensemble import RandomForestClassifier, RandomForestRegressor"
   ]
  },
  {
   "cell_type": "markdown",
   "metadata": {},
   "source": [
    "## regression model"
   ]
  },
  {
   "cell_type": "code",
   "execution_count": 121,
   "metadata": {},
   "outputs": [],
   "source": [
    "X = mldata_subset_no_outliers.drop(mldata_subset_no_outliers[['ERBMI', 'OVERWEIGHT']], 1)\n",
    "y1 = mldata_subset_no_outliers.ERBMI\n",
    "y2 = mldata_subset_no_outliers.OVERWEIGHT"
   ]
  },
  {
   "cell_type": "code",
   "execution_count": 122,
   "metadata": {},
   "outputs": [
    {
     "name": "stdout",
     "output_type": "stream",
     "text": [
      "R-squared mean of the multiple regression model is: 0.006 and its mean standard deviation is: 0.008\n"
     ]
    }
   ],
   "source": [
    "kfold = KFold(n_splits=10, random_state=8)\n",
    "Multiple_linReg_model = LinearRegression()\n",
    "results = cross_val_score(Multiple_linReg_model, X, y1, cv=kfold)\n",
    "print('R-squared mean of the multiple regression model is: {:.3f} and its mean standard deviation is: {:.3f}'. format(results.mean(), results.std()))"
   ]
  },
  {
   "cell_type": "code",
   "execution_count": 123,
   "metadata": {},
   "outputs": [
    {
     "name": "stdout",
     "output_type": "stream",
     "text": [
      "R-squared mean of the KNN Rgressor model is: -0.183 and its mean standard deviation is: 0.057\n"
     ]
    }
   ],
   "source": [
    "KNN_regressor = KNeighborsRegressor()\n",
    "results1 = cross_val_score(KNN_regressor, X, y1, cv=kfold)\n",
    "print('R-squared mean of the KNN Rgressor model is: {:.3f} and its mean standard deviation is: {:.3f}'. format(results1.mean(), results1.std()))"
   ]
  },
  {
   "cell_type": "code",
   "execution_count": 124,
   "metadata": {},
   "outputs": [
    {
     "name": "stdout",
     "output_type": "stream",
     "text": [
      "R-squared mean of the model is: -0.039 and its mean standard deviation is: 0.032\n"
     ]
    }
   ],
   "source": [
    "decision_tree_model = DecisionTreeRegressor()\n",
    "results1a = cross_val_score(decision_tree_model, X, y1, cv=kfold, scoring='r2')\n",
    "print('R-squared mean of the model is: {:.3f} and its mean standard deviation is: {:.3f}'. format(results1a.mean(), results1a.std()))"
   ]
  },
  {
   "cell_type": "code",
   "execution_count": 125,
   "metadata": {},
   "outputs": [
    {
     "name": "stdout",
     "output_type": "stream",
     "text": [
      "R-squared mean of the model is: -0.019 and its mean standard deviation is: 0.019\n"
     ]
    }
   ],
   "source": [
    "svr_model = SVR()\n",
    "results1b = cross_val_score(svr_model, X, y1, cv=kfold, scoring='r2')\n",
    "print('R-squared mean of the model is: {:.3f} and its mean standard deviation is: {:.3f}'. format(results1b.mean(), results1b.std()))"
   ]
  },
  {
   "cell_type": "markdown",
   "metadata": {},
   "source": [
    "## classification"
   ]
  },
  {
   "cell_type": "code",
   "execution_count": 127,
   "metadata": {},
   "outputs": [
    {
     "name": "stdout",
     "output_type": "stream",
     "text": [
      "accuracy of the KNN model is: 0.544 and its mean standard deviation is: 0.034\n"
     ]
    }
   ],
   "source": [
    "KNN_classifier = KNeighborsClassifier(n_neighbors=5)\n",
    "results3 = cross_val_score(KNN_classifier, X, y2, cv=kfold, scoring='accuracy')\n",
    "print('accuracy of the KNN model is: {:.3f} and its mean standard deviation is: {:.3f}'. format(results3.mean(), results3.std()))"
   ]
  },
  {
   "cell_type": "code",
   "execution_count": 128,
   "metadata": {},
   "outputs": [
    {
     "name": "stdout",
     "output_type": "stream",
     "text": [
      "accuracy of the naive bayes model is: 0.578 and its mean standard deviation is: 0.026\n"
     ]
    }
   ],
   "source": [
    "naive_model = GaussianNB()\n",
    "results4 = cross_val_score(naive_model, X, y2, cv=kfold, scoring='accuracy')\n",
    "print('accuracy of the naive bayes model is: {:.3f} and its mean standard deviation is: {:.3f}'. format(results4.mean(), results4.std()))"
   ]
  },
  {
   "cell_type": "code",
   "execution_count": 129,
   "metadata": {},
   "outputs": [
    {
     "name": "stdout",
     "output_type": "stream",
     "text": [
      "accuracy of the decision tree classifier model is: 0.579 and its mean standard deviation is: 0.027\n"
     ]
    }
   ],
   "source": [
    "decision_tree_cls = DecisionTreeClassifier()\n",
    "results4a = cross_val_score(decision_tree_cls, X, y2, cv=kfold, scoring='accuracy')\n",
    "print('accuracy of the decision tree classifier model is: {:.3f} and its mean standard deviation is: {:.3f}'. format(results4a.mean(), results4a.std()))"
   ]
  },
  {
   "cell_type": "code",
   "execution_count": 130,
   "metadata": {},
   "outputs": [
    {
     "name": "stdout",
     "output_type": "stream",
     "text": [
      "accuracy of the support vector mschine model is: 0.584 and its mean standard deviation is: 0.030\n"
     ]
    }
   ],
   "source": [
    "svc_model = SVC()\n",
    "results4c = cross_val_score(svc_model, X, y2, cv=kfold, scoring='accuracy')\n",
    "print('accuracy of the support vector mschine model is: {:.3f} and its mean standard deviation is: {:.3f}'. format(results4c.mean(), results4c.std()))"
   ]
  },
  {
   "cell_type": "code",
   "execution_count": 131,
   "metadata": {},
   "outputs": [
    {
     "name": "stdout",
     "output_type": "stream",
     "text": [
      "accuracy of the random forest model is: 0.580 and its mean standard deviation is: 0.025\n"
     ]
    }
   ],
   "source": [
    "RF_classifier = RandomForestClassifier()\n",
    "results4c = cross_val_score(RF_classifier, X, y2, cv=kfold, scoring='accuracy')\n",
    "print('accuracy of the random forest model is: {:.3f} and its mean standard deviation is: {:.3f}'. format(results4c.mean(), results4c.std()))"
   ]
  },
  {
   "cell_type": "code",
   "execution_count": 132,
   "metadata": {},
   "outputs": [],
   "source": [
    "from sklearn.ensemble import AdaBoostClassifier\n"
   ]
  },
  {
   "cell_type": "code",
   "execution_count": 133,
   "metadata": {},
   "outputs": [
    {
     "name": "stdout",
     "output_type": "stream",
     "text": [
      "accuracy of the Adda boost model is: 0.592 and its mean standard deviation is: 0.024\n"
     ]
    }
   ],
   "source": [
    "adaboost_model = AdaBoostClassifier(n_estimators=100, random_state=8)\n",
    "results4d = cross_val_score(adaboost_model, X, y2, cv=kfold, scoring='accuracy')\n",
    "print('accuracy of the Adda boost model is: {:.3f} and its mean standard deviation is: {:.3f}'. format(results4d.mean(), results4d.std()))"
   ]
  },
  {
   "cell_type": "code",
   "execution_count": 134,
   "metadata": {},
   "outputs": [],
   "source": [
    "from sklearn.ensemble import GradientBoostingClassifier"
   ]
  },
  {
   "cell_type": "code",
   "execution_count": 135,
   "metadata": {},
   "outputs": [
    {
     "name": "stdout",
     "output_type": "stream",
     "text": [
      "accuracy of the stochastic gradient boost model is: 0.583 and its mean standard deviation is: 0.031\n"
     ]
    }
   ],
   "source": [
    "GradientBoosting_model = GradientBoostingClassifier(n_estimators=50, random_state=8)\n",
    "results4e = cross_val_score(GradientBoosting_model, X, y2, cv=kfold, scoring='accuracy')\n",
    "print('accuracy of the stochastic gradient boost model is: {:.3f} and its mean standard deviation is: {:.3f}'. format(results4e.mean(), results4e.std()))"
   ]
  },
  {
   "cell_type": "code",
   "execution_count": 136,
   "metadata": {},
   "outputs": [
    {
     "name": "stdout",
     "output_type": "stream",
     "text": [
      "accuracy of the logistic model is: 0.585 and its mean standard deviation is: 0.028\n"
     ]
    }
   ],
   "source": [
    "Logit_model = LogisticRegression()\n",
    "results2 = cross_val_score(Logit_model, X, y2, cv=kfold, scoring='accuracy')\n",
    "print('accuracy of the logistic model is: {:.3f} and its mean standard deviation is: {:.3f}'. format(results2.mean(), results2.std()))"
   ]
  },
  {
   "cell_type": "code",
   "execution_count": null,
   "metadata": {},
   "outputs": [],
   "source": []
  }
 ],
 "metadata": {
  "kernelspec": {
   "display_name": "Python 3",
   "language": "python",
   "name": "python3"
  },
  "language_info": {
   "codemirror_mode": {
    "name": "ipython",
    "version": 3
   },
   "file_extension": ".py",
   "mimetype": "text/x-python",
   "name": "python",
   "nbconvert_exporter": "python",
   "pygments_lexer": "ipython3",
   "version": "3.8.8"
  }
 },
 "nbformat": 4,
 "nbformat_minor": 2
}
