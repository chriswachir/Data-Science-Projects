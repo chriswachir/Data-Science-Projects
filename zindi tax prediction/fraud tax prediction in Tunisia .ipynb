{
 "cells": [
  {
   "cell_type": "code",
   "execution_count": 59,
   "metadata": {},
   "outputs": [],
   "source": [
    "import pandas as pd\n",
    "import numpy as np\n",
    "import matplotlib.pyplot as plt\n",
    "import seaborn as sns\n",
    "import sklearn\n",
    "import warnings\n",
    "warnings.filterwarnings('ignore')"
   ]
  },
  {
   "cell_type": "code",
   "execution_count": 60,
   "metadata": {},
   "outputs": [],
   "source": [
    "train = pd.read_csv('train.csv')\n",
    "test = pd.read_csv('test.csv')\n"
   ]
  },
  {
   "cell_type": "code",
   "execution_count": 61,
   "metadata": {},
   "outputs": [],
   "source": [
    "train_original = train.copy()\n",
    "test_original = test.copy()"
   ]
  },
  {
   "cell_type": "code",
   "execution_count": 62,
   "metadata": {},
   "outputs": [
    {
     "data": {
      "text/html": [
       "<div>\n",
       "<style scoped>\n",
       "    .dataframe tbody tr th:only-of-type {\n",
       "        vertical-align: middle;\n",
       "    }\n",
       "\n",
       "    .dataframe tbody tr th {\n",
       "        vertical-align: top;\n",
       "    }\n",
       "\n",
       "    .dataframe thead th {\n",
       "        text-align: right;\n",
       "    }\n",
       "</style>\n",
       "<table border=\"1\" class=\"dataframe\">\n",
       "  <thead>\n",
       "    <tr style=\"text-align: right;\">\n",
       "      <th></th>\n",
       "      <th>BCT_CODBUR</th>\n",
       "      <th>CTR_MATFIS</th>\n",
       "      <th>CTR_CATEGO_X</th>\n",
       "      <th>FJU_CODFJU</th>\n",
       "      <th>CTR_CESSAT</th>\n",
       "      <th>ACT_CODACT</th>\n",
       "      <th>CTR_OBLDIR</th>\n",
       "      <th>CTR_OBLACP</th>\n",
       "      <th>CTR_OBLRES</th>\n",
       "      <th>CTR_OBLFOP</th>\n",
       "      <th>...</th>\n",
       "      <th>target</th>\n",
       "      <th>FAC_MNTPRI_F</th>\n",
       "      <th>FAC_MFODEC_F</th>\n",
       "      <th>FAC_MNTDCO_F</th>\n",
       "      <th>FAC_MNTTVA_F</th>\n",
       "      <th>FAC_MNTPRI_C</th>\n",
       "      <th>FAC_MFODEC_C</th>\n",
       "      <th>FAC_MNTDCO_C</th>\n",
       "      <th>FAC_MNTTVA_C</th>\n",
       "      <th>id</th>\n",
       "    </tr>\n",
       "  </thead>\n",
       "  <tbody>\n",
       "    <tr>\n",
       "      <th>0</th>\n",
       "      <td>49</td>\n",
       "      <td>14185</td>\n",
       "      <td>P</td>\n",
       "      <td>99</td>\n",
       "      <td>1</td>\n",
       "      <td>6101</td>\n",
       "      <td>4</td>\n",
       "      <td>2</td>\n",
       "      <td>2</td>\n",
       "      <td>2</td>\n",
       "      <td>...</td>\n",
       "      <td>13.575957</td>\n",
       "      <td>NaN</td>\n",
       "      <td>NaN</td>\n",
       "      <td>NaN</td>\n",
       "      <td>NaN</td>\n",
       "      <td>NaN</td>\n",
       "      <td>NaN</td>\n",
       "      <td>NaN</td>\n",
       "      <td>NaN</td>\n",
       "      <td>train_id0</td>\n",
       "    </tr>\n",
       "    <tr>\n",
       "      <th>1</th>\n",
       "      <td>221</td>\n",
       "      <td>6032</td>\n",
       "      <td>P</td>\n",
       "      <td>99</td>\n",
       "      <td>0</td>\n",
       "      <td>6271</td>\n",
       "      <td>8</td>\n",
       "      <td>2</td>\n",
       "      <td>1</td>\n",
       "      <td>1</td>\n",
       "      <td>...</td>\n",
       "      <td>11.692894</td>\n",
       "      <td>NaN</td>\n",
       "      <td>NaN</td>\n",
       "      <td>NaN</td>\n",
       "      <td>NaN</td>\n",
       "      <td>NaN</td>\n",
       "      <td>NaN</td>\n",
       "      <td>NaN</td>\n",
       "      <td>NaN</td>\n",
       "      <td>train_id1</td>\n",
       "    </tr>\n",
       "    <tr>\n",
       "      <th>2</th>\n",
       "      <td>181</td>\n",
       "      <td>8907</td>\n",
       "      <td>P</td>\n",
       "      <td>99</td>\n",
       "      <td>0</td>\n",
       "      <td>6102</td>\n",
       "      <td>4</td>\n",
       "      <td>2</td>\n",
       "      <td>2</td>\n",
       "      <td>2</td>\n",
       "      <td>...</td>\n",
       "      <td>0.000000</td>\n",
       "      <td>NaN</td>\n",
       "      <td>NaN</td>\n",
       "      <td>NaN</td>\n",
       "      <td>NaN</td>\n",
       "      <td>NaN</td>\n",
       "      <td>NaN</td>\n",
       "      <td>NaN</td>\n",
       "      <td>NaN</td>\n",
       "      <td>train_id2</td>\n",
       "    </tr>\n",
       "    <tr>\n",
       "      <th>3</th>\n",
       "      <td>252</td>\n",
       "      <td>5783</td>\n",
       "      <td>M</td>\n",
       "      <td>22</td>\n",
       "      <td>0</td>\n",
       "      <td>4403</td>\n",
       "      <td>4</td>\n",
       "      <td>2</td>\n",
       "      <td>2</td>\n",
       "      <td>2</td>\n",
       "      <td>...</td>\n",
       "      <td>16.237871</td>\n",
       "      <td>NaN</td>\n",
       "      <td>NaN</td>\n",
       "      <td>NaN</td>\n",
       "      <td>NaN</td>\n",
       "      <td>NaN</td>\n",
       "      <td>NaN</td>\n",
       "      <td>NaN</td>\n",
       "      <td>NaN</td>\n",
       "      <td>train_id3</td>\n",
       "    </tr>\n",
       "    <tr>\n",
       "      <th>4</th>\n",
       "      <td>234</td>\n",
       "      <td>1477</td>\n",
       "      <td>P</td>\n",
       "      <td>99</td>\n",
       "      <td>0</td>\n",
       "      <td>6312</td>\n",
       "      <td>8</td>\n",
       "      <td>2</td>\n",
       "      <td>2</td>\n",
       "      <td>1</td>\n",
       "      <td>...</td>\n",
       "      <td>13.399983</td>\n",
       "      <td>NaN</td>\n",
       "      <td>NaN</td>\n",
       "      <td>NaN</td>\n",
       "      <td>NaN</td>\n",
       "      <td>NaN</td>\n",
       "      <td>NaN</td>\n",
       "      <td>NaN</td>\n",
       "      <td>NaN</td>\n",
       "      <td>train_id4</td>\n",
       "    </tr>\n",
       "  </tbody>\n",
       "</table>\n",
       "<p>5 rows × 121 columns</p>\n",
       "</div>"
      ],
      "text/plain": [
       "   BCT_CODBUR  CTR_MATFIS CTR_CATEGO_X  FJU_CODFJU  CTR_CESSAT  ACT_CODACT  \\\n",
       "0          49       14185            P          99           1        6101   \n",
       "1         221        6032            P          99           0        6271   \n",
       "2         181        8907            P          99           0        6102   \n",
       "3         252        5783            M          22           0        4403   \n",
       "4         234        1477            P          99           0        6312   \n",
       "\n",
       "   CTR_OBLDIR  CTR_OBLACP  CTR_OBLRES  CTR_OBLFOP    ...         target  \\\n",
       "0           4           2           2           2    ...      13.575957   \n",
       "1           8           2           1           1    ...      11.692894   \n",
       "2           4           2           2           2    ...       0.000000   \n",
       "3           4           2           2           2    ...      16.237871   \n",
       "4           8           2           2           1    ...      13.399983   \n",
       "\n",
       "   FAC_MNTPRI_F  FAC_MFODEC_F  FAC_MNTDCO_F  FAC_MNTTVA_F  FAC_MNTPRI_C  \\\n",
       "0           NaN           NaN           NaN           NaN           NaN   \n",
       "1           NaN           NaN           NaN           NaN           NaN   \n",
       "2           NaN           NaN           NaN           NaN           NaN   \n",
       "3           NaN           NaN           NaN           NaN           NaN   \n",
       "4           NaN           NaN           NaN           NaN           NaN   \n",
       "\n",
       "   FAC_MFODEC_C  FAC_MNTDCO_C  FAC_MNTTVA_C         id  \n",
       "0           NaN           NaN           NaN  train_id0  \n",
       "1           NaN           NaN           NaN  train_id1  \n",
       "2           NaN           NaN           NaN  train_id2  \n",
       "3           NaN           NaN           NaN  train_id3  \n",
       "4           NaN           NaN           NaN  train_id4  \n",
       "\n",
       "[5 rows x 121 columns]"
      ]
     },
     "execution_count": 62,
     "metadata": {},
     "output_type": "execute_result"
    }
   ],
   "source": [
    "train.head()"
   ]
  },
  {
   "cell_type": "code",
   "execution_count": 63,
   "metadata": {},
   "outputs": [
    {
     "data": {
      "text/plain": [
       "(25053, 121)"
      ]
     },
     "execution_count": 63,
     "metadata": {},
     "output_type": "execute_result"
    }
   ],
   "source": [
    "train.shape"
   ]
  },
  {
   "cell_type": "code",
   "execution_count": 64,
   "metadata": {},
   "outputs": [
    {
     "data": {
      "text/html": [
       "<div>\n",
       "<style scoped>\n",
       "    .dataframe tbody tr th:only-of-type {\n",
       "        vertical-align: middle;\n",
       "    }\n",
       "\n",
       "    .dataframe tbody tr th {\n",
       "        vertical-align: top;\n",
       "    }\n",
       "\n",
       "    .dataframe thead th {\n",
       "        text-align: right;\n",
       "    }\n",
       "</style>\n",
       "<table border=\"1\" class=\"dataframe\">\n",
       "  <thead>\n",
       "    <tr style=\"text-align: right;\">\n",
       "      <th></th>\n",
       "      <th>BCT_CODBUR</th>\n",
       "      <th>CTR_MATFIS</th>\n",
       "      <th>CTR_CATEGO_X</th>\n",
       "      <th>FJU_CODFJU</th>\n",
       "      <th>CTR_CESSAT</th>\n",
       "      <th>ACT_CODACT</th>\n",
       "      <th>CTR_OBLDIR</th>\n",
       "      <th>CTR_OBLACP</th>\n",
       "      <th>CTR_OBLRES</th>\n",
       "      <th>CTR_OBLFOP</th>\n",
       "      <th>...</th>\n",
       "      <th>RES_ANNIMP</th>\n",
       "      <th>FAC_MNTPRI_F</th>\n",
       "      <th>FAC_MFODEC_F</th>\n",
       "      <th>FAC_MNTDCO_F</th>\n",
       "      <th>FAC_MNTTVA_F</th>\n",
       "      <th>FAC_MNTPRI_C</th>\n",
       "      <th>FAC_MFODEC_C</th>\n",
       "      <th>FAC_MNTDCO_C</th>\n",
       "      <th>FAC_MNTTVA_C</th>\n",
       "      <th>id</th>\n",
       "    </tr>\n",
       "  </thead>\n",
       "  <tbody>\n",
       "    <tr>\n",
       "      <th>0</th>\n",
       "      <td>9</td>\n",
       "      <td>11802</td>\n",
       "      <td>P</td>\n",
       "      <td>99</td>\n",
       "      <td>0</td>\n",
       "      <td>6306</td>\n",
       "      <td>8</td>\n",
       "      <td>2</td>\n",
       "      <td>2</td>\n",
       "      <td>2</td>\n",
       "      <td>...</td>\n",
       "      <td>2015</td>\n",
       "      <td>NaN</td>\n",
       "      <td>NaN</td>\n",
       "      <td>NaN</td>\n",
       "      <td>NaN</td>\n",
       "      <td>NaN</td>\n",
       "      <td>NaN</td>\n",
       "      <td>NaN</td>\n",
       "      <td>NaN</td>\n",
       "      <td>test_id0</td>\n",
       "    </tr>\n",
       "    <tr>\n",
       "      <th>1</th>\n",
       "      <td>255</td>\n",
       "      <td>2713</td>\n",
       "      <td>C</td>\n",
       "      <td>99</td>\n",
       "      <td>0</td>\n",
       "      <td>4409</td>\n",
       "      <td>4</td>\n",
       "      <td>2</td>\n",
       "      <td>2</td>\n",
       "      <td>2</td>\n",
       "      <td>...</td>\n",
       "      <td>2016</td>\n",
       "      <td>NaN</td>\n",
       "      <td>NaN</td>\n",
       "      <td>NaN</td>\n",
       "      <td>NaN</td>\n",
       "      <td>NaN</td>\n",
       "      <td>NaN</td>\n",
       "      <td>NaN</td>\n",
       "      <td>NaN</td>\n",
       "      <td>test_id1</td>\n",
       "    </tr>\n",
       "    <tr>\n",
       "      <th>2</th>\n",
       "      <td>201</td>\n",
       "      <td>152</td>\n",
       "      <td>M</td>\n",
       "      <td>22</td>\n",
       "      <td>0</td>\n",
       "      <td>3603</td>\n",
       "      <td>4</td>\n",
       "      <td>2</td>\n",
       "      <td>2</td>\n",
       "      <td>2</td>\n",
       "      <td>...</td>\n",
       "      <td>2016</td>\n",
       "      <td>67871456.0</td>\n",
       "      <td>0.0</td>\n",
       "      <td>0.0</td>\n",
       "      <td>12093451.0</td>\n",
       "      <td>NaN</td>\n",
       "      <td>NaN</td>\n",
       "      <td>NaN</td>\n",
       "      <td>NaN</td>\n",
       "      <td>test_id2</td>\n",
       "    </tr>\n",
       "    <tr>\n",
       "      <th>3</th>\n",
       "      <td>302</td>\n",
       "      <td>7698</td>\n",
       "      <td>M</td>\n",
       "      <td>22</td>\n",
       "      <td>0</td>\n",
       "      <td>4203</td>\n",
       "      <td>4</td>\n",
       "      <td>2</td>\n",
       "      <td>2</td>\n",
       "      <td>2</td>\n",
       "      <td>...</td>\n",
       "      <td>2013</td>\n",
       "      <td>NaN</td>\n",
       "      <td>NaN</td>\n",
       "      <td>NaN</td>\n",
       "      <td>NaN</td>\n",
       "      <td>NaN</td>\n",
       "      <td>NaN</td>\n",
       "      <td>NaN</td>\n",
       "      <td>NaN</td>\n",
       "      <td>test_id3</td>\n",
       "    </tr>\n",
       "    <tr>\n",
       "      <th>4</th>\n",
       "      <td>152</td>\n",
       "      <td>544</td>\n",
       "      <td>P</td>\n",
       "      <td>99</td>\n",
       "      <td>0</td>\n",
       "      <td>6307</td>\n",
       "      <td>4</td>\n",
       "      <td>2</td>\n",
       "      <td>2</td>\n",
       "      <td>2</td>\n",
       "      <td>...</td>\n",
       "      <td>2013</td>\n",
       "      <td>NaN</td>\n",
       "      <td>NaN</td>\n",
       "      <td>NaN</td>\n",
       "      <td>NaN</td>\n",
       "      <td>NaN</td>\n",
       "      <td>NaN</td>\n",
       "      <td>NaN</td>\n",
       "      <td>NaN</td>\n",
       "      <td>test_id4</td>\n",
       "    </tr>\n",
       "  </tbody>\n",
       "</table>\n",
       "<p>5 rows × 120 columns</p>\n",
       "</div>"
      ],
      "text/plain": [
       "   BCT_CODBUR  CTR_MATFIS CTR_CATEGO_X  FJU_CODFJU  CTR_CESSAT  ACT_CODACT  \\\n",
       "0           9       11802            P          99           0        6306   \n",
       "1         255        2713            C          99           0        4409   \n",
       "2         201         152            M          22           0        3603   \n",
       "3         302        7698            M          22           0        4203   \n",
       "4         152         544            P          99           0        6307   \n",
       "\n",
       "   CTR_OBLDIR  CTR_OBLACP  CTR_OBLRES  CTR_OBLFOP    ...     RES_ANNIMP  \\\n",
       "0           8           2           2           2    ...           2015   \n",
       "1           4           2           2           2    ...           2016   \n",
       "2           4           2           2           2    ...           2016   \n",
       "3           4           2           2           2    ...           2013   \n",
       "4           4           2           2           2    ...           2013   \n",
       "\n",
       "   FAC_MNTPRI_F  FAC_MFODEC_F  FAC_MNTDCO_F  FAC_MNTTVA_F  FAC_MNTPRI_C  \\\n",
       "0           NaN           NaN           NaN           NaN           NaN   \n",
       "1           NaN           NaN           NaN           NaN           NaN   \n",
       "2    67871456.0           0.0           0.0    12093451.0           NaN   \n",
       "3           NaN           NaN           NaN           NaN           NaN   \n",
       "4           NaN           NaN           NaN           NaN           NaN   \n",
       "\n",
       "   FAC_MFODEC_C  FAC_MNTDCO_C  FAC_MNTTVA_C        id  \n",
       "0           NaN           NaN           NaN  test_id0  \n",
       "1           NaN           NaN           NaN  test_id1  \n",
       "2           NaN           NaN           NaN  test_id2  \n",
       "3           NaN           NaN           NaN  test_id3  \n",
       "4           NaN           NaN           NaN  test_id4  \n",
       "\n",
       "[5 rows x 120 columns]"
      ]
     },
     "execution_count": 64,
     "metadata": {},
     "output_type": "execute_result"
    }
   ],
   "source": [
    "test.head()"
   ]
  },
  {
   "cell_type": "code",
   "execution_count": 65,
   "metadata": {},
   "outputs": [
    {
     "data": {
      "text/plain": [
       "(10738, 120)"
      ]
     },
     "execution_count": 65,
     "metadata": {},
     "output_type": "execute_result"
    }
   ],
   "source": [
    "test.shape"
   ]
  },
  {
   "cell_type": "markdown",
   "metadata": {},
   "source": [
    "### checking for missing values"
   ]
  },
  {
   "cell_type": "code",
   "execution_count": 66,
   "metadata": {
    "scrolled": false
   },
   "outputs": [
    {
     "data": {
      "text/html": [
       "<div>\n",
       "<style scoped>\n",
       "    .dataframe tbody tr th:only-of-type {\n",
       "        vertical-align: middle;\n",
       "    }\n",
       "\n",
       "    .dataframe tbody tr th {\n",
       "        vertical-align: top;\n",
       "    }\n",
       "\n",
       "    .dataframe thead th {\n",
       "        text-align: right;\n",
       "    }\n",
       "</style>\n",
       "<table border=\"1\" class=\"dataframe\">\n",
       "  <thead>\n",
       "    <tr style=\"text-align: right;\">\n",
       "      <th></th>\n",
       "      <th>Percente of null values(train)</th>\n",
       "    </tr>\n",
       "  </thead>\n",
       "  <tbody>\n",
       "    <tr>\n",
       "      <th>SND_MNTAIR_E</th>\n",
       "      <td>94.24</td>\n",
       "    </tr>\n",
       "    <tr>\n",
       "      <th>SND_MNTPRD_E</th>\n",
       "      <td>94.24</td>\n",
       "    </tr>\n",
       "    <tr>\n",
       "      <th>SND_MNTTVA_E</th>\n",
       "      <td>94.24</td>\n",
       "    </tr>\n",
       "    <tr>\n",
       "      <th>SND_MNTDRC_E</th>\n",
       "      <td>94.24</td>\n",
       "    </tr>\n",
       "    <tr>\n",
       "      <th>SND_MNTAVA_E</th>\n",
       "      <td>94.24</td>\n",
       "    </tr>\n",
       "    <tr>\n",
       "      <th>SND_MNTTAX_E</th>\n",
       "      <td>94.24</td>\n",
       "    </tr>\n",
       "    <tr>\n",
       "      <th>SND_MNTPAY_E</th>\n",
       "      <td>94.24</td>\n",
       "    </tr>\n",
       "    <tr>\n",
       "      <th>FAC_MNTTVA_F</th>\n",
       "      <td>91.57</td>\n",
       "    </tr>\n",
       "    <tr>\n",
       "      <th>FAC_MNTDCO_F</th>\n",
       "      <td>91.57</td>\n",
       "    </tr>\n",
       "    <tr>\n",
       "      <th>FAC_MFODEC_F</th>\n",
       "      <td>91.57</td>\n",
       "    </tr>\n",
       "    <tr>\n",
       "      <th>FAC_MNTPRI_F</th>\n",
       "      <td>91.57</td>\n",
       "    </tr>\n",
       "    <tr>\n",
       "      <th>FAC_MNTDCO_C</th>\n",
       "      <td>90.12</td>\n",
       "    </tr>\n",
       "    <tr>\n",
       "      <th>FAC_MNTTVA_C</th>\n",
       "      <td>90.12</td>\n",
       "    </tr>\n",
       "    <tr>\n",
       "      <th>FAC_MFODEC_C</th>\n",
       "      <td>90.12</td>\n",
       "    </tr>\n",
       "    <tr>\n",
       "      <th>FAC_MNTPRI_C</th>\n",
       "      <td>90.12</td>\n",
       "    </tr>\n",
       "    <tr>\n",
       "      <th>SND_MNTPAY_A</th>\n",
       "      <td>86.34</td>\n",
       "    </tr>\n",
       "    <tr>\n",
       "      <th>SND_MNTPRD_A</th>\n",
       "      <td>86.34</td>\n",
       "    </tr>\n",
       "    <tr>\n",
       "      <th>SND_MNTAIR_A</th>\n",
       "      <td>86.34</td>\n",
       "    </tr>\n",
       "    <tr>\n",
       "      <th>SND_MNTTVA_A</th>\n",
       "      <td>86.34</td>\n",
       "    </tr>\n",
       "    <tr>\n",
       "      <th>SND_MNTTAX_A</th>\n",
       "      <td>86.34</td>\n",
       "    </tr>\n",
       "    <tr>\n",
       "      <th>SND_MNTAVA_A</th>\n",
       "      <td>86.34</td>\n",
       "    </tr>\n",
       "    <tr>\n",
       "      <th>SND_MNTDRC_A</th>\n",
       "      <td>86.34</td>\n",
       "    </tr>\n",
       "    <tr>\n",
       "      <th>SND_MNTAIR_I</th>\n",
       "      <td>82.55</td>\n",
       "    </tr>\n",
       "    <tr>\n",
       "      <th>SND_MNTPAY_I</th>\n",
       "      <td>82.55</td>\n",
       "    </tr>\n",
       "    <tr>\n",
       "      <th>SND_MNTTAX_I</th>\n",
       "      <td>82.55</td>\n",
       "    </tr>\n",
       "    <tr>\n",
       "      <th>SND_MNTAVA_I</th>\n",
       "      <td>82.55</td>\n",
       "    </tr>\n",
       "    <tr>\n",
       "      <th>SND_MNTDRC_I</th>\n",
       "      <td>82.55</td>\n",
       "    </tr>\n",
       "    <tr>\n",
       "      <th>SND_MNTTVA_I</th>\n",
       "      <td>82.55</td>\n",
       "    </tr>\n",
       "    <tr>\n",
       "      <th>SND_MNTPRD_I</th>\n",
       "      <td>82.55</td>\n",
       "    </tr>\n",
       "    <tr>\n",
       "      <th>ADB_MNTORD</th>\n",
       "      <td>74.81</td>\n",
       "    </tr>\n",
       "  </tbody>\n",
       "</table>\n",
       "</div>"
      ],
      "text/plain": [
       "              Percente of null values(train)\n",
       "SND_MNTAIR_E                           94.24\n",
       "SND_MNTPRD_E                           94.24\n",
       "SND_MNTTVA_E                           94.24\n",
       "SND_MNTDRC_E                           94.24\n",
       "SND_MNTAVA_E                           94.24\n",
       "SND_MNTTAX_E                           94.24\n",
       "SND_MNTPAY_E                           94.24\n",
       "FAC_MNTTVA_F                           91.57\n",
       "FAC_MNTDCO_F                           91.57\n",
       "FAC_MFODEC_F                           91.57\n",
       "FAC_MNTPRI_F                           91.57\n",
       "FAC_MNTDCO_C                           90.12\n",
       "FAC_MNTTVA_C                           90.12\n",
       "FAC_MFODEC_C                           90.12\n",
       "FAC_MNTPRI_C                           90.12\n",
       "SND_MNTPAY_A                           86.34\n",
       "SND_MNTPRD_A                           86.34\n",
       "SND_MNTAIR_A                           86.34\n",
       "SND_MNTTVA_A                           86.34\n",
       "SND_MNTTAX_A                           86.34\n",
       "SND_MNTAVA_A                           86.34\n",
       "SND_MNTDRC_A                           86.34\n",
       "SND_MNTAIR_I                           82.55\n",
       "SND_MNTPAY_I                           82.55\n",
       "SND_MNTTAX_I                           82.55\n",
       "SND_MNTAVA_I                           82.55\n",
       "SND_MNTDRC_I                           82.55\n",
       "SND_MNTTVA_I                           82.55\n",
       "SND_MNTPRD_I                           82.55\n",
       "ADB_MNTORD                             74.81"
      ]
     },
     "execution_count": 66,
     "metadata": {},
     "output_type": "execute_result"
    }
   ],
   "source": [
    "all_null_values = (train.isnull().sum() / len(train)) * 100\n",
    "all_null_values = round(all_null_values.drop(all_null_values[all_null_values < 50.0].index).sort_values(ascending=False)[:100],2)\n",
    "missing_data = pd.DataFrame({'Percente of null values(train)' :all_null_values})\n",
    "missing_data.head(100)"
   ]
  },
  {
   "cell_type": "code",
   "execution_count": 67,
   "metadata": {},
   "outputs": [
    {
     "data": {
      "text/plain": [
       "Text(0.5, 1.0, 'Percent null values by feature(Train)')"
      ]
     },
     "execution_count": 67,
     "metadata": {},
     "output_type": "execute_result"
    },
    {
     "data": {
      "image/png": "[encoded data removed]",
      "text/plain": [
       "<Figure size 1080x864 with 1 Axes>"
      ]
     },
     "metadata": {
      "needs_background": "light"
     },
     "output_type": "display_data"
    }
   ],
   "source": [
    "f, ax = plt.subplots(figsize=(15, 12))\n",
    "plt.xticks(rotation='90')\n",
    "sns.barplot(x=all_null_values.index, y=all_null_values)\n",
    "plt.xlabel('Features', fontsize=15)\n",
    "plt.ylabel('Percent of null values', fontsize=15)\n",
    "plt.title('Percent null values by feature(Train)', fontsize=15)"
   ]
  },
  {
   "cell_type": "code",
   "execution_count": 68,
   "metadata": {},
   "outputs": [
    {
     "data": {
      "text/html": [
       "<div>\n",
       "<style scoped>\n",
       "    .dataframe tbody tr th:only-of-type {\n",
       "        vertical-align: middle;\n",
       "    }\n",
       "\n",
       "    .dataframe tbody tr th {\n",
       "        vertical-align: top;\n",
       "    }\n",
       "\n",
       "    .dataframe thead th {\n",
       "        text-align: right;\n",
       "    }\n",
       "</style>\n",
       "<table border=\"1\" class=\"dataframe\">\n",
       "  <thead>\n",
       "    <tr style=\"text-align: right;\">\n",
       "      <th></th>\n",
       "      <th>Percente of null values(test)</th>\n",
       "    </tr>\n",
       "  </thead>\n",
       "  <tbody>\n",
       "    <tr>\n",
       "      <th>SND_MNTPRD_E</th>\n",
       "      <td>40.39</td>\n",
       "    </tr>\n",
       "    <tr>\n",
       "      <th>SND_MNTAIR_E</th>\n",
       "      <td>40.39</td>\n",
       "    </tr>\n",
       "    <tr>\n",
       "      <th>SND_MNTTVA_E</th>\n",
       "      <td>40.39</td>\n",
       "    </tr>\n",
       "    <tr>\n",
       "      <th>SND_MNTDRC_E</th>\n",
       "      <td>40.39</td>\n",
       "    </tr>\n",
       "    <tr>\n",
       "      <th>SND_MNTAVA_E</th>\n",
       "      <td>40.39</td>\n",
       "    </tr>\n",
       "    <tr>\n",
       "      <th>SND_MNTTAX_E</th>\n",
       "      <td>40.39</td>\n",
       "    </tr>\n",
       "    <tr>\n",
       "      <th>SND_MNTPAY_E</th>\n",
       "      <td>40.39</td>\n",
       "    </tr>\n",
       "    <tr>\n",
       "      <th>FAC_MNTTVA_F</th>\n",
       "      <td>39.06</td>\n",
       "    </tr>\n",
       "    <tr>\n",
       "      <th>FAC_MNTDCO_F</th>\n",
       "      <td>39.06</td>\n",
       "    </tr>\n",
       "    <tr>\n",
       "      <th>FAC_MFODEC_F</th>\n",
       "      <td>39.06</td>\n",
       "    </tr>\n",
       "    <tr>\n",
       "      <th>FAC_MNTPRI_F</th>\n",
       "      <td>39.06</td>\n",
       "    </tr>\n",
       "    <tr>\n",
       "      <th>FAC_MNTTVA_C</th>\n",
       "      <td>38.74</td>\n",
       "    </tr>\n",
       "    <tr>\n",
       "      <th>FAC_MNTDCO_C</th>\n",
       "      <td>38.74</td>\n",
       "    </tr>\n",
       "    <tr>\n",
       "      <th>FAC_MNTPRI_C</th>\n",
       "      <td>38.74</td>\n",
       "    </tr>\n",
       "    <tr>\n",
       "      <th>FAC_MFODEC_C</th>\n",
       "      <td>38.74</td>\n",
       "    </tr>\n",
       "    <tr>\n",
       "      <th>SND_MNTPAY_A</th>\n",
       "      <td>37.12</td>\n",
       "    </tr>\n",
       "    <tr>\n",
       "      <th>SND_MNTTAX_A</th>\n",
       "      <td>37.12</td>\n",
       "    </tr>\n",
       "    <tr>\n",
       "      <th>SND_MNTAVA_A</th>\n",
       "      <td>37.12</td>\n",
       "    </tr>\n",
       "    <tr>\n",
       "      <th>SND_MNTDRC_A</th>\n",
       "      <td>37.12</td>\n",
       "    </tr>\n",
       "    <tr>\n",
       "      <th>SND_MNTTVA_A</th>\n",
       "      <td>37.12</td>\n",
       "    </tr>\n",
       "    <tr>\n",
       "      <th>SND_MNTPRD_A</th>\n",
       "      <td>37.12</td>\n",
       "    </tr>\n",
       "    <tr>\n",
       "      <th>SND_MNTAIR_A</th>\n",
       "      <td>37.12</td>\n",
       "    </tr>\n",
       "    <tr>\n",
       "      <th>SND_MNTTAX_I</th>\n",
       "      <td>35.36</td>\n",
       "    </tr>\n",
       "    <tr>\n",
       "      <th>SND_MNTPAY_I</th>\n",
       "      <td>35.36</td>\n",
       "    </tr>\n",
       "    <tr>\n",
       "      <th>SND_MNTAVA_I</th>\n",
       "      <td>35.36</td>\n",
       "    </tr>\n",
       "    <tr>\n",
       "      <th>SND_MNTDRC_I</th>\n",
       "      <td>35.36</td>\n",
       "    </tr>\n",
       "    <tr>\n",
       "      <th>SND_MNTPRD_I</th>\n",
       "      <td>35.36</td>\n",
       "    </tr>\n",
       "    <tr>\n",
       "      <th>SND_MNTTVA_I</th>\n",
       "      <td>35.36</td>\n",
       "    </tr>\n",
       "    <tr>\n",
       "      <th>SND_MNTAIR_I</th>\n",
       "      <td>35.36</td>\n",
       "    </tr>\n",
       "    <tr>\n",
       "      <th>ADB_MNTORD</th>\n",
       "      <td>32.03</td>\n",
       "    </tr>\n",
       "    <tr>\n",
       "      <th>...</th>\n",
       "      <td>...</td>\n",
       "    </tr>\n",
       "    <tr>\n",
       "      <th>TVA_MTRESTAX</th>\n",
       "      <td>3.23</td>\n",
       "    </tr>\n",
       "    <tr>\n",
       "      <th>TVA_MTDJRTAX</th>\n",
       "      <td>3.23</td>\n",
       "    </tr>\n",
       "    <tr>\n",
       "      <th>TVA_MTORDTAX</th>\n",
       "      <td>3.23</td>\n",
       "    </tr>\n",
       "    <tr>\n",
       "      <th>TVA_MTDJRTVA</th>\n",
       "      <td>3.23</td>\n",
       "    </tr>\n",
       "    <tr>\n",
       "      <th>TVA_MTORDTVA</th>\n",
       "      <td>3.23</td>\n",
       "    </tr>\n",
       "    <tr>\n",
       "      <th>TVA_TXALSM</th>\n",
       "      <td>3.23</td>\n",
       "    </tr>\n",
       "    <tr>\n",
       "      <th>TVA_MOIFIN</th>\n",
       "      <td>3.23</td>\n",
       "    </tr>\n",
       "    <tr>\n",
       "      <th>TVA_TXVLSM</th>\n",
       "      <td>3.23</td>\n",
       "    </tr>\n",
       "    <tr>\n",
       "      <th>TVA_MTVLSM</th>\n",
       "      <td>3.23</td>\n",
       "    </tr>\n",
       "    <tr>\n",
       "      <th>TVA_MTALSM</th>\n",
       "      <td>3.23</td>\n",
       "    </tr>\n",
       "    <tr>\n",
       "      <th>TVA_MACHN</th>\n",
       "      <td>3.23</td>\n",
       "    </tr>\n",
       "    <tr>\n",
       "      <th>TVA_CAFSUS</th>\n",
       "      <td>3.23</td>\n",
       "    </tr>\n",
       "    <tr>\n",
       "      <th>TVA_CRDFIN</th>\n",
       "      <td>3.23</td>\n",
       "    </tr>\n",
       "    <tr>\n",
       "      <th>TVA_CRDRMC</th>\n",
       "      <td>3.23</td>\n",
       "    </tr>\n",
       "    <tr>\n",
       "      <th>TVA_ACHEXO</th>\n",
       "      <td>3.23</td>\n",
       "    </tr>\n",
       "    <tr>\n",
       "      <th>TVA_ACHNDD</th>\n",
       "      <td>3.23</td>\n",
       "    </tr>\n",
       "    <tr>\n",
       "      <th>TVA_CAFEXP</th>\n",
       "      <td>3.23</td>\n",
       "    </tr>\n",
       "    <tr>\n",
       "      <th>TVA_ACHSUS</th>\n",
       "      <td>3.23</td>\n",
       "    </tr>\n",
       "    <tr>\n",
       "      <th>TVA_CAFEXO</th>\n",
       "      <td>3.23</td>\n",
       "    </tr>\n",
       "    <tr>\n",
       "      <th>TVA_AACHAB</th>\n",
       "      <td>3.23</td>\n",
       "    </tr>\n",
       "    <tr>\n",
       "      <th>TVA_CRDBLQ</th>\n",
       "      <td>3.23</td>\n",
       "    </tr>\n",
       "    <tr>\n",
       "      <th>TVA_CRDRES</th>\n",
       "      <td>3.23</td>\n",
       "    </tr>\n",
       "    <tr>\n",
       "      <th>TVA_CRDREP</th>\n",
       "      <td>3.23</td>\n",
       "    </tr>\n",
       "    <tr>\n",
       "      <th>CTR_OBLTVI</th>\n",
       "      <td>0.02</td>\n",
       "    </tr>\n",
       "    <tr>\n",
       "      <th>CTR_OBLDLI</th>\n",
       "      <td>0.02</td>\n",
       "    </tr>\n",
       "    <tr>\n",
       "      <th>CTR_OBLTHO</th>\n",
       "      <td>0.02</td>\n",
       "    </tr>\n",
       "    <tr>\n",
       "      <th>CTR_ODTIMB</th>\n",
       "      <td>0.02</td>\n",
       "    </tr>\n",
       "    <tr>\n",
       "      <th>CTR_OBLASS</th>\n",
       "      <td>0.02</td>\n",
       "    </tr>\n",
       "    <tr>\n",
       "      <th>CTR_OBLAUT</th>\n",
       "      <td>0.02</td>\n",
       "    </tr>\n",
       "    <tr>\n",
       "      <th>CTR_OFODET</th>\n",
       "      <td>0.02</td>\n",
       "    </tr>\n",
       "  </tbody>\n",
       "</table>\n",
       "<p>100 rows × 1 columns</p>\n",
       "</div>"
      ],
      "text/plain": [
       "              Percente of null values(test)\n",
       "SND_MNTPRD_E                          40.39\n",
       "SND_MNTAIR_E                          40.39\n",
       "SND_MNTTVA_E                          40.39\n",
       "SND_MNTDRC_E                          40.39\n",
       "SND_MNTAVA_E                          40.39\n",
       "SND_MNTTAX_E                          40.39\n",
       "SND_MNTPAY_E                          40.39\n",
       "FAC_MNTTVA_F                          39.06\n",
       "FAC_MNTDCO_F                          39.06\n",
       "FAC_MFODEC_F                          39.06\n",
       "FAC_MNTPRI_F                          39.06\n",
       "FAC_MNTTVA_C                          38.74\n",
       "FAC_MNTDCO_C                          38.74\n",
       "FAC_MNTPRI_C                          38.74\n",
       "FAC_MFODEC_C                          38.74\n",
       "SND_MNTPAY_A                          37.12\n",
       "SND_MNTTAX_A                          37.12\n",
       "SND_MNTAVA_A                          37.12\n",
       "SND_MNTDRC_A                          37.12\n",
       "SND_MNTTVA_A                          37.12\n",
       "SND_MNTPRD_A                          37.12\n",
       "SND_MNTAIR_A                          37.12\n",
       "SND_MNTTAX_I                          35.36\n",
       "SND_MNTPAY_I                          35.36\n",
       "SND_MNTAVA_I                          35.36\n",
       "SND_MNTDRC_I                          35.36\n",
       "SND_MNTPRD_I                          35.36\n",
       "SND_MNTTVA_I                          35.36\n",
       "SND_MNTAIR_I                          35.36\n",
       "ADB_MNTORD                            32.03\n",
       "...                                     ...\n",
       "TVA_MTRESTAX                           3.23\n",
       "TVA_MTDJRTAX                           3.23\n",
       "TVA_MTORDTAX                           3.23\n",
       "TVA_MTDJRTVA                           3.23\n",
       "TVA_MTORDTVA                           3.23\n",
       "TVA_TXALSM                             3.23\n",
       "TVA_MOIFIN                             3.23\n",
       "TVA_TXVLSM                             3.23\n",
       "TVA_MTVLSM                             3.23\n",
       "TVA_MTALSM                             3.23\n",
       "TVA_MACHN                              3.23\n",
       "TVA_CAFSUS                             3.23\n",
       "TVA_CRDFIN                             3.23\n",
       "TVA_CRDRMC                             3.23\n",
       "TVA_ACHEXO                             3.23\n",
       "TVA_ACHNDD                             3.23\n",
       "TVA_CAFEXP                             3.23\n",
       "TVA_ACHSUS                             3.23\n",
       "TVA_CAFEXO                             3.23\n",
       "TVA_AACHAB                             3.23\n",
       "TVA_CRDBLQ                             3.23\n",
       "TVA_CRDRES                             3.23\n",
       "TVA_CRDREP                             3.23\n",
       "CTR_OBLTVI                             0.02\n",
       "CTR_OBLDLI                             0.02\n",
       "CTR_OBLTHO                             0.02\n",
       "CTR_ODTIMB                             0.02\n",
       "CTR_OBLASS                             0.02\n",
       "CTR_OBLAUT                             0.02\n",
       "CTR_OFODET                             0.02\n",
       "\n",
       "[100 rows x 1 columns]"
      ]
     },
     "execution_count": 68,
     "metadata": {},
     "output_type": "execute_result"
    }
   ],
   "source": [
    "all_null_values = (test.isnull().sum() / len(train)) * 100\n",
    "all_null_values = round(all_null_values.drop(all_null_values[all_null_values == 0].index).sort_values(ascending=False)[:100],2)\n",
    "missing_data = pd.DataFrame({'Percente of null values(test)' :all_null_values})\n",
    "missing_data.head(100)"
   ]
  },
  {
   "cell_type": "code",
   "execution_count": 69,
   "metadata": {},
   "outputs": [
    {
     "data": {
      "text/plain": [
       "Text(0.5, 1.0, 'Percent null values by feature(Train)')"
      ]
     },
     "execution_count": 69,
     "metadata": {},
     "output_type": "execute_result"
    },
    {
     "data": {
      "image/png": "[encoded data removed]",
      "text/plain": [
       "<Figure size 1080x864 with 1 Axes>"
      ]
     },
     "metadata": {
      "needs_background": "light"
     },
     "output_type": "display_data"
    }
   ],
   "source": [
    "f, ax = plt.subplots(figsize=(15, 12))\n",
    "plt.xticks(rotation='90')\n",
    "sns.barplot(x=all_null_values.index, y=all_null_values)\n",
    "plt.xlabel('Features', fontsize=15)\n",
    "plt.ylabel('Percent of null values', fontsize=15)\n",
    "plt.title('Percent null values by feature(Train)', fontsize=15)"
   ]
  },
  {
   "cell_type": "markdown",
   "metadata": {},
   "source": [
    "### Removing columns with more than 50% of missing values "
   ]
  },
  {
   "cell_type": "code",
   "execution_count": 70,
   "metadata": {},
   "outputs": [],
   "source": [
    "train1 = train.drop(['SND_MNTAIR_E',\n",
    "                    'SND_MNTPRD_E',\n",
    "                    'SND_MNTTVA_E',\n",
    "                    'SND_MNTDRC_E',\n",
    "                    'SND_MNTAVA_E',\n",
    "                    'SND_MNTTAX_E',\n",
    "                    'SND_MNTPAY_E',\n",
    "                    'FAC_MNTTVA_F',\n",
    "                    'FAC_MNTDCO_F',\n",
    "                    'FAC_MFODEC_F',\n",
    "                    'FAC_MNTPRI_F',\n",
    "                    'FAC_MNTDCO_C',\n",
    "                    'FAC_MNTTVA_C',\n",
    "                    'FAC_MFODEC_C',\n",
    "                    'FAC_MNTPRI_C',\n",
    "                    'SND_MNTPAY_A',\n",
    "                    'SND_MNTPRD_A',\n",
    "                    'SND_MNTAIR_A',\n",
    "                    'SND_MNTTVA_A',\n",
    "                    'SND_MNTTAX_A',\n",
    "                    'SND_MNTAVA_A',\n",
    "                    'SND_MNTDRC_A',\n",
    "                    'SND_MNTAIR_I',\n",
    "                    'SND_MNTPAY_I',\n",
    "                    'SND_MNTTAX_I',\n",
    "                    'SND_MNTAVA_I',\n",
    "                    'SND_MNTDRC_I',\n",
    "                    'SND_MNTTVA_I',\n",
    "                    'SND_MNTPRD_I',\n",
    "                    'ADB_MNTORD'], axis=1)"
   ]
  },
  {
   "cell_type": "code",
   "execution_count": 71,
   "metadata": {},
   "outputs": [],
   "source": [
    "test1 = test.drop(['SND_MNTAIR_E',\n",
    "                    'SND_MNTPRD_E',\n",
    "                    'SND_MNTTVA_E',\n",
    "                    'SND_MNTDRC_E',\n",
    "                    'SND_MNTAVA_E',\n",
    "                    'SND_MNTTAX_E',\n",
    "                    'SND_MNTPAY_E',\n",
    "                    'FAC_MNTTVA_F',\n",
    "                    'FAC_MNTDCO_F',\n",
    "                    'FAC_MFODEC_F',\n",
    "                    'FAC_MNTPRI_F',\n",
    "                    'FAC_MNTDCO_C',\n",
    "                    'FAC_MNTTVA_C',\n",
    "                    'FAC_MFODEC_C',\n",
    "                    'FAC_MNTPRI_C',\n",
    "                    'SND_MNTPAY_A',\n",
    "                    'SND_MNTPRD_A',\n",
    "                    'SND_MNTAIR_A',\n",
    "                    'SND_MNTTVA_A',\n",
    "                    'SND_MNTTAX_A',\n",
    "                    'SND_MNTAVA_A',\n",
    "                    'SND_MNTDRC_A',\n",
    "                    'SND_MNTAIR_I',\n",
    "                    'SND_MNTPAY_I',\n",
    "                    'SND_MNTTAX_I',\n",
    "                    'SND_MNTAVA_I',\n",
    "                    'SND_MNTDRC_I',\n",
    "                    'SND_MNTTVA_I',\n",
    "                    'SND_MNTPRD_I',\n",
    "                    'ADB_MNTORD'], axis=1)"
   ]
  },
  {
   "cell_type": "code",
   "execution_count": 72,
   "metadata": {},
   "outputs": [
    {
     "data": {
      "text/plain": [
       "(25053, 91)"
      ]
     },
     "execution_count": 72,
     "metadata": {},
     "output_type": "execute_result"
    }
   ],
   "source": [
    "train1.shape"
   ]
  },
  {
   "cell_type": "code",
   "execution_count": 73,
   "metadata": {},
   "outputs": [
    {
     "data": {
      "text/plain": [
       "(10738, 90)"
      ]
     },
     "execution_count": 73,
     "metadata": {},
     "output_type": "execute_result"
    }
   ],
   "source": [
    "test1.shape"
   ]
  },
  {
   "cell_type": "code",
   "execution_count": 74,
   "metadata": {},
   "outputs": [],
   "source": [
    "numerical_features = train1.dtypes[train1.dtypes != 'object'].index"
   ]
  },
  {
   "cell_type": "code",
   "execution_count": 75,
   "metadata": {},
   "outputs": [
    {
     "data": {
      "text/plain": [
       "Index(['BCT_CODBUR', 'CTR_MATFIS', 'FJU_CODFJU', 'CTR_CESSAT', 'ACT_CODACT',\n",
       "       'CTR_OBLDIR', 'CTR_OBLACP', 'CTR_OBLRES', 'CTR_OBLFOP', 'CTR_OBLTFP',\n",
       "       'CTR_OBLDCO', 'CTR_OBLTVA', 'CTR_OFODEC', 'CTR_OFODEP', 'CTR_OFODET',\n",
       "       'CTR_OBLAUT', 'CTR_OBLASS', 'CTR_ODTIMB', 'CTR_OBLTCL', 'CTR_OBLTHO',\n",
       "       'CTR_OBLDLI', 'CTR_OBLTVI', 'CTR_RATISS', 'EXE_EXERCI', 'TVA_CHAFF6',\n",
       "       'TVA_CHAFF7', 'TVA_CHAF10', 'TVA_CHAF12', 'TVA_CAF125', 'TVA_CHAF15',\n",
       "       'TVA_CHAF18', 'TVA_CHAF22', 'TVA_CHAF29', 'TVA_CHAF36', 'TVA_TOTDUE',\n",
       "       'TVA_MOIDEB', 'TVA_CRDINI', 'TVA_BASIMB', 'TVA_DEDIMB', 'TVA_BASEQL',\n",
       "       'TVA_DEDEQL', 'TVA_BASEQI', 'TVA_DEDEQI', 'TVA_BASAUL', 'TVA_DEDAUL',\n",
       "       'TVA_BASAUI', 'TVA_DEDAUI', 'TVA_BASRSM', 'TVA_DEDRSM', 'TVA_RSNRES',\n",
       "       'TVA_TRSPOR', 'TVA_DEDREG', 'TVA_RESTIT', 'TVA_MNTPAY', 'TVA_MOIFIN',\n",
       "       'TVA_CRDFIN', 'TVA_ACHSUS', 'TVA_ACHEXO', 'TVA_ACHNDD', 'TVA_CAFEXP',\n",
       "       'TVA_CAFSUS', 'TVA_CAFEXO', 'TVA_AACHAB', 'TVA_CRDBLQ', 'TVA_CRDRES',\n",
       "       'TVA_CRDRMP', 'TVA_CRDREP', 'TVA_CRDRMC', 'TVA_MACHN', 'TVA_MCESQ',\n",
       "       'TVA_MTVLSM', 'TVA_TXVLSM', 'TVA_MTALSM', 'TVA_TXALSM', 'TVA_MTORDTVA',\n",
       "       'TVA_MTDJRTVA', 'TVA_MTORDTAX', 'TVA_MTDJRTAX', 'TVA_MTRESTAX',\n",
       "       'TVA_CA072018', 'TVA_CA132018', 'TVA_CA192018', 'AX1_BRTIMP',\n",
       "       'AX2_HONORA', 'AX2_LOYERS', 'AX3_REVCAP', 'AX5_MNTMAR', 'RES_ANNIMP',\n",
       "       'target'],\n",
       "      dtype='object')"
      ]
     },
     "execution_count": 75,
     "metadata": {},
     "output_type": "execute_result"
    }
   ],
   "source": [
    "numerical_features"
   ]
  },
  {
   "cell_type": "code",
   "execution_count": 76,
   "metadata": {},
   "outputs": [],
   "source": [
    "categorical_features = train1.dtypes[train1.dtypes == 'object'].index"
   ]
  },
  {
   "cell_type": "code",
   "execution_count": 77,
   "metadata": {},
   "outputs": [
    {
     "data": {
      "text/plain": [
       "Index(['CTR_CATEGO_X', 'id'], dtype='object')"
      ]
     },
     "execution_count": 77,
     "metadata": {},
     "output_type": "execute_result"
    }
   ],
   "source": [
    "categorical_features"
   ]
  },
  {
   "cell_type": "code",
   "execution_count": 78,
   "metadata": {},
   "outputs": [
    {
     "data": {
      "text/plain": [
       "0"
      ]
     },
     "execution_count": 78,
     "metadata": {},
     "output_type": "execute_result"
    }
   ],
   "source": [
    "train1.CTR_CATEGO_X.isnull().sum()"
   ]
  },
  {
   "cell_type": "code",
   "execution_count": 79,
   "metadata": {},
   "outputs": [],
   "source": [
    "categorical_features = test1.dtypes[train1.dtypes == 'object'].index"
   ]
  },
  {
   "cell_type": "code",
   "execution_count": 80,
   "metadata": {},
   "outputs": [
    {
     "data": {
      "text/plain": [
       "Index(['CTR_CATEGO_X', 'id'], dtype='object')"
      ]
     },
     "execution_count": 80,
     "metadata": {},
     "output_type": "execute_result"
    }
   ],
   "source": [
    "categorical_features"
   ]
  },
  {
   "cell_type": "code",
   "execution_count": 81,
   "metadata": {},
   "outputs": [
    {
     "data": {
      "text/plain": [
       "0"
      ]
     },
     "execution_count": 81,
     "metadata": {},
     "output_type": "execute_result"
    }
   ],
   "source": [
    "test1.CTR_CATEGO_X.isnull().sum()"
   ]
  },
  {
   "cell_type": "markdown",
   "metadata": {},
   "source": [
    "### Filling missing values"
   ]
  },
  {
   "cell_type": "code",
   "execution_count": 82,
   "metadata": {},
   "outputs": [],
   "source": [
    "for column in train1.columns:\n",
    "    train1[column].fillna(train1[column].mode()[0], inplace=True)"
   ]
  },
  {
   "cell_type": "code",
   "execution_count": 83,
   "metadata": {},
   "outputs": [
    {
     "data": {
      "text/plain": [
       "BCT_CODBUR      0\n",
       "CTR_MATFIS      0\n",
       "CTR_CATEGO_X    0\n",
       "FJU_CODFJU      0\n",
       "CTR_CESSAT      0\n",
       "ACT_CODACT      0\n",
       "CTR_OBLDIR      0\n",
       "CTR_OBLACP      0\n",
       "CTR_OBLRES      0\n",
       "CTR_OBLFOP      0\n",
       "CTR_OBLTFP      0\n",
       "CTR_OBLDCO      0\n",
       "CTR_OBLTVA      0\n",
       "CTR_OFODEC      0\n",
       "CTR_OFODEP      0\n",
       "CTR_OFODET      0\n",
       "CTR_OBLAUT      0\n",
       "CTR_OBLASS      0\n",
       "CTR_ODTIMB      0\n",
       "CTR_OBLTCL      0\n",
       "CTR_OBLTHO      0\n",
       "CTR_OBLDLI      0\n",
       "CTR_OBLTVI      0\n",
       "CTR_RATISS      0\n",
       "EXE_EXERCI      0\n",
       "TVA_CHAFF6      0\n",
       "TVA_CHAFF7      0\n",
       "TVA_CHAF10      0\n",
       "TVA_CHAF12      0\n",
       "TVA_CAF125      0\n",
       "               ..\n",
       "TVA_CAFSUS      0\n",
       "TVA_CAFEXO      0\n",
       "TVA_AACHAB      0\n",
       "TVA_CRDBLQ      0\n",
       "TVA_CRDRES      0\n",
       "TVA_CRDRMP      0\n",
       "TVA_CRDREP      0\n",
       "TVA_CRDRMC      0\n",
       "TVA_MACHN       0\n",
       "TVA_MCESQ       0\n",
       "TVA_MTVLSM      0\n",
       "TVA_TXVLSM      0\n",
       "TVA_MTALSM      0\n",
       "TVA_TXALSM      0\n",
       "TVA_MTORDTVA    0\n",
       "TVA_MTDJRTVA    0\n",
       "TVA_MTORDTAX    0\n",
       "TVA_MTDJRTAX    0\n",
       "TVA_MTRESTAX    0\n",
       "TVA_CA072018    0\n",
       "TVA_CA132018    0\n",
       "TVA_CA192018    0\n",
       "AX1_BRTIMP      0\n",
       "AX2_HONORA      0\n",
       "AX2_LOYERS      0\n",
       "AX3_REVCAP      0\n",
       "AX5_MNTMAR      0\n",
       "RES_ANNIMP      0\n",
       "target          0\n",
       "id              0\n",
       "Length: 91, dtype: int64"
      ]
     },
     "execution_count": 83,
     "metadata": {},
     "output_type": "execute_result"
    }
   ],
   "source": [
    "train1.isna().sum()"
   ]
  },
  {
   "cell_type": "code",
   "execution_count": 133,
   "metadata": {},
   "outputs": [],
   "source": [
    "for column in test1.columns:\n",
    "    test1[column].fillna(test1[column].mode()[0], inplace=True)"
   ]
  },
  {
   "cell_type": "code",
   "execution_count": 85,
   "metadata": {},
   "outputs": [
    {
     "data": {
      "text/plain": [
       "BCT_CODBUR      0\n",
       "CTR_MATFIS      0\n",
       "CTR_CATEGO_X    0\n",
       "FJU_CODFJU      0\n",
       "CTR_CESSAT      0\n",
       "ACT_CODACT      0\n",
       "CTR_OBLDIR      0\n",
       "CTR_OBLACP      0\n",
       "CTR_OBLRES      0\n",
       "CTR_OBLFOP      0\n",
       "CTR_OBLTFP      0\n",
       "CTR_OBLDCO      0\n",
       "CTR_OBLTVA      0\n",
       "CTR_OFODEC      0\n",
       "CTR_OFODEP      0\n",
       "CTR_OFODET      0\n",
       "CTR_OBLAUT      0\n",
       "CTR_OBLASS      0\n",
       "CTR_ODTIMB      0\n",
       "CTR_OBLTCL      0\n",
       "CTR_OBLTHO      0\n",
       "CTR_OBLDLI      0\n",
       "CTR_OBLTVI      0\n",
       "CTR_RATISS      0\n",
       "EXE_EXERCI      0\n",
       "TVA_CHAFF6      0\n",
       "TVA_CHAFF7      0\n",
       "TVA_CHAF10      0\n",
       "TVA_CHAF12      0\n",
       "TVA_CAF125      0\n",
       "               ..\n",
       "TVA_CAFEXP      0\n",
       "TVA_CAFSUS      0\n",
       "TVA_CAFEXO      0\n",
       "TVA_AACHAB      0\n",
       "TVA_CRDBLQ      0\n",
       "TVA_CRDRES      0\n",
       "TVA_CRDRMP      0\n",
       "TVA_CRDREP      0\n",
       "TVA_CRDRMC      0\n",
       "TVA_MACHN       0\n",
       "TVA_MCESQ       0\n",
       "TVA_MTVLSM      0\n",
       "TVA_TXVLSM      0\n",
       "TVA_MTALSM      0\n",
       "TVA_TXALSM      0\n",
       "TVA_MTORDTVA    0\n",
       "TVA_MTDJRTVA    0\n",
       "TVA_MTORDTAX    0\n",
       "TVA_MTDJRTAX    0\n",
       "TVA_MTRESTAX    0\n",
       "TVA_CA072018    0\n",
       "TVA_CA132018    0\n",
       "TVA_CA192018    0\n",
       "AX1_BRTIMP      0\n",
       "AX2_HONORA      0\n",
       "AX2_LOYERS      0\n",
       "AX3_REVCAP      0\n",
       "AX5_MNTMAR      0\n",
       "RES_ANNIMP      0\n",
       "id              0\n",
       "Length: 90, dtype: int64"
      ]
     },
     "execution_count": 85,
     "metadata": {},
     "output_type": "execute_result"
    }
   ],
   "source": [
    "test1.isna().sum()"
   ]
  },
  {
   "cell_type": "markdown",
   "metadata": {},
   "source": [
    "### Exploratory data analysis "
   ]
  },
  {
   "cell_type": "code",
   "execution_count": 86,
   "metadata": {},
   "outputs": [
    {
     "data": {
      "text/plain": [
       "M    0.511276\n",
       "C    0.272822\n",
       "P    0.215463\n",
       "N    0.000439\n",
       "Name: CTR_CATEGO_X, dtype: float64"
      ]
     },
     "execution_count": 86,
     "metadata": {},
     "output_type": "execute_result"
    }
   ],
   "source": [
    "train1.CTR_CATEGO_X.value_counts(normalize=True)"
   ]
  },
  {
   "cell_type": "markdown",
   "metadata": {},
   "source": [
    "### Target variable"
   ]
  },
  {
   "cell_type": "code",
   "execution_count": 87,
   "metadata": {},
   "outputs": [
    {
     "data": {
      "text/plain": [
       "<matplotlib.axes._subplots.AxesSubplot at 0x18bceb573c8>"
      ]
     },
     "execution_count": 87,
     "metadata": {},
     "output_type": "execute_result"
    },
    {
     "data": {
      "image/png": "[encoded data removed]",
      "text/plain": [
       "<Figure size 432x288 with 1 Axes>"
      ]
     },
     "metadata": {
      "needs_background": "light"
     },
     "output_type": "display_data"
    }
   ],
   "source": [
    "sns.distplot(train1.target)"
   ]
  },
  {
   "cell_type": "code",
   "execution_count": 88,
   "metadata": {},
   "outputs": [
    {
     "name": "stdout",
     "output_type": "stream",
     "text": [
      "Find most important features relative to target\n",
      "target          1.000000\n",
      "FJU_CODFJU      0.131814\n",
      "CTR_OBLACP      0.055753\n",
      "CTR_OBLDLI      0.055695\n",
      "CTR_OBLDIR      0.049884\n",
      "CTR_OBLAUT      0.024553\n",
      "CTR_RATISS      0.024520\n",
      "ACT_CODACT      0.023847\n",
      "CTR_OBLTCL      0.021446\n",
      "TVA_MNTPAY      0.014776\n",
      "CTR_OBLFOP      0.014249\n",
      "TVA_CA192018    0.011085\n",
      "TVA_CHAF22      0.009144\n",
      "CTR_OBLTVI      0.008989\n",
      "TVA_CHAF10      0.006216\n",
      "CTR_MATFIS      0.004369\n",
      "CTR_OFODEP      0.003910\n",
      "TVA_DEDEQI      0.003474\n",
      "TVA_MTRESTAX    0.003082\n",
      "TVA_MTDJRTAX    0.003082\n",
      "CTR_OBLDCO      0.002521\n",
      "CTR_OFODET      0.002484\n",
      "EXE_EXERCI      0.002420\n",
      "RES_ANNIMP      0.002420\n",
      "TVA_ACHSUS     -0.000473\n",
      "TVA_ACHNDD     -0.000473\n",
      "TVA_AACHAB     -0.001058\n",
      "TVA_ACHEXO     -0.001157\n",
      "TVA_RSNRES     -0.001290\n",
      "CTR_OBLTFP     -0.005478\n",
      "                  ...   \n",
      "TVA_CAFEXO     -0.023213\n",
      "TVA_CRDBLQ     -0.023571\n",
      "AX2_LOYERS     -0.024521\n",
      "TVA_MOIFIN     -0.026456\n",
      "TVA_DEDAUL     -0.028666\n",
      "TVA_BASAUL     -0.029004\n",
      "TVA_DEDREG     -0.030177\n",
      "TVA_TRSPOR     -0.032607\n",
      "CTR_OBLTVA     -0.036498\n",
      "TVA_CRDRMP     -0.037501\n",
      "TVA_BASAUI     -0.037919\n",
      "TVA_CRDRMC     -0.038292\n",
      "TVA_DEDAUI     -0.040796\n",
      "CTR_OFODEC     -0.041028\n",
      "TVA_BASRSM     -0.042944\n",
      "TVA_DEDRSM     -0.045210\n",
      "CTR_CESSAT     -0.045258\n",
      "TVA_CAFSUS     -0.051717\n",
      "AX5_MNTMAR     -0.053872\n",
      "TVA_CHAFF6     -0.058315\n",
      "TVA_CAFEXP     -0.060466\n",
      "TVA_RESTIT     -0.066123\n",
      "BCT_CODBUR     -0.099527\n",
      "CTR_ODTIMB     -0.100313\n",
      "TVA_CRDINI     -0.110584\n",
      "TVA_CRDFIN     -0.116255\n",
      "TVA_CAF125           NaN\n",
      "TVA_CHAF36           NaN\n",
      "TVA_CRDREP           NaN\n",
      "TVA_MTORDTAX         NaN\n",
      "Name: target, Length: 89, dtype: float64\n"
     ]
    }
   ],
   "source": [
    "# Find most important features relative to target\n",
    "print(\"Find most important features relative to target\")\n",
    "corr = train1.corr()\n",
    "corr.sort_values([\"target\"], ascending = False, inplace = True)\n",
    "print(corr.target)"
   ]
  },
  {
   "cell_type": "code",
   "execution_count": 89,
   "metadata": {},
   "outputs": [],
   "source": [
    "from sklearn.preprocessing import MinMaxScaler, LabelEncoder\n",
    "from sklearn.model_selection import train_test_split"
   ]
  },
  {
   "cell_type": "code",
   "execution_count": 90,
   "metadata": {},
   "outputs": [],
   "source": [
    "X= train1.drop(['id', 'target'], axis=1)\n",
    "y= train1.target\n",
    "test1 = test1.drop('id', axis=1)"
   ]
  },
  {
   "cell_type": "code",
   "execution_count": 91,
   "metadata": {},
   "outputs": [],
   "source": [
    "# Categorical boolean mask\n",
    "categorical_feature_mask = X.dtypes==object\n",
    "# filter categorical columns using mask and turn it into a list\n",
    "categorical_cols = X.columns[categorical_feature_mask].tolist()"
   ]
  },
  {
   "cell_type": "code",
   "execution_count": 92,
   "metadata": {
    "scrolled": true
   },
   "outputs": [
    {
     "data": {
      "text/html": [
       "<div>\n",
       "<style scoped>\n",
       "    .dataframe tbody tr th:only-of-type {\n",
       "        vertical-align: middle;\n",
       "    }\n",
       "\n",
       "    .dataframe tbody tr th {\n",
       "        vertical-align: top;\n",
       "    }\n",
       "\n",
       "    .dataframe thead th {\n",
       "        text-align: right;\n",
       "    }\n",
       "</style>\n",
       "<table border=\"1\" class=\"dataframe\">\n",
       "  <thead>\n",
       "    <tr style=\"text-align: right;\">\n",
       "      <th></th>\n",
       "      <th>CTR_CATEGO_X</th>\n",
       "    </tr>\n",
       "  </thead>\n",
       "  <tbody>\n",
       "    <tr>\n",
       "      <th>0</th>\n",
       "      <td>3</td>\n",
       "    </tr>\n",
       "    <tr>\n",
       "      <th>1</th>\n",
       "      <td>3</td>\n",
       "    </tr>\n",
       "    <tr>\n",
       "      <th>2</th>\n",
       "      <td>3</td>\n",
       "    </tr>\n",
       "    <tr>\n",
       "      <th>3</th>\n",
       "      <td>1</td>\n",
       "    </tr>\n",
       "    <tr>\n",
       "      <th>4</th>\n",
       "      <td>3</td>\n",
       "    </tr>\n",
       "    <tr>\n",
       "      <th>5</th>\n",
       "      <td>0</td>\n",
       "    </tr>\n",
       "    <tr>\n",
       "      <th>6</th>\n",
       "      <td>0</td>\n",
       "    </tr>\n",
       "    <tr>\n",
       "      <th>7</th>\n",
       "      <td>1</td>\n",
       "    </tr>\n",
       "    <tr>\n",
       "      <th>8</th>\n",
       "      <td>0</td>\n",
       "    </tr>\n",
       "    <tr>\n",
       "      <th>9</th>\n",
       "      <td>3</td>\n",
       "    </tr>\n",
       "  </tbody>\n",
       "</table>\n",
       "</div>"
      ],
      "text/plain": [
       "   CTR_CATEGO_X\n",
       "0             3\n",
       "1             3\n",
       "2             3\n",
       "3             1\n",
       "4             3\n",
       "5             0\n",
       "6             0\n",
       "7             1\n",
       "8             0\n",
       "9             3"
      ]
     },
     "execution_count": 92,
     "metadata": {},
     "output_type": "execute_result"
    }
   ],
   "source": [
    "le = LabelEncoder()\n",
    "X[categorical_cols] = X[categorical_cols].apply(lambda col: le.fit_transform(col))\n",
    "X[categorical_cols].head(10)"
   ]
  },
  {
   "cell_type": "code",
   "execution_count": 93,
   "metadata": {},
   "outputs": [],
   "source": [
    "test_categorical_feature_mask = test1.dtypes==object\n",
    "# filter categorical columns using mask and turn it into a list\n",
    "test_categorical_cols = test1.columns[test_categorical_feature_mask].tolist()"
   ]
  },
  {
   "cell_type": "code",
   "execution_count": 94,
   "metadata": {},
   "outputs": [
    {
     "data": {
      "text/html": [
       "<div>\n",
       "<style scoped>\n",
       "    .dataframe tbody tr th:only-of-type {\n",
       "        vertical-align: middle;\n",
       "    }\n",
       "\n",
       "    .dataframe tbody tr th {\n",
       "        vertical-align: top;\n",
       "    }\n",
       "\n",
       "    .dataframe thead th {\n",
       "        text-align: right;\n",
       "    }\n",
       "</style>\n",
       "<table border=\"1\" class=\"dataframe\">\n",
       "  <thead>\n",
       "    <tr style=\"text-align: right;\">\n",
       "      <th></th>\n",
       "      <th>CTR_CATEGO_X</th>\n",
       "    </tr>\n",
       "  </thead>\n",
       "  <tbody>\n",
       "    <tr>\n",
       "      <th>0</th>\n",
       "      <td>2</td>\n",
       "    </tr>\n",
       "    <tr>\n",
       "      <th>1</th>\n",
       "      <td>0</td>\n",
       "    </tr>\n",
       "    <tr>\n",
       "      <th>2</th>\n",
       "      <td>1</td>\n",
       "    </tr>\n",
       "    <tr>\n",
       "      <th>3</th>\n",
       "      <td>1</td>\n",
       "    </tr>\n",
       "    <tr>\n",
       "      <th>4</th>\n",
       "      <td>2</td>\n",
       "    </tr>\n",
       "    <tr>\n",
       "      <th>5</th>\n",
       "      <td>0</td>\n",
       "    </tr>\n",
       "    <tr>\n",
       "      <th>6</th>\n",
       "      <td>1</td>\n",
       "    </tr>\n",
       "    <tr>\n",
       "      <th>7</th>\n",
       "      <td>1</td>\n",
       "    </tr>\n",
       "    <tr>\n",
       "      <th>8</th>\n",
       "      <td>2</td>\n",
       "    </tr>\n",
       "    <tr>\n",
       "      <th>9</th>\n",
       "      <td>1</td>\n",
       "    </tr>\n",
       "  </tbody>\n",
       "</table>\n",
       "</div>"
      ],
      "text/plain": [
       "   CTR_CATEGO_X\n",
       "0             2\n",
       "1             0\n",
       "2             1\n",
       "3             1\n",
       "4             2\n",
       "5             0\n",
       "6             1\n",
       "7             1\n",
       "8             2\n",
       "9             1"
      ]
     },
     "execution_count": 94,
     "metadata": {},
     "output_type": "execute_result"
    }
   ],
   "source": [
    "\n",
    "test1[test_categorical_cols] = test1[test_categorical_cols].apply(lambda col: le.fit_transform(col))\n",
    "test1[test_categorical_cols].head(10)"
   ]
  },
  {
   "cell_type": "code",
   "execution_count": 95,
   "metadata": {},
   "outputs": [
    {
     "name": "stdout",
     "output_type": "stream",
     "text": [
      "(17537, 89)\n",
      "(7516, 89)\n",
      "(17537,)\n",
      "(7516,)\n",
      "(10738, 89)\n"
     ]
    }
   ],
   "source": [
    "X_train, X_test, y_train, y_test = train_test_split(X, y, test_size=0.3, random_state=0)\n",
    "print(X_train.shape)\n",
    "print(X_test.shape)\n",
    "print(y_train.shape)\n",
    "print(y_test.shape)\n",
    "print(test1.shape)"
   ]
  },
  {
   "cell_type": "code",
   "execution_count": 96,
   "metadata": {},
   "outputs": [],
   "source": [
    "scaller = MinMaxScaler()\n",
    "X_train_scaled = scaller.fit_transform(X_train)\n",
    "X_test_scaled = scaller.transform(X_test)\n",
    "test1_scaled = scaller.transform(test1)"
   ]
  },
  {
   "cell_type": "markdown",
   "metadata": {},
   "source": [
    "## modeling"
   ]
  },
  {
   "cell_type": "code",
   "execution_count": 122,
   "metadata": {},
   "outputs": [],
   "source": [
    "from sklearn.linear_model import LinearRegression, Ridge, Lasso, ElasticNet\n",
    "from sklearn.ensemble import RandomForestRegressor, AdaBoostRegressor, StackingRegressor, GradientBoostingRegressor\n",
    "import xgboost\n",
    "from xgboost import XGBRFRegressor\n",
    "from sklearn.metrics import mean_squared_error"
   ]
  },
  {
   "cell_type": "code",
   "execution_count": 98,
   "metadata": {},
   "outputs": [],
   "source": [
    "lr = LinearRegression().fit(X_train_scaled, y_train)\n"
   ]
  },
  {
   "cell_type": "code",
   "execution_count": 99,
   "metadata": {},
   "outputs": [
    {
     "name": "stdout",
     "output_type": "stream",
     "text": [
      "6.939850823799201\n"
     ]
    }
   ],
   "source": [
    "y_predicted = lr.predict(X_test_scaled)\n",
    "print(np.sqrt(mean_squared_error(y_predicted, y_test)))"
   ]
  },
  {
   "cell_type": "code",
   "execution_count": 100,
   "metadata": {},
   "outputs": [],
   "source": [
    "ridge = Ridge().fit(X_train_scaled, y_train)\n"
   ]
  },
  {
   "cell_type": "code",
   "execution_count": 101,
   "metadata": {},
   "outputs": [
    {
     "name": "stdout",
     "output_type": "stream",
     "text": [
      "6.936345969957007\n"
     ]
    }
   ],
   "source": [
    "y_predicted1 = ridge.predict(X_test_scaled)\n",
    "print(np.sqrt(mean_squared_error(y_predicted1, y_test)))"
   ]
  },
  {
   "cell_type": "code",
   "execution_count": 102,
   "metadata": {},
   "outputs": [],
   "source": [
    "lasso = Lasso().fit(X_train_scaled, y_train)"
   ]
  },
  {
   "cell_type": "code",
   "execution_count": 103,
   "metadata": {},
   "outputs": [
    {
     "name": "stdout",
     "output_type": "stream",
     "text": [
      "7.130370324691103\n"
     ]
    }
   ],
   "source": [
    "y_predicted2 = lasso.predict(X_test_scaled)\n",
    "print(np.sqrt(mean_squared_error(y_predicted2, y_test)))"
   ]
  },
  {
   "cell_type": "code",
   "execution_count": 120,
   "metadata": {},
   "outputs": [],
   "source": [
    "alphas = [0.0000000000000001, 0.0001, 0.001, 0.01, 0.1, 0.3, 0.5, 0.7, 1]"
   ]
  },
  {
   "cell_type": "code",
   "execution_count": 121,
   "metadata": {},
   "outputs": [
    {
     "name": "stdout",
     "output_type": "stream",
     "text": [
      "Alpha:0.0000, R2:0.06, MSE:48.17, RMSE:6.94\n",
      "Alpha:0.0001, R2:0.05, MSE:48.10, RMSE:6.94\n",
      "Alpha:0.0010, R2:0.04, MSE:48.37, RMSE:6.95\n",
      "Alpha:0.0100, R2:0.03, MSE:49.07, RMSE:7.01\n",
      "Alpha:0.1000, R2:0.02, MSE:49.83, RMSE:7.06\n",
      "Alpha:0.3000, R2:0.01, MSE:50.29, RMSE:7.09\n",
      "Alpha:0.5000, R2:0.01, MSE:50.55, RMSE:7.11\n",
      "Alpha:0.7000, R2:0.00, MSE:50.77, RMSE:7.13\n",
      "Alpha:1.0000, R2:0.00, MSE:50.84, RMSE:7.13\n"
     ]
    }
   ],
   "source": [
    "for a in alphas:\n",
    "    model = ElasticNet(alpha=a).fit(X_train_scaled, y_train)   \n",
    "    score = model.score(X_train_scaled, y_train)\n",
    "    pred_y = model.predict(X_test_scaled)\n",
    "    mse = mean_squared_error(y_test, pred_y)   \n",
    "    print(\"Alpha:{0:.4f}, R2:{1:.2f}, MSE:{2:.2f}, RMSE:{3:.2f}\".format(a, score, mse, np.sqrt(mse)))"
   ]
  },
  {
   "cell_type": "code",
   "execution_count": 109,
   "metadata": {},
   "outputs": [
    {
     "data": {
      "text/plain": [
       "RandomForestRegressor()"
      ]
     },
     "execution_count": 109,
     "metadata": {},
     "output_type": "execute_result"
    }
   ],
   "source": [
    "RFR = RandomForestRegressor()\n",
    "RFR.fit(X_train_scaled, y_train)"
   ]
  },
  {
   "cell_type": "code",
   "execution_count": 110,
   "metadata": {},
   "outputs": [
    {
     "name": "stdout",
     "output_type": "stream",
     "text": [
      "5.835493225520687\n"
     ]
    }
   ],
   "source": [
    "y_predicted3 = RFR.predict(X_test_scaled)\n",
    "print(np.sqrt(mean_squared_error(y_predicted3, y_test)))"
   ]
  },
  {
   "cell_type": "code",
   "execution_count": 139,
   "metadata": {},
   "outputs": [],
   "source": [
    "idd = RFR.predict(test1_scaled)"
   ]
  },
  {
   "cell_type": "code",
   "execution_count": 141,
   "metadata": {},
   "outputs": [],
   "source": [
    "test_original['id']=idd\n",
    "test_original.to_csv('submission.csv')"
   ]
  },
  {
   "cell_type": "code",
   "execution_count": 124,
   "metadata": {},
   "outputs": [
    {
     "data": {
      "text/plain": [
       "AdaBoostRegressor()"
      ]
     },
     "execution_count": 124,
     "metadata": {},
     "output_type": "execute_result"
    }
   ],
   "source": [
    "ADR = AdaBoostRegressor()\n",
    "ADR.fit(X_train_scaled, y_train)"
   ]
  },
  {
   "cell_type": "code",
   "execution_count": 125,
   "metadata": {},
   "outputs": [
    {
     "name": "stdout",
     "output_type": "stream",
     "text": [
      "6.494314456765755\n"
     ]
    }
   ],
   "source": [
    "y_predicted_adb = ADR.predict(X_test_scaled)\n",
    "print(np.sqrt(mean_squared_error(y_predicted_adb, y_test)))"
   ]
  },
  {
   "cell_type": "code",
   "execution_count": 128,
   "metadata": {},
   "outputs": [
    {
     "data": {
      "text/plain": [
       "GradientBoostingRegressor()"
      ]
     },
     "execution_count": 128,
     "metadata": {},
     "output_type": "execute_result"
    }
   ],
   "source": [
    "GBR = GradientBoostingRegressor()\n",
    "GBR.fit(X_train_scaled, y_train)"
   ]
  },
  {
   "cell_type": "code",
   "execution_count": 129,
   "metadata": {},
   "outputs": [
    {
     "name": "stdout",
     "output_type": "stream",
     "text": [
      "6.149712629349884\n"
     ]
    }
   ],
   "source": [
    "y_predicted_GBR = GBR.predict(X_test_scaled)\n",
    "print(np.sqrt(mean_squared_error(y_predicted_GBR, y_test)))"
   ]
  },
  {
   "cell_type": "code",
   "execution_count": 137,
   "metadata": {},
   "outputs": [
    {
     "name": "stdout",
     "output_type": "stream",
     "text": [
      "[19:00:47] WARNING: src/objective/regression_obj.cu:152: reg:linear is now deprecated in favor of reg:squarederror.\n"
     ]
    }
   ],
   "source": [
    "xgb = XGBRFRegressor().fit(X_train_scaled, y_train)"
   ]
  },
  {
   "cell_type": "code",
   "execution_count": 138,
   "metadata": {},
   "outputs": [
    {
     "name": "stdout",
     "output_type": "stream",
     "text": [
      "6.410007514233043\n"
     ]
    }
   ],
   "source": [
    "y_predicted4 = xgb.predict(X_test_scaled)\n",
    "print(np.sqrt(mean_squared_error(y_predicted4, y_test)))"
   ]
  },
  {
   "cell_type": "code",
   "execution_count": 113,
   "metadata": {},
   "outputs": [],
   "source": [
    "from sklearn.model_selection import RandomizedSearchCV\n",
    "# Number of trees in random forest\n",
    "n_estimators = [int(x) for x in np.linspace(start = 200, stop = 2000, num = 10)]\n",
    "# Number of features to consider at every split\n",
    "max_features = ['auto', 'sqrt']\n",
    "# Maximum number of levels in tree\n",
    "max_depth = [int(x) for x in np.linspace(10, 110, num = 11)]\n",
    "max_depth.append(None)\n",
    "# Minimum number of samples required to split a node\n",
    "min_samples_split = [2, 5, 10]\n",
    "# Minimum number of samples required at each leaf node\n",
    "min_samples_leaf = [1, 2, 4]\n",
    "# Method of selecting samples for training each tree\n",
    "bootstrap = [True, False]\n",
    "# Create the random grid\n"
   ]
  },
  {
   "cell_type": "code",
   "execution_count": 114,
   "metadata": {},
   "outputs": [
    {
     "name": "stdout",
     "output_type": "stream",
     "text": [
      "{'n_estimators': [200, 400, 600, 800, 1000, 1200, 1400, 1600, 1800, 2000], 'max_features': ['auto', 'sqrt'], 'max_depth': [10, 20, 30, 40, 50, 60, 70, 80, 90, 100, 110, None], 'min_samples_split': [2, 5, 10], 'min_samples_leaf': [1, 2, 4], 'bootstrap': [True, False]}\n"
     ]
    }
   ],
   "source": [
    "random_grid = {'n_estimators': n_estimators,\n",
    "               'max_features': max_features,\n",
    "               'max_depth': max_depth,\n",
    "               'min_samples_split': min_samples_split,\n",
    "               'min_samples_leaf': min_samples_leaf,\n",
    "               'bootstrap': bootstrap}\n",
    "print(random_grid)"
   ]
  },
  {
   "cell_type": "code",
   "execution_count": 115,
   "metadata": {},
   "outputs": [],
   "source": [
    "# Use the random grid to search for best hyperparameters\n",
    "# First create the base model to tune\n",
    "rf = RandomForestRegressor()\n",
    "# Random search of parameters, using 3 fold cross validation, \n",
    "# search across 100 different combinations, and use all available cores\n",
    "rf_random = RandomizedSearchCV(estimator = rf, param_distributions = random_grid, n_iter = 100, cv=2, verbose=2, random_state=42, n_jobs = -1)\n"
   ]
  },
  {
   "cell_type": "code",
   "execution_count": null,
   "metadata": {},
   "outputs": [],
   "source": []
  }
 ],
 "metadata": {
  "kernelspec": {
   "display_name": "Python 3",
   "language": "python",
   "name": "python3"
  },
  "language_info": {
   "codemirror_mode": {
    "name": "ipython",
    "version": 3
   },
   "file_extension": ".py",
   "mimetype": "text/x-python",
   "name": "python",
   "nbconvert_exporter": "python",
   "pygments_lexer": "ipython3",
   "version": "3.8.8"
  }
 },
 "nbformat": 4,
 "nbformat_minor": 2
}
