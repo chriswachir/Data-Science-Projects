{
 "cells": [
  {
   "cell_type": "code",
   "execution_count": 1,
   "metadata": {},
   "outputs": [],
   "source": [
    "import pandas as pd\n",
    "import numpy as np\n",
    "import matplotlib.pyplot as plt\n",
    "import seaborn as sns\n",
    "import sklearn\n",
    "import warnings\n",
    "warnings.filterwarnings('ignore')"
   ]
  },
  {
   "cell_type": "code",
   "execution_count": 2,
   "metadata": {},
   "outputs": [
    {
     "data": {
      "text/html": [
       "<div>\n",
       "<style scoped>\n",
       "    .dataframe tbody tr th:only-of-type {\n",
       "        vertical-align: middle;\n",
       "    }\n",
       "\n",
       "    .dataframe tbody tr th {\n",
       "        vertical-align: top;\n",
       "    }\n",
       "\n",
       "    .dataframe thead th {\n",
       "        text-align: right;\n",
       "    }\n",
       "</style>\n",
       "<table border=\"1\" class=\"dataframe\">\n",
       "  <thead>\n",
       "    <tr style=\"text-align: right;\">\n",
       "      <th></th>\n",
       "      <th>branch</th>\n",
       "      <th>no_customer</th>\n",
       "      <th>customer</th>\n",
       "      <th>age</th>\n",
       "      <th>eduction_level</th>\n",
       "      <th>employ</th>\n",
       "      <th>address</th>\n",
       "      <th>income</th>\n",
       "      <th>debtinc</th>\n",
       "      <th>creddebt</th>\n",
       "      <th>othdebt</th>\n",
       "      <th>default</th>\n",
       "    </tr>\n",
       "  </thead>\n",
       "  <tbody>\n",
       "    <tr>\n",
       "      <th>0</th>\n",
       "      <td>3</td>\n",
       "      <td>3017</td>\n",
       "      <td>10012</td>\n",
       "      <td>28</td>\n",
       "      <td>High school degree</td>\n",
       "      <td>7</td>\n",
       "      <td>2</td>\n",
       "      <td>44</td>\n",
       "      <td>17.7</td>\n",
       "      <td>2.99</td>\n",
       "      <td>4.80</td>\n",
       "      <td>No</td>\n",
       "    </tr>\n",
       "    <tr>\n",
       "      <th>1</th>\n",
       "      <td>3</td>\n",
       "      <td>3017</td>\n",
       "      <td>10017</td>\n",
       "      <td>64</td>\n",
       "      <td>Post-undergraduate degree</td>\n",
       "      <td>34</td>\n",
       "      <td>17</td>\n",
       "      <td>116</td>\n",
       "      <td>14.7</td>\n",
       "      <td>5.05</td>\n",
       "      <td>12.00</td>\n",
       "      <td>No</td>\n",
       "    </tr>\n",
       "    <tr>\n",
       "      <th>2</th>\n",
       "      <td>3</td>\n",
       "      <td>3017</td>\n",
       "      <td>10030</td>\n",
       "      <td>40</td>\n",
       "      <td>Did not complete high school</td>\n",
       "      <td>20</td>\n",
       "      <td>12</td>\n",
       "      <td>61</td>\n",
       "      <td>4.8</td>\n",
       "      <td>1.04</td>\n",
       "      <td>1.89</td>\n",
       "      <td>No</td>\n",
       "    </tr>\n",
       "    <tr>\n",
       "      <th>3</th>\n",
       "      <td>3</td>\n",
       "      <td>3017</td>\n",
       "      <td>10039</td>\n",
       "      <td>30</td>\n",
       "      <td>Did not complete high school</td>\n",
       "      <td>11</td>\n",
       "      <td>3</td>\n",
       "      <td>27</td>\n",
       "      <td>34.5</td>\n",
       "      <td>1.75</td>\n",
       "      <td>7.56</td>\n",
       "      <td>No</td>\n",
       "    </tr>\n",
       "    <tr>\n",
       "      <th>4</th>\n",
       "      <td>3</td>\n",
       "      <td>3017</td>\n",
       "      <td>10069</td>\n",
       "      <td>25</td>\n",
       "      <td>Did not complete high school</td>\n",
       "      <td>2</td>\n",
       "      <td>2</td>\n",
       "      <td>30</td>\n",
       "      <td>22.4</td>\n",
       "      <td>0.76</td>\n",
       "      <td>5.96</td>\n",
       "      <td>Yes</td>\n",
       "    </tr>\n",
       "  </tbody>\n",
       "</table>\n",
       "</div>"
      ],
      "text/plain": [
       "   branch  no_customer  customer  age                eduction_level  employ  \\\n",
       "0       3         3017     10012   28            High school degree       7   \n",
       "1       3         3017     10017   64     Post-undergraduate degree      34   \n",
       "2       3         3017     10030   40  Did not complete high school      20   \n",
       "3       3         3017     10039   30  Did not complete high school      11   \n",
       "4       3         3017     10069   25  Did not complete high school       2   \n",
       "\n",
       "   address  income  debtinc  creddebt  othdebt default  \n",
       "0        2      44     17.7      2.99     4.80      No  \n",
       "1       17     116     14.7      5.05    12.00      No  \n",
       "2       12      61      4.8      1.04     1.89      No  \n",
       "3        3      27     34.5      1.75     7.56      No  \n",
       "4        2      30     22.4      0.76     5.96     Yes  "
      ]
     },
     "execution_count": 2,
     "metadata": {},
     "output_type": "execute_result"
    }
   ],
   "source": [
    "bank = pd.read_csv('bankloan1.csv')\n",
    "bank.head()"
   ]
  },
  {
   "cell_type": "code",
   "execution_count": 4,
   "metadata": {},
   "outputs": [
    {
     "name": "stdout",
     "output_type": "stream",
     "text": [
      "[[0.46993725 0.0053484  0.71212873 ... 1.16507686 0.35489946 0.17924543]\n",
      " [2.27022162 3.01382189 1.76896393 ... 0.71527883 1.04782159 1.52967242]\n",
      " [0.44344904 1.45387267 0.94193305 ... 0.76905468 0.30102197 0.36655215]\n",
      " ...\n",
      " [0.69828382 0.77462621 0.54672255 ... 1.00894696 0.55329944 0.67977619]\n",
      " [0.0132441  0.33962323 0.28030834 ... 0.68529229 0.25056647 0.16986746]\n",
      " [0.54605277 0.55177632 0.71212873 ... 0.619122   0.46247955 0.56348942]]\n"
     ]
    }
   ],
   "source": [
    "from scipy.stats import zscore\n",
    "\n",
    "z = np.abs(zscore(bank[['age','employ','address','income','debtinc','creddebt','othdebt']]))\n",
    "print(z)"
   ]
  },
  {
   "cell_type": "code",
   "execution_count": 16,
   "metadata": {},
   "outputs": [
    {
     "name": "stdout",
     "output_type": "stream",
     "text": [
      "(array([   1,    1,    1,    1,    3,    4,    8,    8,    8,   10,   10,\n",
      "         10,   12,   12,   19,   19,   19,   23,   28,   37,   37,   40,\n",
      "         40,   40,   40,   43,   43,   43,   44,   48,   49,   51,   52,\n",
      "         54,   56,   56,   61,   71,   71,   71,   71,   76,   77,   77,\n",
      "         78,   78,   84,   86,   93,   94,   94,   94,   94,  100,  102,\n",
      "        102,  103,  103,  103,  103,  105,  105,  105,  105,  105,  107,\n",
      "        107,  107,  108,  112,  113,  113,  113,  114,  114,  115,  115,\n",
      "        116,  116,  116,  116,  118,  120,  133,  134,  134,  142,  142,\n",
      "        143,  143,  143,  144,  144,  148,  151,  154,  158,  169,  171,\n",
      "        171,  176,  180,  183,  183,  184,  192,  192,  192,  192,  192,\n",
      "        195,  200,  203,  204,  204,  204,  204,  204,  204,  205,  205,\n",
      "        205,  206,  207,  210,  218,  220,  220,  220,  228,  228,  228,\n",
      "        228,  228,  228,  231,  234,  234,  234,  234,  234,  234,  235,\n",
      "        236,  244,  248,  256,  256,  256,  258,  258,  258,  264,  264,\n",
      "        264,  264,  264,  265,  285,  290,  292,  292,  292,  297,  297,\n",
      "        297,  297,  297,  298,  299,  299,  299,  309,  309,  310,  318,\n",
      "        318,  320,  320,  321,  321,  321,  321,  326,  333,  333,  337,\n",
      "        338,  338,  338,  339,  340,  340,  340,  342,  343,  343,  347,\n",
      "        347,  347,  347,  348,  348,  353,  356,  356,  356,  356,  359,\n",
      "        359,  359,  359,  360,  360,  360,  361,  361,  361,  363,  363,\n",
      "        368,  369,  376,  376,  377,  386,  388,  392,  392,  392,  392,\n",
      "        392,  395,  395,  397,  397,  401,  401,  401,  402,  404,  404,\n",
      "        410,  412,  412,  412,  412,  412,  417,  417,  417,  417,  417,\n",
      "        417,  419,  427,  429,  436,  443,  445,  447,  453,  456,  460,\n",
      "        461,  461,  461,  463,  463,  467,  467,  468,  468,  468,  468,\n",
      "        468,  469,  469,  469,  469,  473,  474,  474,  474,  482,  486,\n",
      "        486,  487,  489,  489,  489,  489,  500,  500,  505,  505,  505,\n",
      "        505,  505,  505,  507,  508,  519,  519,  519,  519,  519,  521,\n",
      "        521,  521,  522,  522,  522,  526,  531,  541,  541,  541,  541,\n",
      "        541,  541,  542,  542,  543,  543,  564,  565,  571,  571,  571,\n",
      "        574,  583,  583,  585,  586,  586,  586,  588,  588,  588,  593,\n",
      "        603,  607,  608,  608,  608,  609,  609,  609,  609,  609,  609,\n",
      "        612,  613,  613,  616,  617,  617,  617,  620,  620,  620,  620,\n",
      "        620,  629,  632,  639,  640,  640,  642,  642,  650,  650,  650,\n",
      "        650,  660,  660,  660,  660,  662,  667,  667,  667,  667,  667,\n",
      "        667,  668,  669,  669,  672,  677,  678,  678,  678,  678,  678,\n",
      "        679,  679,  680,  680,  680,  680,  682,  686,  686,  686,  696,\n",
      "        696,  696,  696,  696,  702,  708,  708,  718,  722,  732,  732,\n",
      "        733,  733,  733,  737,  737,  737,  738,  738,  741,  741,  746,\n",
      "        748,  751,  751,  752,  753,  755,  755,  755,  756,  758,  758,\n",
      "        758,  764,  770,  775,  776,  776,  776,  776,  777,  777,  781,\n",
      "        786,  786,  788,  788,  789,  790,  791,  791,  794,  801,  801,\n",
      "        801,  802,  802,  802,  808,  810,  814,  821,  824,  828,  828,\n",
      "        828,  830,  830,  830,  832,  836,  837,  841,  841,  841,  846,\n",
      "        846,  846,  846,  846,  848,  851,  852,  852,  860,  860,  862,\n",
      "        862,  862,  862,  862,  862,  870,  870,  871,  871,  872,  872,\n",
      "        872,  873,  877,  877,  884,  885,  886,  886,  889,  894,  904,\n",
      "        909,  909,  911,  918,  919,  919,  919,  919,  921,  921,  923,\n",
      "        926,  926,  926,  927,  927,  939,  939,  939,  939,  939,  939,\n",
      "        958,  960,  960,  964,  967,  967,  967,  974,  981,  984,  984,\n",
      "        984,  986,  986,  986,  987,  988,  988,  991,  991,  992,  998,\n",
      "       1001, 1001, 1006, 1007, 1007, 1008, 1009, 1011, 1013, 1013, 1013,\n",
      "       1016, 1019, 1019, 1019, 1022, 1022, 1032, 1032, 1032, 1032, 1032,\n",
      "       1038, 1043, 1046, 1047, 1049, 1049, 1049, 1049, 1055, 1055, 1055,\n",
      "       1055, 1061, 1072, 1080, 1080, 1083, 1091, 1091, 1091, 1099, 1100,\n",
      "       1100, 1101, 1101, 1101, 1101, 1101, 1101, 1106, 1106, 1113, 1113,\n",
      "       1114, 1114, 1118, 1123, 1123, 1123, 1127, 1127, 1129, 1132, 1132,\n",
      "       1132, 1132, 1135, 1136, 1136, 1136, 1137, 1137, 1137, 1137, 1137,\n",
      "       1139, 1143, 1144, 1145, 1147, 1149, 1149, 1152, 1152, 1157, 1161,\n",
      "       1171, 1172, 1176, 1178, 1178, 1178, 1179, 1179, 1196, 1196, 1196,\n",
      "       1196, 1196, 1196, 1196, 1197, 1198, 1198, 1198, 1198, 1198, 1207,\n",
      "       1207, 1209, 1212, 1212, 1212, 1212, 1214, 1214, 1216, 1216, 1216,\n",
      "       1219, 1219, 1227, 1227, 1227, 1229, 1234, 1235, 1251, 1251, 1253,\n",
      "       1253, 1255, 1259, 1259, 1259, 1260, 1262, 1265, 1265, 1265, 1278,\n",
      "       1278, 1278, 1280, 1286, 1291, 1291, 1292, 1292, 1293, 1295, 1301,\n",
      "       1301, 1301, 1305, 1314, 1314, 1314, 1314, 1314, 1314, 1315, 1315,\n",
      "       1332, 1332, 1332, 1336, 1336, 1340, 1346, 1351, 1353, 1358, 1358,\n",
      "       1360, 1360, 1361, 1369, 1373, 1391, 1398, 1398, 1398, 1398, 1399,\n",
      "       1400, 1417, 1417, 1417, 1417, 1422, 1422, 1429, 1429, 1431, 1431,\n",
      "       1431, 1431, 1431, 1431, 1432, 1435, 1439, 1451, 1451, 1451, 1451,\n",
      "       1451, 1452, 1452, 1452, 1458, 1461, 1461, 1461, 1461, 1463, 1472,\n",
      "       1472, 1472, 1475, 1475, 1475, 1475, 1477], dtype=int64), array([0, 1, 2, 6, 4, 4, 0, 1, 3, 0, 1, 5, 5, 6, 0, 1, 2, 5, 1, 3, 6, 0,\n",
      "       1, 2, 6, 0, 1, 2, 2, 4, 1, 4, 4, 2, 0, 2, 4, 0, 1, 2, 5, 4, 0, 4,\n",
      "       0, 2, 2, 4, 3, 0, 1, 3, 6, 2, 4, 5, 0, 1, 2, 5, 0, 1, 2, 3, 6, 0,\n",
      "       1, 3, 4, 4, 0, 1, 5, 4, 5, 0, 1, 0, 1, 2, 3, 4, 1, 1, 3, 6, 0, 2,\n",
      "       0, 2, 3, 4, 6, 0, 0, 4, 6, 4, 0, 2, 5, 0, 1, 3, 2, 0, 1, 2, 3, 6,\n",
      "       0, 4, 5, 0, 1, 2, 3, 5, 6, 0, 1, 2, 3, 4, 5, 4, 0, 4, 6, 0, 2, 3,\n",
      "       4, 5, 6, 1, 0, 1, 2, 3, 5, 6, 1, 4, 5, 0, 0, 1, 2, 4, 5, 6, 0, 1,\n",
      "       2, 3, 6, 1, 4, 4, 4, 5, 6, 0, 1, 2, 3, 6, 3, 0, 1, 2, 1, 5, 1, 1,\n",
      "       2, 0, 2, 0, 1, 2, 6, 4, 0, 2, 0, 4, 5, 6, 3, 1, 3, 6, 3, 3, 5, 0,\n",
      "       1, 4, 6, 0, 2, 4, 0, 1, 2, 4, 0, 1, 3, 5, 4, 5, 6, 0, 1, 2, 1, 2,\n",
      "       1, 4, 1, 2, 5, 3, 4, 1, 2, 3, 5, 6, 0, 2, 0, 2, 0, 1, 4, 2, 0, 2,\n",
      "       5, 0, 1, 3, 5, 6, 0, 2, 3, 4, 5, 6, 4, 5, 2, 0, 5, 4, 4, 5, 4, 1,\n",
      "       0, 1, 2, 5, 6, 1, 3, 0, 1, 3, 5, 6, 1, 3, 5, 6, 0, 0, 2, 4, 4, 4,\n",
      "       5, 1, 0, 1, 2, 3, 0, 2, 0, 2, 3, 4, 5, 6, 4, 4, 1, 2, 4, 5, 6, 0,\n",
      "       1, 2, 4, 5, 6, 4, 4, 0, 1, 2, 3, 5, 6, 3, 5, 4, 5, 4, 3, 0, 1, 2,\n",
      "       0, 4, 6, 0, 0, 1, 2, 0, 1, 3, 0, 4, 6, 0, 1, 3, 0, 1, 2, 3, 5, 6,\n",
      "       0, 4, 6, 1, 3, 5, 6, 0, 1, 2, 3, 5, 4, 6, 4, 0, 2, 2, 4, 0, 1, 3,\n",
      "       5, 0, 1, 2, 4, 6, 1, 2, 3, 4, 5, 6, 4, 5, 6, 4, 4, 0, 1, 2, 3, 6,\n",
      "       3, 5, 1, 3, 5, 6, 4, 3, 5, 6, 0, 1, 2, 3, 5, 0, 0, 2, 4, 1, 1, 3,\n",
      "       0, 1, 2, 4, 5, 6, 0, 2, 4, 5, 4, 1, 2, 4, 4, 4, 0, 1, 6, 4, 0, 1,\n",
      "       2, 4, 1, 4, 2, 3, 5, 6, 4, 5, 3, 0, 2, 4, 5, 4, 4, 0, 1, 3, 0, 1,\n",
      "       2, 0, 1, 2, 0, 4, 5, 4, 1, 1, 3, 6, 1, 3, 6, 4, 4, 1, 1, 4, 6, 0,\n",
      "       1, 2, 4, 5, 4, 2, 0, 2, 4, 6, 0, 1, 2, 3, 5, 6, 2, 3, 0, 2, 3, 4,\n",
      "       6, 4, 1, 2, 4, 4, 0, 2, 0, 4, 6, 0, 2, 5, 6, 1, 2, 3, 5, 4, 5, 4,\n",
      "       1, 5, 6, 1, 2, 0, 1, 2, 3, 5, 6, 4, 0, 2, 1, 0, 1, 2, 2, 4, 0, 2,\n",
      "       6, 4, 5, 6, 5, 0, 1, 1, 3, 4, 4, 0, 2, 4, 0, 2, 1, 1, 1, 3, 5, 6,\n",
      "       2, 0, 1, 2, 0, 2, 1, 2, 3, 5, 6, 4, 0, 4, 2, 0, 1, 2, 6, 0, 2, 4,\n",
      "       5, 1, 2, 0, 1, 1, 0, 1, 2, 3, 0, 2, 0, 1, 2, 3, 5, 6, 0, 2, 0, 5,\n",
      "       0, 2, 4, 0, 1, 2, 4, 5, 4, 1, 3, 5, 6, 4, 0, 1, 2, 0, 1, 2, 3, 6,\n",
      "       2, 4, 4, 4, 5, 1, 5, 0, 4, 5, 1, 4, 5, 4, 0, 1, 2, 0, 2, 0, 1, 2,\n",
      "       3, 4, 5, 6, 2, 0, 1, 2, 3, 6, 0, 2, 5, 2, 4, 5, 6, 0, 2, 0, 1, 2,\n",
      "       5, 6, 0, 1, 2, 2, 1, 1, 0, 2, 1, 2, 4, 0, 1, 2, 2, 0, 0, 1, 2, 0,\n",
      "       1, 5, 4, 5, 0, 2, 4, 6, 3, 4, 4, 5, 6, 3, 0, 1, 2, 3, 5, 6, 0, 1,\n",
      "       0, 1, 2, 0, 2, 6, 0, 4, 4, 0, 1, 0, 2, 3, 0, 1, 6, 0, 1, 2, 5, 4,\n",
      "       1, 0, 1, 2, 3, 0, 2, 0, 1, 0, 1, 2, 3, 5, 6, 3, 3, 1, 0, 1, 2, 3,\n",
      "       5, 0, 1, 2, 4, 0, 1, 2, 3, 0, 3, 5, 6, 0, 1, 3, 5, 2], dtype=int64))\n"
     ]
    }
   ],
   "source": [
    "threshold = 1.5\n",
    "print(np.where(z>1.5))"
   ]
  },
  {
   "cell_type": "code",
   "execution_count": 23,
   "metadata": {},
   "outputs": [],
   "source": [
    "bank_nooutliers = bank[(z<1.5).all(axis=1)]"
   ]
  },
  {
   "cell_type": "code",
   "execution_count": 24,
   "metadata": {},
   "outputs": [
    {
     "data": {
      "text/plain": [
       "(1118, 12)"
      ]
     },
     "execution_count": 24,
     "metadata": {},
     "output_type": "execute_result"
    }
   ],
   "source": [
    "bank_nooutliers.shape"
   ]
  },
  {
   "cell_type": "code",
   "execution_count": 25,
   "metadata": {},
   "outputs": [
    {
     "data": {
      "text/plain": [
       "branch             AxesSubplot(0.125,0.71587;0.168478x0.16413)\n",
       "no_customer     AxesSubplot(0.327174,0.71587;0.168478x0.16413)\n",
       "customer        AxesSubplot(0.529348,0.71587;0.168478x0.16413)\n",
       "age             AxesSubplot(0.731522,0.71587;0.168478x0.16413)\n",
       "employ            AxesSubplot(0.125,0.518913;0.168478x0.16413)\n",
       "address        AxesSubplot(0.327174,0.518913;0.168478x0.16413)\n",
       "income         AxesSubplot(0.529348,0.518913;0.168478x0.16413)\n",
       "debtinc        AxesSubplot(0.731522,0.518913;0.168478x0.16413)\n",
       "creddebt          AxesSubplot(0.125,0.321957;0.168478x0.16413)\n",
       "othdebt        AxesSubplot(0.327174,0.321957;0.168478x0.16413)\n",
       "dtype: object"
      ]
     },
     "execution_count": 25,
     "metadata": {},
     "output_type": "execute_result"
    },
    {
     "data": {
      "image/png": "[encoded data removed]",
      "text/plain": [
       "<Figure size 720x720 with 16 Axes>"
      ]
     },
     "metadata": {
      "needs_background": "light"
     },
     "output_type": "display_data"
    }
   ],
   "source": [
    "bank.plot(kind='box', layout = (4,4), subplots = True, sharex=False, figsize=(10,10))"
   ]
  },
  {
   "cell_type": "code",
   "execution_count": 30,
   "metadata": {},
   "outputs": [],
   "source": [
    "bank_nooutliers.to_csv('bank3.csv', sep=',')"
   ]
  },
  {
   "cell_type": "code",
   "execution_count": null,
   "metadata": {},
   "outputs": [],
   "source": []
  }
 ],
 "metadata": {
  "kernelspec": {
   "display_name": "Python 3",
   "language": "python",
   "name": "python3"
  },
  "language_info": {
   "codemirror_mode": {
    "name": "ipython",
    "version": 3
   },
   "file_extension": ".py",
   "mimetype": "text/x-python",
   "name": "python",
   "nbconvert_exporter": "python",
   "pygments_lexer": "ipython3",
   "version": "3.7.1"
  }
 },
 "nbformat": 4,
 "nbformat_minor": 2
}
